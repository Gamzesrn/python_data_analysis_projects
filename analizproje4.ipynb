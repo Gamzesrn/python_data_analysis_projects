{
 "cells": [
  {
   "cell_type": "code",
   "execution_count": 1,
   "id": "1f3526ce",
   "metadata": {},
   "outputs": [
    {
     "name": "stdout",
     "output_type": "stream",
     "text": [
      "Defaulting to user installation because normal site-packages is not writeable\n",
      "Requirement already satisfied: nbformat in c:\\programdata\\anaconda3\\lib\\site-packages (5.5.0)\n",
      "Requirement already satisfied: jupyter_core in c:\\programdata\\anaconda3\\lib\\site-packages (from nbformat) (4.11.1)\n",
      "Requirement already satisfied: fastjsonschema in c:\\programdata\\anaconda3\\lib\\site-packages (from nbformat) (2.16.2)\n",
      "Requirement already satisfied: traitlets>=5.1 in c:\\programdata\\anaconda3\\lib\\site-packages (from nbformat) (5.1.1)\n",
      "Requirement already satisfied: jsonschema>=2.6 in c:\\programdata\\anaconda3\\lib\\site-packages (from nbformat) (4.16.0)\n",
      "Requirement already satisfied: pyrsistent!=0.17.0,!=0.17.1,!=0.17.2,>=0.14.0 in c:\\programdata\\anaconda3\\lib\\site-packages (from jsonschema>=2.6->nbformat) (0.18.0)\n",
      "Requirement already satisfied: attrs>=17.4.0 in c:\\programdata\\anaconda3\\lib\\site-packages (from jsonschema>=2.6->nbformat) (21.4.0)\n",
      "Requirement already satisfied: pywin32>=1.0 in c:\\programdata\\anaconda3\\lib\\site-packages (from jupyter_core->nbformat) (302)\n",
      "Note: you may need to restart the kernel to use updated packages.\n"
     ]
    }
   ],
   "source": [
    "import pandas as pd\n",
    "import numpy as np\n",
    "import matplotlib.pyplot as plt\n",
    "import seaborn as sns\n",
    "import plotly.express as px\n",
    "%pip install nbformat"
   ]
  },
  {
   "cell_type": "code",
   "execution_count": 2,
   "id": "9d08ec48",
   "metadata": {},
   "outputs": [
    {
     "data": {
      "text/html": [
       "<div>\n",
       "<style scoped>\n",
       "    .dataframe tbody tr th:only-of-type {\n",
       "        vertical-align: middle;\n",
       "    }\n",
       "\n",
       "    .dataframe tbody tr th {\n",
       "        vertical-align: top;\n",
       "    }\n",
       "\n",
       "    .dataframe thead th {\n",
       "        text-align: right;\n",
       "    }\n",
       "</style>\n",
       "<table border=\"1\" class=\"dataframe\">\n",
       "  <thead>\n",
       "    <tr style=\"text-align: right;\">\n",
       "      <th></th>\n",
       "      <th>Unnamed: 0</th>\n",
       "      <th>Unnamed: 1</th>\n",
       "      <th>Unnamed: 2</th>\n",
       "      <th>Unnamed: 3</th>\n",
       "      <th>Unnamed: 4</th>\n",
       "      <th>Unnamed: 5</th>\n",
       "      <th>Unnamed: 6</th>\n",
       "      <th>Unnamed: 7</th>\n",
       "      <th>Unnamed: 8</th>\n",
       "      <th>Unnamed: 9</th>\n",
       "      <th>Unnamed: 10</th>\n",
       "      <th>Unnamed: 11</th>\n",
       "      <th>Unnamed: 12</th>\n",
       "      <th>Unnamed: 13</th>\n",
       "    </tr>\n",
       "  </thead>\n",
       "  <tbody>\n",
       "    <tr>\n",
       "      <th>0</th>\n",
       "      <td>NaN</td>\n",
       "      <td>NaN</td>\n",
       "      <td>Adidas Sales Database</td>\n",
       "      <td>NaN</td>\n",
       "      <td>NaN</td>\n",
       "      <td>NaN</td>\n",
       "      <td>NaN</td>\n",
       "      <td>NaN</td>\n",
       "      <td>NaN</td>\n",
       "      <td>NaN</td>\n",
       "      <td>NaN</td>\n",
       "      <td>NaN</td>\n",
       "      <td>NaN</td>\n",
       "      <td>NaN</td>\n",
       "    </tr>\n",
       "    <tr>\n",
       "      <th>1</th>\n",
       "      <td>NaN</td>\n",
       "      <td>NaN</td>\n",
       "      <td>NaN</td>\n",
       "      <td>NaN</td>\n",
       "      <td>NaN</td>\n",
       "      <td>NaN</td>\n",
       "      <td>NaN</td>\n",
       "      <td>NaN</td>\n",
       "      <td>NaN</td>\n",
       "      <td>NaN</td>\n",
       "      <td>NaN</td>\n",
       "      <td>NaN</td>\n",
       "      <td>NaN</td>\n",
       "      <td>NaN</td>\n",
       "    </tr>\n",
       "    <tr>\n",
       "      <th>2</th>\n",
       "      <td>NaN</td>\n",
       "      <td>NaN</td>\n",
       "      <td>NaN</td>\n",
       "      <td>NaN</td>\n",
       "      <td>NaN</td>\n",
       "      <td>NaN</td>\n",
       "      <td>NaN</td>\n",
       "      <td>NaN</td>\n",
       "      <td>NaN</td>\n",
       "      <td>NaN</td>\n",
       "      <td>NaN</td>\n",
       "      <td>NaN</td>\n",
       "      <td>NaN</td>\n",
       "      <td>NaN</td>\n",
       "    </tr>\n",
       "    <tr>\n",
       "      <th>3</th>\n",
       "      <td>NaN</td>\n",
       "      <td>Retailer</td>\n",
       "      <td>Retailer ID</td>\n",
       "      <td>Invoice Date</td>\n",
       "      <td>Region</td>\n",
       "      <td>State</td>\n",
       "      <td>City</td>\n",
       "      <td>Product</td>\n",
       "      <td>Price per Unit</td>\n",
       "      <td>Units Sold</td>\n",
       "      <td>Total Sales</td>\n",
       "      <td>Operating Profit</td>\n",
       "      <td>Operating Margin</td>\n",
       "      <td>Sales Method</td>\n",
       "    </tr>\n",
       "    <tr>\n",
       "      <th>4</th>\n",
       "      <td>NaN</td>\n",
       "      <td>Foot Locker</td>\n",
       "      <td>1185732</td>\n",
       "      <td>2020-01-01 00:00:00</td>\n",
       "      <td>Northeast</td>\n",
       "      <td>New York</td>\n",
       "      <td>New York</td>\n",
       "      <td>Men's Street Footwear</td>\n",
       "      <td>50</td>\n",
       "      <td>1200</td>\n",
       "      <td>600000</td>\n",
       "      <td>300000</td>\n",
       "      <td>0.5</td>\n",
       "      <td>In-store</td>\n",
       "    </tr>\n",
       "  </tbody>\n",
       "</table>\n",
       "</div>"
      ],
      "text/plain": [
       "   Unnamed: 0   Unnamed: 1             Unnamed: 2           Unnamed: 3  \\\n",
       "0         NaN          NaN  Adidas Sales Database                  NaN   \n",
       "1         NaN          NaN                    NaN                  NaN   \n",
       "2         NaN          NaN                    NaN                  NaN   \n",
       "3         NaN     Retailer            Retailer ID         Invoice Date   \n",
       "4         NaN  Foot Locker                1185732  2020-01-01 00:00:00   \n",
       "\n",
       "  Unnamed: 4 Unnamed: 5 Unnamed: 6             Unnamed: 7      Unnamed: 8  \\\n",
       "0        NaN        NaN        NaN                    NaN             NaN   \n",
       "1        NaN        NaN        NaN                    NaN             NaN   \n",
       "2        NaN        NaN        NaN                    NaN             NaN   \n",
       "3     Region      State       City                Product  Price per Unit   \n",
       "4  Northeast   New York   New York  Men's Street Footwear              50   \n",
       "\n",
       "   Unnamed: 9  Unnamed: 10       Unnamed: 11       Unnamed: 12   Unnamed: 13  \n",
       "0         NaN          NaN               NaN               NaN           NaN  \n",
       "1         NaN          NaN               NaN               NaN           NaN  \n",
       "2         NaN          NaN               NaN               NaN           NaN  \n",
       "3  Units Sold  Total Sales  Operating Profit  Operating Margin  Sales Method  \n",
       "4        1200       600000            300000               0.5      In-store  "
      ]
     },
     "execution_count": 2,
     "metadata": {},
     "output_type": "execute_result"
    }
   ],
   "source": [
    "data = pd.read_excel(\"Adidas_US_Sales_Datasets.xlsx\")\n",
    "data.head()"
   ]
  },
  {
   "cell_type": "code",
   "execution_count": 3,
   "id": "731ac980",
   "metadata": {},
   "outputs": [
    {
     "data": {
      "text/html": [
       "<div>\n",
       "<style scoped>\n",
       "    .dataframe tbody tr th:only-of-type {\n",
       "        vertical-align: middle;\n",
       "    }\n",
       "\n",
       "    .dataframe tbody tr th {\n",
       "        vertical-align: top;\n",
       "    }\n",
       "\n",
       "    .dataframe thead th {\n",
       "        text-align: right;\n",
       "    }\n",
       "</style>\n",
       "<table border=\"1\" class=\"dataframe\">\n",
       "  <thead>\n",
       "    <tr style=\"text-align: right;\">\n",
       "      <th></th>\n",
       "      <th>Unnamed: 0</th>\n",
       "      <th>Unnamed: 1</th>\n",
       "      <th>Unnamed: 2</th>\n",
       "      <th>Unnamed: 3</th>\n",
       "      <th>Unnamed: 4</th>\n",
       "      <th>Unnamed: 5</th>\n",
       "      <th>Unnamed: 6</th>\n",
       "      <th>Unnamed: 7</th>\n",
       "      <th>Unnamed: 8</th>\n",
       "      <th>Unnamed: 9</th>\n",
       "      <th>Unnamed: 10</th>\n",
       "      <th>Unnamed: 11</th>\n",
       "      <th>Unnamed: 12</th>\n",
       "      <th>Unnamed: 13</th>\n",
       "    </tr>\n",
       "  </thead>\n",
       "  <tbody>\n",
       "    <tr>\n",
       "      <th>0</th>\n",
       "      <td>NaN</td>\n",
       "      <td>NaN</td>\n",
       "      <td>Adidas Sales Database</td>\n",
       "      <td>NaN</td>\n",
       "      <td>NaN</td>\n",
       "      <td>NaN</td>\n",
       "      <td>NaN</td>\n",
       "      <td>NaN</td>\n",
       "      <td>NaN</td>\n",
       "      <td>NaN</td>\n",
       "      <td>NaN</td>\n",
       "      <td>NaN</td>\n",
       "      <td>NaN</td>\n",
       "      <td>NaN</td>\n",
       "    </tr>\n",
       "    <tr>\n",
       "      <th>1</th>\n",
       "      <td>NaN</td>\n",
       "      <td>NaN</td>\n",
       "      <td>NaN</td>\n",
       "      <td>NaN</td>\n",
       "      <td>NaN</td>\n",
       "      <td>NaN</td>\n",
       "      <td>NaN</td>\n",
       "      <td>NaN</td>\n",
       "      <td>NaN</td>\n",
       "      <td>NaN</td>\n",
       "      <td>NaN</td>\n",
       "      <td>NaN</td>\n",
       "      <td>NaN</td>\n",
       "      <td>NaN</td>\n",
       "    </tr>\n",
       "    <tr>\n",
       "      <th>2</th>\n",
       "      <td>NaN</td>\n",
       "      <td>NaN</td>\n",
       "      <td>NaN</td>\n",
       "      <td>NaN</td>\n",
       "      <td>NaN</td>\n",
       "      <td>NaN</td>\n",
       "      <td>NaN</td>\n",
       "      <td>NaN</td>\n",
       "      <td>NaN</td>\n",
       "      <td>NaN</td>\n",
       "      <td>NaN</td>\n",
       "      <td>NaN</td>\n",
       "      <td>NaN</td>\n",
       "      <td>NaN</td>\n",
       "    </tr>\n",
       "    <tr>\n",
       "      <th>3</th>\n",
       "      <td>NaN</td>\n",
       "      <td>Retailer</td>\n",
       "      <td>Retailer ID</td>\n",
       "      <td>Invoice Date</td>\n",
       "      <td>Region</td>\n",
       "      <td>State</td>\n",
       "      <td>City</td>\n",
       "      <td>Product</td>\n",
       "      <td>Price per Unit</td>\n",
       "      <td>Units Sold</td>\n",
       "      <td>Total Sales</td>\n",
       "      <td>Operating Profit</td>\n",
       "      <td>Operating Margin</td>\n",
       "      <td>Sales Method</td>\n",
       "    </tr>\n",
       "    <tr>\n",
       "      <th>4</th>\n",
       "      <td>NaN</td>\n",
       "      <td>Foot Locker</td>\n",
       "      <td>1185732</td>\n",
       "      <td>2020-01-01 00:00:00</td>\n",
       "      <td>Northeast</td>\n",
       "      <td>New York</td>\n",
       "      <td>New York</td>\n",
       "      <td>Men's Street Footwear</td>\n",
       "      <td>50</td>\n",
       "      <td>1200</td>\n",
       "      <td>600000</td>\n",
       "      <td>300000</td>\n",
       "      <td>0.5</td>\n",
       "      <td>In-store</td>\n",
       "    </tr>\n",
       "    <tr>\n",
       "      <th>...</th>\n",
       "      <td>...</td>\n",
       "      <td>...</td>\n",
       "      <td>...</td>\n",
       "      <td>...</td>\n",
       "      <td>...</td>\n",
       "      <td>...</td>\n",
       "      <td>...</td>\n",
       "      <td>...</td>\n",
       "      <td>...</td>\n",
       "      <td>...</td>\n",
       "      <td>...</td>\n",
       "      <td>...</td>\n",
       "      <td>...</td>\n",
       "      <td>...</td>\n",
       "    </tr>\n",
       "    <tr>\n",
       "      <th>9647</th>\n",
       "      <td>NaN</td>\n",
       "      <td>Foot Locker</td>\n",
       "      <td>1185732</td>\n",
       "      <td>2021-01-24 00:00:00</td>\n",
       "      <td>Northeast</td>\n",
       "      <td>New Hampshire</td>\n",
       "      <td>Manchester</td>\n",
       "      <td>Men's Apparel</td>\n",
       "      <td>50</td>\n",
       "      <td>64</td>\n",
       "      <td>3200</td>\n",
       "      <td>896.0</td>\n",
       "      <td>0.28</td>\n",
       "      <td>Outlet</td>\n",
       "    </tr>\n",
       "    <tr>\n",
       "      <th>9648</th>\n",
       "      <td>NaN</td>\n",
       "      <td>Foot Locker</td>\n",
       "      <td>1185732</td>\n",
       "      <td>2021-01-24 00:00:00</td>\n",
       "      <td>Northeast</td>\n",
       "      <td>New Hampshire</td>\n",
       "      <td>Manchester</td>\n",
       "      <td>Women's Apparel</td>\n",
       "      <td>41</td>\n",
       "      <td>105</td>\n",
       "      <td>4305</td>\n",
       "      <td>1377.6</td>\n",
       "      <td>0.32</td>\n",
       "      <td>Outlet</td>\n",
       "    </tr>\n",
       "    <tr>\n",
       "      <th>9649</th>\n",
       "      <td>NaN</td>\n",
       "      <td>Foot Locker</td>\n",
       "      <td>1185732</td>\n",
       "      <td>2021-02-22 00:00:00</td>\n",
       "      <td>Northeast</td>\n",
       "      <td>New Hampshire</td>\n",
       "      <td>Manchester</td>\n",
       "      <td>Men's Street Footwear</td>\n",
       "      <td>41</td>\n",
       "      <td>184</td>\n",
       "      <td>7544</td>\n",
       "      <td>2791.28</td>\n",
       "      <td>0.37</td>\n",
       "      <td>Outlet</td>\n",
       "    </tr>\n",
       "    <tr>\n",
       "      <th>9650</th>\n",
       "      <td>NaN</td>\n",
       "      <td>Foot Locker</td>\n",
       "      <td>1185732</td>\n",
       "      <td>2021-02-22 00:00:00</td>\n",
       "      <td>Northeast</td>\n",
       "      <td>New Hampshire</td>\n",
       "      <td>Manchester</td>\n",
       "      <td>Men's Athletic Footwear</td>\n",
       "      <td>42</td>\n",
       "      <td>70</td>\n",
       "      <td>2940</td>\n",
       "      <td>1234.8</td>\n",
       "      <td>0.42</td>\n",
       "      <td>Outlet</td>\n",
       "    </tr>\n",
       "    <tr>\n",
       "      <th>9651</th>\n",
       "      <td>NaN</td>\n",
       "      <td>Foot Locker</td>\n",
       "      <td>1185732</td>\n",
       "      <td>2021-02-22 00:00:00</td>\n",
       "      <td>Northeast</td>\n",
       "      <td>New Hampshire</td>\n",
       "      <td>Manchester</td>\n",
       "      <td>Women's Street Footwear</td>\n",
       "      <td>29</td>\n",
       "      <td>83</td>\n",
       "      <td>2407</td>\n",
       "      <td>649.89</td>\n",
       "      <td>0.27</td>\n",
       "      <td>Outlet</td>\n",
       "    </tr>\n",
       "  </tbody>\n",
       "</table>\n",
       "<p>9652 rows × 14 columns</p>\n",
       "</div>"
      ],
      "text/plain": [
       "      Unnamed: 0   Unnamed: 1             Unnamed: 2           Unnamed: 3  \\\n",
       "0            NaN          NaN  Adidas Sales Database                  NaN   \n",
       "1            NaN          NaN                    NaN                  NaN   \n",
       "2            NaN          NaN                    NaN                  NaN   \n",
       "3            NaN     Retailer            Retailer ID         Invoice Date   \n",
       "4            NaN  Foot Locker                1185732  2020-01-01 00:00:00   \n",
       "...          ...          ...                    ...                  ...   \n",
       "9647         NaN  Foot Locker                1185732  2021-01-24 00:00:00   \n",
       "9648         NaN  Foot Locker                1185732  2021-01-24 00:00:00   \n",
       "9649         NaN  Foot Locker                1185732  2021-02-22 00:00:00   \n",
       "9650         NaN  Foot Locker                1185732  2021-02-22 00:00:00   \n",
       "9651         NaN  Foot Locker                1185732  2021-02-22 00:00:00   \n",
       "\n",
       "     Unnamed: 4     Unnamed: 5  Unnamed: 6               Unnamed: 7  \\\n",
       "0           NaN            NaN         NaN                      NaN   \n",
       "1           NaN            NaN         NaN                      NaN   \n",
       "2           NaN            NaN         NaN                      NaN   \n",
       "3        Region          State        City                  Product   \n",
       "4     Northeast       New York    New York    Men's Street Footwear   \n",
       "...         ...            ...         ...                      ...   \n",
       "9647  Northeast  New Hampshire  Manchester            Men's Apparel   \n",
       "9648  Northeast  New Hampshire  Manchester          Women's Apparel   \n",
       "9649  Northeast  New Hampshire  Manchester    Men's Street Footwear   \n",
       "9650  Northeast  New Hampshire  Manchester  Men's Athletic Footwear   \n",
       "9651  Northeast  New Hampshire  Manchester  Women's Street Footwear   \n",
       "\n",
       "          Unnamed: 8  Unnamed: 9  Unnamed: 10       Unnamed: 11  \\\n",
       "0                NaN         NaN          NaN               NaN   \n",
       "1                NaN         NaN          NaN               NaN   \n",
       "2                NaN         NaN          NaN               NaN   \n",
       "3     Price per Unit  Units Sold  Total Sales  Operating Profit   \n",
       "4                 50        1200       600000            300000   \n",
       "...              ...         ...          ...               ...   \n",
       "9647              50          64         3200             896.0   \n",
       "9648              41         105         4305            1377.6   \n",
       "9649              41         184         7544           2791.28   \n",
       "9650              42          70         2940            1234.8   \n",
       "9651              29          83         2407            649.89   \n",
       "\n",
       "           Unnamed: 12   Unnamed: 13  \n",
       "0                  NaN           NaN  \n",
       "1                  NaN           NaN  \n",
       "2                  NaN           NaN  \n",
       "3     Operating Margin  Sales Method  \n",
       "4                  0.5      In-store  \n",
       "...                ...           ...  \n",
       "9647              0.28        Outlet  \n",
       "9648              0.32        Outlet  \n",
       "9649              0.37        Outlet  \n",
       "9650              0.42        Outlet  \n",
       "9651              0.27        Outlet  \n",
       "\n",
       "[9652 rows x 14 columns]"
      ]
     },
     "execution_count": 3,
     "metadata": {},
     "output_type": "execute_result"
    }
   ],
   "source": [
    "data"
   ]
  },
  {
   "cell_type": "code",
   "execution_count": 4,
   "id": "35a72cf3",
   "metadata": {},
   "outputs": [
    {
     "data": {
      "text/html": [
       "<div>\n",
       "<style scoped>\n",
       "    .dataframe tbody tr th:only-of-type {\n",
       "        vertical-align: middle;\n",
       "    }\n",
       "\n",
       "    .dataframe tbody tr th {\n",
       "        vertical-align: top;\n",
       "    }\n",
       "\n",
       "    .dataframe thead th {\n",
       "        text-align: right;\n",
       "    }\n",
       "</style>\n",
       "<table border=\"1\" class=\"dataframe\">\n",
       "  <thead>\n",
       "    <tr style=\"text-align: right;\">\n",
       "      <th></th>\n",
       "      <th>Unnamed: 0</th>\n",
       "      <th>Unnamed: 1</th>\n",
       "      <th>Unnamed: 2</th>\n",
       "      <th>Unnamed: 3</th>\n",
       "      <th>Unnamed: 4</th>\n",
       "      <th>Unnamed: 5</th>\n",
       "      <th>Unnamed: 6</th>\n",
       "      <th>Unnamed: 7</th>\n",
       "      <th>Unnamed: 8</th>\n",
       "      <th>Unnamed: 9</th>\n",
       "      <th>Unnamed: 10</th>\n",
       "      <th>Unnamed: 11</th>\n",
       "      <th>Unnamed: 12</th>\n",
       "      <th>Unnamed: 13</th>\n",
       "    </tr>\n",
       "  </thead>\n",
       "  <tbody>\n",
       "    <tr>\n",
       "      <th>0</th>\n",
       "      <td>NaN</td>\n",
       "      <td>NaN</td>\n",
       "      <td>Adidas Sales Database</td>\n",
       "      <td>NaN</td>\n",
       "      <td>NaN</td>\n",
       "      <td>NaN</td>\n",
       "      <td>NaN</td>\n",
       "      <td>NaN</td>\n",
       "      <td>NaN</td>\n",
       "      <td>NaN</td>\n",
       "      <td>NaN</td>\n",
       "      <td>NaN</td>\n",
       "      <td>NaN</td>\n",
       "      <td>NaN</td>\n",
       "    </tr>\n",
       "    <tr>\n",
       "      <th>1</th>\n",
       "      <td>NaN</td>\n",
       "      <td>NaN</td>\n",
       "      <td>NaN</td>\n",
       "      <td>NaN</td>\n",
       "      <td>NaN</td>\n",
       "      <td>NaN</td>\n",
       "      <td>NaN</td>\n",
       "      <td>NaN</td>\n",
       "      <td>NaN</td>\n",
       "      <td>NaN</td>\n",
       "      <td>NaN</td>\n",
       "      <td>NaN</td>\n",
       "      <td>NaN</td>\n",
       "      <td>NaN</td>\n",
       "    </tr>\n",
       "    <tr>\n",
       "      <th>2</th>\n",
       "      <td>NaN</td>\n",
       "      <td>NaN</td>\n",
       "      <td>NaN</td>\n",
       "      <td>NaN</td>\n",
       "      <td>NaN</td>\n",
       "      <td>NaN</td>\n",
       "      <td>NaN</td>\n",
       "      <td>NaN</td>\n",
       "      <td>NaN</td>\n",
       "      <td>NaN</td>\n",
       "      <td>NaN</td>\n",
       "      <td>NaN</td>\n",
       "      <td>NaN</td>\n",
       "      <td>NaN</td>\n",
       "    </tr>\n",
       "    <tr>\n",
       "      <th>3</th>\n",
       "      <td>NaN</td>\n",
       "      <td>Retailer</td>\n",
       "      <td>Retailer ID</td>\n",
       "      <td>Invoice Date</td>\n",
       "      <td>Region</td>\n",
       "      <td>State</td>\n",
       "      <td>City</td>\n",
       "      <td>Product</td>\n",
       "      <td>Price per Unit</td>\n",
       "      <td>Units Sold</td>\n",
       "      <td>Total Sales</td>\n",
       "      <td>Operating Profit</td>\n",
       "      <td>Operating Margin</td>\n",
       "      <td>Sales Method</td>\n",
       "    </tr>\n",
       "    <tr>\n",
       "      <th>4</th>\n",
       "      <td>NaN</td>\n",
       "      <td>Foot Locker</td>\n",
       "      <td>1185732</td>\n",
       "      <td>2020-01-01 00:00:00</td>\n",
       "      <td>Northeast</td>\n",
       "      <td>New York</td>\n",
       "      <td>New York</td>\n",
       "      <td>Men's Street Footwear</td>\n",
       "      <td>50</td>\n",
       "      <td>1200</td>\n",
       "      <td>600000</td>\n",
       "      <td>300000</td>\n",
       "      <td>0.5</td>\n",
       "      <td>In-store</td>\n",
       "    </tr>\n",
       "    <tr>\n",
       "      <th>5</th>\n",
       "      <td>NaN</td>\n",
       "      <td>Foot Locker</td>\n",
       "      <td>1185732</td>\n",
       "      <td>2020-01-02 00:00:00</td>\n",
       "      <td>Northeast</td>\n",
       "      <td>New York</td>\n",
       "      <td>New York</td>\n",
       "      <td>Men's Athletic Footwear</td>\n",
       "      <td>50</td>\n",
       "      <td>1000</td>\n",
       "      <td>500000</td>\n",
       "      <td>150000</td>\n",
       "      <td>0.3</td>\n",
       "      <td>In-store</td>\n",
       "    </tr>\n",
       "    <tr>\n",
       "      <th>6</th>\n",
       "      <td>NaN</td>\n",
       "      <td>Foot Locker</td>\n",
       "      <td>1185732</td>\n",
       "      <td>2020-01-03 00:00:00</td>\n",
       "      <td>Northeast</td>\n",
       "      <td>New York</td>\n",
       "      <td>New York</td>\n",
       "      <td>Women's Street Footwear</td>\n",
       "      <td>40</td>\n",
       "      <td>1000</td>\n",
       "      <td>400000</td>\n",
       "      <td>140000</td>\n",
       "      <td>0.35</td>\n",
       "      <td>In-store</td>\n",
       "    </tr>\n",
       "    <tr>\n",
       "      <th>7</th>\n",
       "      <td>NaN</td>\n",
       "      <td>Foot Locker</td>\n",
       "      <td>1185732</td>\n",
       "      <td>2020-01-04 00:00:00</td>\n",
       "      <td>Northeast</td>\n",
       "      <td>New York</td>\n",
       "      <td>New York</td>\n",
       "      <td>Women's Athletic Footwear</td>\n",
       "      <td>45</td>\n",
       "      <td>850</td>\n",
       "      <td>382500</td>\n",
       "      <td>133875</td>\n",
       "      <td>0.35</td>\n",
       "      <td>In-store</td>\n",
       "    </tr>\n",
       "    <tr>\n",
       "      <th>8</th>\n",
       "      <td>NaN</td>\n",
       "      <td>Foot Locker</td>\n",
       "      <td>1185732</td>\n",
       "      <td>2020-01-05 00:00:00</td>\n",
       "      <td>Northeast</td>\n",
       "      <td>New York</td>\n",
       "      <td>New York</td>\n",
       "      <td>Men's Apparel</td>\n",
       "      <td>60</td>\n",
       "      <td>900</td>\n",
       "      <td>540000</td>\n",
       "      <td>162000</td>\n",
       "      <td>0.3</td>\n",
       "      <td>In-store</td>\n",
       "    </tr>\n",
       "    <tr>\n",
       "      <th>9</th>\n",
       "      <td>NaN</td>\n",
       "      <td>Foot Locker</td>\n",
       "      <td>1185732</td>\n",
       "      <td>2020-01-06 00:00:00</td>\n",
       "      <td>Northeast</td>\n",
       "      <td>New York</td>\n",
       "      <td>New York</td>\n",
       "      <td>Women's Apparel</td>\n",
       "      <td>50</td>\n",
       "      <td>1000</td>\n",
       "      <td>500000</td>\n",
       "      <td>125000</td>\n",
       "      <td>0.25</td>\n",
       "      <td>In-store</td>\n",
       "    </tr>\n",
       "  </tbody>\n",
       "</table>\n",
       "</div>"
      ],
      "text/plain": [
       "   Unnamed: 0   Unnamed: 1             Unnamed: 2           Unnamed: 3  \\\n",
       "0         NaN          NaN  Adidas Sales Database                  NaN   \n",
       "1         NaN          NaN                    NaN                  NaN   \n",
       "2         NaN          NaN                    NaN                  NaN   \n",
       "3         NaN     Retailer            Retailer ID         Invoice Date   \n",
       "4         NaN  Foot Locker                1185732  2020-01-01 00:00:00   \n",
       "5         NaN  Foot Locker                1185732  2020-01-02 00:00:00   \n",
       "6         NaN  Foot Locker                1185732  2020-01-03 00:00:00   \n",
       "7         NaN  Foot Locker                1185732  2020-01-04 00:00:00   \n",
       "8         NaN  Foot Locker                1185732  2020-01-05 00:00:00   \n",
       "9         NaN  Foot Locker                1185732  2020-01-06 00:00:00   \n",
       "\n",
       "  Unnamed: 4 Unnamed: 5 Unnamed: 6                 Unnamed: 7      Unnamed: 8  \\\n",
       "0        NaN        NaN        NaN                        NaN             NaN   \n",
       "1        NaN        NaN        NaN                        NaN             NaN   \n",
       "2        NaN        NaN        NaN                        NaN             NaN   \n",
       "3     Region      State       City                    Product  Price per Unit   \n",
       "4  Northeast   New York   New York      Men's Street Footwear              50   \n",
       "5  Northeast   New York   New York    Men's Athletic Footwear              50   \n",
       "6  Northeast   New York   New York    Women's Street Footwear              40   \n",
       "7  Northeast   New York   New York  Women's Athletic Footwear              45   \n",
       "8  Northeast   New York   New York              Men's Apparel              60   \n",
       "9  Northeast   New York   New York            Women's Apparel              50   \n",
       "\n",
       "   Unnamed: 9  Unnamed: 10       Unnamed: 11       Unnamed: 12   Unnamed: 13  \n",
       "0         NaN          NaN               NaN               NaN           NaN  \n",
       "1         NaN          NaN               NaN               NaN           NaN  \n",
       "2         NaN          NaN               NaN               NaN           NaN  \n",
       "3  Units Sold  Total Sales  Operating Profit  Operating Margin  Sales Method  \n",
       "4        1200       600000            300000               0.5      In-store  \n",
       "5        1000       500000            150000               0.3      In-store  \n",
       "6        1000       400000            140000              0.35      In-store  \n",
       "7         850       382500            133875              0.35      In-store  \n",
       "8         900       540000            162000               0.3      In-store  \n",
       "9        1000       500000            125000              0.25      In-store  "
      ]
     },
     "execution_count": 4,
     "metadata": {},
     "output_type": "execute_result"
    }
   ],
   "source": [
    "data.head(10)"
   ]
  },
  {
   "cell_type": "code",
   "execution_count": 5,
   "id": "32b42e32",
   "metadata": {},
   "outputs": [],
   "source": [
    "df = data.rename(columns={'Unnamed: 1': 'Retailer', 'Unnamed: 2':'Retailer ID', 'Unnamed: 3':'Invoice Date', 'Unnamed: 4':'Region', 'Unnamed: 5':'State',\n",
    "       'Unnamed: 6':'City', 'Unnamed: 7':'Product', 'Unnamed: 8':'Price per Unit', 'Unnamed: 9':'Units Sold', 'Unnamed: 10':'Total Sales',\n",
    "       'Unnamed: 11':'Operating Profit', 'Unnamed: 12':'Operating Margin', 'Unnamed: 13':'Sales Method'})"
   ]
  },
  {
   "cell_type": "code",
   "execution_count": 6,
   "id": "659e564b",
   "metadata": {},
   "outputs": [
    {
     "data": {
      "text/html": [
       "<div>\n",
       "<style scoped>\n",
       "    .dataframe tbody tr th:only-of-type {\n",
       "        vertical-align: middle;\n",
       "    }\n",
       "\n",
       "    .dataframe tbody tr th {\n",
       "        vertical-align: top;\n",
       "    }\n",
       "\n",
       "    .dataframe thead th {\n",
       "        text-align: right;\n",
       "    }\n",
       "</style>\n",
       "<table border=\"1\" class=\"dataframe\">\n",
       "  <thead>\n",
       "    <tr style=\"text-align: right;\">\n",
       "      <th></th>\n",
       "      <th>Unnamed: 0</th>\n",
       "      <th>Retailer</th>\n",
       "      <th>Retailer ID</th>\n",
       "      <th>Invoice Date</th>\n",
       "      <th>Region</th>\n",
       "      <th>State</th>\n",
       "      <th>City</th>\n",
       "      <th>Product</th>\n",
       "      <th>Price per Unit</th>\n",
       "      <th>Units Sold</th>\n",
       "      <th>Total Sales</th>\n",
       "      <th>Operating Profit</th>\n",
       "      <th>Operating Margin</th>\n",
       "      <th>Sales Method</th>\n",
       "    </tr>\n",
       "  </thead>\n",
       "  <tbody>\n",
       "    <tr>\n",
       "      <th>0</th>\n",
       "      <td>NaN</td>\n",
       "      <td>NaN</td>\n",
       "      <td>Adidas Sales Database</td>\n",
       "      <td>NaN</td>\n",
       "      <td>NaN</td>\n",
       "      <td>NaN</td>\n",
       "      <td>NaN</td>\n",
       "      <td>NaN</td>\n",
       "      <td>NaN</td>\n",
       "      <td>NaN</td>\n",
       "      <td>NaN</td>\n",
       "      <td>NaN</td>\n",
       "      <td>NaN</td>\n",
       "      <td>NaN</td>\n",
       "    </tr>\n",
       "    <tr>\n",
       "      <th>1</th>\n",
       "      <td>NaN</td>\n",
       "      <td>NaN</td>\n",
       "      <td>NaN</td>\n",
       "      <td>NaN</td>\n",
       "      <td>NaN</td>\n",
       "      <td>NaN</td>\n",
       "      <td>NaN</td>\n",
       "      <td>NaN</td>\n",
       "      <td>NaN</td>\n",
       "      <td>NaN</td>\n",
       "      <td>NaN</td>\n",
       "      <td>NaN</td>\n",
       "      <td>NaN</td>\n",
       "      <td>NaN</td>\n",
       "    </tr>\n",
       "    <tr>\n",
       "      <th>2</th>\n",
       "      <td>NaN</td>\n",
       "      <td>NaN</td>\n",
       "      <td>NaN</td>\n",
       "      <td>NaN</td>\n",
       "      <td>NaN</td>\n",
       "      <td>NaN</td>\n",
       "      <td>NaN</td>\n",
       "      <td>NaN</td>\n",
       "      <td>NaN</td>\n",
       "      <td>NaN</td>\n",
       "      <td>NaN</td>\n",
       "      <td>NaN</td>\n",
       "      <td>NaN</td>\n",
       "      <td>NaN</td>\n",
       "    </tr>\n",
       "    <tr>\n",
       "      <th>3</th>\n",
       "      <td>NaN</td>\n",
       "      <td>Retailer</td>\n",
       "      <td>Retailer ID</td>\n",
       "      <td>Invoice Date</td>\n",
       "      <td>Region</td>\n",
       "      <td>State</td>\n",
       "      <td>City</td>\n",
       "      <td>Product</td>\n",
       "      <td>Price per Unit</td>\n",
       "      <td>Units Sold</td>\n",
       "      <td>Total Sales</td>\n",
       "      <td>Operating Profit</td>\n",
       "      <td>Operating Margin</td>\n",
       "      <td>Sales Method</td>\n",
       "    </tr>\n",
       "    <tr>\n",
       "      <th>4</th>\n",
       "      <td>NaN</td>\n",
       "      <td>Foot Locker</td>\n",
       "      <td>1185732</td>\n",
       "      <td>2020-01-01 00:00:00</td>\n",
       "      <td>Northeast</td>\n",
       "      <td>New York</td>\n",
       "      <td>New York</td>\n",
       "      <td>Men's Street Footwear</td>\n",
       "      <td>50</td>\n",
       "      <td>1200</td>\n",
       "      <td>600000</td>\n",
       "      <td>300000</td>\n",
       "      <td>0.5</td>\n",
       "      <td>In-store</td>\n",
       "    </tr>\n",
       "  </tbody>\n",
       "</table>\n",
       "</div>"
      ],
      "text/plain": [
       "   Unnamed: 0     Retailer            Retailer ID         Invoice Date  \\\n",
       "0         NaN          NaN  Adidas Sales Database                  NaN   \n",
       "1         NaN          NaN                    NaN                  NaN   \n",
       "2         NaN          NaN                    NaN                  NaN   \n",
       "3         NaN     Retailer            Retailer ID         Invoice Date   \n",
       "4         NaN  Foot Locker                1185732  2020-01-01 00:00:00   \n",
       "\n",
       "      Region     State      City                Product  Price per Unit  \\\n",
       "0        NaN       NaN       NaN                    NaN             NaN   \n",
       "1        NaN       NaN       NaN                    NaN             NaN   \n",
       "2        NaN       NaN       NaN                    NaN             NaN   \n",
       "3     Region     State      City                Product  Price per Unit   \n",
       "4  Northeast  New York  New York  Men's Street Footwear              50   \n",
       "\n",
       "   Units Sold  Total Sales  Operating Profit  Operating Margin  Sales Method  \n",
       "0         NaN          NaN               NaN               NaN           NaN  \n",
       "1         NaN          NaN               NaN               NaN           NaN  \n",
       "2         NaN          NaN               NaN               NaN           NaN  \n",
       "3  Units Sold  Total Sales  Operating Profit  Operating Margin  Sales Method  \n",
       "4        1200       600000            300000               0.5      In-store  "
      ]
     },
     "execution_count": 6,
     "metadata": {},
     "output_type": "execute_result"
    }
   ],
   "source": [
    "df.head()"
   ]
  },
  {
   "cell_type": "code",
   "execution_count": 7,
   "id": "b380c629",
   "metadata": {},
   "outputs": [
    {
     "data": {
      "text/html": [
       "<div>\n",
       "<style scoped>\n",
       "    .dataframe tbody tr th:only-of-type {\n",
       "        vertical-align: middle;\n",
       "    }\n",
       "\n",
       "    .dataframe tbody tr th {\n",
       "        vertical-align: top;\n",
       "    }\n",
       "\n",
       "    .dataframe thead th {\n",
       "        text-align: right;\n",
       "    }\n",
       "</style>\n",
       "<table border=\"1\" class=\"dataframe\">\n",
       "  <thead>\n",
       "    <tr style=\"text-align: right;\">\n",
       "      <th></th>\n",
       "      <th>Unnamed: 0</th>\n",
       "      <th>Retailer</th>\n",
       "      <th>Retailer ID</th>\n",
       "      <th>Invoice Date</th>\n",
       "      <th>Region</th>\n",
       "      <th>State</th>\n",
       "      <th>City</th>\n",
       "      <th>Product</th>\n",
       "      <th>Price per Unit</th>\n",
       "      <th>Units Sold</th>\n",
       "      <th>Total Sales</th>\n",
       "      <th>Operating Profit</th>\n",
       "      <th>Operating Margin</th>\n",
       "      <th>Sales Method</th>\n",
       "    </tr>\n",
       "  </thead>\n",
       "  <tbody>\n",
       "    <tr>\n",
       "      <th>4</th>\n",
       "      <td>NaN</td>\n",
       "      <td>Foot Locker</td>\n",
       "      <td>1185732</td>\n",
       "      <td>2020-01-01 00:00:00</td>\n",
       "      <td>Northeast</td>\n",
       "      <td>New York</td>\n",
       "      <td>New York</td>\n",
       "      <td>Men's Street Footwear</td>\n",
       "      <td>50</td>\n",
       "      <td>1200</td>\n",
       "      <td>600000</td>\n",
       "      <td>300000</td>\n",
       "      <td>0.5</td>\n",
       "      <td>In-store</td>\n",
       "    </tr>\n",
       "    <tr>\n",
       "      <th>5</th>\n",
       "      <td>NaN</td>\n",
       "      <td>Foot Locker</td>\n",
       "      <td>1185732</td>\n",
       "      <td>2020-01-02 00:00:00</td>\n",
       "      <td>Northeast</td>\n",
       "      <td>New York</td>\n",
       "      <td>New York</td>\n",
       "      <td>Men's Athletic Footwear</td>\n",
       "      <td>50</td>\n",
       "      <td>1000</td>\n",
       "      <td>500000</td>\n",
       "      <td>150000</td>\n",
       "      <td>0.3</td>\n",
       "      <td>In-store</td>\n",
       "    </tr>\n",
       "    <tr>\n",
       "      <th>6</th>\n",
       "      <td>NaN</td>\n",
       "      <td>Foot Locker</td>\n",
       "      <td>1185732</td>\n",
       "      <td>2020-01-03 00:00:00</td>\n",
       "      <td>Northeast</td>\n",
       "      <td>New York</td>\n",
       "      <td>New York</td>\n",
       "      <td>Women's Street Footwear</td>\n",
       "      <td>40</td>\n",
       "      <td>1000</td>\n",
       "      <td>400000</td>\n",
       "      <td>140000</td>\n",
       "      <td>0.35</td>\n",
       "      <td>In-store</td>\n",
       "    </tr>\n",
       "    <tr>\n",
       "      <th>7</th>\n",
       "      <td>NaN</td>\n",
       "      <td>Foot Locker</td>\n",
       "      <td>1185732</td>\n",
       "      <td>2020-01-04 00:00:00</td>\n",
       "      <td>Northeast</td>\n",
       "      <td>New York</td>\n",
       "      <td>New York</td>\n",
       "      <td>Women's Athletic Footwear</td>\n",
       "      <td>45</td>\n",
       "      <td>850</td>\n",
       "      <td>382500</td>\n",
       "      <td>133875</td>\n",
       "      <td>0.35</td>\n",
       "      <td>In-store</td>\n",
       "    </tr>\n",
       "    <tr>\n",
       "      <th>8</th>\n",
       "      <td>NaN</td>\n",
       "      <td>Foot Locker</td>\n",
       "      <td>1185732</td>\n",
       "      <td>2020-01-05 00:00:00</td>\n",
       "      <td>Northeast</td>\n",
       "      <td>New York</td>\n",
       "      <td>New York</td>\n",
       "      <td>Men's Apparel</td>\n",
       "      <td>60</td>\n",
       "      <td>900</td>\n",
       "      <td>540000</td>\n",
       "      <td>162000</td>\n",
       "      <td>0.3</td>\n",
       "      <td>In-store</td>\n",
       "    </tr>\n",
       "  </tbody>\n",
       "</table>\n",
       "</div>"
      ],
      "text/plain": [
       "   Unnamed: 0     Retailer Retailer ID         Invoice Date     Region  \\\n",
       "4         NaN  Foot Locker     1185732  2020-01-01 00:00:00  Northeast   \n",
       "5         NaN  Foot Locker     1185732  2020-01-02 00:00:00  Northeast   \n",
       "6         NaN  Foot Locker     1185732  2020-01-03 00:00:00  Northeast   \n",
       "7         NaN  Foot Locker     1185732  2020-01-04 00:00:00  Northeast   \n",
       "8         NaN  Foot Locker     1185732  2020-01-05 00:00:00  Northeast   \n",
       "\n",
       "      State      City                    Product Price per Unit Units Sold  \\\n",
       "4  New York  New York      Men's Street Footwear             50       1200   \n",
       "5  New York  New York    Men's Athletic Footwear             50       1000   \n",
       "6  New York  New York    Women's Street Footwear             40       1000   \n",
       "7  New York  New York  Women's Athletic Footwear             45        850   \n",
       "8  New York  New York              Men's Apparel             60        900   \n",
       "\n",
       "  Total Sales Operating Profit Operating Margin Sales Method  \n",
       "4      600000           300000              0.5     In-store  \n",
       "5      500000           150000              0.3     In-store  \n",
       "6      400000           140000             0.35     In-store  \n",
       "7      382500           133875             0.35     In-store  \n",
       "8      540000           162000              0.3     In-store  "
      ]
     },
     "execution_count": 7,
     "metadata": {},
     "output_type": "execute_result"
    }
   ],
   "source": [
    "df = df.drop([0,1,2,3],axis = 0)\n",
    "df.head()"
   ]
  },
  {
   "cell_type": "code",
   "execution_count": 8,
   "id": "dd738866",
   "metadata": {},
   "outputs": [
    {
     "data": {
      "text/plain": [
       "Unnamed: 0    9648\n",
       "dtype: int64"
      ]
     },
     "execution_count": 8,
     "metadata": {},
     "output_type": "execute_result"
    }
   ],
   "source": [
    "df[[\"Unnamed: 0\"]].isnull().sum()"
   ]
  },
  {
   "cell_type": "code",
   "execution_count": 9,
   "id": "e0eb3099",
   "metadata": {},
   "outputs": [
    {
     "name": "stdout",
     "output_type": "stream",
     "text": [
      "<class 'pandas.core.frame.DataFrame'>\n",
      "RangeIndex: 9648 entries, 4 to 9651\n",
      "Data columns (total 14 columns):\n",
      " #   Column            Non-Null Count  Dtype  \n",
      "---  ------            --------------  -----  \n",
      " 0   Unnamed: 0        0 non-null      float64\n",
      " 1   Retailer          9648 non-null   object \n",
      " 2   Retailer ID       9648 non-null   object \n",
      " 3   Invoice Date      9648 non-null   object \n",
      " 4   Region            9648 non-null   object \n",
      " 5   State             9648 non-null   object \n",
      " 6   City              9648 non-null   object \n",
      " 7   Product           9648 non-null   object \n",
      " 8   Price per Unit    9648 non-null   object \n",
      " 9   Units Sold        9648 non-null   object \n",
      " 10  Total Sales       9648 non-null   object \n",
      " 11  Operating Profit  9648 non-null   object \n",
      " 12  Operating Margin  9648 non-null   object \n",
      " 13  Sales Method      9648 non-null   object \n",
      "dtypes: float64(1), object(13)\n",
      "memory usage: 1.0+ MB\n"
     ]
    }
   ],
   "source": [
    "df.info()"
   ]
  },
  {
   "cell_type": "code",
   "execution_count": 10,
   "id": "67bf68e0",
   "metadata": {},
   "outputs": [
    {
     "data": {
      "text/html": [
       "<div>\n",
       "<style scoped>\n",
       "    .dataframe tbody tr th:only-of-type {\n",
       "        vertical-align: middle;\n",
       "    }\n",
       "\n",
       "    .dataframe tbody tr th {\n",
       "        vertical-align: top;\n",
       "    }\n",
       "\n",
       "    .dataframe thead th {\n",
       "        text-align: right;\n",
       "    }\n",
       "</style>\n",
       "<table border=\"1\" class=\"dataframe\">\n",
       "  <thead>\n",
       "    <tr style=\"text-align: right;\">\n",
       "      <th></th>\n",
       "      <th>Retailer</th>\n",
       "      <th>Retailer ID</th>\n",
       "      <th>Invoice Date</th>\n",
       "      <th>Region</th>\n",
       "      <th>State</th>\n",
       "      <th>City</th>\n",
       "      <th>Product</th>\n",
       "      <th>Price per Unit</th>\n",
       "      <th>Units Sold</th>\n",
       "      <th>Total Sales</th>\n",
       "      <th>Operating Profit</th>\n",
       "      <th>Operating Margin</th>\n",
       "      <th>Sales Method</th>\n",
       "    </tr>\n",
       "  </thead>\n",
       "  <tbody>\n",
       "    <tr>\n",
       "      <th>4</th>\n",
       "      <td>Foot Locker</td>\n",
       "      <td>1185732</td>\n",
       "      <td>2020-01-01 00:00:00</td>\n",
       "      <td>Northeast</td>\n",
       "      <td>New York</td>\n",
       "      <td>New York</td>\n",
       "      <td>Men's Street Footwear</td>\n",
       "      <td>50</td>\n",
       "      <td>1200</td>\n",
       "      <td>600000</td>\n",
       "      <td>300000</td>\n",
       "      <td>0.5</td>\n",
       "      <td>In-store</td>\n",
       "    </tr>\n",
       "    <tr>\n",
       "      <th>5</th>\n",
       "      <td>Foot Locker</td>\n",
       "      <td>1185732</td>\n",
       "      <td>2020-01-02 00:00:00</td>\n",
       "      <td>Northeast</td>\n",
       "      <td>New York</td>\n",
       "      <td>New York</td>\n",
       "      <td>Men's Athletic Footwear</td>\n",
       "      <td>50</td>\n",
       "      <td>1000</td>\n",
       "      <td>500000</td>\n",
       "      <td>150000</td>\n",
       "      <td>0.3</td>\n",
       "      <td>In-store</td>\n",
       "    </tr>\n",
       "    <tr>\n",
       "      <th>6</th>\n",
       "      <td>Foot Locker</td>\n",
       "      <td>1185732</td>\n",
       "      <td>2020-01-03 00:00:00</td>\n",
       "      <td>Northeast</td>\n",
       "      <td>New York</td>\n",
       "      <td>New York</td>\n",
       "      <td>Women's Street Footwear</td>\n",
       "      <td>40</td>\n",
       "      <td>1000</td>\n",
       "      <td>400000</td>\n",
       "      <td>140000</td>\n",
       "      <td>0.35</td>\n",
       "      <td>In-store</td>\n",
       "    </tr>\n",
       "    <tr>\n",
       "      <th>7</th>\n",
       "      <td>Foot Locker</td>\n",
       "      <td>1185732</td>\n",
       "      <td>2020-01-04 00:00:00</td>\n",
       "      <td>Northeast</td>\n",
       "      <td>New York</td>\n",
       "      <td>New York</td>\n",
       "      <td>Women's Athletic Footwear</td>\n",
       "      <td>45</td>\n",
       "      <td>850</td>\n",
       "      <td>382500</td>\n",
       "      <td>133875</td>\n",
       "      <td>0.35</td>\n",
       "      <td>In-store</td>\n",
       "    </tr>\n",
       "    <tr>\n",
       "      <th>8</th>\n",
       "      <td>Foot Locker</td>\n",
       "      <td>1185732</td>\n",
       "      <td>2020-01-05 00:00:00</td>\n",
       "      <td>Northeast</td>\n",
       "      <td>New York</td>\n",
       "      <td>New York</td>\n",
       "      <td>Men's Apparel</td>\n",
       "      <td>60</td>\n",
       "      <td>900</td>\n",
       "      <td>540000</td>\n",
       "      <td>162000</td>\n",
       "      <td>0.3</td>\n",
       "      <td>In-store</td>\n",
       "    </tr>\n",
       "  </tbody>\n",
       "</table>\n",
       "</div>"
      ],
      "text/plain": [
       "      Retailer Retailer ID         Invoice Date     Region     State  \\\n",
       "4  Foot Locker     1185732  2020-01-01 00:00:00  Northeast  New York   \n",
       "5  Foot Locker     1185732  2020-01-02 00:00:00  Northeast  New York   \n",
       "6  Foot Locker     1185732  2020-01-03 00:00:00  Northeast  New York   \n",
       "7  Foot Locker     1185732  2020-01-04 00:00:00  Northeast  New York   \n",
       "8  Foot Locker     1185732  2020-01-05 00:00:00  Northeast  New York   \n",
       "\n",
       "       City                    Product Price per Unit Units Sold Total Sales  \\\n",
       "4  New York      Men's Street Footwear             50       1200      600000   \n",
       "5  New York    Men's Athletic Footwear             50       1000      500000   \n",
       "6  New York    Women's Street Footwear             40       1000      400000   \n",
       "7  New York  Women's Athletic Footwear             45        850      382500   \n",
       "8  New York              Men's Apparel             60        900      540000   \n",
       "\n",
       "  Operating Profit Operating Margin Sales Method  \n",
       "4           300000              0.5     In-store  \n",
       "5           150000              0.3     In-store  \n",
       "6           140000             0.35     In-store  \n",
       "7           133875             0.35     In-store  \n",
       "8           162000              0.3     In-store  "
      ]
     },
     "execution_count": 10,
     "metadata": {},
     "output_type": "execute_result"
    }
   ],
   "source": [
    "df = df.drop([\"Unnamed: 0\"],axis = 1)\n",
    "df.head()"
   ]
  },
  {
   "cell_type": "code",
   "execution_count": 11,
   "id": "15bea652",
   "metadata": {},
   "outputs": [
    {
     "data": {
      "text/plain": [
       "Retailer            0\n",
       "Retailer ID         0\n",
       "Invoice Date        0\n",
       "Region              0\n",
       "State               0\n",
       "City                0\n",
       "Product             0\n",
       "Price per Unit      0\n",
       "Units Sold          0\n",
       "Total Sales         0\n",
       "Operating Profit    0\n",
       "Operating Margin    0\n",
       "Sales Method        0\n",
       "dtype: int64"
      ]
     },
     "execution_count": 11,
     "metadata": {},
     "output_type": "execute_result"
    }
   ],
   "source": [
    "df.isnull().sum()"
   ]
  },
  {
   "cell_type": "code",
   "execution_count": 12,
   "id": "3ef281a9",
   "metadata": {},
   "outputs": [
    {
     "data": {
      "text/html": [
       "<div>\n",
       "<style scoped>\n",
       "    .dataframe tbody tr th:only-of-type {\n",
       "        vertical-align: middle;\n",
       "    }\n",
       "\n",
       "    .dataframe tbody tr th {\n",
       "        vertical-align: top;\n",
       "    }\n",
       "\n",
       "    .dataframe thead th {\n",
       "        text-align: right;\n",
       "    }\n",
       "</style>\n",
       "<table border=\"1\" class=\"dataframe\">\n",
       "  <thead>\n",
       "    <tr style=\"text-align: right;\">\n",
       "      <th></th>\n",
       "      <th>Retailer</th>\n",
       "      <th>Retailer ID</th>\n",
       "      <th>Invoice Date</th>\n",
       "      <th>Region</th>\n",
       "      <th>State</th>\n",
       "      <th>City</th>\n",
       "      <th>Product</th>\n",
       "      <th>Price per Unit</th>\n",
       "      <th>Units Sold</th>\n",
       "      <th>Total Sales</th>\n",
       "      <th>Operating Profit</th>\n",
       "      <th>Operating Margin</th>\n",
       "      <th>Sales Method</th>\n",
       "    </tr>\n",
       "  </thead>\n",
       "  <tbody>\n",
       "    <tr>\n",
       "      <th>4</th>\n",
       "      <td>Foot Locker</td>\n",
       "      <td>1185732</td>\n",
       "      <td>2020-01-01 00:00:00</td>\n",
       "      <td>Northeast</td>\n",
       "      <td>New York</td>\n",
       "      <td>New York</td>\n",
       "      <td>Men's Street Footwear</td>\n",
       "      <td>50</td>\n",
       "      <td>1200</td>\n",
       "      <td>600000</td>\n",
       "      <td>300000</td>\n",
       "      <td>0.5</td>\n",
       "      <td>In-store</td>\n",
       "    </tr>\n",
       "    <tr>\n",
       "      <th>5</th>\n",
       "      <td>Foot Locker</td>\n",
       "      <td>1185732</td>\n",
       "      <td>2020-01-02 00:00:00</td>\n",
       "      <td>Northeast</td>\n",
       "      <td>New York</td>\n",
       "      <td>New York</td>\n",
       "      <td>Men's Athletic Footwear</td>\n",
       "      <td>50</td>\n",
       "      <td>1000</td>\n",
       "      <td>500000</td>\n",
       "      <td>150000</td>\n",
       "      <td>0.3</td>\n",
       "      <td>In-store</td>\n",
       "    </tr>\n",
       "    <tr>\n",
       "      <th>6</th>\n",
       "      <td>Foot Locker</td>\n",
       "      <td>1185732</td>\n",
       "      <td>2020-01-03 00:00:00</td>\n",
       "      <td>Northeast</td>\n",
       "      <td>New York</td>\n",
       "      <td>New York</td>\n",
       "      <td>Women's Street Footwear</td>\n",
       "      <td>40</td>\n",
       "      <td>1000</td>\n",
       "      <td>400000</td>\n",
       "      <td>140000</td>\n",
       "      <td>0.35</td>\n",
       "      <td>In-store</td>\n",
       "    </tr>\n",
       "    <tr>\n",
       "      <th>7</th>\n",
       "      <td>Foot Locker</td>\n",
       "      <td>1185732</td>\n",
       "      <td>2020-01-04 00:00:00</td>\n",
       "      <td>Northeast</td>\n",
       "      <td>New York</td>\n",
       "      <td>New York</td>\n",
       "      <td>Women's Athletic Footwear</td>\n",
       "      <td>45</td>\n",
       "      <td>850</td>\n",
       "      <td>382500</td>\n",
       "      <td>133875</td>\n",
       "      <td>0.35</td>\n",
       "      <td>In-store</td>\n",
       "    </tr>\n",
       "    <tr>\n",
       "      <th>8</th>\n",
       "      <td>Foot Locker</td>\n",
       "      <td>1185732</td>\n",
       "      <td>2020-01-05 00:00:00</td>\n",
       "      <td>Northeast</td>\n",
       "      <td>New York</td>\n",
       "      <td>New York</td>\n",
       "      <td>Men's Apparel</td>\n",
       "      <td>60</td>\n",
       "      <td>900</td>\n",
       "      <td>540000</td>\n",
       "      <td>162000</td>\n",
       "      <td>0.3</td>\n",
       "      <td>In-store</td>\n",
       "    </tr>\n",
       "  </tbody>\n",
       "</table>\n",
       "</div>"
      ],
      "text/plain": [
       "      Retailer Retailer ID         Invoice Date     Region     State  \\\n",
       "4  Foot Locker     1185732  2020-01-01 00:00:00  Northeast  New York   \n",
       "5  Foot Locker     1185732  2020-01-02 00:00:00  Northeast  New York   \n",
       "6  Foot Locker     1185732  2020-01-03 00:00:00  Northeast  New York   \n",
       "7  Foot Locker     1185732  2020-01-04 00:00:00  Northeast  New York   \n",
       "8  Foot Locker     1185732  2020-01-05 00:00:00  Northeast  New York   \n",
       "\n",
       "       City                    Product Price per Unit Units Sold Total Sales  \\\n",
       "4  New York      Men's Street Footwear             50       1200      600000   \n",
       "5  New York    Men's Athletic Footwear             50       1000      500000   \n",
       "6  New York    Women's Street Footwear             40       1000      400000   \n",
       "7  New York  Women's Athletic Footwear             45        850      382500   \n",
       "8  New York              Men's Apparel             60        900      540000   \n",
       "\n",
       "  Operating Profit Operating Margin Sales Method  \n",
       "4           300000              0.5     In-store  \n",
       "5           150000              0.3     In-store  \n",
       "6           140000             0.35     In-store  \n",
       "7           133875             0.35     In-store  \n",
       "8           162000              0.3     In-store  "
      ]
     },
     "execution_count": 12,
     "metadata": {},
     "output_type": "execute_result"
    }
   ],
   "source": [
    "df.head()"
   ]
  },
  {
   "cell_type": "code",
   "execution_count": 13,
   "id": "d63a9aa6",
   "metadata": {},
   "outputs": [
    {
     "data": {
      "text/html": [
       "<div>\n",
       "<style scoped>\n",
       "    .dataframe tbody tr th:only-of-type {\n",
       "        vertical-align: middle;\n",
       "    }\n",
       "\n",
       "    .dataframe tbody tr th {\n",
       "        vertical-align: top;\n",
       "    }\n",
       "\n",
       "    .dataframe thead th {\n",
       "        text-align: right;\n",
       "    }\n",
       "</style>\n",
       "<table border=\"1\" class=\"dataframe\">\n",
       "  <thead>\n",
       "    <tr style=\"text-align: right;\">\n",
       "      <th></th>\n",
       "      <th>Retailer</th>\n",
       "      <th>Retailer ID</th>\n",
       "      <th>Invoice Date</th>\n",
       "      <th>Region</th>\n",
       "      <th>State</th>\n",
       "      <th>City</th>\n",
       "      <th>Product</th>\n",
       "      <th>Price per Unit</th>\n",
       "      <th>Units Sold</th>\n",
       "      <th>Total Sales</th>\n",
       "      <th>Operating Profit</th>\n",
       "      <th>Operating Margin</th>\n",
       "      <th>Sales Method</th>\n",
       "    </tr>\n",
       "  </thead>\n",
       "  <tbody>\n",
       "    <tr>\n",
       "      <th>0</th>\n",
       "      <td>Foot Locker</td>\n",
       "      <td>1185732</td>\n",
       "      <td>2020-01-01 00:00:00</td>\n",
       "      <td>Northeast</td>\n",
       "      <td>New York</td>\n",
       "      <td>New York</td>\n",
       "      <td>Men's Street Footwear</td>\n",
       "      <td>50</td>\n",
       "      <td>1200</td>\n",
       "      <td>600000</td>\n",
       "      <td>300000</td>\n",
       "      <td>0.5</td>\n",
       "      <td>In-store</td>\n",
       "    </tr>\n",
       "    <tr>\n",
       "      <th>1</th>\n",
       "      <td>Foot Locker</td>\n",
       "      <td>1185732</td>\n",
       "      <td>2020-01-02 00:00:00</td>\n",
       "      <td>Northeast</td>\n",
       "      <td>New York</td>\n",
       "      <td>New York</td>\n",
       "      <td>Men's Athletic Footwear</td>\n",
       "      <td>50</td>\n",
       "      <td>1000</td>\n",
       "      <td>500000</td>\n",
       "      <td>150000</td>\n",
       "      <td>0.3</td>\n",
       "      <td>In-store</td>\n",
       "    </tr>\n",
       "    <tr>\n",
       "      <th>2</th>\n",
       "      <td>Foot Locker</td>\n",
       "      <td>1185732</td>\n",
       "      <td>2020-01-03 00:00:00</td>\n",
       "      <td>Northeast</td>\n",
       "      <td>New York</td>\n",
       "      <td>New York</td>\n",
       "      <td>Women's Street Footwear</td>\n",
       "      <td>40</td>\n",
       "      <td>1000</td>\n",
       "      <td>400000</td>\n",
       "      <td>140000</td>\n",
       "      <td>0.35</td>\n",
       "      <td>In-store</td>\n",
       "    </tr>\n",
       "    <tr>\n",
       "      <th>3</th>\n",
       "      <td>Foot Locker</td>\n",
       "      <td>1185732</td>\n",
       "      <td>2020-01-04 00:00:00</td>\n",
       "      <td>Northeast</td>\n",
       "      <td>New York</td>\n",
       "      <td>New York</td>\n",
       "      <td>Women's Athletic Footwear</td>\n",
       "      <td>45</td>\n",
       "      <td>850</td>\n",
       "      <td>382500</td>\n",
       "      <td>133875</td>\n",
       "      <td>0.35</td>\n",
       "      <td>In-store</td>\n",
       "    </tr>\n",
       "    <tr>\n",
       "      <th>4</th>\n",
       "      <td>Foot Locker</td>\n",
       "      <td>1185732</td>\n",
       "      <td>2020-01-05 00:00:00</td>\n",
       "      <td>Northeast</td>\n",
       "      <td>New York</td>\n",
       "      <td>New York</td>\n",
       "      <td>Men's Apparel</td>\n",
       "      <td>60</td>\n",
       "      <td>900</td>\n",
       "      <td>540000</td>\n",
       "      <td>162000</td>\n",
       "      <td>0.3</td>\n",
       "      <td>In-store</td>\n",
       "    </tr>\n",
       "  </tbody>\n",
       "</table>\n",
       "</div>"
      ],
      "text/plain": [
       "      Retailer Retailer ID         Invoice Date     Region     State  \\\n",
       "0  Foot Locker     1185732  2020-01-01 00:00:00  Northeast  New York   \n",
       "1  Foot Locker     1185732  2020-01-02 00:00:00  Northeast  New York   \n",
       "2  Foot Locker     1185732  2020-01-03 00:00:00  Northeast  New York   \n",
       "3  Foot Locker     1185732  2020-01-04 00:00:00  Northeast  New York   \n",
       "4  Foot Locker     1185732  2020-01-05 00:00:00  Northeast  New York   \n",
       "\n",
       "       City                    Product Price per Unit Units Sold Total Sales  \\\n",
       "0  New York      Men's Street Footwear             50       1200      600000   \n",
       "1  New York    Men's Athletic Footwear             50       1000      500000   \n",
       "2  New York    Women's Street Footwear             40       1000      400000   \n",
       "3  New York  Women's Athletic Footwear             45        850      382500   \n",
       "4  New York              Men's Apparel             60        900      540000   \n",
       "\n",
       "  Operating Profit Operating Margin Sales Method  \n",
       "0           300000              0.5     In-store  \n",
       "1           150000              0.3     In-store  \n",
       "2           140000             0.35     In-store  \n",
       "3           133875             0.35     In-store  \n",
       "4           162000              0.3     In-store  "
      ]
     },
     "execution_count": 13,
     "metadata": {},
     "output_type": "execute_result"
    }
   ],
   "source": [
    "df = df.reset_index(drop=True)\n",
    "df.head()"
   ]
  },
  {
   "cell_type": "code",
   "execution_count": 14,
   "id": "0efd00fb",
   "metadata": {},
   "outputs": [
    {
     "data": {
      "text/html": [
       "<div>\n",
       "<style scoped>\n",
       "    .dataframe tbody tr th:only-of-type {\n",
       "        vertical-align: middle;\n",
       "    }\n",
       "\n",
       "    .dataframe tbody tr th {\n",
       "        vertical-align: top;\n",
       "    }\n",
       "\n",
       "    .dataframe thead th {\n",
       "        text-align: right;\n",
       "    }\n",
       "</style>\n",
       "<table border=\"1\" class=\"dataframe\">\n",
       "  <thead>\n",
       "    <tr style=\"text-align: right;\">\n",
       "      <th></th>\n",
       "      <th>Retailer</th>\n",
       "      <th>Retailer ID</th>\n",
       "      <th>Invoice Date</th>\n",
       "      <th>Region</th>\n",
       "      <th>State</th>\n",
       "      <th>City</th>\n",
       "      <th>Product</th>\n",
       "      <th>Price per Unit</th>\n",
       "      <th>Units Sold</th>\n",
       "      <th>Total Sales</th>\n",
       "      <th>Operating Profit</th>\n",
       "      <th>Operating Margin</th>\n",
       "      <th>Sales Method</th>\n",
       "    </tr>\n",
       "  </thead>\n",
       "  <tbody>\n",
       "    <tr>\n",
       "      <th>0</th>\n",
       "      <td>Foot Locker</td>\n",
       "      <td>1185732</td>\n",
       "      <td>2020-01-01 00:00:00</td>\n",
       "      <td>Northeast</td>\n",
       "      <td>New York</td>\n",
       "      <td>New York</td>\n",
       "      <td>Men's Street Footwear</td>\n",
       "      <td>50</td>\n",
       "      <td>1200</td>\n",
       "      <td>600000</td>\n",
       "      <td>300000</td>\n",
       "      <td>0.5</td>\n",
       "      <td>In-store</td>\n",
       "    </tr>\n",
       "    <tr>\n",
       "      <th>1</th>\n",
       "      <td>Foot Locker</td>\n",
       "      <td>1185732</td>\n",
       "      <td>2020-01-02 00:00:00</td>\n",
       "      <td>Northeast</td>\n",
       "      <td>New York</td>\n",
       "      <td>New York</td>\n",
       "      <td>Men's Athletic Footwear</td>\n",
       "      <td>50</td>\n",
       "      <td>1000</td>\n",
       "      <td>500000</td>\n",
       "      <td>150000</td>\n",
       "      <td>0.3</td>\n",
       "      <td>In-store</td>\n",
       "    </tr>\n",
       "    <tr>\n",
       "      <th>2</th>\n",
       "      <td>Foot Locker</td>\n",
       "      <td>1185732</td>\n",
       "      <td>2020-01-03 00:00:00</td>\n",
       "      <td>Northeast</td>\n",
       "      <td>New York</td>\n",
       "      <td>New York</td>\n",
       "      <td>Women's Street Footwear</td>\n",
       "      <td>40</td>\n",
       "      <td>1000</td>\n",
       "      <td>400000</td>\n",
       "      <td>140000</td>\n",
       "      <td>0.35</td>\n",
       "      <td>In-store</td>\n",
       "    </tr>\n",
       "    <tr>\n",
       "      <th>3</th>\n",
       "      <td>Foot Locker</td>\n",
       "      <td>1185732</td>\n",
       "      <td>2020-01-04 00:00:00</td>\n",
       "      <td>Northeast</td>\n",
       "      <td>New York</td>\n",
       "      <td>New York</td>\n",
       "      <td>Women's Athletic Footwear</td>\n",
       "      <td>45</td>\n",
       "      <td>850</td>\n",
       "      <td>382500</td>\n",
       "      <td>133875</td>\n",
       "      <td>0.35</td>\n",
       "      <td>In-store</td>\n",
       "    </tr>\n",
       "    <tr>\n",
       "      <th>4</th>\n",
       "      <td>Foot Locker</td>\n",
       "      <td>1185732</td>\n",
       "      <td>2020-01-05 00:00:00</td>\n",
       "      <td>Northeast</td>\n",
       "      <td>New York</td>\n",
       "      <td>New York</td>\n",
       "      <td>Men's Apparel</td>\n",
       "      <td>60</td>\n",
       "      <td>900</td>\n",
       "      <td>540000</td>\n",
       "      <td>162000</td>\n",
       "      <td>0.3</td>\n",
       "      <td>In-store</td>\n",
       "    </tr>\n",
       "  </tbody>\n",
       "</table>\n",
       "</div>"
      ],
      "text/plain": [
       "      Retailer Retailer ID         Invoice Date     Region     State  \\\n",
       "0  Foot Locker     1185732  2020-01-01 00:00:00  Northeast  New York   \n",
       "1  Foot Locker     1185732  2020-01-02 00:00:00  Northeast  New York   \n",
       "2  Foot Locker     1185732  2020-01-03 00:00:00  Northeast  New York   \n",
       "3  Foot Locker     1185732  2020-01-04 00:00:00  Northeast  New York   \n",
       "4  Foot Locker     1185732  2020-01-05 00:00:00  Northeast  New York   \n",
       "\n",
       "       City                    Product Price per Unit Units Sold Total Sales  \\\n",
       "0  New York      Men's Street Footwear             50       1200      600000   \n",
       "1  New York    Men's Athletic Footwear             50       1000      500000   \n",
       "2  New York    Women's Street Footwear             40       1000      400000   \n",
       "3  New York  Women's Athletic Footwear             45        850      382500   \n",
       "4  New York              Men's Apparel             60        900      540000   \n",
       "\n",
       "  Operating Profit Operating Margin Sales Method  \n",
       "0           300000              0.5     In-store  \n",
       "1           150000              0.3     In-store  \n",
       "2           140000             0.35     In-store  \n",
       "3           133875             0.35     In-store  \n",
       "4           162000              0.3     In-store  "
      ]
     },
     "execution_count": 14,
     "metadata": {},
     "output_type": "execute_result"
    }
   ],
   "source": [
    "df.reset_index(drop=True,inplace=True)\n",
    "new_df = df.reset_index(drop=True)\n",
    "new_df.head()"
   ]
  },
  {
   "cell_type": "code",
   "execution_count": 15,
   "id": "74a54892",
   "metadata": {},
   "outputs": [
    {
     "name": "stdout",
     "output_type": "stream",
     "text": [
      "<class 'pandas.core.frame.DataFrame'>\n",
      "RangeIndex: 9648 entries, 0 to 9647\n",
      "Data columns (total 13 columns):\n",
      " #   Column            Non-Null Count  Dtype \n",
      "---  ------            --------------  ----- \n",
      " 0   Retailer          9648 non-null   object\n",
      " 1   Retailer ID       9648 non-null   object\n",
      " 2   Invoice Date      9648 non-null   object\n",
      " 3   Region            9648 non-null   object\n",
      " 4   State             9648 non-null   object\n",
      " 5   City              9648 non-null   object\n",
      " 6   Product           9648 non-null   object\n",
      " 7   Price per Unit    9648 non-null   object\n",
      " 8   Units Sold        9648 non-null   object\n",
      " 9   Total Sales       9648 non-null   object\n",
      " 10  Operating Profit  9648 non-null   object\n",
      " 11  Operating Margin  9648 non-null   object\n",
      " 12  Sales Method      9648 non-null   object\n",
      "dtypes: object(13)\n",
      "memory usage: 980.0+ KB\n"
     ]
    }
   ],
   "source": [
    "df.info()"
   ]
  },
  {
   "cell_type": "code",
   "execution_count": 16,
   "id": "69eab2a1",
   "metadata": {},
   "outputs": [
    {
     "data": {
      "text/html": [
       "<div>\n",
       "<style scoped>\n",
       "    .dataframe tbody tr th:only-of-type {\n",
       "        vertical-align: middle;\n",
       "    }\n",
       "\n",
       "    .dataframe tbody tr th {\n",
       "        vertical-align: top;\n",
       "    }\n",
       "\n",
       "    .dataframe thead th {\n",
       "        text-align: right;\n",
       "    }\n",
       "</style>\n",
       "<table border=\"1\" class=\"dataframe\">\n",
       "  <thead>\n",
       "    <tr style=\"text-align: right;\">\n",
       "      <th></th>\n",
       "      <th>Price per Unit</th>\n",
       "      <th>Units Sold</th>\n",
       "    </tr>\n",
       "  </thead>\n",
       "  <tbody>\n",
       "    <tr>\n",
       "      <th>0</th>\n",
       "      <td>50</td>\n",
       "      <td>1200</td>\n",
       "    </tr>\n",
       "    <tr>\n",
       "      <th>1</th>\n",
       "      <td>50</td>\n",
       "      <td>1000</td>\n",
       "    </tr>\n",
       "    <tr>\n",
       "      <th>2</th>\n",
       "      <td>40</td>\n",
       "      <td>1000</td>\n",
       "    </tr>\n",
       "    <tr>\n",
       "      <th>3</th>\n",
       "      <td>45</td>\n",
       "      <td>850</td>\n",
       "    </tr>\n",
       "    <tr>\n",
       "      <th>4</th>\n",
       "      <td>60</td>\n",
       "      <td>900</td>\n",
       "    </tr>\n",
       "    <tr>\n",
       "      <th>...</th>\n",
       "      <td>...</td>\n",
       "      <td>...</td>\n",
       "    </tr>\n",
       "    <tr>\n",
       "      <th>9643</th>\n",
       "      <td>50</td>\n",
       "      <td>64</td>\n",
       "    </tr>\n",
       "    <tr>\n",
       "      <th>9644</th>\n",
       "      <td>41</td>\n",
       "      <td>105</td>\n",
       "    </tr>\n",
       "    <tr>\n",
       "      <th>9645</th>\n",
       "      <td>41</td>\n",
       "      <td>184</td>\n",
       "    </tr>\n",
       "    <tr>\n",
       "      <th>9646</th>\n",
       "      <td>42</td>\n",
       "      <td>70</td>\n",
       "    </tr>\n",
       "    <tr>\n",
       "      <th>9647</th>\n",
       "      <td>29</td>\n",
       "      <td>83</td>\n",
       "    </tr>\n",
       "  </tbody>\n",
       "</table>\n",
       "<p>9648 rows × 2 columns</p>\n",
       "</div>"
      ],
      "text/plain": [
       "      Price per Unit  Units Sold\n",
       "0                 50        1200\n",
       "1                 50        1000\n",
       "2                 40        1000\n",
       "3                 45         850\n",
       "4                 60         900\n",
       "...              ...         ...\n",
       "9643              50          64\n",
       "9644              41         105\n",
       "9645              41         184\n",
       "9646              42          70\n",
       "9647              29          83\n",
       "\n",
       "[9648 rows x 2 columns]"
      ]
     },
     "execution_count": 16,
     "metadata": {},
     "output_type": "execute_result"
    }
   ],
   "source": [
    "df[[\"Price per Unit\", \"Units Sold\"]].astype(\"int64\")"
   ]
  },
  {
   "cell_type": "code",
   "execution_count": 17,
   "id": "6240550d",
   "metadata": {},
   "outputs": [
    {
     "name": "stdout",
     "output_type": "stream",
     "text": [
      "<class 'pandas.core.frame.DataFrame'>\n",
      "RangeIndex: 9648 entries, 0 to 9647\n",
      "Data columns (total 13 columns):\n",
      " #   Column            Non-Null Count  Dtype \n",
      "---  ------            --------------  ----- \n",
      " 0   Retailer          9648 non-null   object\n",
      " 1   Retailer ID       9648 non-null   object\n",
      " 2   Invoice Date      9648 non-null   object\n",
      " 3   Region            9648 non-null   object\n",
      " 4   State             9648 non-null   object\n",
      " 5   City              9648 non-null   object\n",
      " 6   Product           9648 non-null   object\n",
      " 7   Price per Unit    9648 non-null   object\n",
      " 8   Units Sold        9648 non-null   object\n",
      " 9   Total Sales       9648 non-null   object\n",
      " 10  Operating Profit  9648 non-null   object\n",
      " 11  Operating Margin  9648 non-null   object\n",
      " 12  Sales Method      9648 non-null   object\n",
      "dtypes: object(13)\n",
      "memory usage: 980.0+ KB\n"
     ]
    }
   ],
   "source": [
    "df.info()"
   ]
  },
  {
   "cell_type": "code",
   "execution_count": 18,
   "id": "fc7001b9",
   "metadata": {},
   "outputs": [
    {
     "name": "stdout",
     "output_type": "stream",
     "text": [
      "<class 'pandas.core.frame.DataFrame'>\n",
      "RangeIndex: 9648 entries, 0 to 9647\n",
      "Data columns (total 13 columns):\n",
      " #   Column            Non-Null Count  Dtype  \n",
      "---  ------            --------------  -----  \n",
      " 0   Retailer          9648 non-null   object \n",
      " 1   Retailer ID       9648 non-null   object \n",
      " 2   Invoice Date      9648 non-null   object \n",
      " 3   Region            9648 non-null   object \n",
      " 4   State             9648 non-null   object \n",
      " 5   City              9648 non-null   object \n",
      " 6   Product           9648 non-null   object \n",
      " 7   Price per Unit    9648 non-null   int64  \n",
      " 8   Units Sold        9648 non-null   int64  \n",
      " 9   Total Sales       9648 non-null   float32\n",
      " 10  Operating Profit  9648 non-null   float32\n",
      " 11  Operating Margin  9648 non-null   float32\n",
      " 12  Sales Method      9648 non-null   object \n",
      "dtypes: float32(3), int64(2), object(8)\n",
      "memory usage: 866.9+ KB\n"
     ]
    }
   ],
   "source": [
    "df[[\"Price per Unit\", \"Units Sold\"]] = df[[\"Price per Unit\", \"Units Sold\"]].astype(\"int64\")\n",
    "df[[\"Total Sales\",\"Operating Profit\",\"Operating Margin\"]] = df[[\"Total Sales\",\"Operating Profit\",\"Operating Margin\"]].astype(\"float32\")\n",
    "df.info()"
   ]
  },
  {
   "cell_type": "code",
   "execution_count": 19,
   "id": "161406dc",
   "metadata": {},
   "outputs": [
    {
     "data": {
      "text/html": [
       "<div>\n",
       "<style scoped>\n",
       "    .dataframe tbody tr th:only-of-type {\n",
       "        vertical-align: middle;\n",
       "    }\n",
       "\n",
       "    .dataframe tbody tr th {\n",
       "        vertical-align: top;\n",
       "    }\n",
       "\n",
       "    .dataframe thead th {\n",
       "        text-align: right;\n",
       "    }\n",
       "</style>\n",
       "<table border=\"1\" class=\"dataframe\">\n",
       "  <thead>\n",
       "    <tr style=\"text-align: right;\">\n",
       "      <th></th>\n",
       "      <th>Retailer</th>\n",
       "      <th>Retailer ID</th>\n",
       "      <th>Invoice Date</th>\n",
       "      <th>Region</th>\n",
       "      <th>State</th>\n",
       "      <th>City</th>\n",
       "      <th>Product</th>\n",
       "      <th>Price per Unit</th>\n",
       "      <th>Units Sold</th>\n",
       "      <th>Total Sales</th>\n",
       "      <th>Operating Profit</th>\n",
       "      <th>Operating Margin</th>\n",
       "      <th>Sales Method</th>\n",
       "    </tr>\n",
       "  </thead>\n",
       "  <tbody>\n",
       "    <tr>\n",
       "      <th>0</th>\n",
       "      <td>Foot Locker</td>\n",
       "      <td>1185732</td>\n",
       "      <td>2020-01-01 00:00:00</td>\n",
       "      <td>Northeast</td>\n",
       "      <td>New York</td>\n",
       "      <td>New York</td>\n",
       "      <td>Men's Street Footwear</td>\n",
       "      <td>50</td>\n",
       "      <td>1200</td>\n",
       "      <td>600000.0</td>\n",
       "      <td>300000.0</td>\n",
       "      <td>0.50</td>\n",
       "      <td>In-store</td>\n",
       "    </tr>\n",
       "    <tr>\n",
       "      <th>1</th>\n",
       "      <td>Foot Locker</td>\n",
       "      <td>1185732</td>\n",
       "      <td>2020-01-02 00:00:00</td>\n",
       "      <td>Northeast</td>\n",
       "      <td>New York</td>\n",
       "      <td>New York</td>\n",
       "      <td>Men's Athletic Footwear</td>\n",
       "      <td>50</td>\n",
       "      <td>1000</td>\n",
       "      <td>500000.0</td>\n",
       "      <td>150000.0</td>\n",
       "      <td>0.30</td>\n",
       "      <td>In-store</td>\n",
       "    </tr>\n",
       "    <tr>\n",
       "      <th>2</th>\n",
       "      <td>Foot Locker</td>\n",
       "      <td>1185732</td>\n",
       "      <td>2020-01-03 00:00:00</td>\n",
       "      <td>Northeast</td>\n",
       "      <td>New York</td>\n",
       "      <td>New York</td>\n",
       "      <td>Women's Street Footwear</td>\n",
       "      <td>40</td>\n",
       "      <td>1000</td>\n",
       "      <td>400000.0</td>\n",
       "      <td>140000.0</td>\n",
       "      <td>0.35</td>\n",
       "      <td>In-store</td>\n",
       "    </tr>\n",
       "    <tr>\n",
       "      <th>3</th>\n",
       "      <td>Foot Locker</td>\n",
       "      <td>1185732</td>\n",
       "      <td>2020-01-04 00:00:00</td>\n",
       "      <td>Northeast</td>\n",
       "      <td>New York</td>\n",
       "      <td>New York</td>\n",
       "      <td>Women's Athletic Footwear</td>\n",
       "      <td>45</td>\n",
       "      <td>850</td>\n",
       "      <td>382500.0</td>\n",
       "      <td>133875.0</td>\n",
       "      <td>0.35</td>\n",
       "      <td>In-store</td>\n",
       "    </tr>\n",
       "    <tr>\n",
       "      <th>4</th>\n",
       "      <td>Foot Locker</td>\n",
       "      <td>1185732</td>\n",
       "      <td>2020-01-05 00:00:00</td>\n",
       "      <td>Northeast</td>\n",
       "      <td>New York</td>\n",
       "      <td>New York</td>\n",
       "      <td>Men's Apparel</td>\n",
       "      <td>60</td>\n",
       "      <td>900</td>\n",
       "      <td>540000.0</td>\n",
       "      <td>162000.0</td>\n",
       "      <td>0.30</td>\n",
       "      <td>In-store</td>\n",
       "    </tr>\n",
       "  </tbody>\n",
       "</table>\n",
       "</div>"
      ],
      "text/plain": [
       "      Retailer Retailer ID         Invoice Date     Region     State  \\\n",
       "0  Foot Locker     1185732  2020-01-01 00:00:00  Northeast  New York   \n",
       "1  Foot Locker     1185732  2020-01-02 00:00:00  Northeast  New York   \n",
       "2  Foot Locker     1185732  2020-01-03 00:00:00  Northeast  New York   \n",
       "3  Foot Locker     1185732  2020-01-04 00:00:00  Northeast  New York   \n",
       "4  Foot Locker     1185732  2020-01-05 00:00:00  Northeast  New York   \n",
       "\n",
       "       City                    Product  Price per Unit  Units Sold  \\\n",
       "0  New York      Men's Street Footwear              50        1200   \n",
       "1  New York    Men's Athletic Footwear              50        1000   \n",
       "2  New York    Women's Street Footwear              40        1000   \n",
       "3  New York  Women's Athletic Footwear              45         850   \n",
       "4  New York              Men's Apparel              60         900   \n",
       "\n",
       "   Total Sales  Operating Profit  Operating Margin Sales Method  \n",
       "0     600000.0          300000.0              0.50     In-store  \n",
       "1     500000.0          150000.0              0.30     In-store  \n",
       "2     400000.0          140000.0              0.35     In-store  \n",
       "3     382500.0          133875.0              0.35     In-store  \n",
       "4     540000.0          162000.0              0.30     In-store  "
      ]
     },
     "execution_count": 19,
     "metadata": {},
     "output_type": "execute_result"
    }
   ],
   "source": [
    "df.head()"
   ]
  },
  {
   "cell_type": "code",
   "execution_count": 20,
   "id": "137aaee1",
   "metadata": {},
   "outputs": [
    {
     "data": {
      "text/html": [
       "<div>\n",
       "<style scoped>\n",
       "    .dataframe tbody tr th:only-of-type {\n",
       "        vertical-align: middle;\n",
       "    }\n",
       "\n",
       "    .dataframe tbody tr th {\n",
       "        vertical-align: top;\n",
       "    }\n",
       "\n",
       "    .dataframe thead th {\n",
       "        text-align: right;\n",
       "    }\n",
       "</style>\n",
       "<table border=\"1\" class=\"dataframe\">\n",
       "  <thead>\n",
       "    <tr style=\"text-align: right;\">\n",
       "      <th></th>\n",
       "      <th>count</th>\n",
       "      <th>mean</th>\n",
       "      <th>std</th>\n",
       "      <th>min</th>\n",
       "      <th>25%</th>\n",
       "      <th>50%</th>\n",
       "      <th>75%</th>\n",
       "      <th>max</th>\n",
       "    </tr>\n",
       "  </thead>\n",
       "  <tbody>\n",
       "    <tr>\n",
       "      <th>Price per Unit</th>\n",
       "      <td>9648.0</td>\n",
       "      <td>45.182214</td>\n",
       "      <td>14.698080</td>\n",
       "      <td>7.0</td>\n",
       "      <td>35.000000</td>\n",
       "      <td>45.000000</td>\n",
       "      <td>55.00</td>\n",
       "      <td>110.0</td>\n",
       "    </tr>\n",
       "    <tr>\n",
       "      <th>Units Sold</th>\n",
       "      <td>9648.0</td>\n",
       "      <td>256.930037</td>\n",
       "      <td>214.252030</td>\n",
       "      <td>0.0</td>\n",
       "      <td>106.000000</td>\n",
       "      <td>176.000000</td>\n",
       "      <td>350.00</td>\n",
       "      <td>1275.0</td>\n",
       "    </tr>\n",
       "    <tr>\n",
       "      <th>Total Sales</th>\n",
       "      <td>9648.0</td>\n",
       "      <td>93273.296875</td>\n",
       "      <td>141916.625000</td>\n",
       "      <td>0.0</td>\n",
       "      <td>4254.500000</td>\n",
       "      <td>9576.000000</td>\n",
       "      <td>150000.00</td>\n",
       "      <td>825000.0</td>\n",
       "    </tr>\n",
       "    <tr>\n",
       "      <th>Operating Profit</th>\n",
       "      <td>9648.0</td>\n",
       "      <td>34425.125000</td>\n",
       "      <td>54193.054688</td>\n",
       "      <td>0.0</td>\n",
       "      <td>1921.752533</td>\n",
       "      <td>4371.419922</td>\n",
       "      <td>52062.50</td>\n",
       "      <td>390000.0</td>\n",
       "    </tr>\n",
       "    <tr>\n",
       "      <th>Operating Margin</th>\n",
       "      <td>9648.0</td>\n",
       "      <td>0.422987</td>\n",
       "      <td>0.097198</td>\n",
       "      <td>0.1</td>\n",
       "      <td>0.350000</td>\n",
       "      <td>0.410000</td>\n",
       "      <td>0.49</td>\n",
       "      <td>0.8</td>\n",
       "    </tr>\n",
       "  </tbody>\n",
       "</table>\n",
       "</div>"
      ],
      "text/plain": [
       "                   count          mean            std  min          25%  \\\n",
       "Price per Unit    9648.0     45.182214      14.698080  7.0    35.000000   \n",
       "Units Sold        9648.0    256.930037     214.252030  0.0   106.000000   \n",
       "Total Sales       9648.0  93273.296875  141916.625000  0.0  4254.500000   \n",
       "Operating Profit  9648.0  34425.125000   54193.054688  0.0  1921.752533   \n",
       "Operating Margin  9648.0      0.422987       0.097198  0.1     0.350000   \n",
       "\n",
       "                          50%        75%       max  \n",
       "Price per Unit      45.000000      55.00     110.0  \n",
       "Units Sold         176.000000     350.00    1275.0  \n",
       "Total Sales       9576.000000  150000.00  825000.0  \n",
       "Operating Profit  4371.419922   52062.50  390000.0  \n",
       "Operating Margin     0.410000       0.49       0.8  "
      ]
     },
     "execution_count": 20,
     "metadata": {},
     "output_type": "execute_result"
    }
   ],
   "source": [
    "df.describe().T"
   ]
  },
  {
   "cell_type": "code",
   "execution_count": 21,
   "id": "09c710aa",
   "metadata": {},
   "outputs": [
    {
     "data": {
      "text/plain": [
       "array(['Foot Locker', 'Walmart', 'Sports Direct', 'West Gear', \"Kohl's\",\n",
       "       'Amazon'], dtype=object)"
      ]
     },
     "execution_count": 21,
     "metadata": {},
     "output_type": "execute_result"
    }
   ],
   "source": [
    "df['Retailer'].unique()"
   ]
  },
  {
   "cell_type": "code",
   "execution_count": 22,
   "id": "9f598236",
   "metadata": {},
   "outputs": [
    {
     "data": {
      "text/plain": [
       "array(['New York', 'Houston', 'San Francisco', 'Los Angeles', 'Chicago',\n",
       "       'Dallas', 'Philadelphia', 'Las Vegas', 'Denver', 'Seattle',\n",
       "       'Miami', 'Minneapolis', 'Billings', 'Knoxville', 'Omaha',\n",
       "       'Birmingham', 'Portland', 'Anchorage', 'Honolulu', 'Orlando',\n",
       "       'Albany', 'Cheyenne', 'Richmond', 'Detroit', 'St. Louis',\n",
       "       'Salt Lake City', 'New Orleans', 'Boise', 'Phoenix', 'Albuquerque',\n",
       "       'Atlanta', 'Charleston', 'Charlotte', 'Columbus', 'Louisville',\n",
       "       'Jackson', 'Little Rock', 'Oklahoma City', 'Wichita',\n",
       "       'Sioux Falls', 'Fargo', 'Des Moines', 'Milwaukee', 'Indianapolis',\n",
       "       'Baltimore', 'Wilmington', 'Newark', 'Hartford', 'Providence',\n",
       "       'Boston', 'Burlington', 'Manchester'], dtype=object)"
      ]
     },
     "execution_count": 22,
     "metadata": {},
     "output_type": "execute_result"
    }
   ],
   "source": [
    "df['City'].unique()"
   ]
  },
  {
   "cell_type": "code",
   "execution_count": 23,
   "id": "6e957d22",
   "metadata": {},
   "outputs": [
    {
     "data": {
      "text/html": [
       "<div>\n",
       "<style scoped>\n",
       "    .dataframe tbody tr th:only-of-type {\n",
       "        vertical-align: middle;\n",
       "    }\n",
       "\n",
       "    .dataframe tbody tr th {\n",
       "        vertical-align: top;\n",
       "    }\n",
       "\n",
       "    .dataframe thead th {\n",
       "        text-align: right;\n",
       "    }\n",
       "</style>\n",
       "<table border=\"1\" class=\"dataframe\">\n",
       "  <thead>\n",
       "    <tr style=\"text-align: right;\">\n",
       "      <th></th>\n",
       "      <th>Retailer</th>\n",
       "      <th>Retailer ID</th>\n",
       "      <th>Invoice Date</th>\n",
       "      <th>Region</th>\n",
       "      <th>State</th>\n",
       "      <th>City</th>\n",
       "      <th>Product</th>\n",
       "      <th>Price per Unit</th>\n",
       "      <th>Units Sold</th>\n",
       "      <th>Total Sales</th>\n",
       "      <th>Operating Profit</th>\n",
       "      <th>Operating Margin</th>\n",
       "      <th>Sales Method</th>\n",
       "    </tr>\n",
       "  </thead>\n",
       "  <tbody>\n",
       "    <tr>\n",
       "      <th>1148</th>\n",
       "      <td>Amazon</td>\n",
       "      <td>1185732</td>\n",
       "      <td>2021-10-12 00:00:00</td>\n",
       "      <td>South</td>\n",
       "      <td>Alabama</td>\n",
       "      <td>Birmingham</td>\n",
       "      <td>Men's Street Footwear</td>\n",
       "      <td>40</td>\n",
       "      <td>450</td>\n",
       "      <td>180000.0</td>\n",
       "      <td>63000.000000</td>\n",
       "      <td>0.35</td>\n",
       "      <td>Outlet</td>\n",
       "    </tr>\n",
       "    <tr>\n",
       "      <th>1149</th>\n",
       "      <td>Amazon</td>\n",
       "      <td>1185732</td>\n",
       "      <td>2021-10-13 00:00:00</td>\n",
       "      <td>South</td>\n",
       "      <td>Alabama</td>\n",
       "      <td>Birmingham</td>\n",
       "      <td>Men's Athletic Footwear</td>\n",
       "      <td>40</td>\n",
       "      <td>250</td>\n",
       "      <td>100000.0</td>\n",
       "      <td>35000.000000</td>\n",
       "      <td>0.35</td>\n",
       "      <td>Outlet</td>\n",
       "    </tr>\n",
       "    <tr>\n",
       "      <th>1150</th>\n",
       "      <td>Amazon</td>\n",
       "      <td>1185732</td>\n",
       "      <td>2021-10-14 00:00:00</td>\n",
       "      <td>South</td>\n",
       "      <td>Alabama</td>\n",
       "      <td>Birmingham</td>\n",
       "      <td>Women's Street Footwear</td>\n",
       "      <td>30</td>\n",
       "      <td>250</td>\n",
       "      <td>75000.0</td>\n",
       "      <td>30000.000000</td>\n",
       "      <td>0.40</td>\n",
       "      <td>Outlet</td>\n",
       "    </tr>\n",
       "    <tr>\n",
       "      <th>1151</th>\n",
       "      <td>Amazon</td>\n",
       "      <td>1185732</td>\n",
       "      <td>2021-10-15 00:00:00</td>\n",
       "      <td>South</td>\n",
       "      <td>Alabama</td>\n",
       "      <td>Birmingham</td>\n",
       "      <td>Women's Athletic Footwear</td>\n",
       "      <td>35</td>\n",
       "      <td>100</td>\n",
       "      <td>35000.0</td>\n",
       "      <td>10500.000000</td>\n",
       "      <td>0.30</td>\n",
       "      <td>Outlet</td>\n",
       "    </tr>\n",
       "    <tr>\n",
       "      <th>1152</th>\n",
       "      <td>Amazon</td>\n",
       "      <td>1185732</td>\n",
       "      <td>2021-10-16 00:00:00</td>\n",
       "      <td>Northeast</td>\n",
       "      <td>Maine</td>\n",
       "      <td>Portland</td>\n",
       "      <td>Men's Apparel</td>\n",
       "      <td>50</td>\n",
       "      <td>150</td>\n",
       "      <td>75000.0</td>\n",
       "      <td>18750.000000</td>\n",
       "      <td>0.25</td>\n",
       "      <td>Outlet</td>\n",
       "    </tr>\n",
       "    <tr>\n",
       "      <th>...</th>\n",
       "      <td>...</td>\n",
       "      <td>...</td>\n",
       "      <td>...</td>\n",
       "      <td>...</td>\n",
       "      <td>...</td>\n",
       "      <td>...</td>\n",
       "      <td>...</td>\n",
       "      <td>...</td>\n",
       "      <td>...</td>\n",
       "      <td>...</td>\n",
       "      <td>...</td>\n",
       "      <td>...</td>\n",
       "      <td>...</td>\n",
       "    </tr>\n",
       "    <tr>\n",
       "      <th>9616</th>\n",
       "      <td>Amazon</td>\n",
       "      <td>1185732</td>\n",
       "      <td>2021-09-17 00:00:00</td>\n",
       "      <td>Northeast</td>\n",
       "      <td>New Hampshire</td>\n",
       "      <td>Manchester</td>\n",
       "      <td>Men's Athletic Footwear</td>\n",
       "      <td>43</td>\n",
       "      <td>116</td>\n",
       "      <td>4988.0</td>\n",
       "      <td>2094.959961</td>\n",
       "      <td>0.42</td>\n",
       "      <td>Outlet</td>\n",
       "    </tr>\n",
       "    <tr>\n",
       "      <th>9617</th>\n",
       "      <td>Amazon</td>\n",
       "      <td>1185732</td>\n",
       "      <td>2021-09-17 00:00:00</td>\n",
       "      <td>Northeast</td>\n",
       "      <td>New Hampshire</td>\n",
       "      <td>Manchester</td>\n",
       "      <td>Women's Street Footwear</td>\n",
       "      <td>43</td>\n",
       "      <td>78</td>\n",
       "      <td>3354.0</td>\n",
       "      <td>1106.819946</td>\n",
       "      <td>0.33</td>\n",
       "      <td>Outlet</td>\n",
       "    </tr>\n",
       "    <tr>\n",
       "      <th>9618</th>\n",
       "      <td>Amazon</td>\n",
       "      <td>1185732</td>\n",
       "      <td>2021-09-17 00:00:00</td>\n",
       "      <td>Northeast</td>\n",
       "      <td>New Hampshire</td>\n",
       "      <td>Manchester</td>\n",
       "      <td>Women's Athletic Footwear</td>\n",
       "      <td>41</td>\n",
       "      <td>74</td>\n",
       "      <td>3034.0</td>\n",
       "      <td>1122.579956</td>\n",
       "      <td>0.37</td>\n",
       "      <td>Outlet</td>\n",
       "    </tr>\n",
       "    <tr>\n",
       "      <th>9619</th>\n",
       "      <td>Amazon</td>\n",
       "      <td>1185732</td>\n",
       "      <td>2021-09-17 00:00:00</td>\n",
       "      <td>Northeast</td>\n",
       "      <td>New Hampshire</td>\n",
       "      <td>Manchester</td>\n",
       "      <td>Men's Apparel</td>\n",
       "      <td>48</td>\n",
       "      <td>70</td>\n",
       "      <td>3360.0</td>\n",
       "      <td>1209.599976</td>\n",
       "      <td>0.36</td>\n",
       "      <td>Outlet</td>\n",
       "    </tr>\n",
       "    <tr>\n",
       "      <th>9620</th>\n",
       "      <td>Amazon</td>\n",
       "      <td>1185732</td>\n",
       "      <td>2021-09-17 00:00:00</td>\n",
       "      <td>Northeast</td>\n",
       "      <td>New Hampshire</td>\n",
       "      <td>Manchester</td>\n",
       "      <td>Women's Apparel</td>\n",
       "      <td>53</td>\n",
       "      <td>104</td>\n",
       "      <td>5512.0</td>\n",
       "      <td>2039.439941</td>\n",
       "      <td>0.37</td>\n",
       "      <td>Outlet</td>\n",
       "    </tr>\n",
       "  </tbody>\n",
       "</table>\n",
       "<p>949 rows × 13 columns</p>\n",
       "</div>"
      ],
      "text/plain": [
       "     Retailer Retailer ID         Invoice Date     Region          State  \\\n",
       "1148   Amazon     1185732  2021-10-12 00:00:00      South        Alabama   \n",
       "1149   Amazon     1185732  2021-10-13 00:00:00      South        Alabama   \n",
       "1150   Amazon     1185732  2021-10-14 00:00:00      South        Alabama   \n",
       "1151   Amazon     1185732  2021-10-15 00:00:00      South        Alabama   \n",
       "1152   Amazon     1185732  2021-10-16 00:00:00  Northeast          Maine   \n",
       "...       ...         ...                  ...        ...            ...   \n",
       "9616   Amazon     1185732  2021-09-17 00:00:00  Northeast  New Hampshire   \n",
       "9617   Amazon     1185732  2021-09-17 00:00:00  Northeast  New Hampshire   \n",
       "9618   Amazon     1185732  2021-09-17 00:00:00  Northeast  New Hampshire   \n",
       "9619   Amazon     1185732  2021-09-17 00:00:00  Northeast  New Hampshire   \n",
       "9620   Amazon     1185732  2021-09-17 00:00:00  Northeast  New Hampshire   \n",
       "\n",
       "            City                    Product  Price per Unit  Units Sold  \\\n",
       "1148  Birmingham      Men's Street Footwear              40         450   \n",
       "1149  Birmingham    Men's Athletic Footwear              40         250   \n",
       "1150  Birmingham    Women's Street Footwear              30         250   \n",
       "1151  Birmingham  Women's Athletic Footwear              35         100   \n",
       "1152    Portland              Men's Apparel              50         150   \n",
       "...          ...                        ...             ...         ...   \n",
       "9616  Manchester    Men's Athletic Footwear              43         116   \n",
       "9617  Manchester    Women's Street Footwear              43          78   \n",
       "9618  Manchester  Women's Athletic Footwear              41          74   \n",
       "9619  Manchester              Men's Apparel              48          70   \n",
       "9620  Manchester            Women's Apparel              53         104   \n",
       "\n",
       "      Total Sales  Operating Profit  Operating Margin Sales Method  \n",
       "1148     180000.0      63000.000000              0.35       Outlet  \n",
       "1149     100000.0      35000.000000              0.35       Outlet  \n",
       "1150      75000.0      30000.000000              0.40       Outlet  \n",
       "1151      35000.0      10500.000000              0.30       Outlet  \n",
       "1152      75000.0      18750.000000              0.25       Outlet  \n",
       "...           ...               ...               ...          ...  \n",
       "9616       4988.0       2094.959961              0.42       Outlet  \n",
       "9617       3354.0       1106.819946              0.33       Outlet  \n",
       "9618       3034.0       1122.579956              0.37       Outlet  \n",
       "9619       3360.0       1209.599976              0.36       Outlet  \n",
       "9620       5512.0       2039.439941              0.37       Outlet  \n",
       "\n",
       "[949 rows x 13 columns]"
      ]
     },
     "execution_count": 23,
     "metadata": {},
     "output_type": "execute_result"
    }
   ],
   "source": [
    "df[df['Retailer']==\"Amazon\"]"
   ]
  },
  {
   "cell_type": "code",
   "execution_count": 24,
   "id": "703f1bc6",
   "metadata": {},
   "outputs": [
    {
     "data": {
      "text/html": [
       "<div>\n",
       "<style scoped>\n",
       "    .dataframe tbody tr th:only-of-type {\n",
       "        vertical-align: middle;\n",
       "    }\n",
       "\n",
       "    .dataframe tbody tr th {\n",
       "        vertical-align: top;\n",
       "    }\n",
       "\n",
       "    .dataframe thead th {\n",
       "        text-align: right;\n",
       "    }\n",
       "</style>\n",
       "<table border=\"1\" class=\"dataframe\">\n",
       "  <thead>\n",
       "    <tr style=\"text-align: right;\">\n",
       "      <th></th>\n",
       "      <th>Retailer ID</th>\n",
       "    </tr>\n",
       "    <tr>\n",
       "      <th>Retailer</th>\n",
       "      <th></th>\n",
       "    </tr>\n",
       "  </thead>\n",
       "  <tbody>\n",
       "    <tr>\n",
       "      <th>Amazon</th>\n",
       "      <td>949</td>\n",
       "    </tr>\n",
       "    <tr>\n",
       "      <th>Foot Locker</th>\n",
       "      <td>2637</td>\n",
       "    </tr>\n",
       "    <tr>\n",
       "      <th>Kohl's</th>\n",
       "      <td>1030</td>\n",
       "    </tr>\n",
       "    <tr>\n",
       "      <th>Sports Direct</th>\n",
       "      <td>2032</td>\n",
       "    </tr>\n",
       "    <tr>\n",
       "      <th>Walmart</th>\n",
       "      <td>626</td>\n",
       "    </tr>\n",
       "    <tr>\n",
       "      <th>West Gear</th>\n",
       "      <td>2374</td>\n",
       "    </tr>\n",
       "  </tbody>\n",
       "</table>\n",
       "</div>"
      ],
      "text/plain": [
       "               Retailer ID\n",
       "Retailer                  \n",
       "Amazon                 949\n",
       "Foot Locker           2637\n",
       "Kohl's                1030\n",
       "Sports Direct         2032\n",
       "Walmart                626\n",
       "West Gear             2374"
      ]
     },
     "execution_count": 24,
     "metadata": {},
     "output_type": "execute_result"
    }
   ],
   "source": [
    "df.groupby('Retailer')[['Retailer ID']].count()"
   ]
  },
  {
   "cell_type": "code",
   "execution_count": 25,
   "id": "f07e726e",
   "metadata": {},
   "outputs": [
    {
     "data": {
      "text/html": [
       "<div>\n",
       "<style scoped>\n",
       "    .dataframe tbody tr th:only-of-type {\n",
       "        vertical-align: middle;\n",
       "    }\n",
       "\n",
       "    .dataframe tbody tr th {\n",
       "        vertical-align: top;\n",
       "    }\n",
       "\n",
       "    .dataframe thead th {\n",
       "        text-align: right;\n",
       "    }\n",
       "</style>\n",
       "<table border=\"1\" class=\"dataframe\">\n",
       "  <thead>\n",
       "    <tr style=\"text-align: right;\">\n",
       "      <th></th>\n",
       "      <th>Retailer</th>\n",
       "      <th>Count</th>\n",
       "    </tr>\n",
       "  </thead>\n",
       "  <tbody>\n",
       "    <tr>\n",
       "      <th>0</th>\n",
       "      <td>Amazon</td>\n",
       "      <td>949</td>\n",
       "    </tr>\n",
       "    <tr>\n",
       "      <th>1</th>\n",
       "      <td>Foot Locker</td>\n",
       "      <td>2637</td>\n",
       "    </tr>\n",
       "    <tr>\n",
       "      <th>2</th>\n",
       "      <td>Kohl's</td>\n",
       "      <td>1030</td>\n",
       "    </tr>\n",
       "    <tr>\n",
       "      <th>3</th>\n",
       "      <td>Sports Direct</td>\n",
       "      <td>2032</td>\n",
       "    </tr>\n",
       "    <tr>\n",
       "      <th>4</th>\n",
       "      <td>Walmart</td>\n",
       "      <td>626</td>\n",
       "    </tr>\n",
       "    <tr>\n",
       "      <th>5</th>\n",
       "      <td>West Gear</td>\n",
       "      <td>2374</td>\n",
       "    </tr>\n",
       "  </tbody>\n",
       "</table>\n",
       "</div>"
      ],
      "text/plain": [
       "        Retailer  Count\n",
       "0         Amazon    949\n",
       "1    Foot Locker   2637\n",
       "2         Kohl's   1030\n",
       "3  Sports Direct   2032\n",
       "4        Walmart    626\n",
       "5      West Gear   2374"
      ]
     },
     "execution_count": 25,
     "metadata": {},
     "output_type": "execute_result"
    }
   ],
   "source": [
    "df_retailer =  df.groupby('Retailer')[['Retailer ID']].count().reset_index().rename(columns={'Retailer ID':\"Count\"})\n",
    "df_retailer"
   ]
  },
  {
   "cell_type": "code",
   "execution_count": 26,
   "id": "8898946c",
   "metadata": {},
   "outputs": [
    {
     "data": {
      "text/plain": [
       "<AxesSubplot:xlabel='Retailer', ylabel='Count'>"
      ]
     },
     "execution_count": 26,
     "metadata": {},
     "output_type": "execute_result"
    },
    {
     "data": {
      "image/png": "[encoded data removed]",
      "text/plain": [
       "<Figure size 1000x400 with 1 Axes>"
      ]
     },
     "metadata": {},
     "output_type": "display_data"
    }
   ],
   "source": [
    "plt.figure(figsize=(10,4))\n",
    "sns.barplot(data=df_retailer,x ='Retailer',y=\"Count\" )"
   ]
  },
  {
   "cell_type": "code",
   "execution_count": 27,
   "id": "936d0128",
   "metadata": {},
   "outputs": [
    {
     "data": {
      "application/vnd.plotly.v1+json": {
       "config": {
        "plotlyServerURL": "https://plot.ly"
       },
       "data": [
        {
         "alignmentgroup": "True",
         "hovertemplate": "Retailer=%{x}<br>Count=%{y}<extra></extra>",
         "legendgroup": "",
         "marker": {
          "color": "#636efa",
          "pattern": {
           "shape": ""
          }
         },
         "name": "",
         "offsetgroup": "",
         "orientation": "v",
         "showlegend": false,
         "textposition": "auto",
         "type": "bar",
         "x": [
          "Amazon",
          "Foot Locker",
          "Kohl's",
          "Sports Direct",
          "Walmart",
          "West Gear"
         ],
         "xaxis": "x",
         "y": [
          949,
          2637,
          1030,
          2032,
          626,
          2374
         ],
         "yaxis": "y"
        }
       ],
       "layout": {
        "barmode": "relative",
        "legend": {
         "tracegroupgap": 0
        },
        "margin": {
         "t": 60
        },
        "template": {
         "data": {
          "bar": [
           {
            "error_x": {
             "color": "#2a3f5f"
            },
            "error_y": {
             "color": "#2a3f5f"
            },
            "marker": {
             "line": {
              "color": "#E5ECF6",
              "width": 0.5
             },
             "pattern": {
              "fillmode": "overlay",
              "size": 10,
              "solidity": 0.2
             }
            },
            "type": "bar"
           }
          ],
          "barpolar": [
           {
            "marker": {
             "line": {
              "color": "#E5ECF6",
              "width": 0.5
             },
             "pattern": {
              "fillmode": "overlay",
              "size": 10,
              "solidity": 0.2
             }
            },
            "type": "barpolar"
           }
          ],
          "carpet": [
           {
            "aaxis": {
             "endlinecolor": "#2a3f5f",
             "gridcolor": "white",
             "linecolor": "white",
             "minorgridcolor": "white",
             "startlinecolor": "#2a3f5f"
            },
            "baxis": {
             "endlinecolor": "#2a3f5f",
             "gridcolor": "white",
             "linecolor": "white",
             "minorgridcolor": "white",
             "startlinecolor": "#2a3f5f"
            },
            "type": "carpet"
           }
          ],
          "choropleth": [
           {
            "colorbar": {
             "outlinewidth": 0,
             "ticks": ""
            },
            "type": "choropleth"
           }
          ],
          "contour": [
           {
            "colorbar": {
             "outlinewidth": 0,
             "ticks": ""
            },
            "colorscale": [
             [
              0,
              "#0d0887"
             ],
             [
              0.1111111111111111,
              "#46039f"
             ],
             [
              0.2222222222222222,
              "#7201a8"
             ],
             [
              0.3333333333333333,
              "#9c179e"
             ],
             [
              0.4444444444444444,
              "#bd3786"
             ],
             [
              0.5555555555555556,
              "#d8576b"
             ],
             [
              0.6666666666666666,
              "#ed7953"
             ],
             [
              0.7777777777777778,
              "#fb9f3a"
             ],
             [
              0.8888888888888888,
              "#fdca26"
             ],
             [
              1,
              "#f0f921"
             ]
            ],
            "type": "contour"
           }
          ],
          "contourcarpet": [
           {
            "colorbar": {
             "outlinewidth": 0,
             "ticks": ""
            },
            "type": "contourcarpet"
           }
          ],
          "heatmap": [
           {
            "colorbar": {
             "outlinewidth": 0,
             "ticks": ""
            },
            "colorscale": [
             [
              0,
              "#0d0887"
             ],
             [
              0.1111111111111111,
              "#46039f"
             ],
             [
              0.2222222222222222,
              "#7201a8"
             ],
             [
              0.3333333333333333,
              "#9c179e"
             ],
             [
              0.4444444444444444,
              "#bd3786"
             ],
             [
              0.5555555555555556,
              "#d8576b"
             ],
             [
              0.6666666666666666,
              "#ed7953"
             ],
             [
              0.7777777777777778,
              "#fb9f3a"
             ],
             [
              0.8888888888888888,
              "#fdca26"
             ],
             [
              1,
              "#f0f921"
             ]
            ],
            "type": "heatmap"
           }
          ],
          "heatmapgl": [
           {
            "colorbar": {
             "outlinewidth": 0,
             "ticks": ""
            },
            "colorscale": [
             [
              0,
              "#0d0887"
             ],
             [
              0.1111111111111111,
              "#46039f"
             ],
             [
              0.2222222222222222,
              "#7201a8"
             ],
             [
              0.3333333333333333,
              "#9c179e"
             ],
             [
              0.4444444444444444,
              "#bd3786"
             ],
             [
              0.5555555555555556,
              "#d8576b"
             ],
             [
              0.6666666666666666,
              "#ed7953"
             ],
             [
              0.7777777777777778,
              "#fb9f3a"
             ],
             [
              0.8888888888888888,
              "#fdca26"
             ],
             [
              1,
              "#f0f921"
             ]
            ],
            "type": "heatmapgl"
           }
          ],
          "histogram": [
           {
            "marker": {
             "pattern": {
              "fillmode": "overlay",
              "size": 10,
              "solidity": 0.2
             }
            },
            "type": "histogram"
           }
          ],
          "histogram2d": [
           {
            "colorbar": {
             "outlinewidth": 0,
             "ticks": ""
            },
            "colorscale": [
             [
              0,
              "#0d0887"
             ],
             [
              0.1111111111111111,
              "#46039f"
             ],
             [
              0.2222222222222222,
              "#7201a8"
             ],
             [
              0.3333333333333333,
              "#9c179e"
             ],
             [
              0.4444444444444444,
              "#bd3786"
             ],
             [
              0.5555555555555556,
              "#d8576b"
             ],
             [
              0.6666666666666666,
              "#ed7953"
             ],
             [
              0.7777777777777778,
              "#fb9f3a"
             ],
             [
              0.8888888888888888,
              "#fdca26"
             ],
             [
              1,
              "#f0f921"
             ]
            ],
            "type": "histogram2d"
           }
          ],
          "histogram2dcontour": [
           {
            "colorbar": {
             "outlinewidth": 0,
             "ticks": ""
            },
            "colorscale": [
             [
              0,
              "#0d0887"
             ],
             [
              0.1111111111111111,
              "#46039f"
             ],
             [
              0.2222222222222222,
              "#7201a8"
             ],
             [
              0.3333333333333333,
              "#9c179e"
             ],
             [
              0.4444444444444444,
              "#bd3786"
             ],
             [
              0.5555555555555556,
              "#d8576b"
             ],
             [
              0.6666666666666666,
              "#ed7953"
             ],
             [
              0.7777777777777778,
              "#fb9f3a"
             ],
             [
              0.8888888888888888,
              "#fdca26"
             ],
             [
              1,
              "#f0f921"
             ]
            ],
            "type": "histogram2dcontour"
           }
          ],
          "mesh3d": [
           {
            "colorbar": {
             "outlinewidth": 0,
             "ticks": ""
            },
            "type": "mesh3d"
           }
          ],
          "parcoords": [
           {
            "line": {
             "colorbar": {
              "outlinewidth": 0,
              "ticks": ""
             }
            },
            "type": "parcoords"
           }
          ],
          "pie": [
           {
            "automargin": true,
            "type": "pie"
           }
          ],
          "scatter": [
           {
            "fillpattern": {
             "fillmode": "overlay",
             "size": 10,
             "solidity": 0.2
            },
            "type": "scatter"
           }
          ],
          "scatter3d": [
           {
            "line": {
             "colorbar": {
              "outlinewidth": 0,
              "ticks": ""
             }
            },
            "marker": {
             "colorbar": {
              "outlinewidth": 0,
              "ticks": ""
             }
            },
            "type": "scatter3d"
           }
          ],
          "scattercarpet": [
           {
            "marker": {
             "colorbar": {
              "outlinewidth": 0,
              "ticks": ""
             }
            },
            "type": "scattercarpet"
           }
          ],
          "scattergeo": [
           {
            "marker": {
             "colorbar": {
              "outlinewidth": 0,
              "ticks": ""
             }
            },
            "type": "scattergeo"
           }
          ],
          "scattergl": [
           {
            "marker": {
             "colorbar": {
              "outlinewidth": 0,
              "ticks": ""
             }
            },
            "type": "scattergl"
           }
          ],
          "scattermapbox": [
           {
            "marker": {
             "colorbar": {
              "outlinewidth": 0,
              "ticks": ""
             }
            },
            "type": "scattermapbox"
           }
          ],
          "scatterpolar": [
           {
            "marker": {
             "colorbar": {
              "outlinewidth": 0,
              "ticks": ""
             }
            },
            "type": "scatterpolar"
           }
          ],
          "scatterpolargl": [
           {
            "marker": {
             "colorbar": {
              "outlinewidth": 0,
              "ticks": ""
             }
            },
            "type": "scatterpolargl"
           }
          ],
          "scatterternary": [
           {
            "marker": {
             "colorbar": {
              "outlinewidth": 0,
              "ticks": ""
             }
            },
            "type": "scatterternary"
           }
          ],
          "surface": [
           {
            "colorbar": {
             "outlinewidth": 0,
             "ticks": ""
            },
            "colorscale": [
             [
              0,
              "#0d0887"
             ],
             [
              0.1111111111111111,
              "#46039f"
             ],
             [
              0.2222222222222222,
              "#7201a8"
             ],
             [
              0.3333333333333333,
              "#9c179e"
             ],
             [
              0.4444444444444444,
              "#bd3786"
             ],
             [
              0.5555555555555556,
              "#d8576b"
             ],
             [
              0.6666666666666666,
              "#ed7953"
             ],
             [
              0.7777777777777778,
              "#fb9f3a"
             ],
             [
              0.8888888888888888,
              "#fdca26"
             ],
             [
              1,
              "#f0f921"
             ]
            ],
            "type": "surface"
           }
          ],
          "table": [
           {
            "cells": {
             "fill": {
              "color": "#EBF0F8"
             },
             "line": {
              "color": "white"
             }
            },
            "header": {
             "fill": {
              "color": "#C8D4E3"
             },
             "line": {
              "color": "white"
             }
            },
            "type": "table"
           }
          ]
         },
         "layout": {
          "annotationdefaults": {
           "arrowcolor": "#2a3f5f",
           "arrowhead": 0,
           "arrowwidth": 1
          },
          "autotypenumbers": "strict",
          "coloraxis": {
           "colorbar": {
            "outlinewidth": 0,
            "ticks": ""
           }
          },
          "colorscale": {
           "diverging": [
            [
             0,
             "#8e0152"
            ],
            [
             0.1,
             "#c51b7d"
            ],
            [
             0.2,
             "#de77ae"
            ],
            [
             0.3,
             "#f1b6da"
            ],
            [
             0.4,
             "#fde0ef"
            ],
            [
             0.5,
             "#f7f7f7"
            ],
            [
             0.6,
             "#e6f5d0"
            ],
            [
             0.7,
             "#b8e186"
            ],
            [
             0.8,
             "#7fbc41"
            ],
            [
             0.9,
             "#4d9221"
            ],
            [
             1,
             "#276419"
            ]
           ],
           "sequential": [
            [
             0,
             "#0d0887"
            ],
            [
             0.1111111111111111,
             "#46039f"
            ],
            [
             0.2222222222222222,
             "#7201a8"
            ],
            [
             0.3333333333333333,
             "#9c179e"
            ],
            [
             0.4444444444444444,
             "#bd3786"
            ],
            [
             0.5555555555555556,
             "#d8576b"
            ],
            [
             0.6666666666666666,
             "#ed7953"
            ],
            [
             0.7777777777777778,
             "#fb9f3a"
            ],
            [
             0.8888888888888888,
             "#fdca26"
            ],
            [
             1,
             "#f0f921"
            ]
           ],
           "sequentialminus": [
            [
             0,
             "#0d0887"
            ],
            [
             0.1111111111111111,
             "#46039f"
            ],
            [
             0.2222222222222222,
             "#7201a8"
            ],
            [
             0.3333333333333333,
             "#9c179e"
            ],
            [
             0.4444444444444444,
             "#bd3786"
            ],
            [
             0.5555555555555556,
             "#d8576b"
            ],
            [
             0.6666666666666666,
             "#ed7953"
            ],
            [
             0.7777777777777778,
             "#fb9f3a"
            ],
            [
             0.8888888888888888,
             "#fdca26"
            ],
            [
             1,
             "#f0f921"
            ]
           ]
          },
          "colorway": [
           "#636efa",
           "#EF553B",
           "#00cc96",
           "#ab63fa",
           "#FFA15A",
           "#19d3f3",
           "#FF6692",
           "#B6E880",
           "#FF97FF",
           "#FECB52"
          ],
          "font": {
           "color": "#2a3f5f"
          },
          "geo": {
           "bgcolor": "white",
           "lakecolor": "white",
           "landcolor": "#E5ECF6",
           "showlakes": true,
           "showland": true,
           "subunitcolor": "white"
          },
          "hoverlabel": {
           "align": "left"
          },
          "hovermode": "closest",
          "mapbox": {
           "style": "light"
          },
          "paper_bgcolor": "white",
          "plot_bgcolor": "#E5ECF6",
          "polar": {
           "angularaxis": {
            "gridcolor": "white",
            "linecolor": "white",
            "ticks": ""
           },
           "bgcolor": "#E5ECF6",
           "radialaxis": {
            "gridcolor": "white",
            "linecolor": "white",
            "ticks": ""
           }
          },
          "scene": {
           "xaxis": {
            "backgroundcolor": "#E5ECF6",
            "gridcolor": "white",
            "gridwidth": 2,
            "linecolor": "white",
            "showbackground": true,
            "ticks": "",
            "zerolinecolor": "white"
           },
           "yaxis": {
            "backgroundcolor": "#E5ECF6",
            "gridcolor": "white",
            "gridwidth": 2,
            "linecolor": "white",
            "showbackground": true,
            "ticks": "",
            "zerolinecolor": "white"
           },
           "zaxis": {
            "backgroundcolor": "#E5ECF6",
            "gridcolor": "white",
            "gridwidth": 2,
            "linecolor": "white",
            "showbackground": true,
            "ticks": "",
            "zerolinecolor": "white"
           }
          },
          "shapedefaults": {
           "line": {
            "color": "#2a3f5f"
           }
          },
          "ternary": {
           "aaxis": {
            "gridcolor": "white",
            "linecolor": "white",
            "ticks": ""
           },
           "baxis": {
            "gridcolor": "white",
            "linecolor": "white",
            "ticks": ""
           },
           "bgcolor": "#E5ECF6",
           "caxis": {
            "gridcolor": "white",
            "linecolor": "white",
            "ticks": ""
           }
          },
          "title": {
           "x": 0.05
          },
          "xaxis": {
           "automargin": true,
           "gridcolor": "white",
           "linecolor": "white",
           "ticks": "",
           "title": {
            "standoff": 15
           },
           "zerolinecolor": "white",
           "zerolinewidth": 2
          },
          "yaxis": {
           "automargin": true,
           "gridcolor": "white",
           "linecolor": "white",
           "ticks": "",
           "title": {
            "standoff": 15
           },
           "zerolinecolor": "white",
           "zerolinewidth": 2
          }
         }
        },
        "xaxis": {
         "anchor": "y",
         "domain": [
          0,
          1
         ],
         "title": {
          "text": "Retailer"
         }
        },
        "yaxis": {
         "anchor": "x",
         "domain": [
          0,
          1
         ],
         "title": {
          "text": "Count"
         }
        }
       }
      }
     },
     "metadata": {},
     "output_type": "display_data"
    }
   ],
   "source": [
    "px.bar(df_retailer,x ='Retailer',y=\"Count\")"
   ]
  },
  {
   "cell_type": "code",
   "execution_count": 28,
   "id": "3c56e3fb",
   "metadata": {},
   "outputs": [
    {
     "data": {
      "text/html": [
       "<div>\n",
       "<style scoped>\n",
       "    .dataframe tbody tr th:only-of-type {\n",
       "        vertical-align: middle;\n",
       "    }\n",
       "\n",
       "    .dataframe tbody tr th {\n",
       "        vertical-align: top;\n",
       "    }\n",
       "\n",
       "    .dataframe thead th {\n",
       "        text-align: right;\n",
       "    }\n",
       "</style>\n",
       "<table border=\"1\" class=\"dataframe\">\n",
       "  <thead>\n",
       "    <tr style=\"text-align: right;\">\n",
       "      <th></th>\n",
       "      <th>Retailer</th>\n",
       "      <th>Retailer ID</th>\n",
       "      <th>Invoice Date</th>\n",
       "      <th>Region</th>\n",
       "      <th>State</th>\n",
       "      <th>City</th>\n",
       "      <th>Product</th>\n",
       "      <th>Price per Unit</th>\n",
       "      <th>Units Sold</th>\n",
       "      <th>Total Sales</th>\n",
       "      <th>Operating Profit</th>\n",
       "      <th>Operating Margin</th>\n",
       "      <th>Sales Method</th>\n",
       "    </tr>\n",
       "  </thead>\n",
       "  <tbody>\n",
       "    <tr>\n",
       "      <th>0</th>\n",
       "      <td>Foot Locker</td>\n",
       "      <td>1185732</td>\n",
       "      <td>2020-01-01 00:00:00</td>\n",
       "      <td>Northeast</td>\n",
       "      <td>New York</td>\n",
       "      <td>New York</td>\n",
       "      <td>Men's Street Footwear</td>\n",
       "      <td>50</td>\n",
       "      <td>1200</td>\n",
       "      <td>600000.0</td>\n",
       "      <td>300000.0</td>\n",
       "      <td>0.50</td>\n",
       "      <td>In-store</td>\n",
       "    </tr>\n",
       "    <tr>\n",
       "      <th>1</th>\n",
       "      <td>Foot Locker</td>\n",
       "      <td>1185732</td>\n",
       "      <td>2020-01-02 00:00:00</td>\n",
       "      <td>Northeast</td>\n",
       "      <td>New York</td>\n",
       "      <td>New York</td>\n",
       "      <td>Men's Athletic Footwear</td>\n",
       "      <td>50</td>\n",
       "      <td>1000</td>\n",
       "      <td>500000.0</td>\n",
       "      <td>150000.0</td>\n",
       "      <td>0.30</td>\n",
       "      <td>In-store</td>\n",
       "    </tr>\n",
       "    <tr>\n",
       "      <th>2</th>\n",
       "      <td>Foot Locker</td>\n",
       "      <td>1185732</td>\n",
       "      <td>2020-01-03 00:00:00</td>\n",
       "      <td>Northeast</td>\n",
       "      <td>New York</td>\n",
       "      <td>New York</td>\n",
       "      <td>Women's Street Footwear</td>\n",
       "      <td>40</td>\n",
       "      <td>1000</td>\n",
       "      <td>400000.0</td>\n",
       "      <td>140000.0</td>\n",
       "      <td>0.35</td>\n",
       "      <td>In-store</td>\n",
       "    </tr>\n",
       "    <tr>\n",
       "      <th>3</th>\n",
       "      <td>Foot Locker</td>\n",
       "      <td>1185732</td>\n",
       "      <td>2020-01-04 00:00:00</td>\n",
       "      <td>Northeast</td>\n",
       "      <td>New York</td>\n",
       "      <td>New York</td>\n",
       "      <td>Women's Athletic Footwear</td>\n",
       "      <td>45</td>\n",
       "      <td>850</td>\n",
       "      <td>382500.0</td>\n",
       "      <td>133875.0</td>\n",
       "      <td>0.35</td>\n",
       "      <td>In-store</td>\n",
       "    </tr>\n",
       "    <tr>\n",
       "      <th>4</th>\n",
       "      <td>Foot Locker</td>\n",
       "      <td>1185732</td>\n",
       "      <td>2020-01-05 00:00:00</td>\n",
       "      <td>Northeast</td>\n",
       "      <td>New York</td>\n",
       "      <td>New York</td>\n",
       "      <td>Men's Apparel</td>\n",
       "      <td>60</td>\n",
       "      <td>900</td>\n",
       "      <td>540000.0</td>\n",
       "      <td>162000.0</td>\n",
       "      <td>0.30</td>\n",
       "      <td>In-store</td>\n",
       "    </tr>\n",
       "  </tbody>\n",
       "</table>\n",
       "</div>"
      ],
      "text/plain": [
       "      Retailer Retailer ID         Invoice Date     Region     State  \\\n",
       "0  Foot Locker     1185732  2020-01-01 00:00:00  Northeast  New York   \n",
       "1  Foot Locker     1185732  2020-01-02 00:00:00  Northeast  New York   \n",
       "2  Foot Locker     1185732  2020-01-03 00:00:00  Northeast  New York   \n",
       "3  Foot Locker     1185732  2020-01-04 00:00:00  Northeast  New York   \n",
       "4  Foot Locker     1185732  2020-01-05 00:00:00  Northeast  New York   \n",
       "\n",
       "       City                    Product  Price per Unit  Units Sold  \\\n",
       "0  New York      Men's Street Footwear              50        1200   \n",
       "1  New York    Men's Athletic Footwear              50        1000   \n",
       "2  New York    Women's Street Footwear              40        1000   \n",
       "3  New York  Women's Athletic Footwear              45         850   \n",
       "4  New York              Men's Apparel              60         900   \n",
       "\n",
       "   Total Sales  Operating Profit  Operating Margin Sales Method  \n",
       "0     600000.0          300000.0              0.50     In-store  \n",
       "1     500000.0          150000.0              0.30     In-store  \n",
       "2     400000.0          140000.0              0.35     In-store  \n",
       "3     382500.0          133875.0              0.35     In-store  \n",
       "4     540000.0          162000.0              0.30     In-store  "
      ]
     },
     "execution_count": 28,
     "metadata": {},
     "output_type": "execute_result"
    }
   ],
   "source": [
    "df.head()"
   ]
  },
  {
   "cell_type": "code",
   "execution_count": 29,
   "id": "4da301e3",
   "metadata": {},
   "outputs": [
    {
     "data": {
      "application/vnd.plotly.v1+json": {
       "config": {
        "plotlyServerURL": "https://plot.ly"
       },
       "data": [
        {
         "alignmentgroup": "True",
         "bingroup": "x",
         "hovertemplate": "Retailer=%{x}<br>count=%{y}<extra></extra>",
         "legendgroup": "",
         "marker": {
          "color": "#636efa",
          "pattern": {
           "shape": ""
          }
         },
         "name": "",
         "offsetgroup": "",
         "orientation": "v",
         "showlegend": false,
         "type": "histogram",
         "x": [
          "Foot Locker",
          "Foot Locker",
          "Foot Locker",
          "Foot Locker",
          "Foot Locker",
          "Foot Locker",
          "Foot Locker",
          "Foot Locker",
          "Foot Locker",
          "Foot Locker",
          "Foot Locker",
          "Foot Locker",
          "Foot Locker",
          "Foot Locker",
          "Foot Locker",
          "Foot Locker",
          "Foot Locker",
          "Foot Locker",
          "Foot Locker",
          "Foot Locker",
          "Foot Locker",
          "Foot Locker",
          "Foot Locker",
          "Foot Locker",
          "Foot Locker",
          "Foot Locker",
          "Foot Locker",
          "Foot Locker",
          "Foot Locker",
          "Foot Locker",
          "Foot Locker",
          "Foot Locker",
          "Foot Locker",
          "Foot Locker",
          "Foot Locker",
          "Foot Locker",
          "Foot Locker",
          "Foot Locker",
          "Foot Locker",
          "Foot Locker",
          "Foot Locker",
          "Foot Locker",
          "Foot Locker",
          "Foot Locker",
          "Foot Locker",
          "Foot Locker",
          "Walmart",
          "Walmart",
          "Walmart",
          "Walmart",
          "Walmart",
          "Walmart",
          "Walmart",
          "Walmart",
          "Walmart",
          "Walmart",
          "Walmart",
          "Walmart",
          "Walmart",
          "Walmart",
          "Walmart",
          "Walmart",
          "Walmart",
          "Walmart",
          "Walmart",
          "Walmart",
          "Walmart",
          "Walmart",
          "Sports Direct",
          "Sports Direct",
          "Sports Direct",
          "Sports Direct",
          "Sports Direct",
          "Sports Direct",
          "Sports Direct",
          "Sports Direct",
          "Sports Direct",
          "Sports Direct",
          "Sports Direct",
          "Sports Direct",
          "Sports Direct",
          "Sports Direct",
          "Sports Direct",
          "Sports Direct",
          "Sports Direct",
          "Sports Direct",
          "Sports Direct",
          "Sports Direct",
          "Sports Direct",
          "Sports Direct",
          "Walmart",
          "Walmart",
          "Walmart",
          "Walmart",
          "Walmart",
          "Walmart",
          "Walmart",
          "Walmart",
          "Walmart",
          "Walmart",
          "Walmart",
          "Walmart",
          "Walmart",
          "Walmart",
          "Walmart",
          "Walmart",
          "Walmart",
          "Walmart",
          "Walmart",
          "Walmart",
          "Walmart",
          "Walmart",
          "Walmart",
          "Walmart",
          "Walmart",
          "Walmart",
          "Walmart",
          "Walmart",
          "Walmart",
          "Walmart",
          "Walmart",
          "Walmart",
          "Walmart",
          "Walmart",
          "Walmart",
          "Walmart",
          "Walmart",
          "Walmart",
          "Walmart",
          "Walmart",
          "Walmart",
          "Walmart",
          "Walmart",
          "Walmart",
          "Walmart",
          "Walmart",
          "Walmart",
          "Walmart",
          "Walmart",
          "Walmart",
          "West Gear",
          "West Gear",
          "West Gear",
          "West Gear",
          "West Gear",
          "West Gear",
          "West Gear",
          "West Gear",
          "West Gear",
          "West Gear",
          "West Gear",
          "West Gear",
          "West Gear",
          "West Gear",
          "West Gear",
          "West Gear",
          "West Gear",
          "West Gear",
          "West Gear",
          "West Gear",
          "West Gear",
          "West Gear",
          "West Gear",
          "West Gear",
          "West Gear",
          "West Gear",
          "West Gear",
          "West Gear",
          "West Gear",
          "West Gear",
          "West Gear",
          "West Gear",
          "West Gear",
          "West Gear",
          "West Gear",
          "West Gear",
          "West Gear",
          "West Gear",
          "West Gear",
          "West Gear",
          "West Gear",
          "West Gear",
          "West Gear",
          "West Gear",
          "West Gear",
          "West Gear",
          "West Gear",
          "West Gear",
          "West Gear",
          "West Gear",
          "West Gear",
          "West Gear",
          "West Gear",
          "West Gear",
          "West Gear",
          "West Gear",
          "West Gear",
          "West Gear",
          "West Gear",
          "West Gear",
          "West Gear",
          "West Gear",
          "West Gear",
          "West Gear",
          "West Gear",
          "West Gear",
          "West Gear",
          "West Gear",
          "West Gear",
          "West Gear",
          "West Gear",
          "West Gear",
          "Kohl's",
          "Kohl's",
          "Kohl's",
          "Kohl's",
          "Kohl's",
          "Kohl's",
          "Kohl's",
          "Kohl's",
          "Kohl's",
          "Kohl's",
          "Kohl's",
          "Kohl's",
          "Kohl's",
          "Kohl's",
          "Kohl's",
          "Kohl's",
          "Kohl's",
          "Kohl's",
          "Kohl's",
          "Kohl's",
          "Kohl's",
          "Kohl's",
          "Kohl's",
          "Kohl's",
          "Kohl's",
          "Kohl's",
          "Kohl's",
          "Kohl's",
          "Kohl's",
          "Kohl's",
          "Kohl's",
          "Kohl's",
          "Kohl's",
          "Kohl's",
          "Kohl's",
          "Kohl's",
          "Kohl's",
          "Kohl's",
          "Kohl's",
          "Kohl's",
          "Kohl's",
          "Kohl's",
          "Kohl's",
          "Kohl's",
          "Kohl's",
          "Kohl's",
          "Kohl's",
          "Kohl's",
          "Kohl's",
          "Kohl's",
          "Kohl's",
          "Kohl's",
          "Kohl's",
          "Kohl's",
          "Kohl's",
          "Kohl's",
          "Kohl's",
          "Kohl's",
          "Kohl's",
          "Kohl's",
          "Kohl's",
          "Kohl's",
          "Kohl's",
          "Kohl's",
          "Kohl's",
          "Kohl's",
          "Kohl's",
          "Kohl's",
          "Kohl's",
          "Kohl's",
          "Kohl's",
          "Kohl's",
          "Foot Locker",
          "Foot Locker",
          "Foot Locker",
          "Foot Locker",
          "Foot Locker",
          "Foot Locker",
          "Foot Locker",
          "Foot Locker",
          "Foot Locker",
          "Foot Locker",
          "Foot Locker",
          "Foot Locker",
          "Foot Locker",
          "Foot Locker",
          "Foot Locker",
          "Foot Locker",
          "Foot Locker",
          "Foot Locker",
          "Foot Locker",
          "Foot Locker",
          "Foot Locker",
          "Foot Locker",
          "Foot Locker",
          "Foot Locker",
          "Foot Locker",
          "Foot Locker",
          "Foot Locker",
          "Foot Locker",
          "Foot Locker",
          "Foot Locker",
          "Foot Locker",
          "Foot Locker",
          "Foot Locker",
          "Foot Locker",
          "Foot Locker",
          "Foot Locker",
          "Foot Locker",
          "Foot Locker",
          "Foot Locker",
          "Foot Locker",
          "Foot Locker",
          "Foot Locker",
          "Foot Locker",
          "Foot Locker",
          "Foot Locker",
          "Foot Locker",
          "Foot Locker",
          "Foot Locker",
          "Foot Locker",
          "Foot Locker",
          "Foot Locker",
          "Foot Locker",
          "Foot Locker",
          "Foot Locker",
          "Foot Locker",
          "Foot Locker",
          "Foot Locker",
          "Foot Locker",
          "Foot Locker",
          "Foot Locker",
          "Foot Locker",
          "Foot Locker",
          "Foot Locker",
          "Foot Locker",
          "Foot Locker",
          "Foot Locker",
          "Foot Locker",
          "Foot Locker",
          "Foot Locker",
          "Foot Locker",
          "Foot Locker",
          "Foot Locker",
          "Sports Direct",
          "Sports Direct",
          "Sports Direct",
          "Sports Direct",
          "Sports Direct",
          "Sports Direct",
          "Sports Direct",
          "Sports Direct",
          "Sports Direct",
          "Sports Direct",
          "Sports Direct",
          "Sports Direct",
          "Sports Direct",
          "Sports Direct",
          "Sports Direct",
          "Sports Direct",
          "Sports Direct",
          "Sports Direct",
          "Sports Direct",
          "Sports Direct",
          "Sports Direct",
          "Sports Direct",
          "Sports Direct",
          "Sports Direct",
          "Sports Direct",
          "Sports Direct",
          "Sports Direct",
          "Sports Direct",
          "Sports Direct",
          "Sports Direct",
          "Sports Direct",
          "Sports Direct",
          "Sports Direct",
          "Sports Direct",
          "Sports Direct",
          "Sports Direct",
          "Sports Direct",
          "Sports Direct",
          "Sports Direct",
          "Sports Direct",
          "Sports Direct",
          "Sports Direct",
          "Sports Direct",
          "Sports Direct",
          "Sports Direct",
          "Sports Direct",
          "Sports Direct",
          "Sports Direct",
          "Sports Direct",
          "Sports Direct",
          "Sports Direct",
          "Sports Direct",
          "Sports Direct",
          "Sports Direct",
          "Sports Direct",
          "Sports Direct",
          "Sports Direct",
          "Sports Direct",
          "Sports Direct",
          "Sports Direct",
          "Sports Direct",
          "Sports Direct",
          "Sports Direct",
          "Sports Direct",
          "Sports Direct",
          "Sports Direct",
          "Sports Direct",
          "Sports Direct",
          "Sports Direct",
          "Sports Direct",
          "Sports Direct",
          "Sports Direct",
          "Foot Locker",
          "Foot Locker",
          "Foot Locker",
          "Foot Locker",
          "Foot Locker",
          "Foot Locker",
          "Foot Locker",
          "Foot Locker",
          "Foot Locker",
          "Foot Locker",
          "Foot Locker",
          "Foot Locker",
          "Foot Locker",
          "Foot Locker",
          "Foot Locker",
          "Foot Locker",
          "Foot Locker",
          "Foot Locker",
          "Foot Locker",
          "Foot Locker",
          "Foot Locker",
          "Foot Locker",
          "Foot Locker",
          "Foot Locker",
          "Foot Locker",
          "Foot Locker",
          "Foot Locker",
          "Foot Locker",
          "Foot Locker",
          "Foot Locker",
          "Foot Locker",
          "Foot Locker",
          "Foot Locker",
          "Foot Locker",
          "Foot Locker",
          "Foot Locker",
          "Foot Locker",
          "Foot Locker",
          "Foot Locker",
          "Foot Locker",
          "Foot Locker",
          "Foot Locker",
          "Foot Locker",
          "Foot Locker",
          "Foot Locker",
          "Foot Locker",
          "Foot Locker",
          "Foot Locker",
          "Foot Locker",
          "Foot Locker",
          "Foot Locker",
          "Foot Locker",
          "Foot Locker",
          "Foot Locker",
          "Foot Locker",
          "Foot Locker",
          "Foot Locker",
          "Foot Locker",
          "Foot Locker",
          "Foot Locker",
          "Foot Locker",
          "Foot Locker",
          "Foot Locker",
          "Foot Locker",
          "Foot Locker",
          "Foot Locker",
          "Foot Locker",
          "Foot Locker",
          "Foot Locker",
          "Foot Locker",
          "Foot Locker",
          "Foot Locker",
          "West Gear",
          "West Gear",
          "West Gear",
          "West Gear",
          "West Gear",
          "West Gear",
          "West Gear",
          "West Gear",
          "West Gear",
          "West Gear",
          "West Gear",
          "West Gear",
          "West Gear",
          "West Gear",
          "West Gear",
          "West Gear",
          "West Gear",
          "West Gear",
          "West Gear",
          "West Gear",
          "West Gear",
          "West Gear",
          "West Gear",
          "West Gear",
          "West Gear",
          "West Gear",
          "West Gear",
          "West Gear",
          "West Gear",
          "West Gear",
          "West Gear",
          "West Gear",
          "West Gear",
          "West Gear",
          "West Gear",
          "West Gear",
          "West Gear",
          "West Gear",
          "West Gear",
          "West Gear",
          "West Gear",
          "West Gear",
          "West Gear",
          "West Gear",
          "West Gear",
          "West Gear",
          "West Gear",
          "West Gear",
          "West Gear",
          "West Gear",
          "West Gear",
          "West Gear",
          "West Gear",
          "West Gear",
          "West Gear",
          "West Gear",
          "West Gear",
          "West Gear",
          "West Gear",
          "West Gear",
          "West Gear",
          "West Gear",
          "West Gear",
          "West Gear",
          "West Gear",
          "West Gear",
          "West Gear",
          "West Gear",
          "West Gear",
          "West Gear",
          "West Gear",
          "West Gear",
          "West Gear",
          "West Gear",
          "West Gear",
          "West Gear",
          "West Gear",
          "West Gear",
          "West Gear",
          "West Gear",
          "West Gear",
          "West Gear",
          "West Gear",
          "West Gear",
          "West Gear",
          "West Gear",
          "West Gear",
          "West Gear",
          "West Gear",
          "West Gear",
          "West Gear",
          "West Gear",
          "West Gear",
          "West Gear",
          "West Gear",
          "West Gear",
          "West Gear",
          "West Gear",
          "West Gear",
          "West Gear",
          "West Gear",
          "West Gear",
          "West Gear",
          "West Gear",
          "West Gear",
          "West Gear",
          "West Gear",
          "West Gear",
          "West Gear",
          "West Gear",
          "West Gear",
          "West Gear",
          "West Gear",
          "West Gear",
          "West Gear",
          "West Gear",
          "West Gear",
          "West Gear",
          "West Gear",
          "West Gear",
          "West Gear",
          "West Gear",
          "West Gear",
          "West Gear",
          "West Gear",
          "West Gear",
          "West Gear",
          "West Gear",
          "West Gear",
          "West Gear",
          "West Gear",
          "West Gear",
          "West Gear",
          "West Gear",
          "West Gear",
          "West Gear",
          "West Gear",
          "West Gear",
          "West Gear",
          "West Gear",
          "West Gear",
          "West Gear",
          "West Gear",
          "West Gear",
          "West Gear",
          "West Gear",
          "West Gear",
          "West Gear",
          "West Gear",
          "West Gear",
          "West Gear",
          "West Gear",
          "West Gear",
          "West Gear",
          "West Gear",
          "West Gear",
          "West Gear",
          "West Gear",
          "West Gear",
          "West Gear",
          "West Gear",
          "West Gear",
          "West Gear",
          "West Gear",
          "West Gear",
          "West Gear",
          "West Gear",
          "West Gear",
          "West Gear",
          "West Gear",
          "West Gear",
          "West Gear",
          "West Gear",
          "West Gear",
          "West Gear",
          "West Gear",
          "West Gear",
          "West Gear",
          "West Gear",
          "West Gear",
          "West Gear",
          "West Gear",
          "West Gear",
          "West Gear",
          "West Gear",
          "West Gear",
          "West Gear",
          "West Gear",
          "West Gear",
          "West Gear",
          "West Gear",
          "West Gear",
          "West Gear",
          "West Gear",
          "West Gear",
          "West Gear",
          "West Gear",
          "West Gear",
          "West Gear",
          "West Gear",
          "West Gear",
          "West Gear",
          "West Gear",
          "West Gear",
          "West Gear",
          "West Gear",
          "West Gear",
          "West Gear",
          "West Gear",
          "West Gear",
          "West Gear",
          "West Gear",
          "West Gear",
          "West Gear",
          "West Gear",
          "West Gear",
          "Foot Locker",
          "Foot Locker",
          "Foot Locker",
          "Foot Locker",
          "Foot Locker",
          "Foot Locker",
          "Foot Locker",
          "Foot Locker",
          "Foot Locker",
          "West Gear",
          "Foot Locker",
          "Foot Locker",
          "Foot Locker",
          "Foot Locker",
          "Foot Locker",
          "Foot Locker",
          "Foot Locker",
          "Foot Locker",
          "Foot Locker",
          "Foot Locker",
          "West Gear",
          "West Gear",
          "West Gear",
          "West Gear",
          "West Gear",
          "West Gear",
          "West Gear",
          "West Gear",
          "West Gear",
          "West Gear",
          "West Gear",
          "West Gear",
          "West Gear",
          "West Gear",
          "West Gear",
          "West Gear",
          "West Gear",
          "West Gear",
          "West Gear",
          "West Gear",
          "West Gear",
          "West Gear",
          "West Gear",
          "West Gear",
          "West Gear",
          "Foot Locker",
          "Foot Locker",
          "Foot Locker",
          "Foot Locker",
          "Foot Locker",
          "Sports Direct",
          "Sports Direct",
          "Sports Direct",
          "Sports Direct",
          "Sports Direct",
          "Sports Direct",
          "Sports Direct",
          "Sports Direct",
          "Sports Direct",
          "Sports Direct",
          "Sports Direct",
          "Sports Direct",
          "Sports Direct",
          "Sports Direct",
          "Sports Direct",
          "Sports Direct",
          "Sports Direct",
          "Sports Direct",
          "Sports Direct",
          "Sports Direct",
          "Foot Locker",
          "Foot Locker",
          "Foot Locker",
          "Foot Locker",
          "Foot Locker",
          "Foot Locker",
          "Foot Locker",
          "Foot Locker",
          "Foot Locker",
          "Foot Locker",
          "Foot Locker",
          "Foot Locker",
          "Foot Locker",
          "Foot Locker",
          "Foot Locker",
          "Foot Locker",
          "Foot Locker",
          "Foot Locker",
          "Foot Locker",
          "Foot Locker",
          "Foot Locker",
          "Foot Locker",
          "Foot Locker",
          "Foot Locker",
          "Foot Locker",
          "Foot Locker",
          "Foot Locker",
          "Foot Locker",
          "Foot Locker",
          "Foot Locker",
          "Foot Locker",
          "Foot Locker",
          "Foot Locker",
          "Foot Locker",
          "Foot Locker",
          "Foot Locker",
          "Foot Locker",
          "Foot Locker",
          "Foot Locker",
          "Foot Locker",
          "Foot Locker",
          "Foot Locker",
          "Foot Locker",
          "Foot Locker",
          "Foot Locker",
          "Foot Locker",
          "Foot Locker",
          "Foot Locker",
          "Foot Locker",
          "Foot Locker",
          "Foot Locker",
          "Foot Locker",
          "Foot Locker",
          "Foot Locker",
          "Foot Locker",
          "Foot Locker",
          "Foot Locker",
          "Foot Locker",
          "Foot Locker",
          "Foot Locker",
          "Foot Locker",
          "Foot Locker",
          "Foot Locker",
          "Foot Locker",
          "Foot Locker",
          "Foot Locker",
          "Foot Locker",
          "Foot Locker",
          "Foot Locker",
          "Foot Locker",
          "Foot Locker",
          "Foot Locker",
          "Foot Locker",
          "Foot Locker",
          "Kohl's",
          "Kohl's",
          "Kohl's",
          "Kohl's",
          "Kohl's",
          "Kohl's",
          "Kohl's",
          "Kohl's",
          "Kohl's",
          "Kohl's",
          "Kohl's",
          "Kohl's",
          "Kohl's",
          "Kohl's",
          "Kohl's",
          "Kohl's",
          "Kohl's",
          "Kohl's",
          "Kohl's",
          "Kohl's",
          "Kohl's",
          "Kohl's",
          "Kohl's",
          "Kohl's",
          "Kohl's",
          "Kohl's",
          "Kohl's",
          "Kohl's",
          "Kohl's",
          "Kohl's",
          "Kohl's",
          "Kohl's",
          "Kohl's",
          "Kohl's",
          "Kohl's",
          "Kohl's",
          "Kohl's",
          "Kohl's",
          "Kohl's",
          "Kohl's",
          "Kohl's",
          "Kohl's",
          "Kohl's",
          "Kohl's",
          "Kohl's",
          "Kohl's",
          "Kohl's",
          "Kohl's",
          "Kohl's",
          "Kohl's",
          "Kohl's",
          "Kohl's",
          "Kohl's",
          "Kohl's",
          "Kohl's",
          "Kohl's",
          "Kohl's",
          "Kohl's",
          "Kohl's",
          "Kohl's",
          "Kohl's",
          "Kohl's",
          "Kohl's",
          "Kohl's",
          "Kohl's",
          "Kohl's",
          "Kohl's",
          "Kohl's",
          "Kohl's",
          "Kohl's",
          "Kohl's",
          "Kohl's",
          "Sports Direct",
          "Sports Direct",
          "Sports Direct",
          "Sports Direct",
          "Sports Direct",
          "Sports Direct",
          "Sports Direct",
          "Sports Direct",
          "Sports Direct",
          "Sports Direct",
          "Sports Direct",
          "Sports Direct",
          "Sports Direct",
          "Sports Direct",
          "Sports Direct",
          "Sports Direct",
          "Sports Direct",
          "Sports Direct",
          "Sports Direct",
          "Sports Direct",
          "Sports Direct",
          "Sports Direct",
          "Sports Direct",
          "Sports Direct",
          "Sports Direct",
          "Sports Direct",
          "Sports Direct",
          "Sports Direct",
          "Sports Direct",
          "Sports Direct",
          "Sports Direct",
          "Sports Direct",
          "Sports Direct",
          "Sports Direct",
          "Sports Direct",
          "Sports Direct",
          "Sports Direct",
          "Sports Direct",
          "Sports Direct",
          "Sports Direct",
          "Sports Direct",
          "Sports Direct",
          "Sports Direct",
          "Sports Direct",
          "Sports Direct",
          "Sports Direct",
          "Sports Direct",
          "Sports Direct",
          "Sports Direct",
          "Sports Direct",
          "Sports Direct",
          "Sports Direct",
          "Sports Direct",
          "Sports Direct",
          "Sports Direct",
          "Sports Direct",
          "Sports Direct",
          "Sports Direct",
          "Sports Direct",
          "Sports Direct",
          "Sports Direct",
          "Sports Direct",
          "Sports Direct",
          "Sports Direct",
          "Sports Direct",
          "Sports Direct",
          "Sports Direct",
          "Sports Direct",
          "Sports Direct",
          "Sports Direct",
          "Sports Direct",
          "Sports Direct",
          "Foot Locker",
          "Foot Locker",
          "Foot Locker",
          "Foot Locker",
          "Foot Locker",
          "Foot Locker",
          "Foot Locker",
          "Foot Locker",
          "Foot Locker",
          "Foot Locker",
          "Foot Locker",
          "Foot Locker",
          "Foot Locker",
          "Foot Locker",
          "Foot Locker",
          "Foot Locker",
          "Foot Locker",
          "Foot Locker",
          "Foot Locker",
          "Foot Locker",
          "Foot Locker",
          "Foot Locker",
          "Foot Locker",
          "Foot Locker",
          "Foot Locker",
          "Foot Locker",
          "Foot Locker",
          "Foot Locker",
          "Foot Locker",
          "Foot Locker",
          "Foot Locker",
          "Foot Locker",
          "Foot Locker",
          "Foot Locker",
          "Foot Locker",
          "Foot Locker",
          "Foot Locker",
          "Foot Locker",
          "Foot Locker",
          "Foot Locker",
          "Foot Locker",
          "Foot Locker",
          "Foot Locker",
          "Foot Locker",
          "Foot Locker",
          "Foot Locker",
          "Foot Locker",
          "Foot Locker",
          "Foot Locker",
          "Foot Locker",
          "Foot Locker",
          "Foot Locker",
          "Foot Locker",
          "Foot Locker",
          "Foot Locker",
          "Foot Locker",
          "Foot Locker",
          "Foot Locker",
          "Foot Locker",
          "Foot Locker",
          "Foot Locker",
          "Foot Locker",
          "Foot Locker",
          "Foot Locker",
          "Foot Locker",
          "Foot Locker",
          "Foot Locker",
          "Foot Locker",
          "Foot Locker",
          "Foot Locker",
          "Foot Locker",
          "Foot Locker",
          "Sports Direct",
          "Sports Direct",
          "Sports Direct",
          "Sports Direct",
          "Sports Direct",
          "Sports Direct",
          "Sports Direct",
          "Sports Direct",
          "Sports Direct",
          "Sports Direct",
          "Sports Direct",
          "Sports Direct",
          "Sports Direct",
          "Sports Direct",
          "Sports Direct",
          "Sports Direct",
          "Sports Direct",
          "Sports Direct",
          "Sports Direct",
          "Sports Direct",
          "Sports Direct",
          "Sports Direct",
          "Sports Direct",
          "Sports Direct",
          "Sports Direct",
          "Sports Direct",
          "Sports Direct",
          "Sports Direct",
          "Sports Direct",
          "Sports Direct",
          "Sports Direct",
          "Sports Direct",
          "Sports Direct",
          "Sports Direct",
          "Sports Direct",
          "Sports Direct",
          "Sports Direct",
          "Sports Direct",
          "Sports Direct",
          "Sports Direct",
          "Sports Direct",
          "Sports Direct",
          "Sports Direct",
          "Sports Direct",
          "Sports Direct",
          "Sports Direct",
          "Sports Direct",
          "Sports Direct",
          "Sports Direct",
          "Sports Direct",
          "Sports Direct",
          "Sports Direct",
          "Sports Direct",
          "Sports Direct",
          "Sports Direct",
          "Sports Direct",
          "Sports Direct",
          "Sports Direct",
          "Sports Direct",
          "Sports Direct",
          "Sports Direct",
          "Sports Direct",
          "Sports Direct",
          "Sports Direct",
          "Sports Direct",
          "Sports Direct",
          "Sports Direct",
          "Sports Direct",
          "Sports Direct",
          "Sports Direct",
          "Sports Direct",
          "Sports Direct",
          "Amazon",
          "Amazon",
          "Amazon",
          "Amazon",
          "Amazon",
          "Amazon",
          "Amazon",
          "Amazon",
          "Amazon",
          "Amazon",
          "Amazon",
          "Amazon",
          "Amazon",
          "Amazon",
          "Amazon",
          "Amazon",
          "Amazon",
          "Amazon",
          "Amazon",
          "Amazon",
          "Amazon",
          "Amazon",
          "Amazon",
          "Amazon",
          "Amazon",
          "Amazon",
          "Amazon",
          "Amazon",
          "Amazon",
          "Amazon",
          "Amazon",
          "Amazon",
          "Amazon",
          "Amazon",
          "Amazon",
          "Amazon",
          "Amazon",
          "Amazon",
          "Amazon",
          "Amazon",
          "Amazon",
          "Amazon",
          "Amazon",
          "Amazon",
          "Amazon",
          "Amazon",
          "Amazon",
          "Amazon",
          "Amazon",
          "Amazon",
          "Amazon",
          "Amazon",
          "Amazon",
          "Amazon",
          "Amazon",
          "Amazon",
          "Amazon",
          "Amazon",
          "Amazon",
          "Amazon",
          "Amazon",
          "Amazon",
          "Amazon",
          "Amazon",
          "Amazon",
          "Amazon",
          "Amazon",
          "Amazon",
          "Amazon",
          "Amazon",
          "Amazon",
          "Amazon",
          "West Gear",
          "West Gear",
          "West Gear",
          "West Gear",
          "Amazon",
          "Amazon",
          "Amazon",
          "Amazon",
          "Amazon",
          "Amazon",
          "Amazon",
          "Amazon",
          "Amazon",
          "Amazon",
          "Amazon",
          "Amazon",
          "Amazon",
          "Amazon",
          "Amazon",
          "Amazon",
          "Amazon",
          "Amazon",
          "Amazon",
          "Amazon",
          "Amazon",
          "Amazon",
          "Amazon",
          "Amazon",
          "Amazon",
          "Amazon",
          "Amazon",
          "Amazon",
          "Amazon",
          "Amazon",
          "Amazon",
          "Amazon",
          "Amazon",
          "Amazon",
          "Amazon",
          "Amazon",
          "Amazon",
          "Amazon",
          "Amazon",
          "Amazon",
          "Amazon",
          "Amazon",
          "Amazon",
          "Amazon",
          "Amazon",
          "Amazon",
          "Amazon",
          "Amazon",
          "Amazon",
          "Amazon",
          "Amazon",
          "Amazon",
          "Amazon",
          "Amazon",
          "Amazon",
          "Amazon",
          "Amazon",
          "Amazon",
          "Amazon",
          "Amazon",
          "Amazon",
          "Amazon",
          "Amazon",
          "Foot Locker",
          "Foot Locker",
          "Foot Locker",
          "Foot Locker",
          "Foot Locker",
          "Foot Locker",
          "Foot Locker",
          "Foot Locker",
          "Foot Locker",
          "Foot Locker",
          "Foot Locker",
          "Foot Locker",
          "Foot Locker",
          "Foot Locker",
          "Foot Locker",
          "Foot Locker",
          "Foot Locker",
          "Foot Locker",
          "Foot Locker",
          "Foot Locker",
          "Foot Locker",
          "Foot Locker",
          "Foot Locker",
          "Foot Locker",
          "Foot Locker",
          "Foot Locker",
          "Foot Locker",
          "Foot Locker",
          "Foot Locker",
          "Foot Locker",
          "Foot Locker",
          "Foot Locker",
          "Foot Locker",
          "Foot Locker",
          "Foot Locker",
          "Foot Locker",
          "Foot Locker",
          "Foot Locker",
          "Foot Locker",
          "Foot Locker",
          "Foot Locker",
          "Foot Locker",
          "Foot Locker",
          "Foot Locker",
          "Foot Locker",
          "Foot Locker",
          "Walmart",
          "Walmart",
          "Walmart",
          "Walmart",
          "Walmart",
          "Walmart",
          "Walmart",
          "Walmart",
          "Walmart",
          "Walmart",
          "Walmart",
          "Walmart",
          "Walmart",
          "Walmart",
          "Walmart",
          "Walmart",
          "Walmart",
          "Walmart",
          "Walmart",
          "Walmart",
          "Walmart",
          "Walmart",
          "Sports Direct",
          "Sports Direct",
          "Sports Direct",
          "Sports Direct",
          "Sports Direct",
          "Sports Direct",
          "Sports Direct",
          "Sports Direct",
          "Sports Direct",
          "Sports Direct",
          "Sports Direct",
          "Sports Direct",
          "Sports Direct",
          "Sports Direct",
          "Sports Direct",
          "Sports Direct",
          "Sports Direct",
          "Sports Direct",
          "Sports Direct",
          "Sports Direct",
          "Sports Direct",
          "Sports Direct",
          "Walmart",
          "Walmart",
          "Walmart",
          "Walmart",
          "Walmart",
          "Walmart",
          "Walmart",
          "Walmart",
          "Walmart",
          "Walmart",
          "Walmart",
          "Walmart",
          "Walmart",
          "Walmart",
          "Walmart",
          "Walmart",
          "Walmart",
          "Walmart",
          "Walmart",
          "Walmart",
          "Walmart",
          "Walmart",
          "Walmart",
          "Walmart",
          "Walmart",
          "Walmart",
          "Walmart",
          "Walmart",
          "Walmart",
          "Walmart",
          "Walmart",
          "Walmart",
          "Walmart",
          "Walmart",
          "Walmart",
          "Walmart",
          "Walmart",
          "Walmart",
          "Walmart",
          "Walmart",
          "Walmart",
          "Walmart",
          "Walmart",
          "Walmart",
          "Walmart",
          "Walmart",
          "Walmart",
          "Walmart",
          "Walmart",
          "Walmart",
          "West Gear",
          "West Gear",
          "West Gear",
          "West Gear",
          "West Gear",
          "West Gear",
          "West Gear",
          "West Gear",
          "West Gear",
          "West Gear",
          "West Gear",
          "West Gear",
          "West Gear",
          "West Gear",
          "West Gear",
          "West Gear",
          "West Gear",
          "West Gear",
          "West Gear",
          "West Gear",
          "West Gear",
          "West Gear",
          "West Gear",
          "West Gear",
          "West Gear",
          "West Gear",
          "West Gear",
          "West Gear",
          "West Gear",
          "West Gear",
          "West Gear",
          "West Gear",
          "West Gear",
          "West Gear",
          "West Gear",
          "West Gear",
          "West Gear",
          "West Gear",
          "West Gear",
          "West Gear",
          "West Gear",
          "West Gear",
          "West Gear",
          "West Gear",
          "West Gear",
          "West Gear",
          "West Gear",
          "West Gear",
          "West Gear",
          "West Gear",
          "West Gear",
          "West Gear",
          "West Gear",
          "West Gear",
          "West Gear",
          "West Gear",
          "West Gear",
          "West Gear",
          "West Gear",
          "West Gear",
          "West Gear",
          "West Gear",
          "West Gear",
          "West Gear",
          "West Gear",
          "West Gear",
          "West Gear",
          "West Gear",
          "West Gear",
          "West Gear",
          "West Gear",
          "West Gear",
          "Kohl's",
          "Kohl's",
          "Kohl's",
          "Kohl's",
          "Kohl's",
          "Kohl's",
          "Kohl's",
          "Kohl's",
          "Kohl's",
          "Kohl's",
          "Kohl's",
          "Kohl's",
          "Kohl's",
          "Kohl's",
          "Kohl's",
          "Kohl's",
          "Kohl's",
          "Kohl's",
          "Kohl's",
          "Kohl's",
          "Kohl's",
          "Kohl's",
          "Kohl's",
          "Kohl's",
          "Kohl's",
          "Kohl's",
          "Kohl's",
          "Kohl's",
          "Kohl's",
          "Kohl's",
          "Kohl's",
          "Kohl's",
          "Kohl's",
          "Kohl's",
          "Kohl's",
          "Kohl's",
          "Kohl's",
          "Kohl's",
          "Kohl's",
          "Kohl's",
          "Kohl's",
          "Kohl's",
          "Kohl's",
          "Kohl's",
          "Kohl's",
          "Kohl's",
          "Kohl's",
          "Kohl's",
          "Kohl's",
          "Kohl's",
          "Kohl's",
          "Kohl's",
          "Kohl's",
          "Kohl's",
          "Kohl's",
          "Kohl's",
          "Kohl's",
          "Kohl's",
          "Kohl's",
          "Kohl's",
          "Kohl's",
          "Kohl's",
          "Kohl's",
          "Kohl's",
          "Kohl's",
          "Kohl's",
          "Kohl's",
          "Kohl's",
          "Kohl's",
          "Kohl's",
          "Kohl's",
          "Kohl's",
          "Foot Locker",
          "Foot Locker",
          "Foot Locker",
          "Foot Locker",
          "Foot Locker",
          "Foot Locker",
          "Foot Locker",
          "Foot Locker",
          "Foot Locker",
          "Foot Locker",
          "Foot Locker",
          "Foot Locker",
          "Foot Locker",
          "Foot Locker",
          "Foot Locker",
          "Foot Locker",
          "Foot Locker",
          "Foot Locker",
          "Foot Locker",
          "Foot Locker",
          "Foot Locker",
          "Foot Locker",
          "Foot Locker",
          "Foot Locker",
          "Foot Locker",
          "Foot Locker",
          "Foot Locker",
          "Foot Locker",
          "Foot Locker",
          "Foot Locker",
          "Foot Locker",
          "Foot Locker",
          "Foot Locker",
          "Foot Locker",
          "Foot Locker",
          "Foot Locker",
          "Foot Locker",
          "Foot Locker",
          "Foot Locker",
          "Foot Locker",
          "Foot Locker",
          "Foot Locker",
          "Foot Locker",
          "Foot Locker",
          "Foot Locker",
          "Foot Locker",
          "Foot Locker",
          "Foot Locker",
          "Foot Locker",
          "Foot Locker",
          "Foot Locker",
          "Foot Locker",
          "Foot Locker",
          "Foot Locker",
          "Foot Locker",
          "Foot Locker",
          "Foot Locker",
          "Foot Locker",
          "Foot Locker",
          "Foot Locker",
          "Foot Locker",
          "Foot Locker",
          "Foot Locker",
          "Foot Locker",
          "Foot Locker",
          "Foot Locker",
          "Foot Locker",
          "Foot Locker",
          "Foot Locker",
          "Foot Locker",
          "Foot Locker",
          "Foot Locker",
          "Sports Direct",
          "Sports Direct",
          "Sports Direct",
          "Sports Direct",
          "Sports Direct",
          "Sports Direct",
          "Sports Direct",
          "Sports Direct",
          "Sports Direct",
          "Sports Direct",
          "Sports Direct",
          "Sports Direct",
          "Sports Direct",
          "Sports Direct",
          "Sports Direct",
          "Sports Direct",
          "Sports Direct",
          "Sports Direct",
          "Sports Direct",
          "Sports Direct",
          "Sports Direct",
          "Sports Direct",
          "Sports Direct",
          "Sports Direct",
          "Sports Direct",
          "Sports Direct",
          "Sports Direct",
          "Sports Direct",
          "Sports Direct",
          "Sports Direct",
          "Sports Direct",
          "Sports Direct",
          "Sports Direct",
          "Sports Direct",
          "Sports Direct",
          "Sports Direct",
          "Sports Direct",
          "Sports Direct",
          "Sports Direct",
          "Sports Direct",
          "Sports Direct",
          "Sports Direct",
          "Sports Direct",
          "Sports Direct",
          "Sports Direct",
          "Sports Direct",
          "Sports Direct",
          "Sports Direct",
          "Sports Direct",
          "Sports Direct",
          "Sports Direct",
          "Sports Direct",
          "Sports Direct",
          "Sports Direct",
          "Sports Direct",
          "Sports Direct",
          "Sports Direct",
          "Sports Direct",
          "Sports Direct",
          "Sports Direct",
          "Sports Direct",
          "Sports Direct",
          "Sports Direct",
          "Sports Direct",
          "Sports Direct",
          "Sports Direct",
          "Sports Direct",
          "Sports Direct",
          "Sports Direct",
          "Sports Direct",
          "Sports Direct",
          "Sports Direct",
          "Foot Locker",
          "Foot Locker",
          "Foot Locker",
          "Foot Locker",
          "Foot Locker",
          "Foot Locker",
          "Foot Locker",
          "Foot Locker",
          "Foot Locker",
          "Foot Locker",
          "Foot Locker",
          "Foot Locker",
          "Foot Locker",
          "Foot Locker",
          "Foot Locker",
          "Foot Locker",
          "Foot Locker",
          "Foot Locker",
          "Foot Locker",
          "Foot Locker",
          "Foot Locker",
          "Foot Locker",
          "Foot Locker",
          "Foot Locker",
          "Foot Locker",
          "Foot Locker",
          "Foot Locker",
          "Foot Locker",
          "Foot Locker",
          "Foot Locker",
          "Foot Locker",
          "Foot Locker",
          "Foot Locker",
          "Foot Locker",
          "Foot Locker",
          "Foot Locker",
          "Foot Locker",
          "Foot Locker",
          "Foot Locker",
          "Foot Locker",
          "Foot Locker",
          "Foot Locker",
          "Foot Locker",
          "Foot Locker",
          "Foot Locker",
          "Foot Locker",
          "Foot Locker",
          "Foot Locker",
          "Foot Locker",
          "Foot Locker",
          "Foot Locker",
          "Foot Locker",
          "Foot Locker",
          "Foot Locker",
          "Foot Locker",
          "Foot Locker",
          "Foot Locker",
          "Foot Locker",
          "Foot Locker",
          "Foot Locker",
          "Foot Locker",
          "Foot Locker",
          "Foot Locker",
          "Foot Locker",
          "Foot Locker",
          "Foot Locker",
          "Foot Locker",
          "Foot Locker",
          "Foot Locker",
          "Foot Locker",
          "Foot Locker",
          "Foot Locker",
          "West Gear",
          "West Gear",
          "West Gear",
          "West Gear",
          "West Gear",
          "West Gear",
          "West Gear",
          "West Gear",
          "West Gear",
          "West Gear",
          "West Gear",
          "West Gear",
          "West Gear",
          "West Gear",
          "West Gear",
          "West Gear",
          "West Gear",
          "West Gear",
          "West Gear",
          "West Gear",
          "West Gear",
          "West Gear",
          "West Gear",
          "West Gear",
          "West Gear",
          "West Gear",
          "West Gear",
          "West Gear",
          "West Gear",
          "West Gear",
          "West Gear",
          "West Gear",
          "West Gear",
          "West Gear",
          "West Gear",
          "West Gear",
          "West Gear",
          "West Gear",
          "West Gear",
          "West Gear",
          "West Gear",
          "West Gear",
          "West Gear",
          "West Gear",
          "West Gear",
          "West Gear",
          "West Gear",
          "West Gear",
          "West Gear",
          "West Gear",
          "West Gear",
          "West Gear",
          "West Gear",
          "West Gear",
          "West Gear",
          "West Gear",
          "West Gear",
          "West Gear",
          "West Gear",
          "West Gear",
          "West Gear",
          "West Gear",
          "West Gear",
          "West Gear",
          "West Gear",
          "West Gear",
          "West Gear",
          "West Gear",
          "West Gear",
          "West Gear",
          "West Gear",
          "West Gear",
          "West Gear",
          "West Gear",
          "West Gear",
          "West Gear",
          "West Gear",
          "West Gear",
          "West Gear",
          "West Gear",
          "West Gear",
          "West Gear",
          "West Gear",
          "West Gear",
          "West Gear",
          "West Gear",
          "West Gear",
          "West Gear",
          "West Gear",
          "West Gear",
          "West Gear",
          "West Gear",
          "West Gear",
          "West Gear",
          "West Gear",
          "West Gear",
          "West Gear",
          "West Gear",
          "West Gear",
          "West Gear",
          "West Gear",
          "West Gear",
          "West Gear",
          "West Gear",
          "West Gear",
          "West Gear",
          "West Gear",
          "West Gear",
          "West Gear",
          "West Gear",
          "West Gear",
          "West Gear",
          "West Gear",
          "West Gear",
          "West Gear",
          "West Gear",
          "West Gear",
          "West Gear",
          "West Gear",
          "West Gear",
          "West Gear",
          "West Gear",
          "West Gear",
          "West Gear",
          "West Gear",
          "West Gear",
          "West Gear",
          "West Gear",
          "West Gear",
          "West Gear",
          "West Gear",
          "West Gear",
          "West Gear",
          "West Gear",
          "West Gear",
          "West Gear",
          "West Gear",
          "West Gear",
          "West Gear",
          "West Gear",
          "West Gear",
          "West Gear",
          "West Gear",
          "West Gear",
          "West Gear",
          "West Gear",
          "West Gear",
          "West Gear",
          "West Gear",
          "West Gear",
          "West Gear",
          "West Gear",
          "West Gear",
          "West Gear",
          "West Gear",
          "West Gear",
          "West Gear",
          "West Gear",
          "West Gear",
          "West Gear",
          "West Gear",
          "West Gear",
          "West Gear",
          "West Gear",
          "West Gear",
          "West Gear",
          "West Gear",
          "West Gear",
          "West Gear",
          "West Gear",
          "West Gear",
          "West Gear",
          "West Gear",
          "West Gear",
          "West Gear",
          "West Gear",
          "West Gear",
          "West Gear",
          "West Gear",
          "West Gear",
          "West Gear",
          "West Gear",
          "West Gear",
          "West Gear",
          "West Gear",
          "West Gear",
          "West Gear",
          "West Gear",
          "West Gear",
          "West Gear",
          "West Gear",
          "West Gear",
          "West Gear",
          "West Gear",
          "West Gear",
          "West Gear",
          "West Gear",
          "West Gear",
          "West Gear",
          "West Gear",
          "West Gear",
          "West Gear",
          "West Gear",
          "West Gear",
          "West Gear",
          "West Gear",
          "West Gear",
          "West Gear",
          "West Gear",
          "West Gear",
          "West Gear",
          "West Gear",
          "West Gear",
          "West Gear",
          "West Gear",
          "West Gear",
          "Foot Locker",
          "Foot Locker",
          "Foot Locker",
          "Foot Locker",
          "Foot Locker",
          "Foot Locker",
          "Foot Locker",
          "Foot Locker",
          "Foot Locker",
          "West Gear",
          "Foot Locker",
          "Foot Locker",
          "Foot Locker",
          "Foot Locker",
          "Foot Locker",
          "Foot Locker",
          "Foot Locker",
          "Foot Locker",
          "Foot Locker",
          "Foot Locker",
          "West Gear",
          "West Gear",
          "West Gear",
          "West Gear",
          "West Gear",
          "West Gear",
          "West Gear",
          "West Gear",
          "West Gear",
          "West Gear",
          "West Gear",
          "West Gear",
          "West Gear",
          "West Gear",
          "West Gear",
          "West Gear",
          "West Gear",
          "West Gear",
          "West Gear",
          "West Gear",
          "West Gear",
          "West Gear",
          "West Gear",
          "West Gear",
          "West Gear",
          "Foot Locker",
          "Foot Locker",
          "Foot Locker",
          "Foot Locker",
          "Foot Locker",
          "Sports Direct",
          "Sports Direct",
          "Sports Direct",
          "Sports Direct",
          "Sports Direct",
          "Sports Direct",
          "Sports Direct",
          "Sports Direct",
          "Sports Direct",
          "Sports Direct",
          "Sports Direct",
          "Sports Direct",
          "Sports Direct",
          "Sports Direct",
          "Sports Direct",
          "Sports Direct",
          "Sports Direct",
          "Sports Direct",
          "Sports Direct",
          "Sports Direct",
          "Foot Locker",
          "Foot Locker",
          "Foot Locker",
          "Foot Locker",
          "Foot Locker",
          "Foot Locker",
          "Foot Locker",
          "Foot Locker",
          "Foot Locker",
          "Foot Locker",
          "Foot Locker",
          "Foot Locker",
          "Foot Locker",
          "Foot Locker",
          "Foot Locker",
          "Foot Locker",
          "Foot Locker",
          "Foot Locker",
          "Foot Locker",
          "Foot Locker",
          "Foot Locker",
          "Foot Locker",
          "Foot Locker",
          "Foot Locker",
          "Foot Locker",
          "Foot Locker",
          "Foot Locker",
          "Foot Locker",
          "Foot Locker",
          "Foot Locker",
          "Foot Locker",
          "Foot Locker",
          "Foot Locker",
          "Foot Locker",
          "Foot Locker",
          "Foot Locker",
          "Foot Locker",
          "Foot Locker",
          "Foot Locker",
          "Foot Locker",
          "Foot Locker",
          "Foot Locker",
          "Foot Locker",
          "Foot Locker",
          "Foot Locker",
          "Foot Locker",
          "Foot Locker",
          "Foot Locker",
          "Foot Locker",
          "Foot Locker",
          "Foot Locker",
          "Foot Locker",
          "Foot Locker",
          "Foot Locker",
          "Foot Locker",
          "Foot Locker",
          "Foot Locker",
          "Foot Locker",
          "Foot Locker",
          "Foot Locker",
          "Foot Locker",
          "Foot Locker",
          "Foot Locker",
          "Foot Locker",
          "Foot Locker",
          "Foot Locker",
          "Foot Locker",
          "Foot Locker",
          "Foot Locker",
          "Foot Locker",
          "Foot Locker",
          "Foot Locker",
          "Foot Locker",
          "Foot Locker",
          "Kohl's",
          "Kohl's",
          "Kohl's",
          "Kohl's",
          "Kohl's",
          "Kohl's",
          "Kohl's",
          "Kohl's",
          "Kohl's",
          "Kohl's",
          "Kohl's",
          "Kohl's",
          "Kohl's",
          "Kohl's",
          "Kohl's",
          "Kohl's",
          "Kohl's",
          "Kohl's",
          "Kohl's",
          "Kohl's",
          "Kohl's",
          "Kohl's",
          "Kohl's",
          "Kohl's",
          "Kohl's",
          "Kohl's",
          "Kohl's",
          "Kohl's",
          "Kohl's",
          "Kohl's",
          "Kohl's",
          "Kohl's",
          "Kohl's",
          "Kohl's",
          "Kohl's",
          "Kohl's",
          "Kohl's",
          "Kohl's",
          "Kohl's",
          "Kohl's",
          "Kohl's",
          "Kohl's",
          "Kohl's",
          "Kohl's",
          "Kohl's",
          "Kohl's",
          "Kohl's",
          "Kohl's",
          "Kohl's",
          "Kohl's",
          "Kohl's",
          "Kohl's",
          "Kohl's",
          "Kohl's",
          "Kohl's",
          "Kohl's",
          "Kohl's",
          "Kohl's",
          "Kohl's",
          "Kohl's",
          "Kohl's",
          "Kohl's",
          "Kohl's",
          "Kohl's",
          "Kohl's",
          "Kohl's",
          "Kohl's",
          "Kohl's",
          "Kohl's",
          "Kohl's",
          "Kohl's",
          "Kohl's",
          "Sports Direct",
          "Sports Direct",
          "Sports Direct",
          "Sports Direct",
          "Sports Direct",
          "Sports Direct",
          "Sports Direct",
          "Sports Direct",
          "Sports Direct",
          "Sports Direct",
          "Sports Direct",
          "Sports Direct",
          "Sports Direct",
          "Sports Direct",
          "Sports Direct",
          "Sports Direct",
          "Sports Direct",
          "Sports Direct",
          "Sports Direct",
          "Sports Direct",
          "Sports Direct",
          "Sports Direct",
          "Sports Direct",
          "Sports Direct",
          "Sports Direct",
          "Sports Direct",
          "Sports Direct",
          "Sports Direct",
          "Sports Direct",
          "Sports Direct",
          "Sports Direct",
          "Sports Direct",
          "Sports Direct",
          "Sports Direct",
          "Sports Direct",
          "Sports Direct",
          "Sports Direct",
          "Sports Direct",
          "Sports Direct",
          "Sports Direct",
          "Sports Direct",
          "Sports Direct",
          "Sports Direct",
          "Sports Direct",
          "Sports Direct",
          "Sports Direct",
          "Sports Direct",
          "Sports Direct",
          "Sports Direct",
          "Sports Direct",
          "Sports Direct",
          "Sports Direct",
          "Sports Direct",
          "Sports Direct",
          "Sports Direct",
          "Sports Direct",
          "Sports Direct",
          "Sports Direct",
          "Sports Direct",
          "Sports Direct",
          "Sports Direct",
          "Sports Direct",
          "Sports Direct",
          "Sports Direct",
          "Sports Direct",
          "Sports Direct",
          "Sports Direct",
          "Sports Direct",
          "Sports Direct",
          "Sports Direct",
          "Sports Direct",
          "Sports Direct",
          "Foot Locker",
          "Foot Locker",
          "Foot Locker",
          "Foot Locker",
          "Foot Locker",
          "Foot Locker",
          "Foot Locker",
          "Foot Locker",
          "Foot Locker",
          "Foot Locker",
          "Foot Locker",
          "Foot Locker",
          "Foot Locker",
          "Foot Locker",
          "Foot Locker",
          "Foot Locker",
          "Foot Locker",
          "Foot Locker",
          "Foot Locker",
          "Foot Locker",
          "Foot Locker",
          "Foot Locker",
          "Foot Locker",
          "Foot Locker",
          "Foot Locker",
          "Foot Locker",
          "Foot Locker",
          "Foot Locker",
          "Foot Locker",
          "Foot Locker",
          "Foot Locker",
          "Foot Locker",
          "Foot Locker",
          "Foot Locker",
          "Foot Locker",
          "Foot Locker",
          "Foot Locker",
          "Foot Locker",
          "Foot Locker",
          "Foot Locker",
          "Foot Locker",
          "Foot Locker",
          "Foot Locker",
          "Foot Locker",
          "Foot Locker",
          "Foot Locker",
          "Foot Locker",
          "Foot Locker",
          "Foot Locker",
          "Foot Locker",
          "Foot Locker",
          "Foot Locker",
          "Foot Locker",
          "Foot Locker",
          "Foot Locker",
          "Foot Locker",
          "Foot Locker",
          "Foot Locker",
          "Foot Locker",
          "Foot Locker",
          "Foot Locker",
          "Foot Locker",
          "Foot Locker",
          "Foot Locker",
          "Foot Locker",
          "Foot Locker",
          "Foot Locker",
          "Foot Locker",
          "Foot Locker",
          "Foot Locker",
          "Foot Locker",
          "Foot Locker",
          "Sports Direct",
          "Sports Direct",
          "Sports Direct",
          "Sports Direct",
          "Sports Direct",
          "Sports Direct",
          "Sports Direct",
          "Sports Direct",
          "Sports Direct",
          "Sports Direct",
          "Sports Direct",
          "Sports Direct",
          "Sports Direct",
          "Sports Direct",
          "Sports Direct",
          "Sports Direct",
          "Sports Direct",
          "Sports Direct",
          "Sports Direct",
          "Sports Direct",
          "Sports Direct",
          "Sports Direct",
          "Sports Direct",
          "Sports Direct",
          "Sports Direct",
          "Sports Direct",
          "Sports Direct",
          "Sports Direct",
          "Sports Direct",
          "Sports Direct",
          "Sports Direct",
          "Sports Direct",
          "Sports Direct",
          "Sports Direct",
          "Sports Direct",
          "Sports Direct",
          "Sports Direct",
          "Sports Direct",
          "Sports Direct",
          "Sports Direct",
          "Sports Direct",
          "Sports Direct",
          "Sports Direct",
          "Sports Direct",
          "Sports Direct",
          "Sports Direct",
          "Sports Direct",
          "Sports Direct",
          "Sports Direct",
          "Sports Direct",
          "Sports Direct",
          "Sports Direct",
          "Sports Direct",
          "Sports Direct",
          "Sports Direct",
          "Sports Direct",
          "Sports Direct",
          "Sports Direct",
          "Sports Direct",
          "Sports Direct",
          "Sports Direct",
          "Sports Direct",
          "Sports Direct",
          "Sports Direct",
          "Sports Direct",
          "Sports Direct",
          "Sports Direct",
          "Sports Direct",
          "Sports Direct",
          "Sports Direct",
          "Sports Direct",
          "Sports Direct",
          "Amazon",
          "Amazon",
          "Amazon",
          "Amazon",
          "Amazon",
          "Amazon",
          "Amazon",
          "Amazon",
          "Amazon",
          "Amazon",
          "Amazon",
          "Amazon",
          "Amazon",
          "Amazon",
          "Amazon",
          "Amazon",
          "Amazon",
          "Amazon",
          "Amazon",
          "Amazon",
          "Amazon",
          "Amazon",
          "Amazon",
          "Amazon",
          "Amazon",
          "Amazon",
          "Amazon",
          "Amazon",
          "Amazon",
          "Amazon",
          "Amazon",
          "Amazon",
          "Amazon",
          "Amazon",
          "Amazon",
          "Amazon",
          "Amazon",
          "Amazon",
          "Amazon",
          "Amazon",
          "Amazon",
          "Amazon",
          "Amazon",
          "Amazon",
          "Amazon",
          "Amazon",
          "Amazon",
          "Amazon",
          "Amazon",
          "Amazon",
          "Amazon",
          "Amazon",
          "Amazon",
          "Amazon",
          "Amazon",
          "Amazon",
          "Amazon",
          "Amazon",
          "Amazon",
          "Amazon",
          "Amazon",
          "Amazon",
          "Amazon",
          "Amazon",
          "Amazon",
          "Amazon",
          "Amazon",
          "Amazon",
          "Amazon",
          "Amazon",
          "Amazon",
          "Amazon",
          "West Gear",
          "West Gear",
          "West Gear",
          "West Gear",
          "Amazon",
          "Amazon",
          "Amazon",
          "Amazon",
          "Amazon",
          "Amazon",
          "Amazon",
          "Amazon",
          "Amazon",
          "Amazon",
          "Amazon",
          "Amazon",
          "Amazon",
          "Amazon",
          "Amazon",
          "Amazon",
          "Amazon",
          "Amazon",
          "Amazon",
          "Amazon",
          "Amazon",
          "Amazon",
          "Amazon",
          "Amazon",
          "Amazon",
          "Amazon",
          "Amazon",
          "Amazon",
          "Amazon",
          "Amazon",
          "Amazon",
          "Amazon",
          "Amazon",
          "Amazon",
          "Amazon",
          "Amazon",
          "Amazon",
          "Amazon",
          "Amazon",
          "Amazon",
          "Amazon",
          "Amazon",
          "Amazon",
          "Amazon",
          "Amazon",
          "Amazon",
          "Amazon",
          "Amazon",
          "Amazon",
          "Amazon",
          "Amazon",
          "Amazon",
          "Amazon",
          "Amazon",
          "Amazon",
          "Amazon",
          "Amazon",
          "Amazon",
          "Amazon",
          "Amazon",
          "Amazon",
          "Amazon",
          "Amazon",
          "Foot Locker",
          "Foot Locker",
          "Foot Locker",
          "Foot Locker",
          "Foot Locker",
          "Foot Locker",
          "Foot Locker",
          "Foot Locker",
          "Foot Locker",
          "Foot Locker",
          "Foot Locker",
          "Foot Locker",
          "Foot Locker",
          "Foot Locker",
          "Foot Locker",
          "Foot Locker",
          "Foot Locker",
          "Foot Locker",
          "Foot Locker",
          "Foot Locker",
          "Foot Locker",
          "Foot Locker",
          "Foot Locker",
          "Foot Locker",
          "Foot Locker",
          "Foot Locker",
          "Foot Locker",
          "Foot Locker",
          "Foot Locker",
          "Foot Locker",
          "Foot Locker",
          "Foot Locker",
          "Foot Locker",
          "Foot Locker",
          "Foot Locker",
          "Foot Locker",
          "Foot Locker",
          "Foot Locker",
          "Foot Locker",
          "Foot Locker",
          "Foot Locker",
          "Foot Locker",
          "Foot Locker",
          "Foot Locker",
          "Foot Locker",
          "Foot Locker",
          "Walmart",
          "Walmart",
          "Walmart",
          "Walmart",
          "Walmart",
          "Walmart",
          "Walmart",
          "Walmart",
          "Walmart",
          "Walmart",
          "Walmart",
          "Walmart",
          "Walmart",
          "Walmart",
          "Walmart",
          "Walmart",
          "Walmart",
          "Walmart",
          "Walmart",
          "Walmart",
          "Walmart",
          "Walmart",
          "Sports Direct",
          "Sports Direct",
          "Sports Direct",
          "Sports Direct",
          "Sports Direct",
          "Sports Direct",
          "Sports Direct",
          "Sports Direct",
          "Sports Direct",
          "Sports Direct",
          "Sports Direct",
          "Sports Direct",
          "Sports Direct",
          "Sports Direct",
          "Sports Direct",
          "Sports Direct",
          "Sports Direct",
          "Sports Direct",
          "Sports Direct",
          "Sports Direct",
          "Sports Direct",
          "Sports Direct",
          "Walmart",
          "Walmart",
          "Walmart",
          "Walmart",
          "Walmart",
          "Walmart",
          "Walmart",
          "Walmart",
          "Walmart",
          "Walmart",
          "Walmart",
          "Walmart",
          "Walmart",
          "Walmart",
          "Walmart",
          "Walmart",
          "Walmart",
          "Walmart",
          "Walmart",
          "Walmart",
          "Walmart",
          "Walmart",
          "Walmart",
          "Walmart",
          "Walmart",
          "Walmart",
          "Walmart",
          "Walmart",
          "Walmart",
          "Walmart",
          "Walmart",
          "Walmart",
          "Walmart",
          "Walmart",
          "Walmart",
          "Walmart",
          "Walmart",
          "Walmart",
          "Walmart",
          "Walmart",
          "Walmart",
          "Walmart",
          "Walmart",
          "Walmart",
          "Walmart",
          "Walmart",
          "Walmart",
          "Walmart",
          "Walmart",
          "Walmart",
          "West Gear",
          "West Gear",
          "West Gear",
          "West Gear",
          "West Gear",
          "West Gear",
          "West Gear",
          "West Gear",
          "West Gear",
          "West Gear",
          "West Gear",
          "West Gear",
          "West Gear",
          "West Gear",
          "West Gear",
          "West Gear",
          "West Gear",
          "West Gear",
          "West Gear",
          "West Gear",
          "West Gear",
          "West Gear",
          "West Gear",
          "West Gear",
          "West Gear",
          "West Gear",
          "West Gear",
          "West Gear",
          "West Gear",
          "West Gear",
          "West Gear",
          "West Gear",
          "West Gear",
          "West Gear",
          "West Gear",
          "West Gear",
          "West Gear",
          "West Gear",
          "West Gear",
          "West Gear",
          "West Gear",
          "West Gear",
          "West Gear",
          "West Gear",
          "West Gear",
          "West Gear",
          "West Gear",
          "West Gear",
          "West Gear",
          "West Gear",
          "West Gear",
          "West Gear",
          "West Gear",
          "West Gear",
          "West Gear",
          "West Gear",
          "West Gear",
          "West Gear",
          "West Gear",
          "West Gear",
          "West Gear",
          "West Gear",
          "West Gear",
          "West Gear",
          "West Gear",
          "West Gear",
          "West Gear",
          "West Gear",
          "West Gear",
          "West Gear",
          "West Gear",
          "West Gear",
          "Kohl's",
          "Kohl's",
          "Kohl's",
          "Kohl's",
          "Kohl's",
          "Kohl's",
          "Kohl's",
          "Kohl's",
          "Kohl's",
          "Kohl's",
          "Kohl's",
          "Kohl's",
          "Kohl's",
          "Kohl's",
          "Kohl's",
          "Kohl's",
          "Kohl's",
          "Kohl's",
          "Kohl's",
          "Kohl's",
          "Kohl's",
          "Kohl's",
          "Kohl's",
          "Kohl's",
          "Kohl's",
          "Kohl's",
          "Kohl's",
          "Kohl's",
          "Kohl's",
          "Kohl's",
          "Kohl's",
          "Kohl's",
          "Kohl's",
          "Kohl's",
          "Kohl's",
          "Kohl's",
          "Kohl's",
          "Kohl's",
          "Kohl's",
          "Kohl's",
          "Kohl's",
          "Kohl's",
          "Kohl's",
          "Kohl's",
          "Kohl's",
          "Kohl's",
          "Kohl's",
          "Kohl's",
          "Kohl's",
          "Kohl's",
          "Kohl's",
          "Kohl's",
          "Kohl's",
          "Kohl's",
          "Kohl's",
          "Kohl's",
          "Kohl's",
          "Kohl's",
          "Kohl's",
          "Kohl's",
          "Kohl's",
          "Kohl's",
          "Kohl's",
          "Kohl's",
          "Kohl's",
          "Kohl's",
          "Kohl's",
          "Kohl's",
          "Kohl's",
          "Kohl's",
          "Kohl's",
          "Kohl's",
          "Foot Locker",
          "Foot Locker",
          "Foot Locker",
          "Foot Locker",
          "Foot Locker",
          "Foot Locker",
          "Foot Locker",
          "Foot Locker",
          "Foot Locker",
          "Foot Locker",
          "Foot Locker",
          "Foot Locker",
          "Foot Locker",
          "Foot Locker",
          "Foot Locker",
          "Foot Locker",
          "Foot Locker",
          "Foot Locker",
          "Foot Locker",
          "Foot Locker",
          "Foot Locker",
          "Foot Locker",
          "Foot Locker",
          "Foot Locker",
          "Foot Locker",
          "Foot Locker",
          "Foot Locker",
          "Foot Locker",
          "Foot Locker",
          "Foot Locker",
          "Foot Locker",
          "Foot Locker",
          "Foot Locker",
          "Foot Locker",
          "Foot Locker",
          "Foot Locker",
          "Foot Locker",
          "Foot Locker",
          "Foot Locker",
          "Foot Locker",
          "Foot Locker",
          "Foot Locker",
          "Foot Locker",
          "Foot Locker",
          "Foot Locker",
          "Foot Locker",
          "Foot Locker",
          "Foot Locker",
          "Foot Locker",
          "Foot Locker",
          "Foot Locker",
          "Foot Locker",
          "Foot Locker",
          "Foot Locker",
          "Foot Locker",
          "Foot Locker",
          "Foot Locker",
          "Foot Locker",
          "Foot Locker",
          "Foot Locker",
          "Foot Locker",
          "Foot Locker",
          "Foot Locker",
          "Foot Locker",
          "Foot Locker",
          "Foot Locker",
          "Foot Locker",
          "Foot Locker",
          "Foot Locker",
          "Foot Locker",
          "Foot Locker",
          "Foot Locker",
          "Sports Direct",
          "Sports Direct",
          "Sports Direct",
          "Sports Direct",
          "Sports Direct",
          "Sports Direct",
          "Sports Direct",
          "Sports Direct",
          "Sports Direct",
          "Sports Direct",
          "Sports Direct",
          "Sports Direct",
          "Sports Direct",
          "Sports Direct",
          "Sports Direct",
          "Sports Direct",
          "Sports Direct",
          "Sports Direct",
          "Sports Direct",
          "Sports Direct",
          "Sports Direct",
          "Sports Direct",
          "Sports Direct",
          "Sports Direct",
          "Sports Direct",
          "Sports Direct",
          "Sports Direct",
          "Sports Direct",
          "Sports Direct",
          "Sports Direct",
          "Sports Direct",
          "Sports Direct",
          "Sports Direct",
          "Sports Direct",
          "Sports Direct",
          "Sports Direct",
          "Sports Direct",
          "Sports Direct",
          "Sports Direct",
          "Sports Direct",
          "Sports Direct",
          "Sports Direct",
          "Sports Direct",
          "Sports Direct",
          "Sports Direct",
          "Sports Direct",
          "Sports Direct",
          "Sports Direct",
          "Sports Direct",
          "Sports Direct",
          "Sports Direct",
          "Sports Direct",
          "Sports Direct",
          "Sports Direct",
          "Sports Direct",
          "Sports Direct",
          "Sports Direct",
          "Sports Direct",
          "Sports Direct",
          "Sports Direct",
          "Sports Direct",
          "Sports Direct",
          "Sports Direct",
          "Sports Direct",
          "Sports Direct",
          "Sports Direct",
          "Sports Direct",
          "Sports Direct",
          "Sports Direct",
          "Sports Direct",
          "Sports Direct",
          "Sports Direct",
          "Foot Locker",
          "Foot Locker",
          "Foot Locker",
          "Foot Locker",
          "Foot Locker",
          "Foot Locker",
          "Foot Locker",
          "Foot Locker",
          "Foot Locker",
          "Foot Locker",
          "Foot Locker",
          "Foot Locker",
          "Foot Locker",
          "Foot Locker",
          "Foot Locker",
          "Foot Locker",
          "Foot Locker",
          "Foot Locker",
          "Foot Locker",
          "Foot Locker",
          "Foot Locker",
          "Foot Locker",
          "Foot Locker",
          "Foot Locker",
          "Foot Locker",
          "Foot Locker",
          "Foot Locker",
          "Foot Locker",
          "Foot Locker",
          "Foot Locker",
          "Foot Locker",
          "Foot Locker",
          "Foot Locker",
          "Foot Locker",
          "Foot Locker",
          "Foot Locker",
          "Foot Locker",
          "Foot Locker",
          "Foot Locker",
          "Foot Locker",
          "Foot Locker",
          "Foot Locker",
          "Foot Locker",
          "Foot Locker",
          "Foot Locker",
          "Foot Locker",
          "Foot Locker",
          "Foot Locker",
          "Foot Locker",
          "Foot Locker",
          "Foot Locker",
          "Foot Locker",
          "Foot Locker",
          "Foot Locker",
          "Foot Locker",
          "Foot Locker",
          "Foot Locker",
          "Foot Locker",
          "Foot Locker",
          "Foot Locker",
          "Foot Locker",
          "Foot Locker",
          "Foot Locker",
          "Foot Locker",
          "Foot Locker",
          "Foot Locker",
          "Foot Locker",
          "Foot Locker",
          "Foot Locker",
          "Foot Locker",
          "Foot Locker",
          "Foot Locker",
          "West Gear",
          "West Gear",
          "West Gear",
          "West Gear",
          "West Gear",
          "West Gear",
          "West Gear",
          "West Gear",
          "West Gear",
          "West Gear",
          "West Gear",
          "West Gear",
          "West Gear",
          "West Gear",
          "West Gear",
          "West Gear",
          "West Gear",
          "West Gear",
          "West Gear",
          "West Gear",
          "West Gear",
          "West Gear",
          "West Gear",
          "West Gear",
          "West Gear",
          "West Gear",
          "West Gear",
          "West Gear",
          "West Gear",
          "West Gear",
          "West Gear",
          "West Gear",
          "West Gear",
          "West Gear",
          "West Gear",
          "West Gear",
          "West Gear",
          "West Gear",
          "West Gear",
          "West Gear",
          "West Gear",
          "West Gear",
          "West Gear",
          "West Gear",
          "West Gear",
          "West Gear",
          "West Gear",
          "West Gear",
          "West Gear",
          "West Gear",
          "West Gear",
          "West Gear",
          "West Gear",
          "West Gear",
          "West Gear",
          "West Gear",
          "West Gear",
          "West Gear",
          "West Gear",
          "West Gear",
          "West Gear",
          "West Gear",
          "West Gear",
          "West Gear",
          "West Gear",
          "West Gear",
          "West Gear",
          "West Gear",
          "West Gear",
          "West Gear",
          "West Gear",
          "West Gear",
          "West Gear",
          "West Gear",
          "West Gear",
          "West Gear",
          "West Gear",
          "West Gear",
          "West Gear",
          "West Gear",
          "West Gear",
          "West Gear",
          "West Gear",
          "West Gear",
          "West Gear",
          "West Gear",
          "West Gear",
          "West Gear",
          "West Gear",
          "West Gear",
          "West Gear",
          "West Gear",
          "West Gear",
          "West Gear",
          "West Gear",
          "West Gear",
          "West Gear",
          "West Gear",
          "West Gear",
          "West Gear",
          "West Gear",
          "West Gear",
          "West Gear",
          "West Gear",
          "West Gear",
          "West Gear",
          "West Gear",
          "West Gear",
          "West Gear",
          "West Gear",
          "West Gear",
          "West Gear",
          "West Gear",
          "West Gear",
          "West Gear",
          "West Gear",
          "West Gear",
          "West Gear",
          "West Gear",
          "West Gear",
          "West Gear",
          "West Gear",
          "West Gear",
          "West Gear",
          "West Gear",
          "West Gear",
          "West Gear",
          "West Gear",
          "West Gear",
          "West Gear",
          "West Gear",
          "West Gear",
          "West Gear",
          "West Gear",
          "West Gear",
          "West Gear",
          "West Gear",
          "West Gear",
          "West Gear",
          "West Gear",
          "West Gear",
          "West Gear",
          "West Gear",
          "West Gear",
          "West Gear",
          "West Gear",
          "West Gear",
          "West Gear",
          "West Gear",
          "West Gear",
          "West Gear",
          "West Gear",
          "West Gear",
          "West Gear",
          "West Gear",
          "West Gear",
          "West Gear",
          "West Gear",
          "West Gear",
          "West Gear",
          "West Gear",
          "West Gear",
          "West Gear",
          "West Gear",
          "West Gear",
          "West Gear",
          "West Gear",
          "West Gear",
          "West Gear",
          "West Gear",
          "West Gear",
          "West Gear",
          "West Gear",
          "West Gear",
          "West Gear",
          "West Gear",
          "West Gear",
          "West Gear",
          "West Gear",
          "West Gear",
          "West Gear",
          "West Gear",
          "West Gear",
          "West Gear",
          "West Gear",
          "West Gear",
          "West Gear",
          "West Gear",
          "West Gear",
          "West Gear",
          "West Gear",
          "West Gear",
          "West Gear",
          "West Gear",
          "West Gear",
          "West Gear",
          "West Gear",
          "West Gear",
          "West Gear",
          "West Gear",
          "West Gear",
          "West Gear",
          "West Gear",
          "West Gear",
          "West Gear",
          "West Gear",
          "West Gear",
          "West Gear",
          "West Gear",
          "West Gear",
          "West Gear",
          "West Gear",
          "West Gear",
          "West Gear",
          "West Gear",
          "West Gear",
          "Foot Locker",
          "Foot Locker",
          "Foot Locker",
          "Foot Locker",
          "Foot Locker",
          "Foot Locker",
          "Foot Locker",
          "Foot Locker",
          "Foot Locker",
          "West Gear",
          "Foot Locker",
          "Foot Locker",
          "Foot Locker",
          "Foot Locker",
          "Foot Locker",
          "Foot Locker",
          "Foot Locker",
          "Foot Locker",
          "Foot Locker",
          "Foot Locker",
          "West Gear",
          "West Gear",
          "West Gear",
          "West Gear",
          "West Gear",
          "West Gear",
          "West Gear",
          "West Gear",
          "West Gear",
          "West Gear",
          "West Gear",
          "West Gear",
          "West Gear",
          "West Gear",
          "West Gear",
          "West Gear",
          "West Gear",
          "West Gear",
          "West Gear",
          "West Gear",
          "West Gear",
          "West Gear",
          "West Gear",
          "West Gear",
          "West Gear",
          "Foot Locker",
          "Foot Locker",
          "Foot Locker",
          "Foot Locker",
          "Foot Locker",
          "Sports Direct",
          "Sports Direct",
          "Sports Direct",
          "Sports Direct",
          "Sports Direct",
          "Sports Direct",
          "Sports Direct",
          "Sports Direct",
          "Sports Direct",
          "Sports Direct",
          "Sports Direct",
          "Sports Direct",
          "Sports Direct",
          "Sports Direct",
          "Sports Direct",
          "Sports Direct",
          "Sports Direct",
          "Sports Direct",
          "Sports Direct",
          "Sports Direct",
          "Foot Locker",
          "Foot Locker",
          "Foot Locker",
          "Foot Locker",
          "Foot Locker",
          "Foot Locker",
          "Foot Locker",
          "Foot Locker",
          "Foot Locker",
          "Foot Locker",
          "Foot Locker",
          "Foot Locker",
          "Foot Locker",
          "Foot Locker",
          "Foot Locker",
          "Foot Locker",
          "Foot Locker",
          "Foot Locker",
          "Foot Locker",
          "Foot Locker",
          "Foot Locker",
          "Foot Locker",
          "Foot Locker",
          "Foot Locker",
          "Foot Locker",
          "Foot Locker",
          "Foot Locker",
          "Foot Locker",
          "Foot Locker",
          "Foot Locker",
          "Foot Locker",
          "Foot Locker",
          "Foot Locker",
          "Foot Locker",
          "Foot Locker",
          "Foot Locker",
          "Foot Locker",
          "Foot Locker",
          "Foot Locker",
          "Foot Locker",
          "Foot Locker",
          "Foot Locker",
          "Foot Locker",
          "Foot Locker",
          "Foot Locker",
          "Foot Locker",
          "Foot Locker",
          "Foot Locker",
          "Foot Locker",
          "Foot Locker",
          "Foot Locker",
          "Foot Locker",
          "Foot Locker",
          "Foot Locker",
          "Foot Locker",
          "Foot Locker",
          "Foot Locker",
          "Foot Locker",
          "Foot Locker",
          "Foot Locker",
          "Foot Locker",
          "Foot Locker",
          "Foot Locker",
          "Foot Locker",
          "Foot Locker",
          "Foot Locker",
          "Foot Locker",
          "Foot Locker",
          "Foot Locker",
          "Foot Locker",
          "Foot Locker",
          "Foot Locker",
          "Foot Locker",
          "Foot Locker",
          "Kohl's",
          "Kohl's",
          "Kohl's",
          "Kohl's",
          "Kohl's",
          "Kohl's",
          "Kohl's",
          "Kohl's",
          "Kohl's",
          "Kohl's",
          "Kohl's",
          "Kohl's",
          "Kohl's",
          "Kohl's",
          "Kohl's",
          "Kohl's",
          "Kohl's",
          "Kohl's",
          "Kohl's",
          "Kohl's",
          "Kohl's",
          "Kohl's",
          "Kohl's",
          "Kohl's",
          "Kohl's",
          "Kohl's",
          "Kohl's",
          "Kohl's",
          "Kohl's",
          "Kohl's",
          "Kohl's",
          "Kohl's",
          "Kohl's",
          "Kohl's",
          "Kohl's",
          "Kohl's",
          "Kohl's",
          "Kohl's",
          "Kohl's",
          "Kohl's",
          "Kohl's",
          "Kohl's",
          "Kohl's",
          "Kohl's",
          "Kohl's",
          "Kohl's",
          "Kohl's",
          "Kohl's",
          "Kohl's",
          "Kohl's",
          "Kohl's",
          "Kohl's",
          "Kohl's",
          "Kohl's",
          "Kohl's",
          "Kohl's",
          "Kohl's",
          "Kohl's",
          "Kohl's",
          "Kohl's",
          "Kohl's",
          "Kohl's",
          "Kohl's",
          "Kohl's",
          "Kohl's",
          "Kohl's",
          "Kohl's",
          "Kohl's",
          "Kohl's",
          "Kohl's",
          "Kohl's",
          "Kohl's",
          "Sports Direct",
          "Sports Direct",
          "Sports Direct",
          "Sports Direct",
          "Sports Direct",
          "Sports Direct",
          "Sports Direct",
          "Sports Direct",
          "Sports Direct",
          "Sports Direct",
          "Sports Direct",
          "Sports Direct",
          "Sports Direct",
          "Sports Direct",
          "Sports Direct",
          "Sports Direct",
          "Sports Direct",
          "Sports Direct",
          "Sports Direct",
          "Sports Direct",
          "Sports Direct",
          "Sports Direct",
          "Sports Direct",
          "Sports Direct",
          "Sports Direct",
          "Sports Direct",
          "Sports Direct",
          "Sports Direct",
          "Sports Direct",
          "Sports Direct",
          "Sports Direct",
          "Sports Direct",
          "Sports Direct",
          "Sports Direct",
          "Sports Direct",
          "Sports Direct",
          "Sports Direct",
          "Sports Direct",
          "Sports Direct",
          "Sports Direct",
          "Sports Direct",
          "Sports Direct",
          "Sports Direct",
          "Sports Direct",
          "Sports Direct",
          "Sports Direct",
          "Sports Direct",
          "Sports Direct",
          "Sports Direct",
          "Sports Direct",
          "Sports Direct",
          "Sports Direct",
          "Sports Direct",
          "Sports Direct",
          "Sports Direct",
          "Sports Direct",
          "Sports Direct",
          "Sports Direct",
          "Sports Direct",
          "Sports Direct",
          "Sports Direct",
          "Sports Direct",
          "Sports Direct",
          "Sports Direct",
          "Sports Direct",
          "Sports Direct",
          "Sports Direct",
          "Sports Direct",
          "Sports Direct",
          "Sports Direct",
          "Sports Direct",
          "Sports Direct",
          "Foot Locker",
          "Foot Locker",
          "Foot Locker",
          "Foot Locker",
          "Foot Locker",
          "Foot Locker",
          "Foot Locker",
          "Foot Locker",
          "Foot Locker",
          "Foot Locker",
          "Foot Locker",
          "Foot Locker",
          "Foot Locker",
          "Foot Locker",
          "Foot Locker",
          "Foot Locker",
          "Foot Locker",
          "Foot Locker",
          "Foot Locker",
          "Foot Locker",
          "Foot Locker",
          "Foot Locker",
          "Foot Locker",
          "Foot Locker",
          "Foot Locker",
          "Foot Locker",
          "Foot Locker",
          "Foot Locker",
          "Foot Locker",
          "Foot Locker",
          "Foot Locker",
          "Foot Locker",
          "Foot Locker",
          "Foot Locker",
          "Foot Locker",
          "Foot Locker",
          "Foot Locker",
          "Foot Locker",
          "Foot Locker",
          "Foot Locker",
          "Foot Locker",
          "Foot Locker",
          "Foot Locker",
          "Foot Locker",
          "Foot Locker",
          "Foot Locker",
          "Foot Locker",
          "Foot Locker",
          "Foot Locker",
          "Foot Locker",
          "Foot Locker",
          "Foot Locker",
          "Foot Locker",
          "Foot Locker",
          "Foot Locker",
          "Foot Locker",
          "Foot Locker",
          "Foot Locker",
          "Foot Locker",
          "Foot Locker",
          "Foot Locker",
          "Foot Locker",
          "Foot Locker",
          "Foot Locker",
          "Foot Locker",
          "Foot Locker",
          "Foot Locker",
          "Foot Locker",
          "Foot Locker",
          "Foot Locker",
          "Foot Locker",
          "Foot Locker",
          "Sports Direct",
          "Sports Direct",
          "Sports Direct",
          "Sports Direct",
          "Sports Direct",
          "Sports Direct",
          "Sports Direct",
          "Sports Direct",
          "Sports Direct",
          "Sports Direct",
          "Sports Direct",
          "Sports Direct",
          "Sports Direct",
          "Sports Direct",
          "Sports Direct",
          "Sports Direct",
          "Sports Direct",
          "Sports Direct",
          "Sports Direct",
          "Sports Direct",
          "Sports Direct",
          "Sports Direct",
          "Sports Direct",
          "Sports Direct",
          "Sports Direct",
          "Sports Direct",
          "Sports Direct",
          "Sports Direct",
          "Sports Direct",
          "Sports Direct",
          "Sports Direct",
          "Sports Direct",
          "Sports Direct",
          "Sports Direct",
          "Sports Direct",
          "Sports Direct",
          "Sports Direct",
          "Sports Direct",
          "Sports Direct",
          "Sports Direct",
          "Sports Direct",
          "Sports Direct",
          "Sports Direct",
          "Sports Direct",
          "Sports Direct",
          "Sports Direct",
          "Sports Direct",
          "Sports Direct",
          "Sports Direct",
          "Sports Direct",
          "Sports Direct",
          "Sports Direct",
          "Sports Direct",
          "Sports Direct",
          "Sports Direct",
          "Sports Direct",
          "Sports Direct",
          "Sports Direct",
          "Sports Direct",
          "Sports Direct",
          "Sports Direct",
          "Sports Direct",
          "Sports Direct",
          "Sports Direct",
          "Sports Direct",
          "Sports Direct",
          "Sports Direct",
          "Sports Direct",
          "Sports Direct",
          "Sports Direct",
          "Sports Direct",
          "Sports Direct",
          "Amazon",
          "Amazon",
          "Amazon",
          "Amazon",
          "Amazon",
          "Amazon",
          "Amazon",
          "Amazon",
          "Amazon",
          "Amazon",
          "Amazon",
          "Amazon",
          "Amazon",
          "Amazon",
          "Amazon",
          "Amazon",
          "Amazon",
          "Amazon",
          "Amazon",
          "Amazon",
          "Amazon",
          "Amazon",
          "Amazon",
          "Amazon",
          "Amazon",
          "Amazon",
          "Amazon",
          "Amazon",
          "Amazon",
          "Amazon",
          "Amazon",
          "Amazon",
          "Amazon",
          "Amazon",
          "Amazon",
          "Amazon",
          "Amazon",
          "Amazon",
          "Amazon",
          "Amazon",
          "Amazon",
          "Amazon",
          "Amazon",
          "Amazon",
          "Amazon",
          "Amazon",
          "Amazon",
          "Amazon",
          "Amazon",
          "Amazon",
          "Amazon",
          "Amazon",
          "Amazon",
          "Amazon",
          "Amazon",
          "Amazon",
          "Amazon",
          "Amazon",
          "Amazon",
          "Amazon",
          "Amazon",
          "Amazon",
          "Amazon",
          "Amazon",
          "Amazon",
          "Amazon",
          "Amazon",
          "Amazon",
          "Amazon",
          "Amazon",
          "Amazon",
          "Amazon",
          "West Gear",
          "West Gear",
          "West Gear",
          "West Gear",
          "Amazon",
          "Amazon",
          "Amazon",
          "Amazon",
          "Amazon",
          "Amazon",
          "Amazon",
          "Amazon",
          "Amazon",
          "Amazon",
          "Amazon",
          "Amazon",
          "Amazon",
          "Amazon",
          "Amazon",
          "Amazon",
          "Amazon",
          "Amazon",
          "Amazon",
          "Amazon",
          "Amazon",
          "Amazon",
          "Amazon",
          "Amazon",
          "Amazon",
          "Amazon",
          "Amazon",
          "Amazon",
          "Amazon",
          "Amazon",
          "Amazon",
          "Amazon",
          "Amazon",
          "Amazon",
          "Amazon",
          "Amazon",
          "Amazon",
          "Amazon",
          "Amazon",
          "Amazon",
          "Amazon",
          "Amazon",
          "Amazon",
          "Amazon",
          "Amazon",
          "Amazon",
          "Amazon",
          "Amazon",
          "Amazon",
          "Amazon",
          "Amazon",
          "Amazon",
          "Amazon",
          "Amazon",
          "Amazon",
          "Amazon",
          "Amazon",
          "Amazon",
          "Amazon",
          "Amazon",
          "Amazon",
          "Amazon",
          "Amazon",
          "Foot Locker",
          "Foot Locker",
          "Foot Locker",
          "Foot Locker",
          "Foot Locker",
          "Foot Locker",
          "Foot Locker",
          "Foot Locker",
          "Foot Locker",
          "Foot Locker",
          "Foot Locker",
          "Foot Locker",
          "Foot Locker",
          "Foot Locker",
          "Foot Locker",
          "Foot Locker",
          "Foot Locker",
          "Foot Locker",
          "Foot Locker",
          "Foot Locker",
          "Foot Locker",
          "Foot Locker",
          "Foot Locker",
          "Foot Locker",
          "Foot Locker",
          "Foot Locker",
          "Foot Locker",
          "Foot Locker",
          "Foot Locker",
          "Foot Locker",
          "Foot Locker",
          "Foot Locker",
          "Foot Locker",
          "Foot Locker",
          "Foot Locker",
          "Foot Locker",
          "Foot Locker",
          "Foot Locker",
          "Foot Locker",
          "Foot Locker",
          "Foot Locker",
          "Foot Locker",
          "Foot Locker",
          "Foot Locker",
          "Foot Locker",
          "Foot Locker",
          "Foot Locker",
          "Foot Locker",
          "Foot Locker",
          "Foot Locker",
          "Foot Locker",
          "Foot Locker",
          "Foot Locker",
          "Foot Locker",
          "Foot Locker",
          "Foot Locker",
          "Foot Locker",
          "Foot Locker",
          "Foot Locker",
          "Foot Locker",
          "Foot Locker",
          "Foot Locker",
          "Foot Locker",
          "Foot Locker",
          "Foot Locker",
          "Foot Locker",
          "Foot Locker",
          "Foot Locker",
          "Foot Locker",
          "Foot Locker",
          "Foot Locker",
          "Foot Locker",
          "Foot Locker",
          "Walmart",
          "Walmart",
          "Walmart",
          "Walmart",
          "Walmart",
          "Walmart",
          "Walmart",
          "Walmart",
          "Walmart",
          "Walmart",
          "Walmart",
          "Walmart",
          "Walmart",
          "Walmart",
          "Walmart",
          "Walmart",
          "Walmart",
          "Walmart",
          "Walmart",
          "Walmart",
          "Walmart",
          "Walmart",
          "Sports Direct",
          "Sports Direct",
          "Sports Direct",
          "Sports Direct",
          "Sports Direct",
          "Sports Direct",
          "Sports Direct",
          "Sports Direct",
          "Sports Direct",
          "Sports Direct",
          "Sports Direct",
          "Sports Direct",
          "Sports Direct",
          "Sports Direct",
          "Sports Direct",
          "Sports Direct",
          "Sports Direct",
          "Sports Direct",
          "Sports Direct",
          "Sports Direct",
          "Sports Direct",
          "Sports Direct",
          "Walmart",
          "Walmart",
          "Walmart",
          "Walmart",
          "Walmart",
          "Walmart",
          "Walmart",
          "Walmart",
          "Walmart",
          "Walmart",
          "Walmart",
          "Walmart",
          "Walmart",
          "Walmart",
          "Walmart",
          "Walmart",
          "Walmart",
          "Walmart",
          "Walmart",
          "Walmart",
          "Walmart",
          "Walmart",
          "Walmart",
          "Walmart",
          "Walmart",
          "Walmart",
          "Walmart",
          "Walmart",
          "Walmart",
          "Walmart",
          "Walmart",
          "Walmart",
          "Walmart",
          "Walmart",
          "Walmart",
          "Walmart",
          "Walmart",
          "Walmart",
          "Walmart",
          "Walmart",
          "Walmart",
          "Walmart",
          "Walmart",
          "Walmart",
          "Walmart",
          "Walmart",
          "Walmart",
          "Walmart",
          "Walmart",
          "Walmart",
          "West Gear",
          "West Gear",
          "West Gear",
          "West Gear",
          "West Gear",
          "West Gear",
          "West Gear",
          "West Gear",
          "West Gear",
          "West Gear",
          "West Gear",
          "West Gear",
          "West Gear",
          "West Gear",
          "West Gear",
          "West Gear",
          "West Gear",
          "West Gear",
          "West Gear",
          "West Gear",
          "West Gear",
          "West Gear",
          "West Gear",
          "West Gear",
          "West Gear",
          "West Gear",
          "West Gear",
          "West Gear",
          "West Gear",
          "West Gear",
          "West Gear",
          "West Gear",
          "West Gear",
          "West Gear",
          "West Gear",
          "West Gear",
          "West Gear",
          "West Gear",
          "West Gear",
          "West Gear",
          "West Gear",
          "West Gear",
          "West Gear",
          "West Gear",
          "West Gear",
          "West Gear",
          "West Gear",
          "West Gear",
          "West Gear",
          "West Gear",
          "West Gear",
          "West Gear",
          "West Gear",
          "West Gear",
          "West Gear",
          "West Gear",
          "West Gear",
          "West Gear",
          "West Gear",
          "West Gear",
          "West Gear",
          "West Gear",
          "West Gear",
          "West Gear",
          "West Gear",
          "West Gear",
          "West Gear",
          "West Gear",
          "West Gear",
          "West Gear",
          "West Gear",
          "West Gear",
          "Kohl's",
          "Kohl's",
          "Kohl's",
          "Kohl's",
          "Kohl's",
          "Kohl's",
          "Kohl's",
          "Kohl's",
          "Kohl's",
          "Kohl's",
          "Kohl's",
          "Kohl's",
          "Kohl's",
          "Kohl's",
          "Kohl's",
          "Kohl's",
          "Kohl's",
          "Kohl's",
          "Kohl's",
          "Kohl's",
          "Kohl's",
          "Kohl's",
          "Kohl's",
          "Kohl's",
          "Kohl's",
          "Kohl's",
          "Kohl's",
          "Kohl's",
          "Kohl's",
          "Kohl's",
          "Kohl's",
          "Kohl's",
          "Kohl's",
          "Kohl's",
          "Kohl's",
          "Kohl's",
          "Kohl's",
          "Kohl's",
          "Kohl's",
          "Kohl's",
          "Kohl's",
          "Kohl's",
          "Kohl's",
          "Kohl's",
          "Kohl's",
          "Kohl's",
          "Kohl's",
          "Kohl's",
          "Kohl's",
          "Kohl's",
          "Kohl's",
          "Kohl's",
          "Kohl's",
          "Kohl's",
          "Kohl's",
          "Kohl's",
          "Kohl's",
          "Kohl's",
          "Kohl's",
          "Kohl's",
          "Kohl's",
          "Kohl's",
          "Kohl's",
          "Kohl's",
          "Kohl's",
          "Kohl's",
          "Kohl's",
          "Kohl's",
          "Kohl's",
          "Kohl's",
          "Kohl's",
          "Kohl's",
          "Foot Locker",
          "Foot Locker",
          "Foot Locker",
          "Foot Locker",
          "Foot Locker",
          "Foot Locker",
          "Foot Locker",
          "Foot Locker",
          "Foot Locker",
          "Foot Locker",
          "Foot Locker",
          "Foot Locker",
          "Foot Locker",
          "Foot Locker",
          "Foot Locker",
          "Foot Locker",
          "Foot Locker",
          "Foot Locker",
          "Foot Locker",
          "Foot Locker",
          "Foot Locker",
          "Foot Locker",
          "Foot Locker",
          "Foot Locker",
          "Foot Locker",
          "Foot Locker",
          "Foot Locker",
          "Foot Locker",
          "Foot Locker",
          "Foot Locker",
          "Foot Locker",
          "Foot Locker",
          "Foot Locker",
          "Foot Locker",
          "Foot Locker",
          "Foot Locker",
          "Foot Locker",
          "Foot Locker",
          "Foot Locker",
          "Foot Locker",
          "Foot Locker",
          "Foot Locker",
          "Foot Locker",
          "Foot Locker",
          "Foot Locker",
          "Foot Locker",
          "Foot Locker",
          "Foot Locker",
          "Foot Locker",
          "Foot Locker",
          "Foot Locker",
          "Foot Locker",
          "Foot Locker",
          "Foot Locker",
          "Foot Locker",
          "Foot Locker",
          "Foot Locker",
          "Foot Locker",
          "Foot Locker",
          "Foot Locker",
          "Foot Locker",
          "Foot Locker",
          "Foot Locker",
          "Foot Locker",
          "Foot Locker",
          "Foot Locker",
          "Foot Locker",
          "Foot Locker",
          "Foot Locker",
          "Foot Locker",
          "Foot Locker",
          "Foot Locker",
          "Sports Direct",
          "Sports Direct",
          "Sports Direct",
          "Sports Direct",
          "Sports Direct",
          "Sports Direct",
          "Sports Direct",
          "Sports Direct",
          "Sports Direct",
          "Sports Direct",
          "Sports Direct",
          "Sports Direct",
          "Sports Direct",
          "Sports Direct",
          "Sports Direct",
          "Sports Direct",
          "Sports Direct",
          "Sports Direct",
          "Sports Direct",
          "Sports Direct",
          "Sports Direct",
          "Sports Direct",
          "Sports Direct",
          "Sports Direct",
          "Sports Direct",
          "Sports Direct",
          "Sports Direct",
          "Sports Direct",
          "Sports Direct",
          "Sports Direct",
          "Sports Direct",
          "Sports Direct",
          "Sports Direct",
          "Sports Direct",
          "Sports Direct",
          "Sports Direct",
          "Sports Direct",
          "Sports Direct",
          "Sports Direct",
          "Sports Direct",
          "Sports Direct",
          "Sports Direct",
          "Sports Direct",
          "Sports Direct",
          "Sports Direct",
          "Sports Direct",
          "Sports Direct",
          "Sports Direct",
          "Sports Direct",
          "Sports Direct",
          "Sports Direct",
          "Sports Direct",
          "Sports Direct",
          "Sports Direct",
          "Sports Direct",
          "Sports Direct",
          "Sports Direct",
          "Sports Direct",
          "Sports Direct",
          "Sports Direct",
          "Sports Direct",
          "Sports Direct",
          "Sports Direct",
          "Sports Direct",
          "Sports Direct",
          "Sports Direct",
          "Sports Direct",
          "Sports Direct",
          "Sports Direct",
          "Sports Direct",
          "Sports Direct",
          "Sports Direct",
          "Foot Locker",
          "Foot Locker",
          "Foot Locker",
          "Foot Locker",
          "Foot Locker",
          "Foot Locker",
          "Foot Locker",
          "Foot Locker",
          "Foot Locker",
          "Foot Locker",
          "Foot Locker",
          "Foot Locker",
          "Foot Locker",
          "Foot Locker",
          "Foot Locker",
          "Foot Locker",
          "Foot Locker",
          "Foot Locker",
          "Foot Locker",
          "Foot Locker",
          "Foot Locker",
          "Foot Locker",
          "Foot Locker",
          "Foot Locker",
          "Foot Locker",
          "Foot Locker",
          "Foot Locker",
          "Foot Locker",
          "Foot Locker",
          "Foot Locker",
          "Foot Locker",
          "Foot Locker",
          "Foot Locker",
          "Foot Locker",
          "Foot Locker",
          "Foot Locker",
          "Foot Locker",
          "Foot Locker",
          "Foot Locker",
          "Foot Locker",
          "Foot Locker",
          "Foot Locker",
          "Foot Locker",
          "Foot Locker",
          "Foot Locker",
          "Foot Locker",
          "Foot Locker",
          "Foot Locker",
          "Foot Locker",
          "Foot Locker",
          "Foot Locker",
          "Foot Locker",
          "Foot Locker",
          "Foot Locker",
          "Foot Locker",
          "Foot Locker",
          "Foot Locker",
          "Foot Locker",
          "Foot Locker",
          "Foot Locker",
          "Foot Locker",
          "Foot Locker",
          "Foot Locker",
          "Foot Locker",
          "Foot Locker",
          "Foot Locker",
          "Foot Locker",
          "Foot Locker",
          "Foot Locker",
          "Foot Locker",
          "Foot Locker",
          "Foot Locker",
          "West Gear",
          "West Gear",
          "West Gear",
          "West Gear",
          "West Gear",
          "West Gear",
          "West Gear",
          "West Gear",
          "West Gear",
          "West Gear",
          "West Gear",
          "West Gear",
          "West Gear",
          "West Gear",
          "West Gear",
          "West Gear",
          "West Gear",
          "West Gear",
          "West Gear",
          "West Gear",
          "West Gear",
          "West Gear",
          "West Gear",
          "West Gear",
          "West Gear",
          "West Gear",
          "West Gear",
          "West Gear",
          "West Gear",
          "West Gear",
          "West Gear",
          "West Gear",
          "West Gear",
          "West Gear",
          "West Gear",
          "West Gear",
          "West Gear",
          "West Gear",
          "West Gear",
          "West Gear",
          "West Gear",
          "West Gear",
          "West Gear",
          "West Gear",
          "West Gear",
          "West Gear",
          "West Gear",
          "West Gear",
          "West Gear",
          "West Gear",
          "West Gear",
          "West Gear",
          "West Gear",
          "West Gear",
          "West Gear",
          "West Gear",
          "West Gear",
          "West Gear",
          "West Gear",
          "West Gear",
          "West Gear",
          "West Gear",
          "West Gear",
          "West Gear",
          "West Gear",
          "West Gear",
          "West Gear",
          "West Gear",
          "West Gear",
          "West Gear",
          "West Gear",
          "West Gear",
          "West Gear",
          "West Gear",
          "West Gear",
          "West Gear",
          "West Gear",
          "West Gear",
          "West Gear",
          "West Gear",
          "West Gear",
          "West Gear",
          "West Gear",
          "West Gear",
          "West Gear",
          "West Gear",
          "West Gear",
          "West Gear",
          "West Gear",
          "West Gear",
          "West Gear",
          "West Gear",
          "West Gear",
          "West Gear",
          "West Gear",
          "West Gear",
          "West Gear",
          "West Gear",
          "West Gear",
          "West Gear",
          "West Gear",
          "West Gear",
          "West Gear",
          "West Gear",
          "West Gear",
          "West Gear",
          "West Gear",
          "West Gear",
          "West Gear",
          "West Gear",
          "West Gear",
          "West Gear",
          "West Gear",
          "West Gear",
          "West Gear",
          "West Gear",
          "West Gear",
          "West Gear",
          "West Gear",
          "West Gear",
          "West Gear",
          "West Gear",
          "West Gear",
          "West Gear",
          "West Gear",
          "West Gear",
          "West Gear",
          "West Gear",
          "West Gear",
          "West Gear",
          "West Gear",
          "West Gear",
          "West Gear",
          "West Gear",
          "West Gear",
          "West Gear",
          "West Gear",
          "West Gear",
          "West Gear",
          "West Gear",
          "West Gear",
          "West Gear",
          "West Gear",
          "West Gear",
          "West Gear",
          "West Gear",
          "West Gear",
          "West Gear",
          "West Gear",
          "West Gear",
          "West Gear",
          "West Gear",
          "West Gear",
          "West Gear",
          "West Gear",
          "West Gear",
          "West Gear",
          "West Gear",
          "West Gear",
          "West Gear",
          "West Gear",
          "West Gear",
          "West Gear",
          "West Gear",
          "West Gear",
          "West Gear",
          "West Gear",
          "West Gear",
          "West Gear",
          "West Gear",
          "West Gear",
          "West Gear",
          "West Gear",
          "West Gear",
          "West Gear",
          "West Gear",
          "West Gear",
          "West Gear",
          "West Gear",
          "West Gear",
          "West Gear",
          "West Gear",
          "West Gear",
          "West Gear",
          "West Gear",
          "West Gear",
          "West Gear",
          "West Gear",
          "West Gear",
          "West Gear",
          "West Gear",
          "West Gear",
          "West Gear",
          "West Gear",
          "West Gear",
          "West Gear",
          "West Gear",
          "West Gear",
          "West Gear",
          "West Gear",
          "West Gear",
          "West Gear",
          "West Gear",
          "West Gear",
          "West Gear",
          "West Gear",
          "West Gear",
          "West Gear",
          "West Gear",
          "West Gear",
          "West Gear",
          "West Gear",
          "West Gear",
          "West Gear",
          "West Gear",
          "West Gear",
          "Foot Locker",
          "Foot Locker",
          "Foot Locker",
          "Foot Locker",
          "Foot Locker",
          "Foot Locker",
          "Foot Locker",
          "Foot Locker",
          "Foot Locker",
          "West Gear",
          "Foot Locker",
          "Foot Locker",
          "Foot Locker",
          "Foot Locker",
          "Foot Locker",
          "Foot Locker",
          "Foot Locker",
          "Foot Locker",
          "Foot Locker",
          "Foot Locker",
          "West Gear",
          "West Gear",
          "West Gear",
          "West Gear",
          "West Gear",
          "West Gear",
          "West Gear",
          "West Gear",
          "West Gear",
          "West Gear",
          "West Gear",
          "West Gear",
          "West Gear",
          "West Gear",
          "West Gear",
          "West Gear",
          "West Gear",
          "West Gear",
          "West Gear",
          "West Gear",
          "West Gear",
          "West Gear",
          "West Gear",
          "West Gear",
          "West Gear",
          "Foot Locker",
          "Foot Locker",
          "Foot Locker",
          "Foot Locker",
          "Foot Locker",
          "Sports Direct",
          "Sports Direct",
          "Sports Direct",
          "Sports Direct",
          "Sports Direct",
          "Sports Direct",
          "Sports Direct",
          "Sports Direct",
          "Sports Direct",
          "Sports Direct",
          "Sports Direct",
          "Sports Direct",
          "Sports Direct",
          "Sports Direct",
          "Sports Direct",
          "Sports Direct",
          "Sports Direct",
          "Sports Direct",
          "Sports Direct",
          "Sports Direct",
          "Foot Locker",
          "Foot Locker",
          "Foot Locker",
          "Foot Locker",
          "Foot Locker",
          "Foot Locker",
          "Foot Locker",
          "Foot Locker",
          "Foot Locker",
          "Foot Locker",
          "Foot Locker",
          "Foot Locker",
          "Foot Locker",
          "Foot Locker",
          "Foot Locker",
          "Foot Locker",
          "Foot Locker",
          "Foot Locker",
          "Foot Locker",
          "Foot Locker",
          "Foot Locker",
          "Foot Locker",
          "Foot Locker",
          "Foot Locker",
          "Foot Locker",
          "Foot Locker",
          "Foot Locker",
          "Foot Locker",
          "Foot Locker",
          "Foot Locker",
          "Foot Locker",
          "Foot Locker",
          "Foot Locker",
          "Foot Locker",
          "Foot Locker",
          "Foot Locker",
          "Foot Locker",
          "Foot Locker",
          "Foot Locker",
          "Foot Locker",
          "Foot Locker",
          "Foot Locker",
          "Foot Locker",
          "Foot Locker",
          "Foot Locker",
          "Foot Locker",
          "Foot Locker",
          "Foot Locker",
          "Foot Locker",
          "Foot Locker",
          "Foot Locker",
          "Foot Locker",
          "Foot Locker",
          "Foot Locker",
          "Foot Locker",
          "Foot Locker",
          "Foot Locker",
          "Foot Locker",
          "Foot Locker",
          "Foot Locker",
          "Foot Locker",
          "Foot Locker",
          "Foot Locker",
          "Foot Locker",
          "Foot Locker",
          "Foot Locker",
          "Foot Locker",
          "Foot Locker",
          "Foot Locker",
          "Foot Locker",
          "Foot Locker",
          "Foot Locker",
          "Foot Locker",
          "Foot Locker",
          "Kohl's",
          "Kohl's",
          "Kohl's",
          "Kohl's",
          "Kohl's",
          "Kohl's",
          "Kohl's",
          "Kohl's",
          "Kohl's",
          "Kohl's",
          "Kohl's",
          "Kohl's",
          "Kohl's",
          "Kohl's",
          "Kohl's",
          "Kohl's",
          "Kohl's",
          "Kohl's",
          "Kohl's",
          "Kohl's",
          "Kohl's",
          "Kohl's",
          "Kohl's",
          "Kohl's",
          "Kohl's",
          "Kohl's",
          "Kohl's",
          "Kohl's",
          "Kohl's",
          "Kohl's",
          "Kohl's",
          "Kohl's",
          "Kohl's",
          "Kohl's",
          "Kohl's",
          "Kohl's",
          "Kohl's",
          "Kohl's",
          "Kohl's",
          "Kohl's",
          "Kohl's",
          "Kohl's",
          "Kohl's",
          "Kohl's",
          "Kohl's",
          "Kohl's",
          "Kohl's",
          "Kohl's",
          "Kohl's",
          "Kohl's",
          "Kohl's",
          "Kohl's",
          "Kohl's",
          "Kohl's",
          "Kohl's",
          "Kohl's",
          "Kohl's",
          "Kohl's",
          "Kohl's",
          "Kohl's",
          "Kohl's",
          "Kohl's",
          "Kohl's",
          "Kohl's",
          "Kohl's",
          "Kohl's",
          "Kohl's",
          "Kohl's",
          "Kohl's",
          "Kohl's",
          "Kohl's",
          "Kohl's",
          "Sports Direct",
          "Sports Direct",
          "Sports Direct",
          "Sports Direct",
          "Sports Direct",
          "Sports Direct",
          "Sports Direct",
          "Sports Direct",
          "Sports Direct",
          "Sports Direct",
          "Sports Direct",
          "Sports Direct",
          "Sports Direct",
          "Sports Direct",
          "Sports Direct",
          "Sports Direct",
          "Sports Direct",
          "Sports Direct",
          "Sports Direct",
          "Sports Direct",
          "Sports Direct",
          "Sports Direct",
          "Sports Direct",
          "Sports Direct",
          "Sports Direct",
          "Sports Direct",
          "Sports Direct",
          "Sports Direct",
          "Sports Direct",
          "Sports Direct",
          "Sports Direct",
          "Sports Direct",
          "Sports Direct",
          "Sports Direct",
          "Sports Direct",
          "Sports Direct",
          "Sports Direct",
          "Sports Direct",
          "Sports Direct",
          "Sports Direct",
          "Sports Direct",
          "Sports Direct",
          "Sports Direct",
          "Sports Direct",
          "Sports Direct",
          "Sports Direct",
          "Sports Direct",
          "Sports Direct",
          "Sports Direct",
          "Sports Direct",
          "Sports Direct",
          "Sports Direct",
          "Sports Direct",
          "Sports Direct",
          "Sports Direct",
          "Sports Direct",
          "Sports Direct",
          "Sports Direct",
          "Sports Direct",
          "Sports Direct",
          "Sports Direct",
          "Sports Direct",
          "Sports Direct",
          "Sports Direct",
          "Sports Direct",
          "Sports Direct",
          "Sports Direct",
          "Sports Direct",
          "Sports Direct",
          "Sports Direct",
          "Sports Direct",
          "Sports Direct",
          "Foot Locker",
          "Foot Locker",
          "Foot Locker",
          "Foot Locker",
          "Foot Locker",
          "Foot Locker",
          "Foot Locker",
          "Foot Locker",
          "Foot Locker",
          "Foot Locker",
          "Foot Locker",
          "Foot Locker",
          "Foot Locker",
          "Foot Locker",
          "Foot Locker",
          "Foot Locker",
          "Foot Locker",
          "Foot Locker",
          "Foot Locker",
          "Foot Locker",
          "Foot Locker",
          "Foot Locker",
          "Foot Locker",
          "Foot Locker",
          "Foot Locker",
          "Foot Locker",
          "Foot Locker",
          "Foot Locker",
          "Foot Locker",
          "Foot Locker",
          "Foot Locker",
          "Foot Locker",
          "Foot Locker",
          "Foot Locker",
          "Foot Locker",
          "Foot Locker",
          "Foot Locker",
          "Foot Locker",
          "Foot Locker",
          "Foot Locker",
          "Foot Locker",
          "Foot Locker",
          "Foot Locker",
          "Foot Locker",
          "Foot Locker",
          "Foot Locker",
          "Foot Locker",
          "Foot Locker",
          "Foot Locker",
          "Foot Locker",
          "Foot Locker",
          "Foot Locker",
          "Foot Locker",
          "Foot Locker",
          "Foot Locker",
          "Foot Locker",
          "Foot Locker",
          "Foot Locker",
          "Foot Locker",
          "Foot Locker",
          "Foot Locker",
          "Foot Locker",
          "Foot Locker",
          "Foot Locker",
          "Foot Locker",
          "Foot Locker",
          "Foot Locker",
          "Foot Locker",
          "Foot Locker",
          "Foot Locker",
          "Foot Locker",
          "Foot Locker",
          "Sports Direct",
          "Sports Direct",
          "Sports Direct",
          "Sports Direct",
          "Sports Direct",
          "Sports Direct",
          "Sports Direct",
          "Sports Direct",
          "Sports Direct",
          "Sports Direct",
          "Sports Direct",
          "Sports Direct",
          "Sports Direct",
          "Sports Direct",
          "Sports Direct",
          "Sports Direct",
          "Sports Direct",
          "Sports Direct",
          "Sports Direct",
          "Sports Direct",
          "Sports Direct",
          "Sports Direct",
          "Sports Direct",
          "Sports Direct",
          "Sports Direct",
          "Sports Direct",
          "Sports Direct",
          "Sports Direct",
          "Sports Direct",
          "Sports Direct",
          "Sports Direct",
          "Sports Direct",
          "Sports Direct",
          "Sports Direct",
          "Sports Direct",
          "Sports Direct",
          "Sports Direct",
          "Sports Direct",
          "Sports Direct",
          "Sports Direct",
          "Sports Direct",
          "Sports Direct",
          "Sports Direct",
          "Sports Direct",
          "Sports Direct",
          "Sports Direct",
          "Sports Direct",
          "Sports Direct",
          "Sports Direct",
          "Sports Direct",
          "Sports Direct",
          "Sports Direct",
          "Sports Direct",
          "Sports Direct",
          "Sports Direct",
          "Sports Direct",
          "Sports Direct",
          "Sports Direct",
          "Sports Direct",
          "Sports Direct",
          "Sports Direct",
          "Sports Direct",
          "Sports Direct",
          "Sports Direct",
          "Sports Direct",
          "Sports Direct",
          "Sports Direct",
          "Sports Direct",
          "Sports Direct",
          "Sports Direct",
          "Sports Direct",
          "Sports Direct",
          "Amazon",
          "Amazon",
          "Amazon",
          "Amazon",
          "Amazon",
          "Amazon",
          "Amazon",
          "Amazon",
          "Amazon",
          "Amazon",
          "Amazon",
          "Amazon",
          "Amazon",
          "Amazon",
          "Amazon",
          "Amazon",
          "Amazon",
          "Amazon",
          "Amazon",
          "Amazon",
          "Amazon",
          "Amazon",
          "Amazon",
          "Amazon",
          "Amazon",
          "Amazon",
          "Amazon",
          "Amazon",
          "Amazon",
          "Amazon",
          "Amazon",
          "Amazon",
          "Amazon",
          "Amazon",
          "Amazon",
          "Amazon",
          "Amazon",
          "Amazon",
          "Amazon",
          "Amazon",
          "Amazon",
          "Amazon",
          "Amazon",
          "Amazon",
          "Amazon",
          "Amazon",
          "Amazon",
          "Amazon",
          "Amazon",
          "Amazon",
          "Amazon",
          "Amazon",
          "Amazon",
          "Amazon",
          "Amazon",
          "Amazon",
          "Amazon",
          "Amazon",
          "Amazon",
          "Amazon",
          "Amazon",
          "Amazon",
          "Amazon",
          "Amazon",
          "Amazon",
          "Amazon",
          "Amazon",
          "Amazon",
          "Amazon",
          "Amazon",
          "Amazon",
          "Amazon",
          "West Gear",
          "West Gear",
          "West Gear",
          "West Gear",
          "Amazon",
          "Amazon",
          "Amazon",
          "Amazon",
          "Amazon",
          "Amazon",
          "Amazon",
          "Amazon",
          "Amazon",
          "Amazon",
          "Amazon",
          "Amazon",
          "Amazon",
          "Amazon",
          "Amazon",
          "Amazon",
          "Amazon",
          "Amazon",
          "Amazon",
          "Amazon",
          "Amazon",
          "Amazon",
          "Amazon",
          "Amazon",
          "Amazon",
          "Amazon",
          "Amazon",
          "Amazon",
          "Amazon",
          "Amazon",
          "Amazon",
          "Amazon",
          "Amazon",
          "Amazon",
          "Amazon",
          "Amazon",
          "Amazon",
          "Amazon",
          "Amazon",
          "Amazon",
          "Amazon",
          "Amazon",
          "Amazon",
          "Amazon",
          "Amazon",
          "Amazon",
          "Amazon",
          "Amazon",
          "Amazon",
          "Amazon",
          "Amazon",
          "Amazon",
          "Amazon",
          "Amazon",
          "Amazon",
          "Amazon",
          "Amazon",
          "Amazon",
          "Amazon",
          "Amazon",
          "Amazon",
          "Amazon",
          "Amazon",
          "Foot Locker",
          "Foot Locker",
          "Foot Locker",
          "Foot Locker",
          "Foot Locker",
          "Foot Locker",
          "Foot Locker",
          "Foot Locker",
          "Foot Locker",
          "Foot Locker",
          "Foot Locker",
          "Foot Locker",
          "Foot Locker",
          "Foot Locker",
          "Foot Locker",
          "Foot Locker",
          "Foot Locker",
          "Foot Locker",
          "Foot Locker",
          "Foot Locker",
          "Foot Locker",
          "Foot Locker",
          "Foot Locker",
          "Foot Locker",
          "Foot Locker",
          "Foot Locker",
          "Foot Locker",
          "Foot Locker",
          "Foot Locker",
          "Foot Locker",
          "Foot Locker",
          "Foot Locker",
          "Foot Locker",
          "Foot Locker",
          "Foot Locker",
          "Foot Locker",
          "Foot Locker",
          "Foot Locker",
          "Foot Locker",
          "Foot Locker",
          "Foot Locker",
          "Foot Locker",
          "Foot Locker",
          "Foot Locker",
          "Foot Locker",
          "Foot Locker",
          "Walmart",
          "Walmart",
          "Walmart",
          "Walmart",
          "Walmart",
          "Walmart",
          "Walmart",
          "Walmart",
          "Walmart",
          "Walmart",
          "Walmart",
          "Walmart",
          "Walmart",
          "Walmart",
          "Walmart",
          "Walmart",
          "Walmart",
          "Walmart",
          "Walmart",
          "Walmart",
          "Walmart",
          "Walmart",
          "Sports Direct",
          "Sports Direct",
          "Sports Direct",
          "Sports Direct",
          "Sports Direct",
          "Sports Direct",
          "Sports Direct",
          "Sports Direct",
          "Sports Direct",
          "Sports Direct",
          "Sports Direct",
          "Sports Direct",
          "Sports Direct",
          "Sports Direct",
          "Sports Direct",
          "Sports Direct",
          "Sports Direct",
          "Sports Direct",
          "Sports Direct",
          "Sports Direct",
          "Sports Direct",
          "Sports Direct",
          "Walmart",
          "Walmart",
          "Walmart",
          "Walmart",
          "Walmart",
          "Walmart",
          "Walmart",
          "Walmart",
          "Walmart",
          "Walmart",
          "Walmart",
          "Walmart",
          "Walmart",
          "Walmart",
          "Walmart",
          "Walmart",
          "Walmart",
          "Walmart",
          "Walmart",
          "Walmart",
          "Walmart",
          "Walmart",
          "Walmart",
          "Walmart",
          "Walmart",
          "Walmart",
          "Walmart",
          "Walmart",
          "Walmart",
          "Walmart",
          "Walmart",
          "Walmart",
          "Walmart",
          "Walmart",
          "Walmart",
          "Walmart",
          "Walmart",
          "Walmart",
          "Walmart",
          "Walmart",
          "Walmart",
          "Walmart",
          "Walmart",
          "Walmart",
          "Walmart",
          "Walmart",
          "Walmart",
          "Walmart",
          "Walmart",
          "Walmart",
          "West Gear",
          "West Gear",
          "West Gear",
          "West Gear",
          "West Gear",
          "West Gear",
          "West Gear",
          "West Gear",
          "West Gear",
          "West Gear",
          "West Gear",
          "West Gear",
          "West Gear",
          "West Gear",
          "West Gear",
          "West Gear",
          "West Gear",
          "West Gear",
          "West Gear",
          "West Gear",
          "West Gear",
          "West Gear",
          "West Gear",
          "West Gear",
          "West Gear",
          "West Gear",
          "West Gear",
          "West Gear",
          "West Gear",
          "West Gear",
          "West Gear",
          "West Gear",
          "West Gear",
          "West Gear",
          "West Gear",
          "West Gear",
          "West Gear",
          "West Gear",
          "West Gear",
          "West Gear",
          "West Gear",
          "West Gear",
          "West Gear",
          "West Gear",
          "West Gear",
          "West Gear",
          "West Gear",
          "West Gear",
          "West Gear",
          "West Gear",
          "West Gear",
          "West Gear",
          "West Gear",
          "West Gear",
          "West Gear",
          "West Gear",
          "West Gear",
          "West Gear",
          "West Gear",
          "West Gear",
          "West Gear",
          "West Gear",
          "West Gear",
          "West Gear",
          "West Gear",
          "West Gear",
          "West Gear",
          "West Gear",
          "West Gear",
          "West Gear",
          "West Gear",
          "West Gear",
          "Kohl's",
          "Kohl's",
          "Kohl's",
          "Kohl's",
          "Kohl's",
          "Kohl's",
          "Kohl's",
          "Kohl's",
          "Kohl's",
          "Kohl's",
          "Kohl's",
          "Kohl's",
          "Kohl's",
          "Kohl's",
          "Kohl's",
          "Kohl's",
          "Kohl's",
          "Kohl's",
          "Kohl's",
          "Kohl's",
          "Kohl's",
          "Kohl's",
          "Kohl's",
          "Kohl's",
          "Kohl's",
          "Kohl's",
          "Kohl's",
          "Kohl's",
          "Kohl's",
          "Kohl's",
          "Kohl's",
          "Kohl's",
          "Kohl's",
          "Kohl's",
          "Kohl's",
          "Kohl's",
          "Kohl's",
          "Kohl's",
          "Kohl's",
          "Kohl's",
          "Kohl's",
          "Kohl's",
          "Kohl's",
          "Kohl's",
          "Kohl's",
          "Kohl's",
          "Kohl's",
          "Kohl's",
          "Kohl's",
          "Kohl's",
          "Kohl's",
          "Kohl's",
          "Kohl's",
          "Kohl's",
          "Kohl's",
          "Kohl's",
          "Kohl's",
          "Kohl's",
          "Kohl's",
          "Kohl's",
          "Kohl's",
          "Kohl's",
          "Kohl's",
          "Kohl's",
          "Kohl's",
          "Kohl's",
          "Kohl's",
          "Kohl's",
          "Kohl's",
          "Kohl's",
          "Kohl's",
          "Kohl's",
          "Foot Locker",
          "Foot Locker",
          "Foot Locker",
          "Foot Locker",
          "Foot Locker",
          "Foot Locker",
          "Foot Locker",
          "Foot Locker",
          "Foot Locker",
          "Foot Locker",
          "Foot Locker",
          "Foot Locker",
          "Foot Locker",
          "Foot Locker",
          "Foot Locker",
          "Foot Locker",
          "Foot Locker",
          "Foot Locker",
          "Foot Locker",
          "Foot Locker",
          "Foot Locker",
          "Foot Locker",
          "Foot Locker",
          "Foot Locker",
          "Foot Locker",
          "Foot Locker",
          "Foot Locker",
          "Foot Locker",
          "Foot Locker",
          "Foot Locker",
          "Foot Locker",
          "Foot Locker",
          "Foot Locker",
          "Foot Locker",
          "Foot Locker",
          "Foot Locker",
          "Foot Locker",
          "Foot Locker",
          "Foot Locker",
          "Foot Locker",
          "Foot Locker",
          "Foot Locker",
          "Foot Locker",
          "Foot Locker",
          "Foot Locker",
          "Foot Locker",
          "Foot Locker",
          "Foot Locker",
          "Foot Locker",
          "Foot Locker",
          "Foot Locker",
          "Foot Locker",
          "Foot Locker",
          "Foot Locker",
          "Foot Locker",
          "Foot Locker",
          "Foot Locker",
          "Foot Locker",
          "Foot Locker",
          "Foot Locker",
          "Foot Locker",
          "Foot Locker",
          "Foot Locker",
          "Foot Locker",
          "Foot Locker",
          "Foot Locker",
          "Foot Locker",
          "Foot Locker",
          "Foot Locker",
          "Foot Locker",
          "Foot Locker",
          "Foot Locker",
          "Sports Direct",
          "Sports Direct",
          "Sports Direct",
          "Sports Direct",
          "Sports Direct",
          "Sports Direct",
          "Sports Direct",
          "Sports Direct",
          "Sports Direct",
          "Sports Direct",
          "Sports Direct",
          "Sports Direct",
          "Sports Direct",
          "Sports Direct",
          "Sports Direct",
          "Sports Direct",
          "Sports Direct",
          "Sports Direct",
          "Sports Direct",
          "Sports Direct",
          "Sports Direct",
          "Sports Direct",
          "Sports Direct",
          "Sports Direct",
          "Sports Direct",
          "Sports Direct",
          "Sports Direct",
          "Sports Direct",
          "Sports Direct",
          "Sports Direct",
          "Sports Direct",
          "Sports Direct",
          "Sports Direct",
          "Sports Direct",
          "Sports Direct",
          "Sports Direct",
          "Sports Direct",
          "Sports Direct",
          "Sports Direct",
          "Sports Direct",
          "Sports Direct",
          "Sports Direct",
          "Sports Direct",
          "Sports Direct",
          "Sports Direct",
          "Sports Direct",
          "Sports Direct",
          "Sports Direct",
          "Sports Direct",
          "Sports Direct",
          "Sports Direct",
          "Sports Direct",
          "Sports Direct",
          "Sports Direct",
          "Sports Direct",
          "Sports Direct",
          "Sports Direct",
          "Sports Direct",
          "Sports Direct",
          "Sports Direct",
          "Sports Direct",
          "Sports Direct",
          "Sports Direct",
          "Sports Direct",
          "Sports Direct",
          "Sports Direct",
          "Sports Direct",
          "Sports Direct",
          "Sports Direct",
          "Sports Direct",
          "Sports Direct",
          "Sports Direct",
          "Foot Locker",
          "Foot Locker",
          "Foot Locker",
          "Foot Locker",
          "Foot Locker",
          "Foot Locker",
          "Foot Locker",
          "Foot Locker",
          "Foot Locker",
          "Foot Locker",
          "Foot Locker",
          "Foot Locker",
          "Foot Locker",
          "Foot Locker",
          "Foot Locker",
          "Foot Locker",
          "Foot Locker",
          "Foot Locker",
          "Foot Locker",
          "Foot Locker",
          "Foot Locker",
          "Foot Locker",
          "Foot Locker",
          "Foot Locker",
          "Foot Locker",
          "Foot Locker",
          "Foot Locker",
          "Foot Locker",
          "Foot Locker",
          "Foot Locker",
          "Foot Locker",
          "Foot Locker",
          "Foot Locker",
          "Foot Locker",
          "Foot Locker",
          "Foot Locker",
          "Foot Locker",
          "Foot Locker",
          "Foot Locker",
          "Foot Locker",
          "Foot Locker",
          "Foot Locker",
          "Foot Locker",
          "Foot Locker",
          "Foot Locker",
          "Foot Locker",
          "Foot Locker",
          "Foot Locker",
          "Foot Locker",
          "Foot Locker",
          "Foot Locker",
          "Foot Locker",
          "Foot Locker",
          "Foot Locker",
          "Foot Locker",
          "Foot Locker",
          "Foot Locker",
          "Foot Locker",
          "Foot Locker",
          "Foot Locker",
          "Foot Locker",
          "Foot Locker",
          "Foot Locker",
          "Foot Locker",
          "Foot Locker",
          "Foot Locker",
          "Foot Locker",
          "Foot Locker",
          "Foot Locker",
          "Foot Locker",
          "Foot Locker",
          "Foot Locker",
          "West Gear",
          "West Gear",
          "West Gear",
          "West Gear",
          "West Gear",
          "West Gear",
          "West Gear",
          "West Gear",
          "West Gear",
          "West Gear",
          "West Gear",
          "West Gear",
          "West Gear",
          "West Gear",
          "West Gear",
          "West Gear",
          "West Gear",
          "West Gear",
          "West Gear",
          "West Gear",
          "West Gear",
          "West Gear",
          "West Gear",
          "West Gear",
          "West Gear",
          "West Gear",
          "West Gear",
          "West Gear",
          "West Gear",
          "West Gear",
          "West Gear",
          "West Gear",
          "West Gear",
          "West Gear",
          "West Gear",
          "West Gear",
          "West Gear",
          "West Gear",
          "West Gear",
          "West Gear",
          "West Gear",
          "West Gear",
          "West Gear",
          "West Gear",
          "West Gear",
          "West Gear",
          "West Gear",
          "West Gear",
          "West Gear",
          "West Gear",
          "West Gear",
          "West Gear",
          "West Gear",
          "West Gear",
          "West Gear",
          "West Gear",
          "West Gear",
          "West Gear",
          "West Gear",
          "West Gear",
          "West Gear",
          "West Gear",
          "West Gear",
          "West Gear",
          "West Gear",
          "West Gear",
          "West Gear",
          "West Gear",
          "West Gear",
          "West Gear",
          "West Gear",
          "West Gear",
          "West Gear",
          "West Gear",
          "West Gear",
          "West Gear",
          "West Gear",
          "West Gear",
          "West Gear",
          "West Gear",
          "West Gear",
          "West Gear",
          "West Gear",
          "West Gear",
          "West Gear",
          "West Gear",
          "West Gear",
          "West Gear",
          "West Gear",
          "West Gear",
          "West Gear",
          "West Gear",
          "West Gear",
          "West Gear",
          "West Gear",
          "West Gear",
          "West Gear",
          "West Gear",
          "West Gear",
          "West Gear",
          "West Gear",
          "West Gear",
          "West Gear",
          "West Gear",
          "West Gear",
          "West Gear",
          "West Gear",
          "West Gear",
          "West Gear",
          "West Gear",
          "West Gear",
          "West Gear",
          "West Gear",
          "West Gear",
          "West Gear",
          "West Gear",
          "West Gear",
          "West Gear",
          "West Gear",
          "West Gear",
          "West Gear",
          "West Gear",
          "West Gear",
          "West Gear",
          "West Gear",
          "West Gear",
          "West Gear",
          "West Gear",
          "West Gear",
          "West Gear",
          "West Gear",
          "West Gear",
          "West Gear",
          "West Gear",
          "West Gear",
          "West Gear",
          "West Gear",
          "West Gear",
          "West Gear",
          "West Gear",
          "West Gear",
          "West Gear",
          "West Gear",
          "West Gear",
          "West Gear",
          "West Gear",
          "West Gear",
          "West Gear",
          "West Gear",
          "West Gear",
          "West Gear",
          "West Gear",
          "West Gear",
          "West Gear",
          "West Gear",
          "West Gear",
          "West Gear",
          "West Gear",
          "West Gear",
          "West Gear",
          "West Gear",
          "West Gear",
          "West Gear",
          "West Gear",
          "West Gear",
          "West Gear",
          "West Gear",
          "West Gear",
          "West Gear",
          "West Gear",
          "West Gear",
          "West Gear",
          "West Gear",
          "West Gear",
          "West Gear",
          "West Gear",
          "West Gear",
          "West Gear",
          "West Gear",
          "West Gear",
          "West Gear",
          "West Gear",
          "West Gear",
          "West Gear",
          "West Gear",
          "West Gear",
          "West Gear",
          "West Gear",
          "West Gear",
          "West Gear",
          "West Gear",
          "West Gear",
          "West Gear",
          "West Gear",
          "West Gear",
          "West Gear",
          "West Gear",
          "West Gear",
          "West Gear",
          "West Gear",
          "West Gear",
          "West Gear",
          "West Gear",
          "West Gear",
          "West Gear",
          "West Gear",
          "West Gear",
          "West Gear",
          "West Gear",
          "West Gear",
          "West Gear",
          "West Gear",
          "West Gear",
          "West Gear",
          "West Gear",
          "West Gear",
          "Foot Locker",
          "Foot Locker",
          "Foot Locker",
          "Foot Locker",
          "Foot Locker",
          "Foot Locker",
          "Foot Locker",
          "Foot Locker",
          "Foot Locker",
          "West Gear",
          "Foot Locker",
          "Foot Locker",
          "Foot Locker",
          "Foot Locker",
          "Foot Locker",
          "Foot Locker",
          "Foot Locker",
          "Foot Locker",
          "Foot Locker",
          "Foot Locker",
          "West Gear",
          "West Gear",
          "West Gear",
          "West Gear",
          "West Gear",
          "West Gear",
          "West Gear",
          "West Gear",
          "West Gear",
          "West Gear",
          "West Gear",
          "West Gear",
          "West Gear",
          "West Gear",
          "West Gear",
          "West Gear",
          "West Gear",
          "West Gear",
          "West Gear",
          "West Gear",
          "West Gear",
          "West Gear",
          "West Gear",
          "West Gear",
          "West Gear",
          "Foot Locker",
          "Foot Locker",
          "Foot Locker",
          "Foot Locker",
          "Foot Locker",
          "Sports Direct",
          "Sports Direct",
          "Sports Direct",
          "Sports Direct",
          "Sports Direct",
          "Sports Direct",
          "Sports Direct",
          "Sports Direct",
          "Sports Direct",
          "Sports Direct",
          "Sports Direct",
          "Sports Direct",
          "Sports Direct",
          "Sports Direct",
          "Sports Direct",
          "Sports Direct",
          "Sports Direct",
          "Sports Direct",
          "Sports Direct",
          "Sports Direct",
          "Foot Locker",
          "Foot Locker",
          "Foot Locker",
          "Foot Locker",
          "Foot Locker",
          "Foot Locker",
          "Foot Locker",
          "Foot Locker",
          "Foot Locker",
          "Foot Locker",
          "Foot Locker",
          "Foot Locker",
          "Foot Locker",
          "Foot Locker",
          "Foot Locker",
          "Foot Locker",
          "Foot Locker",
          "Foot Locker",
          "Foot Locker",
          "Foot Locker",
          "Foot Locker",
          "Foot Locker",
          "Foot Locker",
          "Foot Locker",
          "Foot Locker",
          "Foot Locker",
          "Foot Locker",
          "Foot Locker",
          "Foot Locker",
          "Foot Locker",
          "Foot Locker",
          "Foot Locker",
          "Foot Locker",
          "Foot Locker",
          "Foot Locker",
          "Foot Locker",
          "Foot Locker",
          "Foot Locker",
          "Foot Locker",
          "Foot Locker",
          "Foot Locker",
          "Foot Locker",
          "Foot Locker",
          "Foot Locker",
          "Foot Locker",
          "Foot Locker",
          "Foot Locker",
          "Foot Locker",
          "Foot Locker",
          "Foot Locker",
          "Foot Locker",
          "Foot Locker",
          "Foot Locker",
          "Foot Locker",
          "Foot Locker",
          "Foot Locker",
          "Foot Locker",
          "Foot Locker",
          "Foot Locker",
          "Foot Locker",
          "Foot Locker",
          "Foot Locker",
          "Foot Locker",
          "Foot Locker",
          "Foot Locker",
          "Foot Locker",
          "Foot Locker",
          "Foot Locker",
          "Foot Locker",
          "Foot Locker",
          "Foot Locker",
          "Foot Locker",
          "Foot Locker",
          "Foot Locker",
          "Kohl's",
          "Kohl's",
          "Kohl's",
          "Kohl's",
          "Kohl's",
          "Kohl's",
          "Kohl's",
          "Kohl's",
          "Kohl's",
          "Kohl's",
          "Kohl's",
          "Kohl's",
          "Kohl's",
          "Kohl's",
          "Kohl's",
          "Kohl's",
          "Kohl's",
          "Kohl's",
          "Kohl's",
          "Kohl's",
          "Kohl's",
          "Kohl's",
          "Kohl's",
          "Kohl's",
          "Kohl's",
          "Kohl's",
          "Kohl's",
          "Kohl's",
          "Kohl's",
          "Kohl's",
          "Kohl's",
          "Kohl's",
          "Kohl's",
          "Kohl's",
          "Kohl's",
          "Kohl's",
          "Kohl's",
          "Kohl's",
          "Kohl's",
          "Kohl's",
          "Kohl's",
          "Kohl's",
          "Kohl's",
          "Kohl's",
          "Kohl's",
          "Kohl's",
          "Kohl's",
          "Kohl's",
          "Kohl's",
          "Kohl's",
          "Kohl's",
          "Kohl's",
          "Kohl's",
          "Kohl's",
          "Kohl's",
          "Kohl's",
          "Kohl's",
          "Kohl's",
          "Kohl's",
          "Kohl's",
          "Kohl's",
          "Kohl's",
          "Kohl's",
          "Kohl's",
          "Kohl's",
          "Kohl's",
          "Kohl's",
          "Kohl's",
          "Kohl's",
          "Kohl's",
          "Kohl's",
          "Kohl's",
          "Sports Direct",
          "Sports Direct",
          "Sports Direct",
          "Sports Direct",
          "Sports Direct",
          "Sports Direct",
          "Sports Direct",
          "Sports Direct",
          "Sports Direct",
          "Sports Direct",
          "Sports Direct",
          "Sports Direct",
          "Sports Direct",
          "Sports Direct",
          "Sports Direct",
          "Sports Direct",
          "Sports Direct",
          "Sports Direct",
          "Sports Direct",
          "Sports Direct",
          "Sports Direct",
          "Sports Direct",
          "Sports Direct",
          "Sports Direct",
          "Sports Direct",
          "Sports Direct",
          "Sports Direct",
          "Sports Direct",
          "Sports Direct",
          "Sports Direct",
          "Sports Direct",
          "Sports Direct",
          "Sports Direct",
          "Sports Direct",
          "Sports Direct",
          "Sports Direct",
          "Sports Direct",
          "Sports Direct",
          "Sports Direct",
          "Sports Direct",
          "Sports Direct",
          "Sports Direct",
          "Sports Direct",
          "Sports Direct",
          "Sports Direct",
          "Sports Direct",
          "Sports Direct",
          "Sports Direct",
          "Sports Direct",
          "Sports Direct",
          "Sports Direct",
          "Sports Direct",
          "Sports Direct",
          "Sports Direct",
          "Sports Direct",
          "Sports Direct",
          "Sports Direct",
          "Sports Direct",
          "Sports Direct",
          "Sports Direct",
          "Sports Direct",
          "Sports Direct",
          "Sports Direct",
          "Sports Direct",
          "Sports Direct",
          "Sports Direct",
          "Sports Direct",
          "Sports Direct",
          "Sports Direct",
          "Sports Direct",
          "Sports Direct",
          "Sports Direct",
          "Foot Locker",
          "Foot Locker",
          "Foot Locker",
          "Foot Locker",
          "Foot Locker",
          "Foot Locker",
          "Foot Locker",
          "Foot Locker",
          "Foot Locker",
          "Foot Locker",
          "Foot Locker",
          "Foot Locker",
          "Foot Locker",
          "Foot Locker",
          "Foot Locker",
          "Foot Locker",
          "Foot Locker",
          "Foot Locker",
          "Foot Locker",
          "Foot Locker",
          "Foot Locker",
          "Foot Locker",
          "Foot Locker",
          "Foot Locker",
          "Foot Locker",
          "Foot Locker",
          "Foot Locker",
          "Foot Locker",
          "Foot Locker",
          "Foot Locker",
          "Foot Locker",
          "Foot Locker",
          "Foot Locker",
          "Foot Locker",
          "Foot Locker",
          "Foot Locker",
          "Foot Locker",
          "Foot Locker",
          "Foot Locker",
          "Foot Locker",
          "Foot Locker",
          "Foot Locker",
          "Foot Locker",
          "Foot Locker",
          "Foot Locker",
          "Foot Locker",
          "Foot Locker",
          "Foot Locker",
          "Foot Locker",
          "Foot Locker",
          "Foot Locker",
          "Foot Locker",
          "Foot Locker",
          "Foot Locker",
          "Foot Locker",
          "Foot Locker",
          "Foot Locker",
          "Foot Locker",
          "Foot Locker",
          "Foot Locker",
          "Foot Locker",
          "Foot Locker",
          "Foot Locker",
          "Foot Locker",
          "Foot Locker",
          "Foot Locker",
          "Foot Locker",
          "Foot Locker",
          "Foot Locker",
          "Foot Locker",
          "Foot Locker",
          "Foot Locker",
          "Sports Direct",
          "Sports Direct",
          "Sports Direct",
          "Sports Direct",
          "Sports Direct",
          "Sports Direct",
          "Sports Direct",
          "Sports Direct",
          "Sports Direct",
          "Sports Direct",
          "Sports Direct",
          "Sports Direct",
          "Sports Direct",
          "Sports Direct",
          "Sports Direct",
          "Sports Direct",
          "Sports Direct",
          "Sports Direct",
          "Sports Direct",
          "Sports Direct",
          "Sports Direct",
          "Sports Direct",
          "Sports Direct",
          "Sports Direct",
          "Sports Direct",
          "Sports Direct",
          "Sports Direct",
          "Sports Direct",
          "Sports Direct",
          "Sports Direct",
          "Sports Direct",
          "Sports Direct",
          "Sports Direct",
          "Sports Direct",
          "Sports Direct",
          "Sports Direct",
          "Sports Direct",
          "Sports Direct",
          "Sports Direct",
          "Sports Direct",
          "Sports Direct",
          "Sports Direct",
          "Sports Direct",
          "Sports Direct",
          "Sports Direct",
          "Sports Direct",
          "Sports Direct",
          "Sports Direct",
          "Sports Direct",
          "Sports Direct",
          "Sports Direct",
          "Sports Direct",
          "Sports Direct",
          "Sports Direct",
          "Sports Direct",
          "Sports Direct",
          "Sports Direct",
          "Sports Direct",
          "Sports Direct",
          "Sports Direct",
          "Sports Direct",
          "Sports Direct",
          "Sports Direct",
          "Sports Direct",
          "Sports Direct",
          "Sports Direct",
          "Sports Direct",
          "Sports Direct",
          "Sports Direct",
          "Sports Direct",
          "Sports Direct",
          "Sports Direct",
          "Amazon",
          "Amazon",
          "Amazon",
          "Amazon",
          "Amazon",
          "Amazon",
          "Amazon",
          "Amazon",
          "Amazon",
          "Amazon",
          "Amazon",
          "Amazon",
          "Amazon",
          "Amazon",
          "Amazon",
          "Amazon",
          "Amazon",
          "Amazon",
          "Amazon",
          "Amazon",
          "Amazon",
          "Amazon",
          "Amazon",
          "Amazon",
          "Amazon",
          "Amazon",
          "Amazon",
          "Amazon",
          "Amazon",
          "Amazon",
          "Amazon",
          "Amazon",
          "Amazon",
          "Amazon",
          "Amazon",
          "Amazon",
          "Amazon",
          "Amazon",
          "Amazon",
          "Amazon",
          "Amazon",
          "Amazon",
          "Amazon",
          "Amazon",
          "Amazon",
          "Amazon",
          "Amazon",
          "Amazon",
          "Amazon",
          "Amazon",
          "Amazon",
          "Amazon",
          "Amazon",
          "Amazon",
          "Amazon",
          "Amazon",
          "Amazon",
          "Amazon",
          "Amazon",
          "Amazon",
          "Amazon",
          "Amazon",
          "Amazon",
          "Amazon",
          "Amazon",
          "Amazon",
          "Amazon",
          "Amazon",
          "Amazon",
          "Amazon",
          "Amazon",
          "Amazon",
          "West Gear",
          "West Gear",
          "West Gear",
          "West Gear",
          "Amazon",
          "Amazon",
          "Amazon",
          "Amazon",
          "Amazon",
          "Amazon",
          "Amazon",
          "Amazon",
          "Amazon",
          "Amazon",
          "Amazon",
          "Amazon",
          "Amazon",
          "Amazon",
          "Amazon",
          "Amazon",
          "Amazon",
          "Amazon",
          "Amazon",
          "Amazon",
          "Amazon",
          "Amazon",
          "Amazon",
          "Amazon",
          "Amazon",
          "Amazon",
          "Amazon",
          "Amazon",
          "Amazon",
          "Amazon",
          "Amazon",
          "Amazon",
          "Amazon",
          "Amazon",
          "Amazon",
          "Amazon",
          "Amazon",
          "Amazon",
          "Amazon",
          "Amazon",
          "Amazon",
          "Amazon",
          "Amazon",
          "Amazon",
          "Amazon",
          "Amazon",
          "Amazon",
          "Amazon",
          "Amazon",
          "Amazon",
          "Amazon",
          "Amazon",
          "Amazon",
          "Amazon",
          "Amazon",
          "Amazon",
          "Amazon",
          "Amazon",
          "Amazon",
          "Amazon",
          "Amazon",
          "Amazon",
          "Amazon",
          "Foot Locker",
          "Foot Locker",
          "Foot Locker",
          "Foot Locker",
          "Foot Locker",
          "Foot Locker",
          "Foot Locker",
          "Foot Locker",
          "Foot Locker",
          "Foot Locker",
          "Foot Locker",
          "Foot Locker",
          "Foot Locker",
          "Foot Locker",
          "Foot Locker",
          "Foot Locker",
          "Foot Locker",
          "Foot Locker",
          "Foot Locker",
          "Foot Locker",
          "Foot Locker",
          "Foot Locker",
          "Foot Locker",
          "Foot Locker",
          "Foot Locker",
          "Foot Locker",
          "Foot Locker",
          "Foot Locker",
          "Foot Locker",
          "Foot Locker",
          "Foot Locker",
          "Foot Locker",
          "Foot Locker",
          "Foot Locker",
          "Foot Locker",
          "Foot Locker",
          "Foot Locker",
          "Foot Locker",
          "Foot Locker",
          "Foot Locker",
          "Foot Locker",
          "Foot Locker",
          "Foot Locker",
          "Foot Locker",
          "Foot Locker",
          "Foot Locker",
          "Walmart",
          "Walmart",
          "Walmart",
          "Walmart",
          "Walmart",
          "Walmart",
          "Walmart",
          "Walmart",
          "Walmart",
          "Walmart",
          "Walmart",
          "Walmart",
          "Walmart",
          "Walmart",
          "Walmart",
          "Walmart",
          "Walmart",
          "Walmart",
          "Walmart",
          "Walmart",
          "Walmart",
          "Walmart",
          "Sports Direct",
          "Sports Direct",
          "Sports Direct",
          "Sports Direct",
          "Sports Direct",
          "Sports Direct",
          "Sports Direct",
          "Sports Direct",
          "Sports Direct",
          "Sports Direct",
          "Sports Direct",
          "Sports Direct",
          "Sports Direct",
          "Sports Direct",
          "Sports Direct",
          "Sports Direct",
          "Sports Direct",
          "Sports Direct",
          "Sports Direct",
          "Sports Direct",
          "Sports Direct",
          "Sports Direct",
          "Walmart",
          "Walmart",
          "Walmart",
          "Walmart",
          "Walmart",
          "Walmart",
          "Walmart",
          "Walmart",
          "Walmart",
          "Walmart",
          "Walmart",
          "Walmart",
          "Walmart",
          "Walmart",
          "Walmart",
          "Walmart",
          "Walmart",
          "Walmart",
          "Walmart",
          "Walmart",
          "Walmart",
          "Walmart",
          "Walmart",
          "Walmart",
          "Walmart",
          "Walmart",
          "Walmart",
          "Walmart",
          "Walmart",
          "Walmart",
          "Walmart",
          "Walmart",
          "Walmart",
          "Walmart",
          "Walmart",
          "Walmart",
          "Walmart",
          "Walmart",
          "Walmart",
          "Walmart",
          "Walmart",
          "Walmart",
          "Walmart",
          "Walmart",
          "Walmart",
          "Walmart",
          "Walmart",
          "Walmart",
          "Walmart",
          "Walmart",
          "West Gear",
          "West Gear",
          "West Gear",
          "West Gear",
          "West Gear",
          "West Gear",
          "West Gear",
          "West Gear",
          "West Gear",
          "West Gear",
          "West Gear",
          "West Gear",
          "West Gear",
          "West Gear",
          "West Gear",
          "West Gear",
          "West Gear",
          "West Gear",
          "West Gear",
          "West Gear",
          "West Gear",
          "West Gear",
          "West Gear",
          "West Gear",
          "West Gear",
          "West Gear",
          "West Gear",
          "West Gear",
          "West Gear",
          "West Gear",
          "West Gear",
          "West Gear",
          "West Gear",
          "West Gear",
          "West Gear",
          "West Gear",
          "West Gear",
          "West Gear",
          "West Gear",
          "West Gear",
          "West Gear",
          "West Gear",
          "West Gear",
          "West Gear",
          "West Gear",
          "West Gear",
          "West Gear",
          "West Gear",
          "West Gear",
          "West Gear",
          "West Gear",
          "West Gear",
          "West Gear",
          "West Gear",
          "West Gear",
          "West Gear",
          "West Gear",
          "West Gear",
          "West Gear",
          "West Gear",
          "West Gear",
          "West Gear",
          "West Gear",
          "West Gear",
          "West Gear",
          "West Gear",
          "West Gear",
          "West Gear",
          "West Gear",
          "West Gear",
          "West Gear",
          "West Gear",
          "Kohl's",
          "Kohl's",
          "Kohl's",
          "Kohl's",
          "Kohl's",
          "Kohl's",
          "Kohl's",
          "Kohl's",
          "Kohl's",
          "Kohl's",
          "Kohl's",
          "Kohl's",
          "Kohl's",
          "Kohl's",
          "Kohl's",
          "Kohl's",
          "Kohl's",
          "Kohl's",
          "Kohl's",
          "Kohl's",
          "Kohl's",
          "Kohl's",
          "Kohl's",
          "Kohl's",
          "Kohl's",
          "Kohl's",
          "Kohl's",
          "Kohl's",
          "Kohl's",
          "Kohl's",
          "Kohl's",
          "Kohl's",
          "Kohl's",
          "Kohl's",
          "Kohl's",
          "Kohl's",
          "Kohl's",
          "Kohl's",
          "Kohl's",
          "Kohl's",
          "Kohl's",
          "Kohl's",
          "Kohl's",
          "Kohl's",
          "Kohl's",
          "Kohl's",
          "Kohl's",
          "Kohl's",
          "Kohl's",
          "Kohl's",
          "Kohl's",
          "Kohl's",
          "Kohl's",
          "Kohl's",
          "Kohl's",
          "Kohl's",
          "Kohl's",
          "Kohl's",
          "Kohl's",
          "Kohl's",
          "Kohl's",
          "Kohl's",
          "Kohl's",
          "Kohl's",
          "Kohl's",
          "Kohl's",
          "Kohl's",
          "Kohl's",
          "Kohl's",
          "Kohl's",
          "Kohl's",
          "Kohl's",
          "Foot Locker",
          "Foot Locker",
          "Foot Locker",
          "Foot Locker",
          "Foot Locker",
          "Foot Locker",
          "Foot Locker",
          "Foot Locker",
          "Foot Locker",
          "Foot Locker",
          "Foot Locker",
          "Foot Locker",
          "Foot Locker",
          "Foot Locker",
          "Foot Locker",
          "Foot Locker",
          "Foot Locker",
          "Foot Locker",
          "Foot Locker",
          "Foot Locker",
          "Foot Locker",
          "Foot Locker",
          "Foot Locker",
          "Foot Locker",
          "Foot Locker",
          "Foot Locker",
          "Foot Locker",
          "Foot Locker",
          "Foot Locker",
          "Foot Locker",
          "Foot Locker",
          "Foot Locker",
          "Foot Locker",
          "Foot Locker",
          "Foot Locker",
          "Foot Locker",
          "Foot Locker",
          "Foot Locker",
          "Foot Locker",
          "Foot Locker",
          "Foot Locker",
          "Foot Locker",
          "Foot Locker",
          "Foot Locker",
          "Foot Locker",
          "Foot Locker",
          "Foot Locker",
          "Foot Locker",
          "Foot Locker",
          "Foot Locker",
          "Foot Locker",
          "Foot Locker",
          "Foot Locker",
          "Foot Locker",
          "Foot Locker",
          "Foot Locker",
          "Foot Locker",
          "Foot Locker",
          "Foot Locker",
          "Foot Locker",
          "Foot Locker",
          "Foot Locker",
          "Foot Locker",
          "Foot Locker",
          "Foot Locker",
          "Foot Locker",
          "Foot Locker",
          "Foot Locker",
          "Foot Locker",
          "Foot Locker",
          "Foot Locker",
          "Foot Locker",
          "Sports Direct",
          "Sports Direct",
          "Sports Direct",
          "Sports Direct",
          "Sports Direct",
          "Sports Direct",
          "Sports Direct",
          "Sports Direct",
          "Sports Direct",
          "Sports Direct",
          "Sports Direct",
          "Sports Direct",
          "Sports Direct",
          "Sports Direct",
          "Sports Direct",
          "Sports Direct",
          "Sports Direct",
          "Sports Direct",
          "Sports Direct",
          "Sports Direct",
          "Sports Direct",
          "Sports Direct",
          "Sports Direct",
          "Sports Direct",
          "Sports Direct",
          "Sports Direct",
          "Sports Direct",
          "Sports Direct",
          "Sports Direct",
          "Sports Direct",
          "Sports Direct",
          "Sports Direct",
          "Sports Direct",
          "Sports Direct",
          "Sports Direct",
          "Sports Direct",
          "Sports Direct",
          "Sports Direct",
          "Sports Direct",
          "Sports Direct",
          "Sports Direct",
          "Sports Direct",
          "Sports Direct",
          "Sports Direct",
          "Sports Direct",
          "Sports Direct",
          "Sports Direct",
          "Sports Direct",
          "Sports Direct",
          "Sports Direct",
          "Sports Direct",
          "Sports Direct",
          "Sports Direct",
          "Sports Direct",
          "Sports Direct",
          "Sports Direct",
          "Sports Direct",
          "Sports Direct",
          "Sports Direct",
          "Sports Direct",
          "Sports Direct",
          "Sports Direct",
          "Sports Direct",
          "Sports Direct",
          "Sports Direct",
          "Sports Direct",
          "Sports Direct",
          "Sports Direct",
          "Sports Direct",
          "Sports Direct",
          "Sports Direct",
          "Sports Direct",
          "Foot Locker",
          "Foot Locker",
          "Foot Locker",
          "Foot Locker",
          "Foot Locker",
          "Foot Locker",
          "Foot Locker",
          "Foot Locker",
          "Foot Locker",
          "Foot Locker",
          "Foot Locker",
          "Foot Locker",
          "Foot Locker",
          "Foot Locker",
          "Foot Locker",
          "Foot Locker",
          "Foot Locker",
          "Foot Locker",
          "Foot Locker",
          "Foot Locker",
          "Foot Locker",
          "Foot Locker",
          "Foot Locker",
          "Foot Locker",
          "Foot Locker",
          "Foot Locker",
          "Foot Locker",
          "Foot Locker",
          "Foot Locker",
          "Foot Locker",
          "Foot Locker",
          "Foot Locker",
          "Foot Locker",
          "Foot Locker",
          "Foot Locker",
          "Foot Locker",
          "Foot Locker",
          "Foot Locker",
          "Foot Locker",
          "Foot Locker",
          "Foot Locker",
          "Foot Locker",
          "Foot Locker",
          "Foot Locker",
          "Foot Locker",
          "Foot Locker",
          "Foot Locker",
          "Foot Locker",
          "Foot Locker",
          "Foot Locker",
          "Foot Locker",
          "Foot Locker",
          "Foot Locker",
          "Foot Locker",
          "Foot Locker",
          "Foot Locker",
          "Foot Locker",
          "Foot Locker",
          "Foot Locker",
          "Foot Locker",
          "Foot Locker",
          "Foot Locker",
          "Foot Locker",
          "Foot Locker",
          "Foot Locker",
          "Foot Locker",
          "Foot Locker",
          "Foot Locker",
          "Foot Locker",
          "Foot Locker",
          "Foot Locker",
          "Foot Locker",
          "West Gear",
          "West Gear",
          "West Gear",
          "West Gear",
          "West Gear",
          "West Gear",
          "West Gear",
          "West Gear",
          "West Gear",
          "West Gear",
          "West Gear",
          "West Gear",
          "West Gear",
          "West Gear",
          "West Gear",
          "West Gear",
          "West Gear",
          "West Gear",
          "West Gear",
          "West Gear",
          "West Gear",
          "West Gear",
          "West Gear",
          "West Gear",
          "West Gear",
          "West Gear",
          "West Gear",
          "West Gear",
          "West Gear",
          "West Gear",
          "West Gear",
          "West Gear",
          "West Gear",
          "West Gear",
          "West Gear",
          "West Gear",
          "West Gear",
          "West Gear",
          "West Gear",
          "West Gear",
          "West Gear",
          "West Gear",
          "West Gear",
          "West Gear",
          "West Gear",
          "West Gear",
          "West Gear",
          "West Gear",
          "West Gear",
          "West Gear",
          "West Gear",
          "West Gear",
          "West Gear",
          "West Gear",
          "West Gear",
          "West Gear",
          "West Gear",
          "West Gear",
          "West Gear",
          "West Gear",
          "West Gear",
          "West Gear",
          "West Gear",
          "West Gear",
          "West Gear",
          "West Gear",
          "West Gear",
          "West Gear",
          "West Gear",
          "West Gear",
          "West Gear",
          "West Gear",
          "West Gear",
          "West Gear",
          "West Gear",
          "West Gear",
          "West Gear",
          "West Gear",
          "West Gear",
          "West Gear",
          "West Gear",
          "West Gear",
          "West Gear",
          "West Gear",
          "West Gear",
          "West Gear",
          "West Gear",
          "West Gear",
          "West Gear",
          "West Gear",
          "West Gear",
          "West Gear",
          "West Gear",
          "West Gear",
          "West Gear",
          "West Gear",
          "West Gear",
          "West Gear",
          "West Gear",
          "West Gear",
          "West Gear",
          "West Gear",
          "West Gear",
          "West Gear",
          "West Gear",
          "West Gear",
          "West Gear",
          "West Gear",
          "West Gear",
          "West Gear",
          "West Gear",
          "West Gear",
          "West Gear",
          "West Gear",
          "West Gear",
          "West Gear",
          "West Gear",
          "West Gear",
          "West Gear",
          "West Gear",
          "West Gear",
          "West Gear",
          "West Gear",
          "West Gear",
          "West Gear",
          "West Gear",
          "West Gear",
          "West Gear",
          "West Gear",
          "West Gear",
          "West Gear",
          "West Gear",
          "West Gear",
          "West Gear",
          "West Gear",
          "West Gear",
          "West Gear",
          "West Gear",
          "West Gear",
          "West Gear",
          "West Gear",
          "West Gear",
          "West Gear",
          "West Gear",
          "West Gear",
          "West Gear",
          "West Gear",
          "West Gear",
          "West Gear",
          "West Gear",
          "West Gear",
          "West Gear",
          "West Gear",
          "West Gear",
          "West Gear",
          "West Gear",
          "West Gear",
          "West Gear",
          "West Gear",
          "West Gear",
          "West Gear",
          "West Gear",
          "West Gear",
          "West Gear",
          "West Gear",
          "West Gear",
          "West Gear",
          "West Gear",
          "West Gear",
          "West Gear",
          "West Gear",
          "West Gear",
          "West Gear",
          "West Gear",
          "West Gear",
          "West Gear",
          "West Gear",
          "West Gear",
          "West Gear",
          "West Gear",
          "West Gear",
          "West Gear",
          "West Gear",
          "West Gear",
          "West Gear",
          "West Gear",
          "West Gear",
          "West Gear",
          "West Gear",
          "West Gear",
          "West Gear",
          "West Gear",
          "West Gear",
          "West Gear",
          "West Gear",
          "West Gear",
          "West Gear",
          "West Gear",
          "West Gear",
          "West Gear",
          "West Gear",
          "West Gear",
          "West Gear",
          "West Gear",
          "West Gear",
          "West Gear",
          "West Gear",
          "West Gear",
          "West Gear",
          "West Gear",
          "West Gear",
          "West Gear",
          "West Gear",
          "West Gear",
          "West Gear",
          "West Gear",
          "Foot Locker",
          "Foot Locker",
          "Foot Locker",
          "Foot Locker",
          "Foot Locker",
          "Foot Locker",
          "Foot Locker",
          "Foot Locker",
          "Foot Locker",
          "West Gear",
          "Foot Locker",
          "Foot Locker",
          "Foot Locker",
          "Foot Locker",
          "Foot Locker",
          "Foot Locker",
          "Foot Locker",
          "Foot Locker",
          "Foot Locker",
          "Foot Locker",
          "West Gear",
          "West Gear",
          "West Gear",
          "West Gear",
          "West Gear",
          "West Gear",
          "West Gear",
          "West Gear",
          "West Gear",
          "West Gear",
          "West Gear",
          "West Gear",
          "West Gear",
          "West Gear",
          "West Gear",
          "West Gear",
          "West Gear",
          "West Gear",
          "West Gear",
          "West Gear",
          "West Gear",
          "West Gear",
          "West Gear",
          "West Gear",
          "West Gear",
          "Foot Locker",
          "Foot Locker",
          "Foot Locker",
          "Foot Locker",
          "Foot Locker",
          "Sports Direct",
          "Sports Direct",
          "Sports Direct",
          "Sports Direct",
          "Sports Direct",
          "Sports Direct",
          "Sports Direct",
          "Sports Direct",
          "Sports Direct",
          "Sports Direct",
          "Sports Direct",
          "Sports Direct",
          "Sports Direct",
          "Sports Direct",
          "Sports Direct",
          "Sports Direct",
          "Sports Direct",
          "Sports Direct",
          "Sports Direct",
          "Sports Direct",
          "Foot Locker",
          "Foot Locker",
          "Foot Locker",
          "Foot Locker",
          "Foot Locker",
          "Foot Locker",
          "Foot Locker",
          "Foot Locker",
          "Foot Locker",
          "Foot Locker",
          "Foot Locker",
          "Foot Locker",
          "Foot Locker",
          "Foot Locker",
          "Foot Locker",
          "Foot Locker",
          "Foot Locker",
          "Foot Locker",
          "Foot Locker",
          "Foot Locker",
          "Foot Locker",
          "Foot Locker",
          "Foot Locker",
          "Foot Locker",
          "Foot Locker",
          "Foot Locker",
          "Foot Locker",
          "Foot Locker",
          "Foot Locker",
          "Foot Locker",
          "Foot Locker",
          "Foot Locker",
          "Foot Locker",
          "Foot Locker",
          "Foot Locker",
          "Foot Locker",
          "Foot Locker",
          "Foot Locker",
          "Foot Locker",
          "Foot Locker",
          "Foot Locker",
          "Foot Locker",
          "Foot Locker",
          "Foot Locker",
          "Foot Locker",
          "Foot Locker",
          "Foot Locker",
          "Foot Locker",
          "Foot Locker",
          "Foot Locker",
          "Foot Locker",
          "Foot Locker",
          "Foot Locker",
          "Foot Locker",
          "Foot Locker",
          "Foot Locker",
          "Foot Locker",
          "Foot Locker",
          "Foot Locker",
          "Foot Locker",
          "Foot Locker",
          "Foot Locker",
          "Foot Locker",
          "Foot Locker",
          "Foot Locker",
          "Foot Locker",
          "Foot Locker",
          "Foot Locker",
          "Foot Locker",
          "Foot Locker",
          "Foot Locker",
          "Foot Locker",
          "Foot Locker",
          "Foot Locker",
          "Kohl's",
          "Kohl's",
          "Kohl's",
          "Kohl's",
          "Kohl's",
          "Kohl's",
          "Kohl's",
          "Kohl's",
          "Kohl's",
          "Kohl's",
          "Kohl's",
          "Kohl's",
          "Kohl's",
          "Kohl's",
          "Kohl's",
          "Kohl's",
          "Kohl's",
          "Kohl's",
          "Kohl's",
          "Kohl's",
          "Kohl's",
          "Kohl's",
          "Kohl's",
          "Kohl's",
          "Kohl's",
          "Kohl's",
          "Kohl's",
          "Kohl's",
          "Kohl's",
          "Kohl's",
          "Kohl's",
          "Kohl's",
          "Kohl's",
          "Kohl's",
          "Kohl's",
          "Kohl's",
          "Kohl's",
          "Kohl's",
          "Kohl's",
          "Kohl's",
          "Kohl's",
          "Kohl's",
          "Kohl's",
          "Kohl's",
          "Kohl's",
          "Kohl's",
          "Kohl's",
          "Kohl's",
          "Kohl's",
          "Kohl's",
          "Kohl's",
          "Kohl's",
          "Kohl's",
          "Kohl's",
          "Kohl's",
          "Kohl's",
          "Kohl's",
          "Kohl's",
          "Kohl's",
          "Kohl's",
          "Kohl's",
          "Kohl's",
          "Kohl's",
          "Kohl's",
          "Kohl's",
          "Kohl's",
          "Kohl's",
          "Kohl's",
          "Kohl's",
          "Kohl's",
          "Kohl's",
          "Kohl's",
          "Sports Direct",
          "Sports Direct",
          "Sports Direct",
          "Sports Direct",
          "Sports Direct",
          "Sports Direct",
          "Sports Direct",
          "Sports Direct",
          "Sports Direct",
          "Sports Direct",
          "Sports Direct",
          "Sports Direct",
          "Sports Direct",
          "Sports Direct",
          "Sports Direct",
          "Sports Direct",
          "Sports Direct",
          "Sports Direct",
          "Sports Direct",
          "Sports Direct",
          "Sports Direct",
          "Sports Direct",
          "Sports Direct",
          "Sports Direct",
          "Sports Direct",
          "Sports Direct",
          "Sports Direct",
          "Sports Direct",
          "Sports Direct",
          "Sports Direct",
          "Sports Direct",
          "Sports Direct",
          "Sports Direct",
          "Sports Direct",
          "Sports Direct",
          "Sports Direct",
          "Sports Direct",
          "Sports Direct",
          "Sports Direct",
          "Sports Direct",
          "Sports Direct",
          "Sports Direct",
          "Sports Direct",
          "Sports Direct",
          "Sports Direct",
          "Sports Direct",
          "Sports Direct",
          "Sports Direct",
          "Sports Direct",
          "Sports Direct",
          "Sports Direct",
          "Sports Direct",
          "Sports Direct",
          "Sports Direct",
          "Sports Direct",
          "Sports Direct",
          "Sports Direct",
          "Sports Direct",
          "Sports Direct",
          "Sports Direct",
          "Sports Direct",
          "Sports Direct",
          "Sports Direct",
          "Sports Direct",
          "Sports Direct",
          "Sports Direct",
          "Sports Direct",
          "Sports Direct",
          "Sports Direct",
          "Sports Direct",
          "Sports Direct",
          "Sports Direct",
          "Foot Locker",
          "Foot Locker",
          "Foot Locker",
          "Foot Locker",
          "Foot Locker",
          "Foot Locker",
          "Foot Locker",
          "Foot Locker",
          "Foot Locker",
          "Foot Locker",
          "Foot Locker",
          "Foot Locker",
          "Foot Locker",
          "Foot Locker",
          "Foot Locker",
          "Foot Locker",
          "Foot Locker",
          "Foot Locker",
          "Foot Locker",
          "Foot Locker",
          "Foot Locker",
          "Foot Locker",
          "Foot Locker",
          "Foot Locker",
          "Foot Locker",
          "Foot Locker",
          "Foot Locker",
          "Foot Locker",
          "Foot Locker",
          "Foot Locker",
          "Foot Locker",
          "Foot Locker",
          "Foot Locker",
          "Foot Locker",
          "Foot Locker",
          "Foot Locker",
          "Foot Locker",
          "Foot Locker",
          "Foot Locker",
          "Foot Locker",
          "Foot Locker",
          "Foot Locker",
          "Foot Locker",
          "Foot Locker",
          "Foot Locker",
          "Foot Locker",
          "Foot Locker",
          "Foot Locker",
          "Foot Locker",
          "Foot Locker",
          "Foot Locker",
          "Foot Locker",
          "Foot Locker",
          "Foot Locker",
          "Foot Locker",
          "Foot Locker",
          "Foot Locker",
          "Foot Locker",
          "Foot Locker",
          "Foot Locker",
          "Foot Locker",
          "Foot Locker",
          "Foot Locker",
          "Foot Locker",
          "Foot Locker",
          "Foot Locker",
          "Foot Locker",
          "Foot Locker",
          "Foot Locker",
          "Foot Locker",
          "Foot Locker",
          "Foot Locker",
          "Sports Direct",
          "Sports Direct",
          "Sports Direct",
          "Sports Direct",
          "Sports Direct",
          "Sports Direct",
          "Sports Direct",
          "Sports Direct",
          "Sports Direct",
          "Sports Direct",
          "Sports Direct",
          "Sports Direct",
          "Sports Direct",
          "Sports Direct",
          "Sports Direct",
          "Sports Direct",
          "Sports Direct",
          "Sports Direct",
          "Sports Direct",
          "Sports Direct",
          "Sports Direct",
          "Sports Direct",
          "Sports Direct",
          "Sports Direct",
          "Sports Direct",
          "Sports Direct",
          "Sports Direct",
          "Sports Direct",
          "Sports Direct",
          "Sports Direct",
          "Sports Direct",
          "Sports Direct",
          "Sports Direct",
          "Sports Direct",
          "Sports Direct",
          "Sports Direct",
          "Sports Direct",
          "Sports Direct",
          "Sports Direct",
          "Sports Direct",
          "Sports Direct",
          "Sports Direct",
          "Sports Direct",
          "Sports Direct",
          "Sports Direct",
          "Sports Direct",
          "Sports Direct",
          "Sports Direct",
          "Sports Direct",
          "Sports Direct",
          "Sports Direct",
          "Sports Direct",
          "Sports Direct",
          "Sports Direct",
          "Sports Direct",
          "Sports Direct",
          "Sports Direct",
          "Sports Direct",
          "Sports Direct",
          "Sports Direct",
          "Sports Direct",
          "Sports Direct",
          "Sports Direct",
          "Sports Direct",
          "Sports Direct",
          "Sports Direct",
          "Sports Direct",
          "Sports Direct",
          "Sports Direct",
          "Sports Direct",
          "Sports Direct",
          "Sports Direct",
          "Amazon",
          "Amazon",
          "Amazon",
          "Amazon",
          "Amazon",
          "Amazon",
          "Amazon",
          "Amazon",
          "Amazon",
          "Amazon",
          "Amazon",
          "Amazon",
          "Amazon",
          "Amazon",
          "Amazon",
          "Amazon",
          "Amazon",
          "Amazon",
          "Amazon",
          "Amazon",
          "Amazon",
          "Amazon",
          "Amazon",
          "Amazon",
          "Amazon",
          "Amazon",
          "Amazon",
          "Amazon",
          "Amazon",
          "Amazon",
          "Amazon",
          "Amazon",
          "Amazon",
          "Amazon",
          "Amazon",
          "Amazon",
          "Amazon",
          "Amazon",
          "Amazon",
          "Amazon",
          "Amazon",
          "Amazon",
          "Amazon",
          "Amazon",
          "Amazon",
          "Amazon",
          "Amazon",
          "Amazon",
          "Amazon",
          "Amazon",
          "Amazon",
          "Amazon",
          "Amazon",
          "Amazon",
          "Amazon",
          "Amazon",
          "Amazon",
          "Amazon",
          "Amazon",
          "Amazon",
          "Amazon",
          "Amazon",
          "Amazon",
          "Amazon",
          "Amazon",
          "Amazon",
          "Amazon",
          "Amazon",
          "Amazon",
          "Amazon",
          "Amazon",
          "Amazon",
          "West Gear",
          "West Gear",
          "West Gear",
          "West Gear",
          "Amazon",
          "Amazon",
          "Amazon",
          "Amazon",
          "Amazon",
          "Amazon",
          "Amazon",
          "Amazon",
          "Amazon",
          "Amazon",
          "Amazon",
          "Amazon",
          "Amazon",
          "Amazon",
          "Amazon",
          "Amazon",
          "Amazon",
          "Amazon",
          "Amazon",
          "Amazon",
          "Amazon",
          "Amazon",
          "Amazon",
          "Amazon",
          "Amazon",
          "Amazon",
          "Amazon",
          "Amazon",
          "Amazon",
          "Amazon",
          "Amazon",
          "Amazon",
          "Amazon",
          "Amazon",
          "Amazon",
          "Amazon",
          "Amazon",
          "Amazon",
          "Amazon",
          "Amazon",
          "Amazon",
          "Amazon",
          "Amazon",
          "Amazon",
          "Amazon",
          "Amazon",
          "Amazon",
          "Amazon",
          "Amazon",
          "Amazon",
          "Amazon",
          "Amazon",
          "Amazon",
          "Amazon",
          "Amazon",
          "Amazon",
          "Amazon",
          "Amazon",
          "Amazon",
          "Amazon",
          "Amazon",
          "Amazon",
          "Amazon",
          "Foot Locker",
          "Foot Locker",
          "Foot Locker",
          "Foot Locker",
          "Foot Locker",
          "Foot Locker",
          "Foot Locker",
          "Foot Locker",
          "Foot Locker",
          "Foot Locker",
          "Foot Locker",
          "Foot Locker",
          "Foot Locker",
          "Foot Locker",
          "Foot Locker",
          "Foot Locker",
          "Foot Locker",
          "Foot Locker",
          "Foot Locker",
          "Foot Locker",
          "Foot Locker",
          "Foot Locker",
          "Foot Locker",
          "Foot Locker",
          "Foot Locker",
          "Foot Locker",
          "Foot Locker",
          "Foot Locker",
          "Foot Locker",
          "Foot Locker",
          "Foot Locker",
          "Foot Locker",
          "Foot Locker",
          "Foot Locker",
          "Foot Locker",
          "Foot Locker",
          "Foot Locker",
          "Foot Locker",
          "Foot Locker",
          "Foot Locker",
          "Foot Locker",
          "Foot Locker",
          "Foot Locker",
          "Foot Locker",
          "Foot Locker",
          "Foot Locker",
          "Foot Locker",
          "Foot Locker",
          "Foot Locker",
          "Foot Locker",
          "Foot Locker",
          "Foot Locker",
          "Foot Locker",
          "Foot Locker",
          "Foot Locker",
          "Foot Locker",
          "Foot Locker",
          "Foot Locker",
          "Foot Locker",
          "Foot Locker",
          "Foot Locker",
          "Foot Locker",
          "Foot Locker",
          "Foot Locker",
          "Foot Locker",
          "Foot Locker",
          "Foot Locker",
          "Foot Locker",
          "Foot Locker",
          "Foot Locker",
          "Foot Locker",
          "Foot Locker",
          "Foot Locker",
          "Walmart",
          "Walmart",
          "Walmart",
          "Walmart",
          "Walmart",
          "Walmart",
          "Walmart",
          "Walmart",
          "Walmart",
          "Walmart",
          "Walmart",
          "Walmart",
          "Walmart",
          "Walmart",
          "Walmart",
          "Walmart",
          "Walmart",
          "Walmart",
          "Walmart",
          "Walmart",
          "Walmart",
          "Walmart",
          "Sports Direct",
          "Sports Direct",
          "Sports Direct",
          "Sports Direct",
          "Sports Direct",
          "Sports Direct",
          "Sports Direct",
          "Sports Direct",
          "Sports Direct",
          "Sports Direct",
          "Sports Direct",
          "Sports Direct",
          "Sports Direct",
          "Sports Direct",
          "Sports Direct",
          "Sports Direct",
          "Sports Direct",
          "Sports Direct",
          "Sports Direct",
          "Sports Direct",
          "Sports Direct",
          "Sports Direct",
          "Walmart",
          "Walmart",
          "Walmart",
          "Walmart",
          "Walmart",
          "Walmart",
          "Walmart",
          "Walmart",
          "Walmart",
          "Walmart",
          "Walmart",
          "Walmart",
          "Walmart",
          "Walmart",
          "Walmart",
          "Walmart",
          "Walmart",
          "Walmart",
          "Walmart",
          "Walmart",
          "Walmart",
          "Walmart",
          "Walmart",
          "Walmart",
          "Walmart",
          "Walmart",
          "Walmart",
          "Walmart",
          "Walmart",
          "Walmart",
          "Walmart",
          "Walmart",
          "Walmart",
          "Walmart",
          "Walmart",
          "Walmart",
          "Walmart",
          "Walmart",
          "Walmart",
          "Walmart",
          "Walmart",
          "Walmart",
          "Walmart",
          "Walmart",
          "Walmart",
          "Walmart",
          "Walmart",
          "Walmart",
          "Walmart",
          "Walmart",
          "West Gear",
          "West Gear",
          "West Gear",
          "West Gear",
          "West Gear",
          "West Gear",
          "West Gear",
          "West Gear",
          "West Gear",
          "West Gear",
          "West Gear",
          "West Gear",
          "West Gear",
          "West Gear",
          "West Gear",
          "West Gear",
          "West Gear",
          "West Gear",
          "West Gear",
          "West Gear",
          "West Gear",
          "West Gear",
          "West Gear",
          "West Gear",
          "West Gear",
          "West Gear",
          "West Gear",
          "West Gear",
          "West Gear",
          "West Gear",
          "West Gear",
          "West Gear",
          "West Gear",
          "West Gear",
          "West Gear",
          "West Gear",
          "West Gear",
          "West Gear",
          "West Gear",
          "West Gear",
          "West Gear",
          "West Gear",
          "West Gear",
          "West Gear",
          "West Gear",
          "West Gear",
          "West Gear",
          "West Gear",
          "West Gear",
          "West Gear",
          "West Gear",
          "West Gear",
          "West Gear",
          "West Gear",
          "West Gear",
          "West Gear",
          "West Gear",
          "West Gear",
          "West Gear",
          "West Gear",
          "West Gear",
          "West Gear",
          "West Gear",
          "West Gear",
          "West Gear",
          "West Gear",
          "West Gear",
          "West Gear",
          "West Gear",
          "West Gear",
          "West Gear",
          "West Gear",
          "Kohl's",
          "Kohl's",
          "Kohl's",
          "Kohl's",
          "Kohl's",
          "Kohl's",
          "Kohl's",
          "Kohl's",
          "Kohl's",
          "Kohl's",
          "Kohl's",
          "Kohl's",
          "Kohl's",
          "Kohl's",
          "Kohl's",
          "Kohl's",
          "Kohl's",
          "Kohl's",
          "Kohl's",
          "Kohl's",
          "Kohl's",
          "Kohl's",
          "Kohl's",
          "Kohl's",
          "Kohl's",
          "Kohl's",
          "Kohl's",
          "Kohl's",
          "Kohl's",
          "Kohl's",
          "Kohl's",
          "Kohl's",
          "Kohl's",
          "Kohl's",
          "Kohl's",
          "Kohl's",
          "Kohl's",
          "Kohl's",
          "Kohl's",
          "Kohl's",
          "Kohl's",
          "Kohl's",
          "Kohl's",
          "Kohl's",
          "Kohl's",
          "Kohl's",
          "Kohl's",
          "Kohl's",
          "Kohl's",
          "Kohl's",
          "Kohl's",
          "Kohl's",
          "Kohl's",
          "Kohl's",
          "Kohl's",
          "Kohl's",
          "Kohl's",
          "Kohl's",
          "Kohl's",
          "Kohl's",
          "Kohl's",
          "Kohl's",
          "Kohl's",
          "Kohl's",
          "Kohl's",
          "Kohl's",
          "Kohl's",
          "Kohl's",
          "Kohl's",
          "Kohl's",
          "Kohl's",
          "Kohl's",
          "Foot Locker",
          "Foot Locker",
          "Foot Locker",
          "Foot Locker",
          "Sports Direct",
          "Sports Direct",
          "Sports Direct",
          "Sports Direct",
          "Sports Direct",
          "Sports Direct",
          "Sports Direct",
          "Sports Direct",
          "Sports Direct",
          "Sports Direct",
          "Sports Direct",
          "Sports Direct",
          "Sports Direct",
          "Sports Direct",
          "Sports Direct",
          "Sports Direct",
          "Sports Direct",
          "Sports Direct",
          "Sports Direct",
          "Sports Direct",
          "Sports Direct",
          "Sports Direct",
          "Sports Direct",
          "Sports Direct",
          "Sports Direct",
          "Sports Direct",
          "Sports Direct",
          "Sports Direct",
          "Sports Direct",
          "Sports Direct",
          "Sports Direct",
          "Sports Direct",
          "Sports Direct",
          "Sports Direct",
          "Sports Direct",
          "Sports Direct",
          "Sports Direct",
          "Sports Direct",
          "Sports Direct",
          "Sports Direct",
          "Sports Direct",
          "Sports Direct",
          "Sports Direct",
          "Sports Direct",
          "Sports Direct",
          "Sports Direct",
          "Sports Direct",
          "Sports Direct",
          "Sports Direct",
          "Sports Direct",
          "Sports Direct",
          "Sports Direct",
          "Sports Direct",
          "Sports Direct",
          "Sports Direct",
          "Sports Direct",
          "Sports Direct",
          "Sports Direct",
          "Sports Direct",
          "Sports Direct",
          "Sports Direct",
          "Sports Direct",
          "Sports Direct",
          "Sports Direct",
          "Sports Direct",
          "Sports Direct",
          "Sports Direct",
          "Sports Direct",
          "Foot Locker",
          "Foot Locker",
          "Foot Locker",
          "Foot Locker",
          "Foot Locker",
          "Foot Locker",
          "Foot Locker",
          "Foot Locker",
          "Foot Locker",
          "Foot Locker",
          "Foot Locker",
          "Foot Locker",
          "Foot Locker",
          "Foot Locker",
          "Foot Locker",
          "Foot Locker",
          "Foot Locker",
          "Foot Locker",
          "Foot Locker",
          "Foot Locker",
          "Foot Locker",
          "Foot Locker",
          "Foot Locker",
          "Foot Locker",
          "Foot Locker",
          "Foot Locker",
          "Foot Locker",
          "Foot Locker",
          "Foot Locker",
          "Foot Locker",
          "Foot Locker",
          "Foot Locker",
          "Foot Locker",
          "Foot Locker",
          "Foot Locker",
          "Foot Locker",
          "Foot Locker",
          "Foot Locker",
          "Foot Locker",
          "Foot Locker",
          "Foot Locker",
          "Foot Locker",
          "Foot Locker",
          "Foot Locker",
          "Foot Locker",
          "Foot Locker",
          "Foot Locker",
          "Foot Locker",
          "Foot Locker",
          "Foot Locker",
          "Foot Locker",
          "Foot Locker",
          "Foot Locker",
          "Foot Locker",
          "Foot Locker",
          "Foot Locker",
          "Foot Locker",
          "Foot Locker",
          "Foot Locker",
          "Foot Locker",
          "Foot Locker",
          "Foot Locker",
          "Foot Locker",
          "Foot Locker",
          "Foot Locker",
          "Foot Locker",
          "Foot Locker",
          "Foot Locker",
          "Foot Locker",
          "Foot Locker",
          "Foot Locker",
          "Foot Locker",
          "West Gear",
          "West Gear",
          "West Gear",
          "West Gear",
          "West Gear",
          "West Gear",
          "West Gear",
          "West Gear",
          "West Gear",
          "West Gear",
          "West Gear",
          "West Gear",
          "West Gear",
          "West Gear",
          "West Gear",
          "West Gear",
          "West Gear",
          "West Gear",
          "West Gear",
          "West Gear",
          "West Gear",
          "West Gear",
          "West Gear",
          "West Gear",
          "West Gear",
          "West Gear",
          "West Gear",
          "West Gear",
          "West Gear",
          "West Gear",
          "West Gear",
          "West Gear",
          "West Gear",
          "West Gear",
          "West Gear",
          "West Gear",
          "West Gear",
          "West Gear",
          "West Gear",
          "West Gear",
          "West Gear",
          "West Gear",
          "West Gear",
          "West Gear",
          "West Gear",
          "West Gear",
          "West Gear",
          "West Gear",
          "West Gear",
          "West Gear",
          "West Gear",
          "West Gear",
          "West Gear",
          "West Gear",
          "West Gear",
          "West Gear",
          "West Gear",
          "West Gear",
          "West Gear",
          "West Gear",
          "West Gear",
          "West Gear",
          "West Gear",
          "West Gear",
          "West Gear",
          "West Gear",
          "West Gear",
          "West Gear",
          "West Gear",
          "West Gear",
          "West Gear",
          "West Gear",
          "West Gear",
          "West Gear",
          "West Gear",
          "West Gear",
          "Sports Direct",
          "Sports Direct",
          "Sports Direct",
          "Sports Direct",
          "Sports Direct",
          "Sports Direct",
          "Sports Direct",
          "Sports Direct",
          "Sports Direct",
          "Sports Direct",
          "Sports Direct",
          "Sports Direct",
          "Sports Direct",
          "Sports Direct",
          "Sports Direct",
          "Sports Direct",
          "Sports Direct",
          "Sports Direct",
          "Sports Direct",
          "Sports Direct",
          "Sports Direct",
          "Sports Direct",
          "Sports Direct",
          "Sports Direct",
          "Sports Direct",
          "Sports Direct",
          "Sports Direct",
          "Sports Direct",
          "Sports Direct",
          "Sports Direct",
          "Sports Direct",
          "Sports Direct",
          "Sports Direct",
          "Sports Direct",
          "Sports Direct",
          "Sports Direct",
          "Sports Direct",
          "Sports Direct",
          "Sports Direct",
          "Sports Direct",
          "Sports Direct",
          "Sports Direct",
          "Sports Direct",
          "Sports Direct",
          "Sports Direct",
          "Sports Direct",
          "Sports Direct",
          "Sports Direct",
          "Sports Direct",
          "Sports Direct",
          "Sports Direct",
          "Sports Direct",
          "Sports Direct",
          "Sports Direct",
          "Sports Direct",
          "Sports Direct",
          "Sports Direct",
          "Sports Direct",
          "Sports Direct",
          "Sports Direct",
          "Sports Direct",
          "Sports Direct",
          "Sports Direct",
          "Sports Direct",
          "Sports Direct",
          "Sports Direct",
          "Sports Direct",
          "Sports Direct",
          "Foot Locker",
          "Foot Locker",
          "Foot Locker",
          "Foot Locker",
          "Sports Direct",
          "Sports Direct",
          "Sports Direct",
          "Sports Direct",
          "Sports Direct",
          "Sports Direct",
          "Sports Direct",
          "Sports Direct",
          "Sports Direct",
          "Sports Direct",
          "Sports Direct",
          "Sports Direct",
          "Sports Direct",
          "Sports Direct",
          "Sports Direct",
          "Sports Direct",
          "Sports Direct",
          "Sports Direct",
          "Sports Direct",
          "Sports Direct",
          "Sports Direct",
          "Sports Direct",
          "Sports Direct",
          "Sports Direct",
          "Sports Direct",
          "Sports Direct",
          "Sports Direct",
          "Sports Direct",
          "Sports Direct",
          "Sports Direct",
          "Sports Direct",
          "Sports Direct",
          "Sports Direct",
          "Sports Direct",
          "Sports Direct",
          "Sports Direct",
          "Sports Direct",
          "Sports Direct",
          "Sports Direct",
          "Sports Direct",
          "Sports Direct",
          "Sports Direct",
          "Sports Direct",
          "Sports Direct",
          "Sports Direct",
          "Sports Direct",
          "Sports Direct",
          "Sports Direct",
          "Sports Direct",
          "Sports Direct",
          "Sports Direct",
          "Sports Direct",
          "Sports Direct",
          "Sports Direct",
          "Sports Direct",
          "Sports Direct",
          "Sports Direct",
          "Sports Direct",
          "Sports Direct",
          "Sports Direct",
          "Sports Direct",
          "Sports Direct",
          "Sports Direct",
          "Sports Direct",
          "Sports Direct",
          "Sports Direct",
          "Sports Direct",
          "Sports Direct",
          "Amazon",
          "Amazon",
          "Amazon",
          "Amazon",
          "Sports Direct",
          "Sports Direct",
          "Sports Direct",
          "Sports Direct",
          "Sports Direct",
          "Sports Direct",
          "Sports Direct",
          "Sports Direct",
          "Sports Direct",
          "Walmart",
          "Walmart",
          "Walmart",
          "Walmart",
          "Walmart",
          "Walmart",
          "Walmart",
          "Walmart",
          "Walmart",
          "Walmart",
          "Walmart",
          "Walmart",
          "Walmart",
          "Walmart",
          "Walmart",
          "Walmart",
          "Walmart",
          "Walmart",
          "Walmart",
          "Walmart",
          "Walmart",
          "Walmart",
          "Walmart",
          "Walmart",
          "Walmart",
          "Walmart",
          "Walmart",
          "Walmart",
          "Walmart",
          "Walmart",
          "Walmart",
          "Walmart",
          "Walmart",
          "Walmart",
          "Walmart",
          "Walmart",
          "Walmart",
          "Walmart",
          "Walmart",
          "Walmart",
          "Walmart",
          "Walmart",
          "Walmart",
          "Walmart",
          "Walmart",
          "Walmart",
          "Walmart",
          "Walmart",
          "Walmart",
          "Walmart",
          "West Gear",
          "West Gear",
          "West Gear",
          "West Gear",
          "West Gear",
          "West Gear",
          "West Gear",
          "West Gear",
          "West Gear",
          "West Gear",
          "West Gear",
          "West Gear",
          "West Gear",
          "Foot Locker",
          "Foot Locker",
          "Foot Locker",
          "Foot Locker",
          "Foot Locker",
          "Foot Locker",
          "Foot Locker",
          "Foot Locker",
          "Foot Locker",
          "Foot Locker",
          "Foot Locker",
          "Foot Locker",
          "Foot Locker",
          "Foot Locker",
          "Foot Locker",
          "Foot Locker",
          "Foot Locker",
          "Foot Locker",
          "Foot Locker",
          "Foot Locker",
          "Foot Locker",
          "Foot Locker",
          "Foot Locker",
          "Foot Locker",
          "Foot Locker",
          "Foot Locker",
          "Foot Locker",
          "Foot Locker",
          "Foot Locker",
          "Foot Locker",
          "Foot Locker",
          "Foot Locker",
          "Foot Locker",
          "Foot Locker",
          "Foot Locker",
          "Foot Locker",
          "Foot Locker",
          "Foot Locker",
          "Foot Locker",
          "Foot Locker",
          "Foot Locker",
          "Foot Locker",
          "Foot Locker",
          "Foot Locker",
          "Foot Locker",
          "Foot Locker",
          "Foot Locker",
          "Foot Locker",
          "Foot Locker",
          "Foot Locker",
          "Foot Locker",
          "Foot Locker",
          "Foot Locker",
          "Foot Locker",
          "Foot Locker",
          "Foot Locker",
          "Foot Locker",
          "Foot Locker",
          "Foot Locker",
          "Sports Direct",
          "Sports Direct",
          "Sports Direct",
          "Sports Direct",
          "Sports Direct",
          "Sports Direct",
          "Sports Direct",
          "Sports Direct",
          "Sports Direct",
          "Sports Direct",
          "Sports Direct",
          "Sports Direct",
          "Sports Direct",
          "West Gear",
          "West Gear",
          "West Gear",
          "West Gear",
          "West Gear",
          "West Gear",
          "West Gear",
          "West Gear",
          "West Gear",
          "West Gear",
          "West Gear",
          "West Gear",
          "West Gear",
          "West Gear",
          "West Gear",
          "West Gear",
          "West Gear",
          "West Gear",
          "West Gear",
          "West Gear",
          "West Gear",
          "West Gear",
          "West Gear",
          "West Gear",
          "West Gear",
          "West Gear",
          "West Gear",
          "West Gear",
          "West Gear",
          "West Gear",
          "West Gear",
          "West Gear",
          "West Gear",
          "West Gear",
          "West Gear",
          "West Gear",
          "West Gear",
          "West Gear",
          "West Gear",
          "West Gear",
          "West Gear",
          "West Gear",
          "West Gear",
          "West Gear",
          "West Gear",
          "West Gear",
          "West Gear",
          "West Gear",
          "West Gear",
          "West Gear",
          "West Gear",
          "West Gear",
          "West Gear",
          "West Gear",
          "West Gear",
          "West Gear",
          "West Gear",
          "West Gear",
          "West Gear",
          "West Gear",
          "West Gear",
          "West Gear",
          "West Gear",
          "West Gear",
          "West Gear",
          "West Gear",
          "West Gear",
          "West Gear",
          "West Gear",
          "West Gear",
          "West Gear",
          "West Gear",
          "West Gear",
          "West Gear",
          "West Gear",
          "West Gear",
          "West Gear",
          "West Gear",
          "West Gear",
          "West Gear",
          "West Gear",
          "West Gear",
          "West Gear",
          "West Gear",
          "West Gear",
          "West Gear",
          "West Gear",
          "West Gear",
          "West Gear",
          "West Gear",
          "West Gear",
          "West Gear",
          "West Gear",
          "West Gear",
          "West Gear",
          "West Gear",
          "West Gear",
          "West Gear",
          "West Gear",
          "West Gear",
          "West Gear",
          "West Gear",
          "West Gear",
          "West Gear",
          "West Gear",
          "West Gear",
          "West Gear",
          "West Gear",
          "West Gear",
          "West Gear",
          "West Gear",
          "West Gear",
          "West Gear",
          "West Gear",
          "West Gear",
          "West Gear",
          "West Gear",
          "West Gear",
          "West Gear",
          "West Gear",
          "West Gear",
          "West Gear",
          "West Gear",
          "West Gear",
          "West Gear",
          "West Gear",
          "West Gear",
          "West Gear",
          "West Gear",
          "West Gear",
          "West Gear",
          "West Gear",
          "West Gear",
          "West Gear",
          "West Gear",
          "West Gear",
          "West Gear",
          "West Gear",
          "West Gear",
          "West Gear",
          "West Gear",
          "West Gear",
          "West Gear",
          "West Gear",
          "West Gear",
          "West Gear",
          "West Gear",
          "West Gear",
          "West Gear",
          "West Gear",
          "West Gear",
          "West Gear",
          "West Gear",
          "West Gear",
          "West Gear",
          "West Gear",
          "West Gear",
          "West Gear",
          "West Gear",
          "West Gear",
          "West Gear",
          "West Gear",
          "West Gear",
          "West Gear",
          "West Gear",
          "West Gear",
          "West Gear",
          "West Gear",
          "West Gear",
          "West Gear",
          "West Gear",
          "West Gear",
          "West Gear",
          "West Gear",
          "West Gear",
          "West Gear",
          "West Gear",
          "West Gear",
          "West Gear",
          "West Gear",
          "West Gear",
          "West Gear",
          "West Gear",
          "West Gear",
          "West Gear",
          "West Gear",
          "West Gear",
          "West Gear",
          "West Gear",
          "West Gear",
          "West Gear",
          "West Gear",
          "West Gear",
          "West Gear",
          "West Gear",
          "West Gear",
          "West Gear",
          "West Gear",
          "West Gear",
          "West Gear",
          "West Gear",
          "West Gear",
          "West Gear",
          "Foot Locker",
          "Foot Locker",
          "Foot Locker",
          "Foot Locker",
          "Foot Locker",
          "Foot Locker",
          "Foot Locker",
          "Foot Locker",
          "Foot Locker",
          "West Gear",
          "Foot Locker",
          "Foot Locker",
          "Foot Locker",
          "Foot Locker",
          "Foot Locker",
          "Foot Locker",
          "Foot Locker",
          "Foot Locker",
          "Foot Locker",
          "Foot Locker",
          "West Gear",
          "West Gear",
          "West Gear",
          "West Gear",
          "West Gear",
          "West Gear",
          "West Gear",
          "West Gear",
          "West Gear",
          "West Gear",
          "West Gear",
          "West Gear",
          "West Gear",
          "West Gear",
          "West Gear",
          "West Gear",
          "West Gear",
          "West Gear",
          "West Gear",
          "West Gear",
          "West Gear",
          "West Gear",
          "West Gear",
          "West Gear",
          "West Gear",
          "Foot Locker",
          "Foot Locker",
          "Foot Locker",
          "Foot Locker",
          "Foot Locker",
          "Sports Direct",
          "Sports Direct",
          "Sports Direct",
          "Sports Direct",
          "Sports Direct",
          "Sports Direct",
          "Sports Direct",
          "Sports Direct",
          "Sports Direct",
          "Sports Direct",
          "Sports Direct",
          "Sports Direct",
          "Sports Direct",
          "Sports Direct",
          "Sports Direct",
          "Sports Direct",
          "Sports Direct",
          "Sports Direct",
          "Sports Direct",
          "Sports Direct",
          "Foot Locker",
          "Foot Locker",
          "Foot Locker",
          "Foot Locker",
          "Foot Locker",
          "Foot Locker",
          "Foot Locker",
          "Foot Locker",
          "Foot Locker",
          "Foot Locker",
          "Foot Locker",
          "Foot Locker",
          "Foot Locker",
          "Foot Locker",
          "Foot Locker",
          "Foot Locker",
          "Foot Locker",
          "Foot Locker",
          "Foot Locker",
          "Foot Locker",
          "Foot Locker",
          "Foot Locker",
          "Foot Locker",
          "Foot Locker",
          "Foot Locker",
          "Foot Locker",
          "Foot Locker",
          "Foot Locker",
          "Foot Locker",
          "Foot Locker",
          "Foot Locker",
          "Foot Locker",
          "Foot Locker",
          "Foot Locker",
          "Foot Locker",
          "Foot Locker",
          "Foot Locker",
          "Foot Locker",
          "Foot Locker",
          "Foot Locker",
          "Foot Locker",
          "Foot Locker",
          "Foot Locker",
          "Foot Locker",
          "Foot Locker",
          "Foot Locker",
          "Foot Locker",
          "Foot Locker",
          "Foot Locker",
          "Foot Locker",
          "Foot Locker",
          "Foot Locker",
          "Foot Locker",
          "Foot Locker",
          "Foot Locker",
          "Foot Locker",
          "Foot Locker",
          "Foot Locker",
          "Foot Locker",
          "Foot Locker",
          "Foot Locker",
          "Foot Locker",
          "Foot Locker",
          "Foot Locker",
          "Foot Locker",
          "Foot Locker",
          "Foot Locker",
          "Foot Locker",
          "Foot Locker",
          "Foot Locker",
          "Foot Locker",
          "Foot Locker",
          "Foot Locker",
          "Foot Locker",
          "Kohl's",
          "Kohl's",
          "Kohl's",
          "Kohl's",
          "Kohl's",
          "Kohl's",
          "Kohl's",
          "Kohl's",
          "Kohl's",
          "Kohl's",
          "Kohl's",
          "Kohl's",
          "Kohl's",
          "Kohl's",
          "Kohl's",
          "Kohl's",
          "Kohl's",
          "Kohl's",
          "Kohl's",
          "Kohl's",
          "Kohl's",
          "Kohl's",
          "Kohl's",
          "Kohl's",
          "Kohl's",
          "Kohl's",
          "Kohl's",
          "Kohl's",
          "Kohl's",
          "Kohl's",
          "Kohl's",
          "Kohl's",
          "Kohl's",
          "Kohl's",
          "Kohl's",
          "Kohl's",
          "Kohl's",
          "Kohl's",
          "Kohl's",
          "Kohl's",
          "Kohl's",
          "Kohl's",
          "Kohl's",
          "Kohl's",
          "Kohl's",
          "Kohl's",
          "Kohl's",
          "Kohl's",
          "Kohl's",
          "Kohl's",
          "Kohl's",
          "Kohl's",
          "Kohl's",
          "Kohl's",
          "Kohl's",
          "Kohl's",
          "Kohl's",
          "Kohl's",
          "Kohl's",
          "Kohl's",
          "Kohl's",
          "Kohl's",
          "Kohl's",
          "Kohl's",
          "Kohl's",
          "Kohl's",
          "Kohl's",
          "Kohl's",
          "Kohl's",
          "Kohl's",
          "Kohl's",
          "Kohl's",
          "Sports Direct",
          "Sports Direct",
          "Sports Direct",
          "Sports Direct",
          "Sports Direct",
          "Sports Direct",
          "Sports Direct",
          "Sports Direct",
          "Sports Direct",
          "Sports Direct",
          "Sports Direct",
          "Sports Direct",
          "Sports Direct",
          "Sports Direct",
          "Sports Direct",
          "Sports Direct",
          "Sports Direct",
          "Sports Direct",
          "Sports Direct",
          "Sports Direct",
          "Sports Direct",
          "Sports Direct",
          "Sports Direct",
          "Sports Direct",
          "Sports Direct",
          "Sports Direct",
          "Sports Direct",
          "Sports Direct",
          "Sports Direct",
          "Sports Direct",
          "Sports Direct",
          "Sports Direct",
          "Sports Direct",
          "Sports Direct",
          "Sports Direct",
          "Sports Direct",
          "Sports Direct",
          "Sports Direct",
          "Sports Direct",
          "Sports Direct",
          "Sports Direct",
          "Sports Direct",
          "Sports Direct",
          "Sports Direct",
          "Sports Direct",
          "Sports Direct",
          "Sports Direct",
          "Sports Direct",
          "Sports Direct",
          "Sports Direct",
          "Sports Direct",
          "Sports Direct",
          "Sports Direct",
          "Sports Direct",
          "Sports Direct",
          "Sports Direct",
          "Sports Direct",
          "Sports Direct",
          "Sports Direct",
          "Sports Direct",
          "Sports Direct",
          "Sports Direct",
          "Sports Direct",
          "Sports Direct",
          "Sports Direct",
          "Sports Direct",
          "Sports Direct",
          "Sports Direct",
          "Sports Direct",
          "Sports Direct",
          "Sports Direct",
          "Sports Direct",
          "Foot Locker",
          "Foot Locker",
          "Foot Locker",
          "Foot Locker",
          "Foot Locker",
          "Foot Locker",
          "Foot Locker",
          "Foot Locker",
          "Foot Locker",
          "Foot Locker",
          "Foot Locker",
          "Foot Locker",
          "Foot Locker",
          "Foot Locker",
          "Foot Locker",
          "Foot Locker",
          "Foot Locker",
          "Foot Locker",
          "Foot Locker",
          "Foot Locker",
          "Foot Locker",
          "Foot Locker",
          "Foot Locker",
          "Foot Locker",
          "Foot Locker",
          "Foot Locker",
          "Foot Locker",
          "Foot Locker",
          "Foot Locker",
          "Foot Locker",
          "Foot Locker",
          "Foot Locker",
          "Foot Locker",
          "Foot Locker",
          "Foot Locker",
          "Foot Locker",
          "Foot Locker",
          "Foot Locker",
          "Foot Locker",
          "Foot Locker",
          "Foot Locker",
          "Walmart",
          "Walmart",
          "Walmart",
          "Walmart",
          "Walmart",
          "Walmart",
          "Walmart",
          "Walmart",
          "Walmart",
          "Walmart",
          "Walmart",
          "Walmart",
          "Walmart",
          "Walmart",
          "Walmart",
          "Walmart",
          "Walmart",
          "Walmart",
          "Walmart",
          "Walmart",
          "Walmart",
          "Walmart",
          "Sports Direct",
          "Sports Direct",
          "Sports Direct",
          "Sports Direct",
          "Sports Direct",
          "Sports Direct",
          "Sports Direct",
          "Sports Direct",
          "Sports Direct",
          "Sports Direct",
          "Sports Direct",
          "Sports Direct",
          "Sports Direct",
          "Sports Direct",
          "Sports Direct",
          "Sports Direct",
          "Sports Direct",
          "Sports Direct",
          "Sports Direct",
          "Sports Direct",
          "Sports Direct",
          "Sports Direct",
          "Walmart",
          "Walmart",
          "Walmart",
          "Walmart",
          "Walmart",
          "Walmart",
          "Walmart",
          "Walmart",
          "Walmart",
          "Walmart",
          "Walmart",
          "Walmart",
          "Walmart",
          "Walmart",
          "Walmart",
          "Walmart",
          "Walmart",
          "Walmart",
          "Walmart",
          "Walmart",
          "Walmart",
          "Walmart",
          "Walmart",
          "Walmart",
          "Walmart",
          "Walmart",
          "Walmart",
          "Walmart",
          "Walmart",
          "Walmart",
          "Walmart",
          "Walmart",
          "Walmart",
          "Walmart",
          "Walmart",
          "Walmart",
          "Walmart",
          "Walmart",
          "Walmart",
          "Walmart",
          "Walmart",
          "Walmart",
          "Walmart",
          "Walmart",
          "Walmart",
          "Walmart",
          "Walmart",
          "Walmart",
          "Walmart",
          "Walmart",
          "West Gear",
          "West Gear",
          "West Gear",
          "West Gear",
          "West Gear",
          "West Gear",
          "West Gear",
          "West Gear",
          "West Gear",
          "West Gear",
          "West Gear",
          "West Gear",
          "West Gear",
          "West Gear",
          "West Gear",
          "West Gear",
          "West Gear",
          "West Gear",
          "West Gear",
          "West Gear",
          "West Gear",
          "West Gear",
          "West Gear",
          "West Gear",
          "West Gear",
          "West Gear",
          "West Gear",
          "West Gear",
          "West Gear",
          "West Gear",
          "West Gear",
          "West Gear",
          "West Gear",
          "West Gear",
          "West Gear",
          "West Gear",
          "West Gear",
          "West Gear",
          "West Gear",
          "West Gear",
          "West Gear",
          "West Gear",
          "West Gear",
          "West Gear",
          "West Gear",
          "West Gear",
          "West Gear",
          "West Gear",
          "West Gear",
          "West Gear",
          "West Gear",
          "West Gear",
          "West Gear",
          "West Gear",
          "West Gear",
          "West Gear",
          "West Gear",
          "West Gear",
          "West Gear",
          "West Gear",
          "West Gear",
          "West Gear",
          "West Gear",
          "West Gear",
          "West Gear",
          "West Gear",
          "West Gear",
          "West Gear",
          "West Gear",
          "West Gear",
          "West Gear",
          "West Gear",
          "Kohl's",
          "Kohl's",
          "Kohl's",
          "Kohl's",
          "Kohl's",
          "Kohl's",
          "Kohl's",
          "Kohl's",
          "Kohl's",
          "Kohl's",
          "Kohl's",
          "Kohl's",
          "Kohl's",
          "Kohl's",
          "Kohl's",
          "Kohl's",
          "Kohl's",
          "Kohl's",
          "Kohl's",
          "Kohl's",
          "Kohl's",
          "Kohl's",
          "Sports Direct",
          "Sports Direct",
          "Sports Direct",
          "Sports Direct",
          "Sports Direct",
          "Sports Direct",
          "Sports Direct",
          "Sports Direct",
          "Sports Direct",
          "Sports Direct",
          "Sports Direct",
          "Sports Direct",
          "Sports Direct",
          "Sports Direct",
          "Sports Direct",
          "Sports Direct",
          "Sports Direct",
          "Sports Direct",
          "Sports Direct",
          "Sports Direct",
          "Sports Direct",
          "Sports Direct",
          "Sports Direct",
          "Sports Direct",
          "Sports Direct",
          "Sports Direct",
          "Sports Direct",
          "Sports Direct",
          "Sports Direct",
          "Sports Direct",
          "Sports Direct",
          "Sports Direct",
          "Sports Direct",
          "Sports Direct",
          "Sports Direct",
          "Sports Direct",
          "Sports Direct",
          "Sports Direct",
          "Sports Direct",
          "Sports Direct",
          "Sports Direct",
          "Sports Direct",
          "Sports Direct",
          "Sports Direct",
          "Sports Direct",
          "Sports Direct",
          "Sports Direct",
          "Sports Direct",
          "Sports Direct",
          "Sports Direct",
          "Foot Locker",
          "Foot Locker",
          "Foot Locker",
          "Foot Locker",
          "Foot Locker",
          "Foot Locker",
          "Foot Locker",
          "Foot Locker",
          "Foot Locker",
          "Foot Locker",
          "Foot Locker",
          "Foot Locker",
          "Foot Locker",
          "Foot Locker",
          "Foot Locker",
          "Foot Locker",
          "Foot Locker",
          "Foot Locker",
          "Foot Locker",
          "Foot Locker",
          "Foot Locker",
          "Foot Locker",
          "Foot Locker",
          "Foot Locker",
          "Foot Locker",
          "Foot Locker",
          "Foot Locker",
          "Foot Locker",
          "Foot Locker",
          "Foot Locker",
          "Foot Locker",
          "Foot Locker",
          "Foot Locker",
          "Foot Locker",
          "Foot Locker",
          "Foot Locker",
          "Foot Locker",
          "Foot Locker",
          "Foot Locker",
          "Foot Locker",
          "Foot Locker",
          "Foot Locker",
          "Foot Locker",
          "Foot Locker",
          "Foot Locker",
          "Foot Locker",
          "Foot Locker",
          "Foot Locker",
          "Foot Locker",
          "Foot Locker",
          "Foot Locker",
          "Foot Locker",
          "Foot Locker",
          "Foot Locker",
          "Foot Locker",
          "Foot Locker",
          "Foot Locker",
          "Foot Locker",
          "Foot Locker",
          "Foot Locker",
          "Foot Locker",
          "Foot Locker",
          "Foot Locker",
          "Foot Locker",
          "Foot Locker",
          "Foot Locker",
          "Foot Locker",
          "Foot Locker",
          "Foot Locker",
          "Foot Locker",
          "Foot Locker",
          "Foot Locker",
          "Sports Direct",
          "Sports Direct",
          "Sports Direct",
          "Sports Direct",
          "Sports Direct",
          "Sports Direct",
          "Sports Direct",
          "Sports Direct",
          "Sports Direct",
          "Sports Direct",
          "Sports Direct",
          "Sports Direct",
          "Sports Direct",
          "Sports Direct",
          "Sports Direct",
          "Sports Direct",
          "Sports Direct",
          "Sports Direct",
          "Sports Direct",
          "Sports Direct",
          "Sports Direct",
          "Sports Direct",
          "Sports Direct",
          "Sports Direct",
          "Sports Direct",
          "Sports Direct",
          "Sports Direct",
          "Sports Direct",
          "Sports Direct",
          "Sports Direct",
          "Sports Direct",
          "Sports Direct",
          "Sports Direct",
          "Sports Direct",
          "Sports Direct",
          "Sports Direct",
          "Sports Direct",
          "Sports Direct",
          "Sports Direct",
          "Sports Direct",
          "Sports Direct",
          "Sports Direct",
          "Sports Direct",
          "Sports Direct",
          "Sports Direct",
          "Sports Direct",
          "Sports Direct",
          "Sports Direct",
          "Sports Direct",
          "Sports Direct",
          "Sports Direct",
          "Sports Direct",
          "Sports Direct",
          "Sports Direct",
          "Sports Direct",
          "Sports Direct",
          "Sports Direct",
          "Sports Direct",
          "Sports Direct",
          "Sports Direct",
          "Sports Direct",
          "Sports Direct",
          "Sports Direct",
          "Sports Direct",
          "Sports Direct",
          "Sports Direct",
          "Sports Direct",
          "Sports Direct",
          "Sports Direct",
          "Sports Direct",
          "Sports Direct",
          "Sports Direct",
          "Amazon",
          "Amazon",
          "Amazon",
          "Amazon",
          "Amazon",
          "Amazon",
          "Amazon",
          "Amazon",
          "Amazon",
          "Amazon",
          "Amazon",
          "Amazon",
          "Amazon",
          "Amazon",
          "Amazon",
          "Amazon",
          "Amazon",
          "Amazon",
          "Amazon",
          "Amazon",
          "Amazon",
          "Amazon",
          "Amazon",
          "Amazon",
          "Amazon",
          "Amazon",
          "Amazon",
          "Amazon",
          "Amazon",
          "Amazon",
          "Amazon",
          "Amazon",
          "Amazon",
          "Amazon",
          "Amazon",
          "Amazon",
          "Amazon",
          "Amazon",
          "Amazon",
          "Amazon",
          "Amazon",
          "Amazon",
          "Amazon",
          "Amazon",
          "Amazon",
          "Amazon",
          "Amazon",
          "Amazon",
          "Amazon",
          "Amazon",
          "Amazon",
          "Amazon",
          "Amazon",
          "Amazon",
          "Amazon",
          "Amazon",
          "Amazon",
          "Amazon",
          "Amazon",
          "Amazon",
          "Amazon",
          "Amazon",
          "Amazon",
          "Amazon",
          "Amazon",
          "Amazon",
          "Amazon",
          "Amazon",
          "Amazon",
          "Amazon",
          "Amazon",
          "Amazon",
          "West Gear",
          "West Gear",
          "West Gear",
          "West Gear",
          "Amazon",
          "Amazon",
          "Amazon",
          "Amazon",
          "Amazon",
          "Amazon",
          "Amazon",
          "Amazon",
          "Amazon",
          "Amazon",
          "Amazon",
          "Amazon",
          "Amazon",
          "Amazon",
          "Amazon",
          "Amazon",
          "Amazon",
          "Amazon",
          "Amazon",
          "Amazon",
          "Amazon",
          "Amazon",
          "Amazon",
          "Amazon",
          "Amazon",
          "Amazon",
          "Amazon",
          "Amazon",
          "Amazon",
          "Amazon",
          "Amazon",
          "Amazon",
          "Amazon",
          "Amazon",
          "Amazon",
          "Amazon",
          "Amazon",
          "Amazon",
          "Amazon",
          "Amazon",
          "Amazon",
          "Amazon",
          "Amazon",
          "Amazon",
          "Amazon",
          "Amazon",
          "Amazon",
          "Amazon",
          "Amazon",
          "Amazon",
          "Amazon",
          "Amazon",
          "Amazon",
          "Amazon",
          "Amazon",
          "Amazon",
          "Amazon",
          "Amazon",
          "Amazon",
          "Amazon",
          "Amazon",
          "Amazon",
          "Amazon",
          "Foot Locker",
          "Foot Locker",
          "Foot Locker",
          "Foot Locker",
          "Foot Locker",
          "Foot Locker",
          "Foot Locker",
          "Foot Locker",
          "Foot Locker",
          "Foot Locker",
          "Foot Locker",
          "Foot Locker",
          "Foot Locker",
          "Foot Locker",
          "Foot Locker",
          "Foot Locker",
          "Foot Locker",
          "Foot Locker",
          "Foot Locker",
          "Foot Locker",
          "Foot Locker",
          "Foot Locker",
          "Foot Locker",
          "Foot Locker",
          "Foot Locker",
          "Foot Locker",
          "Foot Locker"
         ],
         "xaxis": "x",
         "yaxis": "y"
        }
       ],
       "layout": {
        "barmode": "relative",
        "legend": {
         "tracegroupgap": 0
        },
        "margin": {
         "t": 60
        },
        "template": {
         "data": {
          "bar": [
           {
            "error_x": {
             "color": "#2a3f5f"
            },
            "error_y": {
             "color": "#2a3f5f"
            },
            "marker": {
             "line": {
              "color": "#E5ECF6",
              "width": 0.5
             },
             "pattern": {
              "fillmode": "overlay",
              "size": 10,
              "solidity": 0.2
             }
            },
            "type": "bar"
           }
          ],
          "barpolar": [
           {
            "marker": {
             "line": {
              "color": "#E5ECF6",
              "width": 0.5
             },
             "pattern": {
              "fillmode": "overlay",
              "size": 10,
              "solidity": 0.2
             }
            },
            "type": "barpolar"
           }
          ],
          "carpet": [
           {
            "aaxis": {
             "endlinecolor": "#2a3f5f",
             "gridcolor": "white",
             "linecolor": "white",
             "minorgridcolor": "white",
             "startlinecolor": "#2a3f5f"
            },
            "baxis": {
             "endlinecolor": "#2a3f5f",
             "gridcolor": "white",
             "linecolor": "white",
             "minorgridcolor": "white",
             "startlinecolor": "#2a3f5f"
            },
            "type": "carpet"
           }
          ],
          "choropleth": [
           {
            "colorbar": {
             "outlinewidth": 0,
             "ticks": ""
            },
            "type": "choropleth"
           }
          ],
          "contour": [
           {
            "colorbar": {
             "outlinewidth": 0,
             "ticks": ""
            },
            "colorscale": [
             [
              0,
              "#0d0887"
             ],
             [
              0.1111111111111111,
              "#46039f"
             ],
             [
              0.2222222222222222,
              "#7201a8"
             ],
             [
              0.3333333333333333,
              "#9c179e"
             ],
             [
              0.4444444444444444,
              "#bd3786"
             ],
             [
              0.5555555555555556,
              "#d8576b"
             ],
             [
              0.6666666666666666,
              "#ed7953"
             ],
             [
              0.7777777777777778,
              "#fb9f3a"
             ],
             [
              0.8888888888888888,
              "#fdca26"
             ],
             [
              1,
              "#f0f921"
             ]
            ],
            "type": "contour"
           }
          ],
          "contourcarpet": [
           {
            "colorbar": {
             "outlinewidth": 0,
             "ticks": ""
            },
            "type": "contourcarpet"
           }
          ],
          "heatmap": [
           {
            "colorbar": {
             "outlinewidth": 0,
             "ticks": ""
            },
            "colorscale": [
             [
              0,
              "#0d0887"
             ],
             [
              0.1111111111111111,
              "#46039f"
             ],
             [
              0.2222222222222222,
              "#7201a8"
             ],
             [
              0.3333333333333333,
              "#9c179e"
             ],
             [
              0.4444444444444444,
              "#bd3786"
             ],
             [
              0.5555555555555556,
              "#d8576b"
             ],
             [
              0.6666666666666666,
              "#ed7953"
             ],
             [
              0.7777777777777778,
              "#fb9f3a"
             ],
             [
              0.8888888888888888,
              "#fdca26"
             ],
             [
              1,
              "#f0f921"
             ]
            ],
            "type": "heatmap"
           }
          ],
          "heatmapgl": [
           {
            "colorbar": {
             "outlinewidth": 0,
             "ticks": ""
            },
            "colorscale": [
             [
              0,
              "#0d0887"
             ],
             [
              0.1111111111111111,
              "#46039f"
             ],
             [
              0.2222222222222222,
              "#7201a8"
             ],
             [
              0.3333333333333333,
              "#9c179e"
             ],
             [
              0.4444444444444444,
              "#bd3786"
             ],
             [
              0.5555555555555556,
              "#d8576b"
             ],
             [
              0.6666666666666666,
              "#ed7953"
             ],
             [
              0.7777777777777778,
              "#fb9f3a"
             ],
             [
              0.8888888888888888,
              "#fdca26"
             ],
             [
              1,
              "#f0f921"
             ]
            ],
            "type": "heatmapgl"
           }
          ],
          "histogram": [
           {
            "marker": {
             "pattern": {
              "fillmode": "overlay",
              "size": 10,
              "solidity": 0.2
             }
            },
            "type": "histogram"
           }
          ],
          "histogram2d": [
           {
            "colorbar": {
             "outlinewidth": 0,
             "ticks": ""
            },
            "colorscale": [
             [
              0,
              "#0d0887"
             ],
             [
              0.1111111111111111,
              "#46039f"
             ],
             [
              0.2222222222222222,
              "#7201a8"
             ],
             [
              0.3333333333333333,
              "#9c179e"
             ],
             [
              0.4444444444444444,
              "#bd3786"
             ],
             [
              0.5555555555555556,
              "#d8576b"
             ],
             [
              0.6666666666666666,
              "#ed7953"
             ],
             [
              0.7777777777777778,
              "#fb9f3a"
             ],
             [
              0.8888888888888888,
              "#fdca26"
             ],
             [
              1,
              "#f0f921"
             ]
            ],
            "type": "histogram2d"
           }
          ],
          "histogram2dcontour": [
           {
            "colorbar": {
             "outlinewidth": 0,
             "ticks": ""
            },
            "colorscale": [
             [
              0,
              "#0d0887"
             ],
             [
              0.1111111111111111,
              "#46039f"
             ],
             [
              0.2222222222222222,
              "#7201a8"
             ],
             [
              0.3333333333333333,
              "#9c179e"
             ],
             [
              0.4444444444444444,
              "#bd3786"
             ],
             [
              0.5555555555555556,
              "#d8576b"
             ],
             [
              0.6666666666666666,
              "#ed7953"
             ],
             [
              0.7777777777777778,
              "#fb9f3a"
             ],
             [
              0.8888888888888888,
              "#fdca26"
             ],
             [
              1,
              "#f0f921"
             ]
            ],
            "type": "histogram2dcontour"
           }
          ],
          "mesh3d": [
           {
            "colorbar": {
             "outlinewidth": 0,
             "ticks": ""
            },
            "type": "mesh3d"
           }
          ],
          "parcoords": [
           {
            "line": {
             "colorbar": {
              "outlinewidth": 0,
              "ticks": ""
             }
            },
            "type": "parcoords"
           }
          ],
          "pie": [
           {
            "automargin": true,
            "type": "pie"
           }
          ],
          "scatter": [
           {
            "fillpattern": {
             "fillmode": "overlay",
             "size": 10,
             "solidity": 0.2
            },
            "type": "scatter"
           }
          ],
          "scatter3d": [
           {
            "line": {
             "colorbar": {
              "outlinewidth": 0,
              "ticks": ""
             }
            },
            "marker": {
             "colorbar": {
              "outlinewidth": 0,
              "ticks": ""
             }
            },
            "type": "scatter3d"
           }
          ],
          "scattercarpet": [
           {
            "marker": {
             "colorbar": {
              "outlinewidth": 0,
              "ticks": ""
             }
            },
            "type": "scattercarpet"
           }
          ],
          "scattergeo": [
           {
            "marker": {
             "colorbar": {
              "outlinewidth": 0,
              "ticks": ""
             }
            },
            "type": "scattergeo"
           }
          ],
          "scattergl": [
           {
            "marker": {
             "colorbar": {
              "outlinewidth": 0,
              "ticks": ""
             }
            },
            "type": "scattergl"
           }
          ],
          "scattermapbox": [
           {
            "marker": {
             "colorbar": {
              "outlinewidth": 0,
              "ticks": ""
             }
            },
            "type": "scattermapbox"
           }
          ],
          "scatterpolar": [
           {
            "marker": {
             "colorbar": {
              "outlinewidth": 0,
              "ticks": ""
             }
            },
            "type": "scatterpolar"
           }
          ],
          "scatterpolargl": [
           {
            "marker": {
             "colorbar": {
              "outlinewidth": 0,
              "ticks": ""
             }
            },
            "type": "scatterpolargl"
           }
          ],
          "scatterternary": [
           {
            "marker": {
             "colorbar": {
              "outlinewidth": 0,
              "ticks": ""
             }
            },
            "type": "scatterternary"
           }
          ],
          "surface": [
           {
            "colorbar": {
             "outlinewidth": 0,
             "ticks": ""
            },
            "colorscale": [
             [
              0,
              "#0d0887"
             ],
             [
              0.1111111111111111,
              "#46039f"
             ],
             [
              0.2222222222222222,
              "#7201a8"
             ],
             [
              0.3333333333333333,
              "#9c179e"
             ],
             [
              0.4444444444444444,
              "#bd3786"
             ],
             [
              0.5555555555555556,
              "#d8576b"
             ],
             [
              0.6666666666666666,
              "#ed7953"
             ],
             [
              0.7777777777777778,
              "#fb9f3a"
             ],
             [
              0.8888888888888888,
              "#fdca26"
             ],
             [
              1,
              "#f0f921"
             ]
            ],
            "type": "surface"
           }
          ],
          "table": [
           {
            "cells": {
             "fill": {
              "color": "#EBF0F8"
             },
             "line": {
              "color": "white"
             }
            },
            "header": {
             "fill": {
              "color": "#C8D4E3"
             },
             "line": {
              "color": "white"
             }
            },
            "type": "table"
           }
          ]
         },
         "layout": {
          "annotationdefaults": {
           "arrowcolor": "#2a3f5f",
           "arrowhead": 0,
           "arrowwidth": 1
          },
          "autotypenumbers": "strict",
          "coloraxis": {
           "colorbar": {
            "outlinewidth": 0,
            "ticks": ""
           }
          },
          "colorscale": {
           "diverging": [
            [
             0,
             "#8e0152"
            ],
            [
             0.1,
             "#c51b7d"
            ],
            [
             0.2,
             "#de77ae"
            ],
            [
             0.3,
             "#f1b6da"
            ],
            [
             0.4,
             "#fde0ef"
            ],
            [
             0.5,
             "#f7f7f7"
            ],
            [
             0.6,
             "#e6f5d0"
            ],
            [
             0.7,
             "#b8e186"
            ],
            [
             0.8,
             "#7fbc41"
            ],
            [
             0.9,
             "#4d9221"
            ],
            [
             1,
             "#276419"
            ]
           ],
           "sequential": [
            [
             0,
             "#0d0887"
            ],
            [
             0.1111111111111111,
             "#46039f"
            ],
            [
             0.2222222222222222,
             "#7201a8"
            ],
            [
             0.3333333333333333,
             "#9c179e"
            ],
            [
             0.4444444444444444,
             "#bd3786"
            ],
            [
             0.5555555555555556,
             "#d8576b"
            ],
            [
             0.6666666666666666,
             "#ed7953"
            ],
            [
             0.7777777777777778,
             "#fb9f3a"
            ],
            [
             0.8888888888888888,
             "#fdca26"
            ],
            [
             1,
             "#f0f921"
            ]
           ],
           "sequentialminus": [
            [
             0,
             "#0d0887"
            ],
            [
             0.1111111111111111,
             "#46039f"
            ],
            [
             0.2222222222222222,
             "#7201a8"
            ],
            [
             0.3333333333333333,
             "#9c179e"
            ],
            [
             0.4444444444444444,
             "#bd3786"
            ],
            [
             0.5555555555555556,
             "#d8576b"
            ],
            [
             0.6666666666666666,
             "#ed7953"
            ],
            [
             0.7777777777777778,
             "#fb9f3a"
            ],
            [
             0.8888888888888888,
             "#fdca26"
            ],
            [
             1,
             "#f0f921"
            ]
           ]
          },
          "colorway": [
           "#636efa",
           "#EF553B",
           "#00cc96",
           "#ab63fa",
           "#FFA15A",
           "#19d3f3",
           "#FF6692",
           "#B6E880",
           "#FF97FF",
           "#FECB52"
          ],
          "font": {
           "color": "#2a3f5f"
          },
          "geo": {
           "bgcolor": "white",
           "lakecolor": "white",
           "landcolor": "#E5ECF6",
           "showlakes": true,
           "showland": true,
           "subunitcolor": "white"
          },
          "hoverlabel": {
           "align": "left"
          },
          "hovermode": "closest",
          "mapbox": {
           "style": "light"
          },
          "paper_bgcolor": "white",
          "plot_bgcolor": "#E5ECF6",
          "polar": {
           "angularaxis": {
            "gridcolor": "white",
            "linecolor": "white",
            "ticks": ""
           },
           "bgcolor": "#E5ECF6",
           "radialaxis": {
            "gridcolor": "white",
            "linecolor": "white",
            "ticks": ""
           }
          },
          "scene": {
           "xaxis": {
            "backgroundcolor": "#E5ECF6",
            "gridcolor": "white",
            "gridwidth": 2,
            "linecolor": "white",
            "showbackground": true,
            "ticks": "",
            "zerolinecolor": "white"
           },
           "yaxis": {
            "backgroundcolor": "#E5ECF6",
            "gridcolor": "white",
            "gridwidth": 2,
            "linecolor": "white",
            "showbackground": true,
            "ticks": "",
            "zerolinecolor": "white"
           },
           "zaxis": {
            "backgroundcolor": "#E5ECF6",
            "gridcolor": "white",
            "gridwidth": 2,
            "linecolor": "white",
            "showbackground": true,
            "ticks": "",
            "zerolinecolor": "white"
           }
          },
          "shapedefaults": {
           "line": {
            "color": "#2a3f5f"
           }
          },
          "ternary": {
           "aaxis": {
            "gridcolor": "white",
            "linecolor": "white",
            "ticks": ""
           },
           "baxis": {
            "gridcolor": "white",
            "linecolor": "white",
            "ticks": ""
           },
           "bgcolor": "#E5ECF6",
           "caxis": {
            "gridcolor": "white",
            "linecolor": "white",
            "ticks": ""
           }
          },
          "title": {
           "x": 0.05
          },
          "xaxis": {
           "automargin": true,
           "gridcolor": "white",
           "linecolor": "white",
           "ticks": "",
           "title": {
            "standoff": 15
           },
           "zerolinecolor": "white",
           "zerolinewidth": 2
          },
          "yaxis": {
           "automargin": true,
           "gridcolor": "white",
           "linecolor": "white",
           "ticks": "",
           "title": {
            "standoff": 15
           },
           "zerolinecolor": "white",
           "zerolinewidth": 2
          }
         }
        },
        "xaxis": {
         "anchor": "y",
         "domain": [
          0,
          1
         ],
         "title": {
          "text": "Retailer"
         }
        },
        "yaxis": {
         "anchor": "x",
         "domain": [
          0,
          1
         ],
         "title": {
          "text": "count"
         }
        }
       }
      }
     },
     "metadata": {},
     "output_type": "display_data"
    }
   ],
   "source": [
    "px.histogram(df,x ='Retailer')"
   ]
  },
  {
   "cell_type": "code",
   "execution_count": 30,
   "id": "dedcb53d",
   "metadata": {},
   "outputs": [
    {
     "data": {
      "text/html": [
       "<div>\n",
       "<style scoped>\n",
       "    .dataframe tbody tr th:only-of-type {\n",
       "        vertical-align: middle;\n",
       "    }\n",
       "\n",
       "    .dataframe tbody tr th {\n",
       "        vertical-align: top;\n",
       "    }\n",
       "\n",
       "    .dataframe thead th {\n",
       "        text-align: right;\n",
       "    }\n",
       "</style>\n",
       "<table border=\"1\" class=\"dataframe\">\n",
       "  <thead>\n",
       "    <tr style=\"text-align: right;\">\n",
       "      <th></th>\n",
       "      <th>Retailer</th>\n",
       "      <th>Region</th>\n",
       "      <th>Count</th>\n",
       "    </tr>\n",
       "  </thead>\n",
       "  <tbody>\n",
       "    <tr>\n",
       "      <th>0</th>\n",
       "      <td>Amazon</td>\n",
       "      <td>Midwest</td>\n",
       "      <td>136</td>\n",
       "    </tr>\n",
       "    <tr>\n",
       "      <th>1</th>\n",
       "      <td>Amazon</td>\n",
       "      <td>Northeast</td>\n",
       "      <td>541</td>\n",
       "    </tr>\n",
       "    <tr>\n",
       "      <th>2</th>\n",
       "      <td>Amazon</td>\n",
       "      <td>South</td>\n",
       "      <td>12</td>\n",
       "    </tr>\n",
       "    <tr>\n",
       "      <th>3</th>\n",
       "      <td>Amazon</td>\n",
       "      <td>Southeast</td>\n",
       "      <td>134</td>\n",
       "    </tr>\n",
       "    <tr>\n",
       "      <th>4</th>\n",
       "      <td>Amazon</td>\n",
       "      <td>West</td>\n",
       "      <td>126</td>\n",
       "    </tr>\n",
       "    <tr>\n",
       "      <th>5</th>\n",
       "      <td>Foot Locker</td>\n",
       "      <td>Midwest</td>\n",
       "      <td>840</td>\n",
       "    </tr>\n",
       "    <tr>\n",
       "      <th>6</th>\n",
       "      <td>Foot Locker</td>\n",
       "      <td>Northeast</td>\n",
       "      <td>835</td>\n",
       "    </tr>\n",
       "    <tr>\n",
       "      <th>7</th>\n",
       "      <td>Foot Locker</td>\n",
       "      <td>South</td>\n",
       "      <td>144</td>\n",
       "    </tr>\n",
       "    <tr>\n",
       "      <th>8</th>\n",
       "      <td>Foot Locker</td>\n",
       "      <td>Southeast</td>\n",
       "      <td>422</td>\n",
       "    </tr>\n",
       "    <tr>\n",
       "      <th>9</th>\n",
       "      <td>Foot Locker</td>\n",
       "      <td>West</td>\n",
       "      <td>396</td>\n",
       "    </tr>\n",
       "    <tr>\n",
       "      <th>10</th>\n",
       "      <td>Kohl's</td>\n",
       "      <td>Midwest</td>\n",
       "      <td>244</td>\n",
       "    </tr>\n",
       "    <tr>\n",
       "      <th>11</th>\n",
       "      <td>Kohl's</td>\n",
       "      <td>Northeast</td>\n",
       "      <td>170</td>\n",
       "    </tr>\n",
       "    <tr>\n",
       "      <th>12</th>\n",
       "      <td>Kohl's</td>\n",
       "      <td>South</td>\n",
       "      <td>66</td>\n",
       "    </tr>\n",
       "    <tr>\n",
       "      <th>13</th>\n",
       "      <td>Kohl's</td>\n",
       "      <td>West</td>\n",
       "      <td>550</td>\n",
       "    </tr>\n",
       "    <tr>\n",
       "      <th>14</th>\n",
       "      <td>Sports Direct</td>\n",
       "      <td>Midwest</td>\n",
       "      <td>286</td>\n",
       "    </tr>\n",
       "    <tr>\n",
       "      <th>15</th>\n",
       "      <td>Sports Direct</td>\n",
       "      <td>Northeast</td>\n",
       "      <td>462</td>\n",
       "    </tr>\n",
       "    <tr>\n",
       "      <th>16</th>\n",
       "      <td>Sports Direct</td>\n",
       "      <td>South</td>\n",
       "      <td>732</td>\n",
       "    </tr>\n",
       "    <tr>\n",
       "      <th>17</th>\n",
       "      <td>Sports Direct</td>\n",
       "      <td>Southeast</td>\n",
       "      <td>427</td>\n",
       "    </tr>\n",
       "    <tr>\n",
       "      <th>18</th>\n",
       "      <td>Sports Direct</td>\n",
       "      <td>West</td>\n",
       "      <td>125</td>\n",
       "    </tr>\n",
       "    <tr>\n",
       "      <th>19</th>\n",
       "      <td>Walmart</td>\n",
       "      <td>Northeast</td>\n",
       "      <td>66</td>\n",
       "    </tr>\n",
       "    <tr>\n",
       "      <th>20</th>\n",
       "      <td>Walmart</td>\n",
       "      <td>South</td>\n",
       "      <td>366</td>\n",
       "    </tr>\n",
       "    <tr>\n",
       "      <th>21</th>\n",
       "      <td>Walmart</td>\n",
       "      <td>Southeast</td>\n",
       "      <td>150</td>\n",
       "    </tr>\n",
       "    <tr>\n",
       "      <th>22</th>\n",
       "      <td>Walmart</td>\n",
       "      <td>West</td>\n",
       "      <td>44</td>\n",
       "    </tr>\n",
       "    <tr>\n",
       "      <th>23</th>\n",
       "      <td>West Gear</td>\n",
       "      <td>Midwest</td>\n",
       "      <td>366</td>\n",
       "    </tr>\n",
       "    <tr>\n",
       "      <th>24</th>\n",
       "      <td>West Gear</td>\n",
       "      <td>Northeast</td>\n",
       "      <td>302</td>\n",
       "    </tr>\n",
       "    <tr>\n",
       "      <th>25</th>\n",
       "      <td>West Gear</td>\n",
       "      <td>South</td>\n",
       "      <td>408</td>\n",
       "    </tr>\n",
       "    <tr>\n",
       "      <th>26</th>\n",
       "      <td>West Gear</td>\n",
       "      <td>Southeast</td>\n",
       "      <td>91</td>\n",
       "    </tr>\n",
       "    <tr>\n",
       "      <th>27</th>\n",
       "      <td>West Gear</td>\n",
       "      <td>West</td>\n",
       "      <td>1207</td>\n",
       "    </tr>\n",
       "  </tbody>\n",
       "</table>\n",
       "</div>"
      ],
      "text/plain": [
       "         Retailer     Region  Count\n",
       "0          Amazon    Midwest    136\n",
       "1          Amazon  Northeast    541\n",
       "2          Amazon      South     12\n",
       "3          Amazon  Southeast    134\n",
       "4          Amazon       West    126\n",
       "5     Foot Locker    Midwest    840\n",
       "6     Foot Locker  Northeast    835\n",
       "7     Foot Locker      South    144\n",
       "8     Foot Locker  Southeast    422\n",
       "9     Foot Locker       West    396\n",
       "10         Kohl's    Midwest    244\n",
       "11         Kohl's  Northeast    170\n",
       "12         Kohl's      South     66\n",
       "13         Kohl's       West    550\n",
       "14  Sports Direct    Midwest    286\n",
       "15  Sports Direct  Northeast    462\n",
       "16  Sports Direct      South    732\n",
       "17  Sports Direct  Southeast    427\n",
       "18  Sports Direct       West    125\n",
       "19        Walmart  Northeast     66\n",
       "20        Walmart      South    366\n",
       "21        Walmart  Southeast    150\n",
       "22        Walmart       West     44\n",
       "23      West Gear    Midwest    366\n",
       "24      West Gear  Northeast    302\n",
       "25      West Gear      South    408\n",
       "26      West Gear  Southeast     91\n",
       "27      West Gear       West   1207"
      ]
     },
     "execution_count": 30,
     "metadata": {},
     "output_type": "execute_result"
    }
   ],
   "source": [
    "df_retailer_region =  df.groupby(['Retailer',\"Region\"])[['Retailer ID']].count().reset_index().rename(columns={'Retailer ID':\"Count\"})\n",
    "df_retailer_region"
   ]
  },
  {
   "cell_type": "code",
   "execution_count": 31,
   "id": "4c814a1e",
   "metadata": {},
   "outputs": [
    {
     "data": {
      "application/vnd.plotly.v1+json": {
       "config": {
        "plotlyServerURL": "https://plot.ly"
       },
       "data": [
        {
         "alignmentgroup": "True",
         "hovertemplate": "Retailer=Amazon<br>Region=%{x}<br>Count=%{y}<extra></extra>",
         "legendgroup": "Amazon",
         "marker": {
          "color": "#636efa",
          "pattern": {
           "shape": ""
          }
         },
         "name": "Amazon",
         "offsetgroup": "Amazon",
         "orientation": "v",
         "showlegend": true,
         "textposition": "auto",
         "type": "bar",
         "x": [
          "Midwest",
          "Northeast",
          "South",
          "Southeast",
          "West"
         ],
         "xaxis": "x",
         "y": [
          136,
          541,
          12,
          134,
          126
         ],
         "yaxis": "y"
        },
        {
         "alignmentgroup": "True",
         "hovertemplate": "Retailer=Foot Locker<br>Region=%{x}<br>Count=%{y}<extra></extra>",
         "legendgroup": "Foot Locker",
         "marker": {
          "color": "#EF553B",
          "pattern": {
           "shape": ""
          }
         },
         "name": "Foot Locker",
         "offsetgroup": "Foot Locker",
         "orientation": "v",
         "showlegend": true,
         "textposition": "auto",
         "type": "bar",
         "x": [
          "Midwest",
          "Northeast",
          "South",
          "Southeast",
          "West"
         ],
         "xaxis": "x",
         "y": [
          840,
          835,
          144,
          422,
          396
         ],
         "yaxis": "y"
        },
        {
         "alignmentgroup": "True",
         "hovertemplate": "Retailer=Kohl's<br>Region=%{x}<br>Count=%{y}<extra></extra>",
         "legendgroup": "Kohl's",
         "marker": {
          "color": "#00cc96",
          "pattern": {
           "shape": ""
          }
         },
         "name": "Kohl's",
         "offsetgroup": "Kohl's",
         "orientation": "v",
         "showlegend": true,
         "textposition": "auto",
         "type": "bar",
         "x": [
          "Midwest",
          "Northeast",
          "South",
          "West"
         ],
         "xaxis": "x",
         "y": [
          244,
          170,
          66,
          550
         ],
         "yaxis": "y"
        },
        {
         "alignmentgroup": "True",
         "hovertemplate": "Retailer=Sports Direct<br>Region=%{x}<br>Count=%{y}<extra></extra>",
         "legendgroup": "Sports Direct",
         "marker": {
          "color": "#ab63fa",
          "pattern": {
           "shape": ""
          }
         },
         "name": "Sports Direct",
         "offsetgroup": "Sports Direct",
         "orientation": "v",
         "showlegend": true,
         "textposition": "auto",
         "type": "bar",
         "x": [
          "Midwest",
          "Northeast",
          "South",
          "Southeast",
          "West"
         ],
         "xaxis": "x",
         "y": [
          286,
          462,
          732,
          427,
          125
         ],
         "yaxis": "y"
        },
        {
         "alignmentgroup": "True",
         "hovertemplate": "Retailer=Walmart<br>Region=%{x}<br>Count=%{y}<extra></extra>",
         "legendgroup": "Walmart",
         "marker": {
          "color": "#FFA15A",
          "pattern": {
           "shape": ""
          }
         },
         "name": "Walmart",
         "offsetgroup": "Walmart",
         "orientation": "v",
         "showlegend": true,
         "textposition": "auto",
         "type": "bar",
         "x": [
          "Northeast",
          "South",
          "Southeast",
          "West"
         ],
         "xaxis": "x",
         "y": [
          66,
          366,
          150,
          44
         ],
         "yaxis": "y"
        },
        {
         "alignmentgroup": "True",
         "hovertemplate": "Retailer=West Gear<br>Region=%{x}<br>Count=%{y}<extra></extra>",
         "legendgroup": "West Gear",
         "marker": {
          "color": "#19d3f3",
          "pattern": {
           "shape": ""
          }
         },
         "name": "West Gear",
         "offsetgroup": "West Gear",
         "orientation": "v",
         "showlegend": true,
         "textposition": "auto",
         "type": "bar",
         "x": [
          "Midwest",
          "Northeast",
          "South",
          "Southeast",
          "West"
         ],
         "xaxis": "x",
         "y": [
          366,
          302,
          408,
          91,
          1207
         ],
         "yaxis": "y"
        }
       ],
       "layout": {
        "barmode": "relative",
        "legend": {
         "title": {
          "text": "Retailer"
         },
         "tracegroupgap": 0
        },
        "margin": {
         "t": 60
        },
        "template": {
         "data": {
          "bar": [
           {
            "error_x": {
             "color": "#2a3f5f"
            },
            "error_y": {
             "color": "#2a3f5f"
            },
            "marker": {
             "line": {
              "color": "#E5ECF6",
              "width": 0.5
             },
             "pattern": {
              "fillmode": "overlay",
              "size": 10,
              "solidity": 0.2
             }
            },
            "type": "bar"
           }
          ],
          "barpolar": [
           {
            "marker": {
             "line": {
              "color": "#E5ECF6",
              "width": 0.5
             },
             "pattern": {
              "fillmode": "overlay",
              "size": 10,
              "solidity": 0.2
             }
            },
            "type": "barpolar"
           }
          ],
          "carpet": [
           {
            "aaxis": {
             "endlinecolor": "#2a3f5f",
             "gridcolor": "white",
             "linecolor": "white",
             "minorgridcolor": "white",
             "startlinecolor": "#2a3f5f"
            },
            "baxis": {
             "endlinecolor": "#2a3f5f",
             "gridcolor": "white",
             "linecolor": "white",
             "minorgridcolor": "white",
             "startlinecolor": "#2a3f5f"
            },
            "type": "carpet"
           }
          ],
          "choropleth": [
           {
            "colorbar": {
             "outlinewidth": 0,
             "ticks": ""
            },
            "type": "choropleth"
           }
          ],
          "contour": [
           {
            "colorbar": {
             "outlinewidth": 0,
             "ticks": ""
            },
            "colorscale": [
             [
              0,
              "#0d0887"
             ],
             [
              0.1111111111111111,
              "#46039f"
             ],
             [
              0.2222222222222222,
              "#7201a8"
             ],
             [
              0.3333333333333333,
              "#9c179e"
             ],
             [
              0.4444444444444444,
              "#bd3786"
             ],
             [
              0.5555555555555556,
              "#d8576b"
             ],
             [
              0.6666666666666666,
              "#ed7953"
             ],
             [
              0.7777777777777778,
              "#fb9f3a"
             ],
             [
              0.8888888888888888,
              "#fdca26"
             ],
             [
              1,
              "#f0f921"
             ]
            ],
            "type": "contour"
           }
          ],
          "contourcarpet": [
           {
            "colorbar": {
             "outlinewidth": 0,
             "ticks": ""
            },
            "type": "contourcarpet"
           }
          ],
          "heatmap": [
           {
            "colorbar": {
             "outlinewidth": 0,
             "ticks": ""
            },
            "colorscale": [
             [
              0,
              "#0d0887"
             ],
             [
              0.1111111111111111,
              "#46039f"
             ],
             [
              0.2222222222222222,
              "#7201a8"
             ],
             [
              0.3333333333333333,
              "#9c179e"
             ],
             [
              0.4444444444444444,
              "#bd3786"
             ],
             [
              0.5555555555555556,
              "#d8576b"
             ],
             [
              0.6666666666666666,
              "#ed7953"
             ],
             [
              0.7777777777777778,
              "#fb9f3a"
             ],
             [
              0.8888888888888888,
              "#fdca26"
             ],
             [
              1,
              "#f0f921"
             ]
            ],
            "type": "heatmap"
           }
          ],
          "heatmapgl": [
           {
            "colorbar": {
             "outlinewidth": 0,
             "ticks": ""
            },
            "colorscale": [
             [
              0,
              "#0d0887"
             ],
             [
              0.1111111111111111,
              "#46039f"
             ],
             [
              0.2222222222222222,
              "#7201a8"
             ],
             [
              0.3333333333333333,
              "#9c179e"
             ],
             [
              0.4444444444444444,
              "#bd3786"
             ],
             [
              0.5555555555555556,
              "#d8576b"
             ],
             [
              0.6666666666666666,
              "#ed7953"
             ],
             [
              0.7777777777777778,
              "#fb9f3a"
             ],
             [
              0.8888888888888888,
              "#fdca26"
             ],
             [
              1,
              "#f0f921"
             ]
            ],
            "type": "heatmapgl"
           }
          ],
          "histogram": [
           {
            "marker": {
             "pattern": {
              "fillmode": "overlay",
              "size": 10,
              "solidity": 0.2
             }
            },
            "type": "histogram"
           }
          ],
          "histogram2d": [
           {
            "colorbar": {
             "outlinewidth": 0,
             "ticks": ""
            },
            "colorscale": [
             [
              0,
              "#0d0887"
             ],
             [
              0.1111111111111111,
              "#46039f"
             ],
             [
              0.2222222222222222,
              "#7201a8"
             ],
             [
              0.3333333333333333,
              "#9c179e"
             ],
             [
              0.4444444444444444,
              "#bd3786"
             ],
             [
              0.5555555555555556,
              "#d8576b"
             ],
             [
              0.6666666666666666,
              "#ed7953"
             ],
             [
              0.7777777777777778,
              "#fb9f3a"
             ],
             [
              0.8888888888888888,
              "#fdca26"
             ],
             [
              1,
              "#f0f921"
             ]
            ],
            "type": "histogram2d"
           }
          ],
          "histogram2dcontour": [
           {
            "colorbar": {
             "outlinewidth": 0,
             "ticks": ""
            },
            "colorscale": [
             [
              0,
              "#0d0887"
             ],
             [
              0.1111111111111111,
              "#46039f"
             ],
             [
              0.2222222222222222,
              "#7201a8"
             ],
             [
              0.3333333333333333,
              "#9c179e"
             ],
             [
              0.4444444444444444,
              "#bd3786"
             ],
             [
              0.5555555555555556,
              "#d8576b"
             ],
             [
              0.6666666666666666,
              "#ed7953"
             ],
             [
              0.7777777777777778,
              "#fb9f3a"
             ],
             [
              0.8888888888888888,
              "#fdca26"
             ],
             [
              1,
              "#f0f921"
             ]
            ],
            "type": "histogram2dcontour"
           }
          ],
          "mesh3d": [
           {
            "colorbar": {
             "outlinewidth": 0,
             "ticks": ""
            },
            "type": "mesh3d"
           }
          ],
          "parcoords": [
           {
            "line": {
             "colorbar": {
              "outlinewidth": 0,
              "ticks": ""
             }
            },
            "type": "parcoords"
           }
          ],
          "pie": [
           {
            "automargin": true,
            "type": "pie"
           }
          ],
          "scatter": [
           {
            "fillpattern": {
             "fillmode": "overlay",
             "size": 10,
             "solidity": 0.2
            },
            "type": "scatter"
           }
          ],
          "scatter3d": [
           {
            "line": {
             "colorbar": {
              "outlinewidth": 0,
              "ticks": ""
             }
            },
            "marker": {
             "colorbar": {
              "outlinewidth": 0,
              "ticks": ""
             }
            },
            "type": "scatter3d"
           }
          ],
          "scattercarpet": [
           {
            "marker": {
             "colorbar": {
              "outlinewidth": 0,
              "ticks": ""
             }
            },
            "type": "scattercarpet"
           }
          ],
          "scattergeo": [
           {
            "marker": {
             "colorbar": {
              "outlinewidth": 0,
              "ticks": ""
             }
            },
            "type": "scattergeo"
           }
          ],
          "scattergl": [
           {
            "marker": {
             "colorbar": {
              "outlinewidth": 0,
              "ticks": ""
             }
            },
            "type": "scattergl"
           }
          ],
          "scattermapbox": [
           {
            "marker": {
             "colorbar": {
              "outlinewidth": 0,
              "ticks": ""
             }
            },
            "type": "scattermapbox"
           }
          ],
          "scatterpolar": [
           {
            "marker": {
             "colorbar": {
              "outlinewidth": 0,
              "ticks": ""
             }
            },
            "type": "scatterpolar"
           }
          ],
          "scatterpolargl": [
           {
            "marker": {
             "colorbar": {
              "outlinewidth": 0,
              "ticks": ""
             }
            },
            "type": "scatterpolargl"
           }
          ],
          "scatterternary": [
           {
            "marker": {
             "colorbar": {
              "outlinewidth": 0,
              "ticks": ""
             }
            },
            "type": "scatterternary"
           }
          ],
          "surface": [
           {
            "colorbar": {
             "outlinewidth": 0,
             "ticks": ""
            },
            "colorscale": [
             [
              0,
              "#0d0887"
             ],
             [
              0.1111111111111111,
              "#46039f"
             ],
             [
              0.2222222222222222,
              "#7201a8"
             ],
             [
              0.3333333333333333,
              "#9c179e"
             ],
             [
              0.4444444444444444,
              "#bd3786"
             ],
             [
              0.5555555555555556,
              "#d8576b"
             ],
             [
              0.6666666666666666,
              "#ed7953"
             ],
             [
              0.7777777777777778,
              "#fb9f3a"
             ],
             [
              0.8888888888888888,
              "#fdca26"
             ],
             [
              1,
              "#f0f921"
             ]
            ],
            "type": "surface"
           }
          ],
          "table": [
           {
            "cells": {
             "fill": {
              "color": "#EBF0F8"
             },
             "line": {
              "color": "white"
             }
            },
            "header": {
             "fill": {
              "color": "#C8D4E3"
             },
             "line": {
              "color": "white"
             }
            },
            "type": "table"
           }
          ]
         },
         "layout": {
          "annotationdefaults": {
           "arrowcolor": "#2a3f5f",
           "arrowhead": 0,
           "arrowwidth": 1
          },
          "autotypenumbers": "strict",
          "coloraxis": {
           "colorbar": {
            "outlinewidth": 0,
            "ticks": ""
           }
          },
          "colorscale": {
           "diverging": [
            [
             0,
             "#8e0152"
            ],
            [
             0.1,
             "#c51b7d"
            ],
            [
             0.2,
             "#de77ae"
            ],
            [
             0.3,
             "#f1b6da"
            ],
            [
             0.4,
             "#fde0ef"
            ],
            [
             0.5,
             "#f7f7f7"
            ],
            [
             0.6,
             "#e6f5d0"
            ],
            [
             0.7,
             "#b8e186"
            ],
            [
             0.8,
             "#7fbc41"
            ],
            [
             0.9,
             "#4d9221"
            ],
            [
             1,
             "#276419"
            ]
           ],
           "sequential": [
            [
             0,
             "#0d0887"
            ],
            [
             0.1111111111111111,
             "#46039f"
            ],
            [
             0.2222222222222222,
             "#7201a8"
            ],
            [
             0.3333333333333333,
             "#9c179e"
            ],
            [
             0.4444444444444444,
             "#bd3786"
            ],
            [
             0.5555555555555556,
             "#d8576b"
            ],
            [
             0.6666666666666666,
             "#ed7953"
            ],
            [
             0.7777777777777778,
             "#fb9f3a"
            ],
            [
             0.8888888888888888,
             "#fdca26"
            ],
            [
             1,
             "#f0f921"
            ]
           ],
           "sequentialminus": [
            [
             0,
             "#0d0887"
            ],
            [
             0.1111111111111111,
             "#46039f"
            ],
            [
             0.2222222222222222,
             "#7201a8"
            ],
            [
             0.3333333333333333,
             "#9c179e"
            ],
            [
             0.4444444444444444,
             "#bd3786"
            ],
            [
             0.5555555555555556,
             "#d8576b"
            ],
            [
             0.6666666666666666,
             "#ed7953"
            ],
            [
             0.7777777777777778,
             "#fb9f3a"
            ],
            [
             0.8888888888888888,
             "#fdca26"
            ],
            [
             1,
             "#f0f921"
            ]
           ]
          },
          "colorway": [
           "#636efa",
           "#EF553B",
           "#00cc96",
           "#ab63fa",
           "#FFA15A",
           "#19d3f3",
           "#FF6692",
           "#B6E880",
           "#FF97FF",
           "#FECB52"
          ],
          "font": {
           "color": "#2a3f5f"
          },
          "geo": {
           "bgcolor": "white",
           "lakecolor": "white",
           "landcolor": "#E5ECF6",
           "showlakes": true,
           "showland": true,
           "subunitcolor": "white"
          },
          "hoverlabel": {
           "align": "left"
          },
          "hovermode": "closest",
          "mapbox": {
           "style": "light"
          },
          "paper_bgcolor": "white",
          "plot_bgcolor": "#E5ECF6",
          "polar": {
           "angularaxis": {
            "gridcolor": "white",
            "linecolor": "white",
            "ticks": ""
           },
           "bgcolor": "#E5ECF6",
           "radialaxis": {
            "gridcolor": "white",
            "linecolor": "white",
            "ticks": ""
           }
          },
          "scene": {
           "xaxis": {
            "backgroundcolor": "#E5ECF6",
            "gridcolor": "white",
            "gridwidth": 2,
            "linecolor": "white",
            "showbackground": true,
            "ticks": "",
            "zerolinecolor": "white"
           },
           "yaxis": {
            "backgroundcolor": "#E5ECF6",
            "gridcolor": "white",
            "gridwidth": 2,
            "linecolor": "white",
            "showbackground": true,
            "ticks": "",
            "zerolinecolor": "white"
           },
           "zaxis": {
            "backgroundcolor": "#E5ECF6",
            "gridcolor": "white",
            "gridwidth": 2,
            "linecolor": "white",
            "showbackground": true,
            "ticks": "",
            "zerolinecolor": "white"
           }
          },
          "shapedefaults": {
           "line": {
            "color": "#2a3f5f"
           }
          },
          "ternary": {
           "aaxis": {
            "gridcolor": "white",
            "linecolor": "white",
            "ticks": ""
           },
           "baxis": {
            "gridcolor": "white",
            "linecolor": "white",
            "ticks": ""
           },
           "bgcolor": "#E5ECF6",
           "caxis": {
            "gridcolor": "white",
            "linecolor": "white",
            "ticks": ""
           }
          },
          "title": {
           "x": 0.05
          },
          "xaxis": {
           "automargin": true,
           "gridcolor": "white",
           "linecolor": "white",
           "ticks": "",
           "title": {
            "standoff": 15
           },
           "zerolinecolor": "white",
           "zerolinewidth": 2
          },
          "yaxis": {
           "automargin": true,
           "gridcolor": "white",
           "linecolor": "white",
           "ticks": "",
           "title": {
            "standoff": 15
           },
           "zerolinecolor": "white",
           "zerolinewidth": 2
          }
         }
        },
        "xaxis": {
         "anchor": "y",
         "domain": [
          0,
          1
         ],
         "title": {
          "text": "Region"
         }
        },
        "yaxis": {
         "anchor": "x",
         "domain": [
          0,
          1
         ],
         "title": {
          "text": "Count"
         }
        }
       }
      }
     },
     "metadata": {},
     "output_type": "display_data"
    }
   ],
   "source": [
    "px.bar(df_retailer_region, x=\"Region\", y=\"Count\",color=\"Retailer\")"
   ]
  },
  {
   "cell_type": "code",
   "execution_count": 32,
   "id": "40555289",
   "metadata": {},
   "outputs": [
    {
     "data": {
      "text/plain": [
       "<AxesSubplot:xlabel='Region', ylabel='Count'>"
      ]
     },
     "execution_count": 32,
     "metadata": {},
     "output_type": "execute_result"
    },
    {
     "data": {
      "image/png": "[encoded data removed]",
      "text/plain": [
       "<Figure size 1200x700 with 1 Axes>"
      ]
     },
     "metadata": {},
     "output_type": "display_data"
    }
   ],
   "source": [
    "plt.figure(figsize=(12,7))\n",
    "sns.barplot(data = df_retailer_region, x=\"Region\", y=\"Count\",hue=\"Retailer\")"
   ]
  },
  {
   "cell_type": "code",
   "execution_count": 33,
   "id": "bacd806b",
   "metadata": {},
   "outputs": [
    {
     "data": {
      "text/html": [
       "<div>\n",
       "<style scoped>\n",
       "    .dataframe tbody tr th:only-of-type {\n",
       "        vertical-align: middle;\n",
       "    }\n",
       "\n",
       "    .dataframe tbody tr th {\n",
       "        vertical-align: top;\n",
       "    }\n",
       "\n",
       "    .dataframe thead th {\n",
       "        text-align: right;\n",
       "    }\n",
       "</style>\n",
       "<table border=\"1\" class=\"dataframe\">\n",
       "  <thead>\n",
       "    <tr style=\"text-align: right;\">\n",
       "      <th></th>\n",
       "      <th>Retailer</th>\n",
       "      <th>Retailer ID</th>\n",
       "      <th>Invoice Date</th>\n",
       "      <th>Region</th>\n",
       "      <th>State</th>\n",
       "      <th>City</th>\n",
       "      <th>Product</th>\n",
       "      <th>Price per Unit</th>\n",
       "      <th>Units Sold</th>\n",
       "      <th>Total Sales</th>\n",
       "      <th>Operating Profit</th>\n",
       "      <th>Operating Margin</th>\n",
       "      <th>Sales Method</th>\n",
       "    </tr>\n",
       "  </thead>\n",
       "  <tbody>\n",
       "    <tr>\n",
       "      <th>0</th>\n",
       "      <td>Foot Locker</td>\n",
       "      <td>1185732</td>\n",
       "      <td>2020-01-01 00:00:00</td>\n",
       "      <td>Northeast</td>\n",
       "      <td>New York</td>\n",
       "      <td>New York</td>\n",
       "      <td>Men's Street Footwear</td>\n",
       "      <td>50</td>\n",
       "      <td>1200</td>\n",
       "      <td>600000.0</td>\n",
       "      <td>300000.0</td>\n",
       "      <td>0.50</td>\n",
       "      <td>In-store</td>\n",
       "    </tr>\n",
       "    <tr>\n",
       "      <th>1</th>\n",
       "      <td>Foot Locker</td>\n",
       "      <td>1185732</td>\n",
       "      <td>2020-01-02 00:00:00</td>\n",
       "      <td>Northeast</td>\n",
       "      <td>New York</td>\n",
       "      <td>New York</td>\n",
       "      <td>Men's Athletic Footwear</td>\n",
       "      <td>50</td>\n",
       "      <td>1000</td>\n",
       "      <td>500000.0</td>\n",
       "      <td>150000.0</td>\n",
       "      <td>0.30</td>\n",
       "      <td>In-store</td>\n",
       "    </tr>\n",
       "    <tr>\n",
       "      <th>2</th>\n",
       "      <td>Foot Locker</td>\n",
       "      <td>1185732</td>\n",
       "      <td>2020-01-03 00:00:00</td>\n",
       "      <td>Northeast</td>\n",
       "      <td>New York</td>\n",
       "      <td>New York</td>\n",
       "      <td>Women's Street Footwear</td>\n",
       "      <td>40</td>\n",
       "      <td>1000</td>\n",
       "      <td>400000.0</td>\n",
       "      <td>140000.0</td>\n",
       "      <td>0.35</td>\n",
       "      <td>In-store</td>\n",
       "    </tr>\n",
       "    <tr>\n",
       "      <th>3</th>\n",
       "      <td>Foot Locker</td>\n",
       "      <td>1185732</td>\n",
       "      <td>2020-01-04 00:00:00</td>\n",
       "      <td>Northeast</td>\n",
       "      <td>New York</td>\n",
       "      <td>New York</td>\n",
       "      <td>Women's Athletic Footwear</td>\n",
       "      <td>45</td>\n",
       "      <td>850</td>\n",
       "      <td>382500.0</td>\n",
       "      <td>133875.0</td>\n",
       "      <td>0.35</td>\n",
       "      <td>In-store</td>\n",
       "    </tr>\n",
       "    <tr>\n",
       "      <th>4</th>\n",
       "      <td>Foot Locker</td>\n",
       "      <td>1185732</td>\n",
       "      <td>2020-01-05 00:00:00</td>\n",
       "      <td>Northeast</td>\n",
       "      <td>New York</td>\n",
       "      <td>New York</td>\n",
       "      <td>Men's Apparel</td>\n",
       "      <td>60</td>\n",
       "      <td>900</td>\n",
       "      <td>540000.0</td>\n",
       "      <td>162000.0</td>\n",
       "      <td>0.30</td>\n",
       "      <td>In-store</td>\n",
       "    </tr>\n",
       "  </tbody>\n",
       "</table>\n",
       "</div>"
      ],
      "text/plain": [
       "      Retailer Retailer ID         Invoice Date     Region     State  \\\n",
       "0  Foot Locker     1185732  2020-01-01 00:00:00  Northeast  New York   \n",
       "1  Foot Locker     1185732  2020-01-02 00:00:00  Northeast  New York   \n",
       "2  Foot Locker     1185732  2020-01-03 00:00:00  Northeast  New York   \n",
       "3  Foot Locker     1185732  2020-01-04 00:00:00  Northeast  New York   \n",
       "4  Foot Locker     1185732  2020-01-05 00:00:00  Northeast  New York   \n",
       "\n",
       "       City                    Product  Price per Unit  Units Sold  \\\n",
       "0  New York      Men's Street Footwear              50        1200   \n",
       "1  New York    Men's Athletic Footwear              50        1000   \n",
       "2  New York    Women's Street Footwear              40        1000   \n",
       "3  New York  Women's Athletic Footwear              45         850   \n",
       "4  New York              Men's Apparel              60         900   \n",
       "\n",
       "   Total Sales  Operating Profit  Operating Margin Sales Method  \n",
       "0     600000.0          300000.0              0.50     In-store  \n",
       "1     500000.0          150000.0              0.30     In-store  \n",
       "2     400000.0          140000.0              0.35     In-store  \n",
       "3     382500.0          133875.0              0.35     In-store  \n",
       "4     540000.0          162000.0              0.30     In-store  "
      ]
     },
     "execution_count": 33,
     "metadata": {},
     "output_type": "execute_result"
    }
   ],
   "source": [
    "df.head()"
   ]
  },
  {
   "cell_type": "code",
   "execution_count": 34,
   "id": "721b8203",
   "metadata": {},
   "outputs": [
    {
     "data": {
      "text/plain": [
       "array([\"Men's Street Footwear\", \"Men's Athletic Footwear\",\n",
       "       \"Women's Street Footwear\", \"Women's Athletic Footwear\",\n",
       "       \"Men's Apparel\", \"Women's Apparel\"], dtype=object)"
      ]
     },
     "execution_count": 34,
     "metadata": {},
     "output_type": "execute_result"
    }
   ],
   "source": [
    "df[\"Product\"].unique()"
   ]
  },
  {
   "cell_type": "code",
   "execution_count": 35,
   "id": "c2025aae",
   "metadata": {},
   "outputs": [
    {
     "data": {
      "text/html": [
       "<div>\n",
       "<style scoped>\n",
       "    .dataframe tbody tr th:only-of-type {\n",
       "        vertical-align: middle;\n",
       "    }\n",
       "\n",
       "    .dataframe tbody tr th {\n",
       "        vertical-align: top;\n",
       "    }\n",
       "\n",
       "    .dataframe thead th {\n",
       "        text-align: right;\n",
       "    }\n",
       "</style>\n",
       "<table border=\"1\" class=\"dataframe\">\n",
       "  <thead>\n",
       "    <tr style=\"text-align: right;\">\n",
       "      <th></th>\n",
       "      <th>Product</th>\n",
       "      <th>City</th>\n",
       "    </tr>\n",
       "  </thead>\n",
       "  <tbody>\n",
       "    <tr>\n",
       "      <th>0</th>\n",
       "      <td>Men's Apparel</td>\n",
       "      <td>1606</td>\n",
       "    </tr>\n",
       "    <tr>\n",
       "      <th>1</th>\n",
       "      <td>Men's Athletic Footwear</td>\n",
       "      <td>1610</td>\n",
       "    </tr>\n",
       "    <tr>\n",
       "      <th>2</th>\n",
       "      <td>Men's Street Footwear</td>\n",
       "      <td>1610</td>\n",
       "    </tr>\n",
       "    <tr>\n",
       "      <th>3</th>\n",
       "      <td>Women's Apparel</td>\n",
       "      <td>1608</td>\n",
       "    </tr>\n",
       "    <tr>\n",
       "      <th>4</th>\n",
       "      <td>Women's Athletic Footwear</td>\n",
       "      <td>1606</td>\n",
       "    </tr>\n",
       "    <tr>\n",
       "      <th>5</th>\n",
       "      <td>Women's Street Footwear</td>\n",
       "      <td>1608</td>\n",
       "    </tr>\n",
       "  </tbody>\n",
       "</table>\n",
       "</div>"
      ],
      "text/plain": [
       "                     Product  City\n",
       "0              Men's Apparel  1606\n",
       "1    Men's Athletic Footwear  1610\n",
       "2      Men's Street Footwear  1610\n",
       "3            Women's Apparel  1608\n",
       "4  Women's Athletic Footwear  1606\n",
       "5    Women's Street Footwear  1608"
      ]
     },
     "execution_count": 35,
     "metadata": {},
     "output_type": "execute_result"
    }
   ],
   "source": [
    "df_product = df.groupby(\"Product\")[[\"City\"]].count().reset_index()\n",
    "df_product"
   ]
  },
  {
   "cell_type": "code",
   "execution_count": 36,
   "id": "af8e4e9f",
   "metadata": {},
   "outputs": [
    {
     "data": {
      "application/vnd.plotly.v1+json": {
       "config": {
        "plotlyServerURL": "https://plot.ly"
       },
       "data": [
        {
         "alignmentgroup": "True",
         "hovertemplate": "Product=%{x}<br>City=%{y}<extra></extra>",
         "legendgroup": "",
         "marker": {
          "color": "#636efa",
          "pattern": {
           "shape": ""
          }
         },
         "name": "",
         "offsetgroup": "",
         "orientation": "v",
         "showlegend": false,
         "textposition": "auto",
         "type": "bar",
         "x": [
          "Men's Apparel",
          "Men's Athletic Footwear",
          "Men's Street Footwear",
          "Women's Apparel",
          "Women's Athletic Footwear",
          "Women's Street Footwear"
         ],
         "xaxis": "x",
         "y": [
          1606,
          1610,
          1610,
          1608,
          1606,
          1608
         ],
         "yaxis": "y"
        }
       ],
       "layout": {
        "barmode": "relative",
        "legend": {
         "tracegroupgap": 0
        },
        "margin": {
         "t": 60
        },
        "template": {
         "data": {
          "bar": [
           {
            "error_x": {
             "color": "#2a3f5f"
            },
            "error_y": {
             "color": "#2a3f5f"
            },
            "marker": {
             "line": {
              "color": "#E5ECF6",
              "width": 0.5
             },
             "pattern": {
              "fillmode": "overlay",
              "size": 10,
              "solidity": 0.2
             }
            },
            "type": "bar"
           }
          ],
          "barpolar": [
           {
            "marker": {
             "line": {
              "color": "#E5ECF6",
              "width": 0.5
             },
             "pattern": {
              "fillmode": "overlay",
              "size": 10,
              "solidity": 0.2
             }
            },
            "type": "barpolar"
           }
          ],
          "carpet": [
           {
            "aaxis": {
             "endlinecolor": "#2a3f5f",
             "gridcolor": "white",
             "linecolor": "white",
             "minorgridcolor": "white",
             "startlinecolor": "#2a3f5f"
            },
            "baxis": {
             "endlinecolor": "#2a3f5f",
             "gridcolor": "white",
             "linecolor": "white",
             "minorgridcolor": "white",
             "startlinecolor": "#2a3f5f"
            },
            "type": "carpet"
           }
          ],
          "choropleth": [
           {
            "colorbar": {
             "outlinewidth": 0,
             "ticks": ""
            },
            "type": "choropleth"
           }
          ],
          "contour": [
           {
            "colorbar": {
             "outlinewidth": 0,
             "ticks": ""
            },
            "colorscale": [
             [
              0,
              "#0d0887"
             ],
             [
              0.1111111111111111,
              "#46039f"
             ],
             [
              0.2222222222222222,
              "#7201a8"
             ],
             [
              0.3333333333333333,
              "#9c179e"
             ],
             [
              0.4444444444444444,
              "#bd3786"
             ],
             [
              0.5555555555555556,
              "#d8576b"
             ],
             [
              0.6666666666666666,
              "#ed7953"
             ],
             [
              0.7777777777777778,
              "#fb9f3a"
             ],
             [
              0.8888888888888888,
              "#fdca26"
             ],
             [
              1,
              "#f0f921"
             ]
            ],
            "type": "contour"
           }
          ],
          "contourcarpet": [
           {
            "colorbar": {
             "outlinewidth": 0,
             "ticks": ""
            },
            "type": "contourcarpet"
           }
          ],
          "heatmap": [
           {
            "colorbar": {
             "outlinewidth": 0,
             "ticks": ""
            },
            "colorscale": [
             [
              0,
              "#0d0887"
             ],
             [
              0.1111111111111111,
              "#46039f"
             ],
             [
              0.2222222222222222,
              "#7201a8"
             ],
             [
              0.3333333333333333,
              "#9c179e"
             ],
             [
              0.4444444444444444,
              "#bd3786"
             ],
             [
              0.5555555555555556,
              "#d8576b"
             ],
             [
              0.6666666666666666,
              "#ed7953"
             ],
             [
              0.7777777777777778,
              "#fb9f3a"
             ],
             [
              0.8888888888888888,
              "#fdca26"
             ],
             [
              1,
              "#f0f921"
             ]
            ],
            "type": "heatmap"
           }
          ],
          "heatmapgl": [
           {
            "colorbar": {
             "outlinewidth": 0,
             "ticks": ""
            },
            "colorscale": [
             [
              0,
              "#0d0887"
             ],
             [
              0.1111111111111111,
              "#46039f"
             ],
             [
              0.2222222222222222,
              "#7201a8"
             ],
             [
              0.3333333333333333,
              "#9c179e"
             ],
             [
              0.4444444444444444,
              "#bd3786"
             ],
             [
              0.5555555555555556,
              "#d8576b"
             ],
             [
              0.6666666666666666,
              "#ed7953"
             ],
             [
              0.7777777777777778,
              "#fb9f3a"
             ],
             [
              0.8888888888888888,
              "#fdca26"
             ],
             [
              1,
              "#f0f921"
             ]
            ],
            "type": "heatmapgl"
           }
          ],
          "histogram": [
           {
            "marker": {
             "pattern": {
              "fillmode": "overlay",
              "size": 10,
              "solidity": 0.2
             }
            },
            "type": "histogram"
           }
          ],
          "histogram2d": [
           {
            "colorbar": {
             "outlinewidth": 0,
             "ticks": ""
            },
            "colorscale": [
             [
              0,
              "#0d0887"
             ],
             [
              0.1111111111111111,
              "#46039f"
             ],
             [
              0.2222222222222222,
              "#7201a8"
             ],
             [
              0.3333333333333333,
              "#9c179e"
             ],
             [
              0.4444444444444444,
              "#bd3786"
             ],
             [
              0.5555555555555556,
              "#d8576b"
             ],
             [
              0.6666666666666666,
              "#ed7953"
             ],
             [
              0.7777777777777778,
              "#fb9f3a"
             ],
             [
              0.8888888888888888,
              "#fdca26"
             ],
             [
              1,
              "#f0f921"
             ]
            ],
            "type": "histogram2d"
           }
          ],
          "histogram2dcontour": [
           {
            "colorbar": {
             "outlinewidth": 0,
             "ticks": ""
            },
            "colorscale": [
             [
              0,
              "#0d0887"
             ],
             [
              0.1111111111111111,
              "#46039f"
             ],
             [
              0.2222222222222222,
              "#7201a8"
             ],
             [
              0.3333333333333333,
              "#9c179e"
             ],
             [
              0.4444444444444444,
              "#bd3786"
             ],
             [
              0.5555555555555556,
              "#d8576b"
             ],
             [
              0.6666666666666666,
              "#ed7953"
             ],
             [
              0.7777777777777778,
              "#fb9f3a"
             ],
             [
              0.8888888888888888,
              "#fdca26"
             ],
             [
              1,
              "#f0f921"
             ]
            ],
            "type": "histogram2dcontour"
           }
          ],
          "mesh3d": [
           {
            "colorbar": {
             "outlinewidth": 0,
             "ticks": ""
            },
            "type": "mesh3d"
           }
          ],
          "parcoords": [
           {
            "line": {
             "colorbar": {
              "outlinewidth": 0,
              "ticks": ""
             }
            },
            "type": "parcoords"
           }
          ],
          "pie": [
           {
            "automargin": true,
            "type": "pie"
           }
          ],
          "scatter": [
           {
            "fillpattern": {
             "fillmode": "overlay",
             "size": 10,
             "solidity": 0.2
            },
            "type": "scatter"
           }
          ],
          "scatter3d": [
           {
            "line": {
             "colorbar": {
              "outlinewidth": 0,
              "ticks": ""
             }
            },
            "marker": {
             "colorbar": {
              "outlinewidth": 0,
              "ticks": ""
             }
            },
            "type": "scatter3d"
           }
          ],
          "scattercarpet": [
           {
            "marker": {
             "colorbar": {
              "outlinewidth": 0,
              "ticks": ""
             }
            },
            "type": "scattercarpet"
           }
          ],
          "scattergeo": [
           {
            "marker": {
             "colorbar": {
              "outlinewidth": 0,
              "ticks": ""
             }
            },
            "type": "scattergeo"
           }
          ],
          "scattergl": [
           {
            "marker": {
             "colorbar": {
              "outlinewidth": 0,
              "ticks": ""
             }
            },
            "type": "scattergl"
           }
          ],
          "scattermapbox": [
           {
            "marker": {
             "colorbar": {
              "outlinewidth": 0,
              "ticks": ""
             }
            },
            "type": "scattermapbox"
           }
          ],
          "scatterpolar": [
           {
            "marker": {
             "colorbar": {
              "outlinewidth": 0,
              "ticks": ""
             }
            },
            "type": "scatterpolar"
           }
          ],
          "scatterpolargl": [
           {
            "marker": {
             "colorbar": {
              "outlinewidth": 0,
              "ticks": ""
             }
            },
            "type": "scatterpolargl"
           }
          ],
          "scatterternary": [
           {
            "marker": {
             "colorbar": {
              "outlinewidth": 0,
              "ticks": ""
             }
            },
            "type": "scatterternary"
           }
          ],
          "surface": [
           {
            "colorbar": {
             "outlinewidth": 0,
             "ticks": ""
            },
            "colorscale": [
             [
              0,
              "#0d0887"
             ],
             [
              0.1111111111111111,
              "#46039f"
             ],
             [
              0.2222222222222222,
              "#7201a8"
             ],
             [
              0.3333333333333333,
              "#9c179e"
             ],
             [
              0.4444444444444444,
              "#bd3786"
             ],
             [
              0.5555555555555556,
              "#d8576b"
             ],
             [
              0.6666666666666666,
              "#ed7953"
             ],
             [
              0.7777777777777778,
              "#fb9f3a"
             ],
             [
              0.8888888888888888,
              "#fdca26"
             ],
             [
              1,
              "#f0f921"
             ]
            ],
            "type": "surface"
           }
          ],
          "table": [
           {
            "cells": {
             "fill": {
              "color": "#EBF0F8"
             },
             "line": {
              "color": "white"
             }
            },
            "header": {
             "fill": {
              "color": "#C8D4E3"
             },
             "line": {
              "color": "white"
             }
            },
            "type": "table"
           }
          ]
         },
         "layout": {
          "annotationdefaults": {
           "arrowcolor": "#2a3f5f",
           "arrowhead": 0,
           "arrowwidth": 1
          },
          "autotypenumbers": "strict",
          "coloraxis": {
           "colorbar": {
            "outlinewidth": 0,
            "ticks": ""
           }
          },
          "colorscale": {
           "diverging": [
            [
             0,
             "#8e0152"
            ],
            [
             0.1,
             "#c51b7d"
            ],
            [
             0.2,
             "#de77ae"
            ],
            [
             0.3,
             "#f1b6da"
            ],
            [
             0.4,
             "#fde0ef"
            ],
            [
             0.5,
             "#f7f7f7"
            ],
            [
             0.6,
             "#e6f5d0"
            ],
            [
             0.7,
             "#b8e186"
            ],
            [
             0.8,
             "#7fbc41"
            ],
            [
             0.9,
             "#4d9221"
            ],
            [
             1,
             "#276419"
            ]
           ],
           "sequential": [
            [
             0,
             "#0d0887"
            ],
            [
             0.1111111111111111,
             "#46039f"
            ],
            [
             0.2222222222222222,
             "#7201a8"
            ],
            [
             0.3333333333333333,
             "#9c179e"
            ],
            [
             0.4444444444444444,
             "#bd3786"
            ],
            [
             0.5555555555555556,
             "#d8576b"
            ],
            [
             0.6666666666666666,
             "#ed7953"
            ],
            [
             0.7777777777777778,
             "#fb9f3a"
            ],
            [
             0.8888888888888888,
             "#fdca26"
            ],
            [
             1,
             "#f0f921"
            ]
           ],
           "sequentialminus": [
            [
             0,
             "#0d0887"
            ],
            [
             0.1111111111111111,
             "#46039f"
            ],
            [
             0.2222222222222222,
             "#7201a8"
            ],
            [
             0.3333333333333333,
             "#9c179e"
            ],
            [
             0.4444444444444444,
             "#bd3786"
            ],
            [
             0.5555555555555556,
             "#d8576b"
            ],
            [
             0.6666666666666666,
             "#ed7953"
            ],
            [
             0.7777777777777778,
             "#fb9f3a"
            ],
            [
             0.8888888888888888,
             "#fdca26"
            ],
            [
             1,
             "#f0f921"
            ]
           ]
          },
          "colorway": [
           "#636efa",
           "#EF553B",
           "#00cc96",
           "#ab63fa",
           "#FFA15A",
           "#19d3f3",
           "#FF6692",
           "#B6E880",
           "#FF97FF",
           "#FECB52"
          ],
          "font": {
           "color": "#2a3f5f"
          },
          "geo": {
           "bgcolor": "white",
           "lakecolor": "white",
           "landcolor": "#E5ECF6",
           "showlakes": true,
           "showland": true,
           "subunitcolor": "white"
          },
          "hoverlabel": {
           "align": "left"
          },
          "hovermode": "closest",
          "mapbox": {
           "style": "light"
          },
          "paper_bgcolor": "white",
          "plot_bgcolor": "#E5ECF6",
          "polar": {
           "angularaxis": {
            "gridcolor": "white",
            "linecolor": "white",
            "ticks": ""
           },
           "bgcolor": "#E5ECF6",
           "radialaxis": {
            "gridcolor": "white",
            "linecolor": "white",
            "ticks": ""
           }
          },
          "scene": {
           "xaxis": {
            "backgroundcolor": "#E5ECF6",
            "gridcolor": "white",
            "gridwidth": 2,
            "linecolor": "white",
            "showbackground": true,
            "ticks": "",
            "zerolinecolor": "white"
           },
           "yaxis": {
            "backgroundcolor": "#E5ECF6",
            "gridcolor": "white",
            "gridwidth": 2,
            "linecolor": "white",
            "showbackground": true,
            "ticks": "",
            "zerolinecolor": "white"
           },
           "zaxis": {
            "backgroundcolor": "#E5ECF6",
            "gridcolor": "white",
            "gridwidth": 2,
            "linecolor": "white",
            "showbackground": true,
            "ticks": "",
            "zerolinecolor": "white"
           }
          },
          "shapedefaults": {
           "line": {
            "color": "#2a3f5f"
           }
          },
          "ternary": {
           "aaxis": {
            "gridcolor": "white",
            "linecolor": "white",
            "ticks": ""
           },
           "baxis": {
            "gridcolor": "white",
            "linecolor": "white",
            "ticks": ""
           },
           "bgcolor": "#E5ECF6",
           "caxis": {
            "gridcolor": "white",
            "linecolor": "white",
            "ticks": ""
           }
          },
          "title": {
           "x": 0.05
          },
          "xaxis": {
           "automargin": true,
           "gridcolor": "white",
           "linecolor": "white",
           "ticks": "",
           "title": {
            "standoff": 15
           },
           "zerolinecolor": "white",
           "zerolinewidth": 2
          },
          "yaxis": {
           "automargin": true,
           "gridcolor": "white",
           "linecolor": "white",
           "ticks": "",
           "title": {
            "standoff": 15
           },
           "zerolinecolor": "white",
           "zerolinewidth": 2
          }
         }
        },
        "xaxis": {
         "anchor": "y",
         "domain": [
          0,
          1
         ],
         "title": {
          "text": "Product"
         }
        },
        "yaxis": {
         "anchor": "x",
         "domain": [
          0,
          1
         ],
         "title": {
          "text": "City"
         }
        }
       }
      }
     },
     "metadata": {},
     "output_type": "display_data"
    }
   ],
   "source": [
    "px.bar(df_product, x = \"Product\",y=\"City\")"
   ]
  },
  {
   "cell_type": "code",
   "execution_count": 37,
   "id": "3a6b5706",
   "metadata": {},
   "outputs": [
    {
     "data": {
      "text/plain": [
       "Index(['Retailer', 'Retailer ID', 'Invoice Date', 'Region', 'State', 'City',\n",
       "       'Product', 'Price per Unit', 'Units Sold', 'Total Sales',\n",
       "       'Operating Profit', 'Operating Margin', 'Sales Method'],\n",
       "      dtype='object')"
      ]
     },
     "execution_count": 37,
     "metadata": {},
     "output_type": "execute_result"
    }
   ],
   "source": [
    "df.columns"
   ]
  },
  {
   "cell_type": "code",
   "execution_count": 38,
   "id": "39367fad",
   "metadata": {},
   "outputs": [
    {
     "data": {
      "text/html": [
       "<div>\n",
       "<style scoped>\n",
       "    .dataframe tbody tr th:only-of-type {\n",
       "        vertical-align: middle;\n",
       "    }\n",
       "\n",
       "    .dataframe tbody tr th {\n",
       "        vertical-align: top;\n",
       "    }\n",
       "\n",
       "    .dataframe thead th {\n",
       "        text-align: right;\n",
       "    }\n",
       "</style>\n",
       "<table border=\"1\" class=\"dataframe\">\n",
       "  <thead>\n",
       "    <tr style=\"text-align: right;\">\n",
       "      <th></th>\n",
       "      <th>Product</th>\n",
       "      <th>Price per Unit</th>\n",
       "    </tr>\n",
       "  </thead>\n",
       "  <tbody>\n",
       "    <tr>\n",
       "      <th>0</th>\n",
       "      <td>Men's Apparel</td>\n",
       "      <td>50.257783</td>\n",
       "    </tr>\n",
       "    <tr>\n",
       "      <th>1</th>\n",
       "      <td>Men's Athletic Footwear</td>\n",
       "      <td>43.775155</td>\n",
       "    </tr>\n",
       "    <tr>\n",
       "      <th>2</th>\n",
       "      <td>Men's Street Footwear</td>\n",
       "      <td>44.188820</td>\n",
       "    </tr>\n",
       "    <tr>\n",
       "      <th>3</th>\n",
       "      <td>Women's Apparel</td>\n",
       "      <td>51.546020</td>\n",
       "    </tr>\n",
       "    <tr>\n",
       "      <th>4</th>\n",
       "      <td>Women's Athletic Footwear</td>\n",
       "      <td>41.087173</td>\n",
       "    </tr>\n",
       "    <tr>\n",
       "      <th>5</th>\n",
       "      <td>Women's Street Footwear</td>\n",
       "      <td>40.242537</td>\n",
       "    </tr>\n",
       "  </tbody>\n",
       "</table>\n",
       "</div>"
      ],
      "text/plain": [
       "                     Product  Price per Unit\n",
       "0              Men's Apparel       50.257783\n",
       "1    Men's Athletic Footwear       43.775155\n",
       "2      Men's Street Footwear       44.188820\n",
       "3            Women's Apparel       51.546020\n",
       "4  Women's Athletic Footwear       41.087173\n",
       "5    Women's Street Footwear       40.242537"
      ]
     },
     "execution_count": 38,
     "metadata": {},
     "output_type": "execute_result"
    }
   ],
   "source": [
    "df_product_price = df.groupby(\"Product\")[['Price per Unit']].mean().reset_index()\n",
    "df_product_price"
   ]
  },
  {
   "cell_type": "code",
   "execution_count": 39,
   "id": "18544f12",
   "metadata": {},
   "outputs": [
    {
     "data": {
      "application/vnd.plotly.v1+json": {
       "config": {
        "plotlyServerURL": "https://plot.ly"
       },
       "data": [
        {
         "alignmentgroup": "True",
         "hovertemplate": "Product=%{x}<br>Price per Unit=%{y}<extra></extra>",
         "legendgroup": "",
         "marker": {
          "color": "#636efa",
          "pattern": {
           "shape": ""
          }
         },
         "name": "",
         "offsetgroup": "",
         "orientation": "v",
         "showlegend": false,
         "textposition": "auto",
         "type": "bar",
         "x": [
          "Men's Apparel",
          "Men's Athletic Footwear",
          "Men's Street Footwear",
          "Women's Apparel",
          "Women's Athletic Footwear",
          "Women's Street Footwear"
         ],
         "xaxis": "x",
         "y": [
          50.257783312577835,
          43.7751552795031,
          44.188819875776396,
          51.54601990049751,
          41.08717310087173,
          40.242537313432834
         ],
         "yaxis": "y"
        }
       ],
       "layout": {
        "barmode": "relative",
        "legend": {
         "tracegroupgap": 0
        },
        "margin": {
         "t": 60
        },
        "template": {
         "data": {
          "bar": [
           {
            "error_x": {
             "color": "#2a3f5f"
            },
            "error_y": {
             "color": "#2a3f5f"
            },
            "marker": {
             "line": {
              "color": "#E5ECF6",
              "width": 0.5
             },
             "pattern": {
              "fillmode": "overlay",
              "size": 10,
              "solidity": 0.2
             }
            },
            "type": "bar"
           }
          ],
          "barpolar": [
           {
            "marker": {
             "line": {
              "color": "#E5ECF6",
              "width": 0.5
             },
             "pattern": {
              "fillmode": "overlay",
              "size": 10,
              "solidity": 0.2
             }
            },
            "type": "barpolar"
           }
          ],
          "carpet": [
           {
            "aaxis": {
             "endlinecolor": "#2a3f5f",
             "gridcolor": "white",
             "linecolor": "white",
             "minorgridcolor": "white",
             "startlinecolor": "#2a3f5f"
            },
            "baxis": {
             "endlinecolor": "#2a3f5f",
             "gridcolor": "white",
             "linecolor": "white",
             "minorgridcolor": "white",
             "startlinecolor": "#2a3f5f"
            },
            "type": "carpet"
           }
          ],
          "choropleth": [
           {
            "colorbar": {
             "outlinewidth": 0,
             "ticks": ""
            },
            "type": "choropleth"
           }
          ],
          "contour": [
           {
            "colorbar": {
             "outlinewidth": 0,
             "ticks": ""
            },
            "colorscale": [
             [
              0,
              "#0d0887"
             ],
             [
              0.1111111111111111,
              "#46039f"
             ],
             [
              0.2222222222222222,
              "#7201a8"
             ],
             [
              0.3333333333333333,
              "#9c179e"
             ],
             [
              0.4444444444444444,
              "#bd3786"
             ],
             [
              0.5555555555555556,
              "#d8576b"
             ],
             [
              0.6666666666666666,
              "#ed7953"
             ],
             [
              0.7777777777777778,
              "#fb9f3a"
             ],
             [
              0.8888888888888888,
              "#fdca26"
             ],
             [
              1,
              "#f0f921"
             ]
            ],
            "type": "contour"
           }
          ],
          "contourcarpet": [
           {
            "colorbar": {
             "outlinewidth": 0,
             "ticks": ""
            },
            "type": "contourcarpet"
           }
          ],
          "heatmap": [
           {
            "colorbar": {
             "outlinewidth": 0,
             "ticks": ""
            },
            "colorscale": [
             [
              0,
              "#0d0887"
             ],
             [
              0.1111111111111111,
              "#46039f"
             ],
             [
              0.2222222222222222,
              "#7201a8"
             ],
             [
              0.3333333333333333,
              "#9c179e"
             ],
             [
              0.4444444444444444,
              "#bd3786"
             ],
             [
              0.5555555555555556,
              "#d8576b"
             ],
             [
              0.6666666666666666,
              "#ed7953"
             ],
             [
              0.7777777777777778,
              "#fb9f3a"
             ],
             [
              0.8888888888888888,
              "#fdca26"
             ],
             [
              1,
              "#f0f921"
             ]
            ],
            "type": "heatmap"
           }
          ],
          "heatmapgl": [
           {
            "colorbar": {
             "outlinewidth": 0,
             "ticks": ""
            },
            "colorscale": [
             [
              0,
              "#0d0887"
             ],
             [
              0.1111111111111111,
              "#46039f"
             ],
             [
              0.2222222222222222,
              "#7201a8"
             ],
             [
              0.3333333333333333,
              "#9c179e"
             ],
             [
              0.4444444444444444,
              "#bd3786"
             ],
             [
              0.5555555555555556,
              "#d8576b"
             ],
             [
              0.6666666666666666,
              "#ed7953"
             ],
             [
              0.7777777777777778,
              "#fb9f3a"
             ],
             [
              0.8888888888888888,
              "#fdca26"
             ],
             [
              1,
              "#f0f921"
             ]
            ],
            "type": "heatmapgl"
           }
          ],
          "histogram": [
           {
            "marker": {
             "pattern": {
              "fillmode": "overlay",
              "size": 10,
              "solidity": 0.2
             }
            },
            "type": "histogram"
           }
          ],
          "histogram2d": [
           {
            "colorbar": {
             "outlinewidth": 0,
             "ticks": ""
            },
            "colorscale": [
             [
              0,
              "#0d0887"
             ],
             [
              0.1111111111111111,
              "#46039f"
             ],
             [
              0.2222222222222222,
              "#7201a8"
             ],
             [
              0.3333333333333333,
              "#9c179e"
             ],
             [
              0.4444444444444444,
              "#bd3786"
             ],
             [
              0.5555555555555556,
              "#d8576b"
             ],
             [
              0.6666666666666666,
              "#ed7953"
             ],
             [
              0.7777777777777778,
              "#fb9f3a"
             ],
             [
              0.8888888888888888,
              "#fdca26"
             ],
             [
              1,
              "#f0f921"
             ]
            ],
            "type": "histogram2d"
           }
          ],
          "histogram2dcontour": [
           {
            "colorbar": {
             "outlinewidth": 0,
             "ticks": ""
            },
            "colorscale": [
             [
              0,
              "#0d0887"
             ],
             [
              0.1111111111111111,
              "#46039f"
             ],
             [
              0.2222222222222222,
              "#7201a8"
             ],
             [
              0.3333333333333333,
              "#9c179e"
             ],
             [
              0.4444444444444444,
              "#bd3786"
             ],
             [
              0.5555555555555556,
              "#d8576b"
             ],
             [
              0.6666666666666666,
              "#ed7953"
             ],
             [
              0.7777777777777778,
              "#fb9f3a"
             ],
             [
              0.8888888888888888,
              "#fdca26"
             ],
             [
              1,
              "#f0f921"
             ]
            ],
            "type": "histogram2dcontour"
           }
          ],
          "mesh3d": [
           {
            "colorbar": {
             "outlinewidth": 0,
             "ticks": ""
            },
            "type": "mesh3d"
           }
          ],
          "parcoords": [
           {
            "line": {
             "colorbar": {
              "outlinewidth": 0,
              "ticks": ""
             }
            },
            "type": "parcoords"
           }
          ],
          "pie": [
           {
            "automargin": true,
            "type": "pie"
           }
          ],
          "scatter": [
           {
            "fillpattern": {
             "fillmode": "overlay",
             "size": 10,
             "solidity": 0.2
            },
            "type": "scatter"
           }
          ],
          "scatter3d": [
           {
            "line": {
             "colorbar": {
              "outlinewidth": 0,
              "ticks": ""
             }
            },
            "marker": {
             "colorbar": {
              "outlinewidth": 0,
              "ticks": ""
             }
            },
            "type": "scatter3d"
           }
          ],
          "scattercarpet": [
           {
            "marker": {
             "colorbar": {
              "outlinewidth": 0,
              "ticks": ""
             }
            },
            "type": "scattercarpet"
           }
          ],
          "scattergeo": [
           {
            "marker": {
             "colorbar": {
              "outlinewidth": 0,
              "ticks": ""
             }
            },
            "type": "scattergeo"
           }
          ],
          "scattergl": [
           {
            "marker": {
             "colorbar": {
              "outlinewidth": 0,
              "ticks": ""
             }
            },
            "type": "scattergl"
           }
          ],
          "scattermapbox": [
           {
            "marker": {
             "colorbar": {
              "outlinewidth": 0,
              "ticks": ""
             }
            },
            "type": "scattermapbox"
           }
          ],
          "scatterpolar": [
           {
            "marker": {
             "colorbar": {
              "outlinewidth": 0,
              "ticks": ""
             }
            },
            "type": "scatterpolar"
           }
          ],
          "scatterpolargl": [
           {
            "marker": {
             "colorbar": {
              "outlinewidth": 0,
              "ticks": ""
             }
            },
            "type": "scatterpolargl"
           }
          ],
          "scatterternary": [
           {
            "marker": {
             "colorbar": {
              "outlinewidth": 0,
              "ticks": ""
             }
            },
            "type": "scatterternary"
           }
          ],
          "surface": [
           {
            "colorbar": {
             "outlinewidth": 0,
             "ticks": ""
            },
            "colorscale": [
             [
              0,
              "#0d0887"
             ],
             [
              0.1111111111111111,
              "#46039f"
             ],
             [
              0.2222222222222222,
              "#7201a8"
             ],
             [
              0.3333333333333333,
              "#9c179e"
             ],
             [
              0.4444444444444444,
              "#bd3786"
             ],
             [
              0.5555555555555556,
              "#d8576b"
             ],
             [
              0.6666666666666666,
              "#ed7953"
             ],
             [
              0.7777777777777778,
              "#fb9f3a"
             ],
             [
              0.8888888888888888,
              "#fdca26"
             ],
             [
              1,
              "#f0f921"
             ]
            ],
            "type": "surface"
           }
          ],
          "table": [
           {
            "cells": {
             "fill": {
              "color": "#EBF0F8"
             },
             "line": {
              "color": "white"
             }
            },
            "header": {
             "fill": {
              "color": "#C8D4E3"
             },
             "line": {
              "color": "white"
             }
            },
            "type": "table"
           }
          ]
         },
         "layout": {
          "annotationdefaults": {
           "arrowcolor": "#2a3f5f",
           "arrowhead": 0,
           "arrowwidth": 1
          },
          "autotypenumbers": "strict",
          "coloraxis": {
           "colorbar": {
            "outlinewidth": 0,
            "ticks": ""
           }
          },
          "colorscale": {
           "diverging": [
            [
             0,
             "#8e0152"
            ],
            [
             0.1,
             "#c51b7d"
            ],
            [
             0.2,
             "#de77ae"
            ],
            [
             0.3,
             "#f1b6da"
            ],
            [
             0.4,
             "#fde0ef"
            ],
            [
             0.5,
             "#f7f7f7"
            ],
            [
             0.6,
             "#e6f5d0"
            ],
            [
             0.7,
             "#b8e186"
            ],
            [
             0.8,
             "#7fbc41"
            ],
            [
             0.9,
             "#4d9221"
            ],
            [
             1,
             "#276419"
            ]
           ],
           "sequential": [
            [
             0,
             "#0d0887"
            ],
            [
             0.1111111111111111,
             "#46039f"
            ],
            [
             0.2222222222222222,
             "#7201a8"
            ],
            [
             0.3333333333333333,
             "#9c179e"
            ],
            [
             0.4444444444444444,
             "#bd3786"
            ],
            [
             0.5555555555555556,
             "#d8576b"
            ],
            [
             0.6666666666666666,
             "#ed7953"
            ],
            [
             0.7777777777777778,
             "#fb9f3a"
            ],
            [
             0.8888888888888888,
             "#fdca26"
            ],
            [
             1,
             "#f0f921"
            ]
           ],
           "sequentialminus": [
            [
             0,
             "#0d0887"
            ],
            [
             0.1111111111111111,
             "#46039f"
            ],
            [
             0.2222222222222222,
             "#7201a8"
            ],
            [
             0.3333333333333333,
             "#9c179e"
            ],
            [
             0.4444444444444444,
             "#bd3786"
            ],
            [
             0.5555555555555556,
             "#d8576b"
            ],
            [
             0.6666666666666666,
             "#ed7953"
            ],
            [
             0.7777777777777778,
             "#fb9f3a"
            ],
            [
             0.8888888888888888,
             "#fdca26"
            ],
            [
             1,
             "#f0f921"
            ]
           ]
          },
          "colorway": [
           "#636efa",
           "#EF553B",
           "#00cc96",
           "#ab63fa",
           "#FFA15A",
           "#19d3f3",
           "#FF6692",
           "#B6E880",
           "#FF97FF",
           "#FECB52"
          ],
          "font": {
           "color": "#2a3f5f"
          },
          "geo": {
           "bgcolor": "white",
           "lakecolor": "white",
           "landcolor": "#E5ECF6",
           "showlakes": true,
           "showland": true,
           "subunitcolor": "white"
          },
          "hoverlabel": {
           "align": "left"
          },
          "hovermode": "closest",
          "mapbox": {
           "style": "light"
          },
          "paper_bgcolor": "white",
          "plot_bgcolor": "#E5ECF6",
          "polar": {
           "angularaxis": {
            "gridcolor": "white",
            "linecolor": "white",
            "ticks": ""
           },
           "bgcolor": "#E5ECF6",
           "radialaxis": {
            "gridcolor": "white",
            "linecolor": "white",
            "ticks": ""
           }
          },
          "scene": {
           "xaxis": {
            "backgroundcolor": "#E5ECF6",
            "gridcolor": "white",
            "gridwidth": 2,
            "linecolor": "white",
            "showbackground": true,
            "ticks": "",
            "zerolinecolor": "white"
           },
           "yaxis": {
            "backgroundcolor": "#E5ECF6",
            "gridcolor": "white",
            "gridwidth": 2,
            "linecolor": "white",
            "showbackground": true,
            "ticks": "",
            "zerolinecolor": "white"
           },
           "zaxis": {
            "backgroundcolor": "#E5ECF6",
            "gridcolor": "white",
            "gridwidth": 2,
            "linecolor": "white",
            "showbackground": true,
            "ticks": "",
            "zerolinecolor": "white"
           }
          },
          "shapedefaults": {
           "line": {
            "color": "#2a3f5f"
           }
          },
          "ternary": {
           "aaxis": {
            "gridcolor": "white",
            "linecolor": "white",
            "ticks": ""
           },
           "baxis": {
            "gridcolor": "white",
            "linecolor": "white",
            "ticks": ""
           },
           "bgcolor": "#E5ECF6",
           "caxis": {
            "gridcolor": "white",
            "linecolor": "white",
            "ticks": ""
           }
          },
          "title": {
           "x": 0.05
          },
          "xaxis": {
           "automargin": true,
           "gridcolor": "white",
           "linecolor": "white",
           "ticks": "",
           "title": {
            "standoff": 15
           },
           "zerolinecolor": "white",
           "zerolinewidth": 2
          },
          "yaxis": {
           "automargin": true,
           "gridcolor": "white",
           "linecolor": "white",
           "ticks": "",
           "title": {
            "standoff": 15
           },
           "zerolinecolor": "white",
           "zerolinewidth": 2
          }
         }
        },
        "xaxis": {
         "anchor": "y",
         "domain": [
          0,
          1
         ],
         "title": {
          "text": "Product"
         }
        },
        "yaxis": {
         "anchor": "x",
         "domain": [
          0,
          1
         ],
         "title": {
          "text": "Price per Unit"
         }
        }
       }
      }
     },
     "metadata": {},
     "output_type": "display_data"
    }
   ],
   "source": [
    "px.bar(df_product_price, x = \"Product\",y=\"Price per Unit\")"
   ]
  },
  {
   "cell_type": "code",
   "execution_count": 40,
   "id": "6d7f246a",
   "metadata": {},
   "outputs": [
    {
     "data": {
      "text/html": [
       "<div>\n",
       "<style scoped>\n",
       "    .dataframe tbody tr th:only-of-type {\n",
       "        vertical-align: middle;\n",
       "    }\n",
       "\n",
       "    .dataframe tbody tr th {\n",
       "        vertical-align: top;\n",
       "    }\n",
       "\n",
       "    .dataframe thead th {\n",
       "        text-align: right;\n",
       "    }\n",
       "</style>\n",
       "<table border=\"1\" class=\"dataframe\">\n",
       "  <thead>\n",
       "    <tr style=\"text-align: right;\">\n",
       "      <th></th>\n",
       "      <th>Retailer</th>\n",
       "      <th>Retailer ID</th>\n",
       "      <th>Invoice Date</th>\n",
       "      <th>Region</th>\n",
       "      <th>State</th>\n",
       "      <th>City</th>\n",
       "      <th>Product</th>\n",
       "      <th>Price per Unit</th>\n",
       "      <th>Units Sold</th>\n",
       "      <th>Total Sales</th>\n",
       "      <th>Operating Profit</th>\n",
       "      <th>Operating Margin</th>\n",
       "      <th>Sales Method</th>\n",
       "    </tr>\n",
       "  </thead>\n",
       "  <tbody>\n",
       "    <tr>\n",
       "      <th>0</th>\n",
       "      <td>Foot Locker</td>\n",
       "      <td>1185732</td>\n",
       "      <td>2020-01-01 00:00:00</td>\n",
       "      <td>Northeast</td>\n",
       "      <td>New York</td>\n",
       "      <td>New York</td>\n",
       "      <td>Men's Street Footwear</td>\n",
       "      <td>50</td>\n",
       "      <td>1200</td>\n",
       "      <td>600000.0</td>\n",
       "      <td>300000.0</td>\n",
       "      <td>0.50</td>\n",
       "      <td>In-store</td>\n",
       "    </tr>\n",
       "    <tr>\n",
       "      <th>1</th>\n",
       "      <td>Foot Locker</td>\n",
       "      <td>1185732</td>\n",
       "      <td>2020-01-02 00:00:00</td>\n",
       "      <td>Northeast</td>\n",
       "      <td>New York</td>\n",
       "      <td>New York</td>\n",
       "      <td>Men's Athletic Footwear</td>\n",
       "      <td>50</td>\n",
       "      <td>1000</td>\n",
       "      <td>500000.0</td>\n",
       "      <td>150000.0</td>\n",
       "      <td>0.30</td>\n",
       "      <td>In-store</td>\n",
       "    </tr>\n",
       "    <tr>\n",
       "      <th>2</th>\n",
       "      <td>Foot Locker</td>\n",
       "      <td>1185732</td>\n",
       "      <td>2020-01-03 00:00:00</td>\n",
       "      <td>Northeast</td>\n",
       "      <td>New York</td>\n",
       "      <td>New York</td>\n",
       "      <td>Women's Street Footwear</td>\n",
       "      <td>40</td>\n",
       "      <td>1000</td>\n",
       "      <td>400000.0</td>\n",
       "      <td>140000.0</td>\n",
       "      <td>0.35</td>\n",
       "      <td>In-store</td>\n",
       "    </tr>\n",
       "    <tr>\n",
       "      <th>3</th>\n",
       "      <td>Foot Locker</td>\n",
       "      <td>1185732</td>\n",
       "      <td>2020-01-04 00:00:00</td>\n",
       "      <td>Northeast</td>\n",
       "      <td>New York</td>\n",
       "      <td>New York</td>\n",
       "      <td>Women's Athletic Footwear</td>\n",
       "      <td>45</td>\n",
       "      <td>850</td>\n",
       "      <td>382500.0</td>\n",
       "      <td>133875.0</td>\n",
       "      <td>0.35</td>\n",
       "      <td>In-store</td>\n",
       "    </tr>\n",
       "    <tr>\n",
       "      <th>4</th>\n",
       "      <td>Foot Locker</td>\n",
       "      <td>1185732</td>\n",
       "      <td>2020-01-05 00:00:00</td>\n",
       "      <td>Northeast</td>\n",
       "      <td>New York</td>\n",
       "      <td>New York</td>\n",
       "      <td>Men's Apparel</td>\n",
       "      <td>60</td>\n",
       "      <td>900</td>\n",
       "      <td>540000.0</td>\n",
       "      <td>162000.0</td>\n",
       "      <td>0.30</td>\n",
       "      <td>In-store</td>\n",
       "    </tr>\n",
       "  </tbody>\n",
       "</table>\n",
       "</div>"
      ],
      "text/plain": [
       "      Retailer Retailer ID         Invoice Date     Region     State  \\\n",
       "0  Foot Locker     1185732  2020-01-01 00:00:00  Northeast  New York   \n",
       "1  Foot Locker     1185732  2020-01-02 00:00:00  Northeast  New York   \n",
       "2  Foot Locker     1185732  2020-01-03 00:00:00  Northeast  New York   \n",
       "3  Foot Locker     1185732  2020-01-04 00:00:00  Northeast  New York   \n",
       "4  Foot Locker     1185732  2020-01-05 00:00:00  Northeast  New York   \n",
       "\n",
       "       City                    Product  Price per Unit  Units Sold  \\\n",
       "0  New York      Men's Street Footwear              50        1200   \n",
       "1  New York    Men's Athletic Footwear              50        1000   \n",
       "2  New York    Women's Street Footwear              40        1000   \n",
       "3  New York  Women's Athletic Footwear              45         850   \n",
       "4  New York              Men's Apparel              60         900   \n",
       "\n",
       "   Total Sales  Operating Profit  Operating Margin Sales Method  \n",
       "0     600000.0          300000.0              0.50     In-store  \n",
       "1     500000.0          150000.0              0.30     In-store  \n",
       "2     400000.0          140000.0              0.35     In-store  \n",
       "3     382500.0          133875.0              0.35     In-store  \n",
       "4     540000.0          162000.0              0.30     In-store  "
      ]
     },
     "execution_count": 40,
     "metadata": {},
     "output_type": "execute_result"
    }
   ],
   "source": [
    "df.head()"
   ]
  },
  {
   "cell_type": "code",
   "execution_count": 41,
   "id": "ce914c87",
   "metadata": {},
   "outputs": [
    {
     "data": {
      "text/plain": [
       "datetime.datetime(2020, 1, 5, 0, 0)"
      ]
     },
     "execution_count": 41,
     "metadata": {},
     "output_type": "execute_result"
    }
   ],
   "source": [
    "df.iloc[4,2]"
   ]
  },
  {
   "cell_type": "code",
   "execution_count": 42,
   "id": "9e4cf004",
   "metadata": {},
   "outputs": [
    {
     "data": {
      "text/html": [
       "<div>\n",
       "<style scoped>\n",
       "    .dataframe tbody tr th:only-of-type {\n",
       "        vertical-align: middle;\n",
       "    }\n",
       "\n",
       "    .dataframe tbody tr th {\n",
       "        vertical-align: top;\n",
       "    }\n",
       "\n",
       "    .dataframe thead th {\n",
       "        text-align: right;\n",
       "    }\n",
       "</style>\n",
       "<table border=\"1\" class=\"dataframe\">\n",
       "  <thead>\n",
       "    <tr style=\"text-align: right;\">\n",
       "      <th></th>\n",
       "      <th>Invoice Date</th>\n",
       "      <th>Mean of Total Sales</th>\n",
       "    </tr>\n",
       "  </thead>\n",
       "  <tbody>\n",
       "    <tr>\n",
       "      <th>0</th>\n",
       "      <td>2020-01-01</td>\n",
       "      <td>140856.828125</td>\n",
       "    </tr>\n",
       "    <tr>\n",
       "      <th>1</th>\n",
       "      <td>2020-01-02</td>\n",
       "      <td>114901.664062</td>\n",
       "    </tr>\n",
       "    <tr>\n",
       "      <th>2</th>\n",
       "      <td>2020-01-03</td>\n",
       "      <td>105428.835938</td>\n",
       "    </tr>\n",
       "    <tr>\n",
       "      <th>3</th>\n",
       "      <td>2020-01-04</td>\n",
       "      <td>102513.335938</td>\n",
       "    </tr>\n",
       "    <tr>\n",
       "      <th>4</th>\n",
       "      <td>2020-01-05</td>\n",
       "      <td>117971.500000</td>\n",
       "    </tr>\n",
       "    <tr>\n",
       "      <th>...</th>\n",
       "      <td>...</td>\n",
       "      <td>...</td>\n",
       "    </tr>\n",
       "    <tr>\n",
       "      <th>719</th>\n",
       "      <td>2021-12-27</td>\n",
       "      <td>120470.601562</td>\n",
       "    </tr>\n",
       "    <tr>\n",
       "      <th>720</th>\n",
       "      <td>2021-12-28</td>\n",
       "      <td>60202.000000</td>\n",
       "    </tr>\n",
       "    <tr>\n",
       "      <th>721</th>\n",
       "      <td>2021-12-29</td>\n",
       "      <td>42221.800781</td>\n",
       "    </tr>\n",
       "    <tr>\n",
       "      <th>722</th>\n",
       "      <td>2021-12-30</td>\n",
       "      <td>33580.601562</td>\n",
       "    </tr>\n",
       "    <tr>\n",
       "      <th>723</th>\n",
       "      <td>2021-12-31</td>\n",
       "      <td>39731.800781</td>\n",
       "    </tr>\n",
       "  </tbody>\n",
       "</table>\n",
       "<p>724 rows × 2 columns</p>\n",
       "</div>"
      ],
      "text/plain": [
       "    Invoice Date  Mean of Total Sales\n",
       "0     2020-01-01        140856.828125\n",
       "1     2020-01-02        114901.664062\n",
       "2     2020-01-03        105428.835938\n",
       "3     2020-01-04        102513.335938\n",
       "4     2020-01-05        117971.500000\n",
       "..           ...                  ...\n",
       "719   2021-12-27        120470.601562\n",
       "720   2021-12-28         60202.000000\n",
       "721   2021-12-29         42221.800781\n",
       "722   2021-12-30         33580.601562\n",
       "723   2021-12-31         39731.800781\n",
       "\n",
       "[724 rows x 2 columns]"
      ]
     },
     "execution_count": 42,
     "metadata": {},
     "output_type": "execute_result"
    }
   ],
   "source": [
    "df_date = df.groupby(\"Invoice Date\")[[\"Total Sales\"]].mean().reset_index().rename(columns={\"Total Sales\": \"Mean of Total Sales\"})\n",
    "df_date"
   ]
  },
  {
   "cell_type": "code",
   "execution_count": 43,
   "id": "93791493",
   "metadata": {},
   "outputs": [
    {
     "data": {
      "application/vnd.plotly.v1+json": {
       "config": {
        "plotlyServerURL": "https://plot.ly"
       },
       "data": [
        {
         "hovertemplate": "Invoice Date=%{x}<br>Mean of Total Sales=%{y}<extra></extra>",
         "legendgroup": "",
         "line": {
          "color": "#636efa",
          "dash": "solid"
         },
         "marker": {
          "symbol": "circle"
         },
         "mode": "lines",
         "name": "",
         "orientation": "v",
         "showlegend": false,
         "type": "scatter",
         "x": [
          "2020-01-01T00:00:00",
          "2020-01-02T00:00:00",
          "2020-01-03T00:00:00",
          "2020-01-04T00:00:00",
          "2020-01-05T00:00:00",
          "2020-01-06T00:00:00",
          "2020-01-07T00:00:00",
          "2020-01-08T00:00:00",
          "2020-01-09T00:00:00",
          "2020-01-10T00:00:00",
          "2020-01-11T00:00:00",
          "2020-01-12T00:00:00",
          "2020-01-13T00:00:00",
          "2020-01-14T00:00:00",
          "2020-01-15T00:00:00",
          "2020-01-16T00:00:00",
          "2020-01-17T00:00:00",
          "2020-01-18T00:00:00",
          "2020-01-19T00:00:00",
          "2020-01-20T00:00:00",
          "2020-01-21T00:00:00",
          "2020-01-22T00:00:00",
          "2020-01-23T00:00:00",
          "2020-01-24T00:00:00",
          "2020-01-25T00:00:00",
          "2020-01-26T00:00:00",
          "2020-01-27T00:00:00",
          "2020-01-28T00:00:00",
          "2020-01-29T00:00:00",
          "2020-01-30T00:00:00",
          "2020-01-31T00:00:00",
          "2020-02-01T00:00:00",
          "2020-02-02T00:00:00",
          "2020-02-03T00:00:00",
          "2020-02-04T00:00:00",
          "2020-02-05T00:00:00",
          "2020-02-06T00:00:00",
          "2020-02-07T00:00:00",
          "2020-02-08T00:00:00",
          "2020-02-09T00:00:00",
          "2020-02-10T00:00:00",
          "2020-02-11T00:00:00",
          "2020-02-12T00:00:00",
          "2020-02-13T00:00:00",
          "2020-02-14T00:00:00",
          "2020-02-15T00:00:00",
          "2020-02-16T00:00:00",
          "2020-02-17T00:00:00",
          "2020-02-18T00:00:00",
          "2020-02-19T00:00:00",
          "2020-02-20T00:00:00",
          "2020-02-21T00:00:00",
          "2020-02-22T00:00:00",
          "2020-02-23T00:00:00",
          "2020-02-24T00:00:00",
          "2020-02-25T00:00:00",
          "2020-02-26T00:00:00",
          "2020-02-27T00:00:00",
          "2020-02-28T00:00:00",
          "2020-03-01T00:00:00",
          "2020-03-02T00:00:00",
          "2020-03-03T00:00:00",
          "2020-03-04T00:00:00",
          "2020-03-05T00:00:00",
          "2020-03-06T00:00:00",
          "2020-03-07T00:00:00",
          "2020-03-08T00:00:00",
          "2020-03-09T00:00:00",
          "2020-03-10T00:00:00",
          "2020-03-11T00:00:00",
          "2020-03-12T00:00:00",
          "2020-03-13T00:00:00",
          "2020-03-14T00:00:00",
          "2020-03-15T00:00:00",
          "2020-03-16T00:00:00",
          "2020-03-17T00:00:00",
          "2020-03-18T00:00:00",
          "2020-03-19T00:00:00",
          "2020-03-20T00:00:00",
          "2020-03-21T00:00:00",
          "2020-03-22T00:00:00",
          "2020-03-23T00:00:00",
          "2020-03-24T00:00:00",
          "2020-03-25T00:00:00",
          "2020-03-26T00:00:00",
          "2020-03-27T00:00:00",
          "2020-03-28T00:00:00",
          "2020-03-29T00:00:00",
          "2020-03-30T00:00:00",
          "2020-03-31T00:00:00",
          "2020-04-01T00:00:00",
          "2020-04-02T00:00:00",
          "2020-04-03T00:00:00",
          "2020-04-04T00:00:00",
          "2020-04-05T00:00:00",
          "2020-04-06T00:00:00",
          "2020-04-07T00:00:00",
          "2020-04-08T00:00:00",
          "2020-04-09T00:00:00",
          "2020-04-10T00:00:00",
          "2020-04-11T00:00:00",
          "2020-04-12T00:00:00",
          "2020-04-13T00:00:00",
          "2020-04-14T00:00:00",
          "2020-04-15T00:00:00",
          "2020-04-16T00:00:00",
          "2020-04-17T00:00:00",
          "2020-04-18T00:00:00",
          "2020-04-19T00:00:00",
          "2020-04-20T00:00:00",
          "2020-04-21T00:00:00",
          "2020-04-22T00:00:00",
          "2020-04-23T00:00:00",
          "2020-04-24T00:00:00",
          "2020-04-25T00:00:00",
          "2020-04-26T00:00:00",
          "2020-04-27T00:00:00",
          "2020-04-28T00:00:00",
          "2020-04-29T00:00:00",
          "2020-04-30T00:00:00",
          "2020-05-01T00:00:00",
          "2020-05-02T00:00:00",
          "2020-05-03T00:00:00",
          "2020-05-04T00:00:00",
          "2020-05-05T00:00:00",
          "2020-05-06T00:00:00",
          "2020-05-07T00:00:00",
          "2020-05-08T00:00:00",
          "2020-05-09T00:00:00",
          "2020-05-10T00:00:00",
          "2020-05-11T00:00:00",
          "2020-05-12T00:00:00",
          "2020-05-13T00:00:00",
          "2020-05-14T00:00:00",
          "2020-05-15T00:00:00",
          "2020-05-16T00:00:00",
          "2020-05-17T00:00:00",
          "2020-05-18T00:00:00",
          "2020-05-19T00:00:00",
          "2020-05-20T00:00:00",
          "2020-05-21T00:00:00",
          "2020-05-22T00:00:00",
          "2020-05-23T00:00:00",
          "2020-05-24T00:00:00",
          "2020-05-25T00:00:00",
          "2020-05-26T00:00:00",
          "2020-05-27T00:00:00",
          "2020-05-28T00:00:00",
          "2020-05-29T00:00:00",
          "2020-05-30T00:00:00",
          "2020-05-31T00:00:00",
          "2020-06-01T00:00:00",
          "2020-06-02T00:00:00",
          "2020-06-03T00:00:00",
          "2020-06-04T00:00:00",
          "2020-06-05T00:00:00",
          "2020-06-06T00:00:00",
          "2020-06-07T00:00:00",
          "2020-06-08T00:00:00",
          "2020-06-09T00:00:00",
          "2020-06-10T00:00:00",
          "2020-06-11T00:00:00",
          "2020-06-12T00:00:00",
          "2020-06-13T00:00:00",
          "2020-06-14T00:00:00",
          "2020-06-15T00:00:00",
          "2020-06-16T00:00:00",
          "2020-06-17T00:00:00",
          "2020-06-18T00:00:00",
          "2020-06-19T00:00:00",
          "2020-06-20T00:00:00",
          "2020-06-21T00:00:00",
          "2020-06-22T00:00:00",
          "2020-06-23T00:00:00",
          "2020-06-24T00:00:00",
          "2020-06-25T00:00:00",
          "2020-06-26T00:00:00",
          "2020-06-27T00:00:00",
          "2020-06-28T00:00:00",
          "2020-06-29T00:00:00",
          "2020-06-30T00:00:00",
          "2020-07-01T00:00:00",
          "2020-07-02T00:00:00",
          "2020-07-03T00:00:00",
          "2020-07-04T00:00:00",
          "2020-07-05T00:00:00",
          "2020-07-06T00:00:00",
          "2020-07-07T00:00:00",
          "2020-07-08T00:00:00",
          "2020-07-09T00:00:00",
          "2020-07-10T00:00:00",
          "2020-07-11T00:00:00",
          "2020-07-12T00:00:00",
          "2020-07-13T00:00:00",
          "2020-07-14T00:00:00",
          "2020-07-15T00:00:00",
          "2020-07-16T00:00:00",
          "2020-07-17T00:00:00",
          "2020-07-18T00:00:00",
          "2020-07-19T00:00:00",
          "2020-07-20T00:00:00",
          "2020-07-21T00:00:00",
          "2020-07-22T00:00:00",
          "2020-07-23T00:00:00",
          "2020-07-24T00:00:00",
          "2020-07-25T00:00:00",
          "2020-07-26T00:00:00",
          "2020-07-27T00:00:00",
          "2020-07-28T00:00:00",
          "2020-07-29T00:00:00",
          "2020-07-30T00:00:00",
          "2020-07-31T00:00:00",
          "2020-08-01T00:00:00",
          "2020-08-02T00:00:00",
          "2020-08-03T00:00:00",
          "2020-08-04T00:00:00",
          "2020-08-05T00:00:00",
          "2020-08-06T00:00:00",
          "2020-08-07T00:00:00",
          "2020-08-08T00:00:00",
          "2020-08-09T00:00:00",
          "2020-08-10T00:00:00",
          "2020-08-11T00:00:00",
          "2020-08-12T00:00:00",
          "2020-08-13T00:00:00",
          "2020-08-14T00:00:00",
          "2020-08-15T00:00:00",
          "2020-08-16T00:00:00",
          "2020-08-17T00:00:00",
          "2020-08-18T00:00:00",
          "2020-08-19T00:00:00",
          "2020-08-20T00:00:00",
          "2020-08-21T00:00:00",
          "2020-08-22T00:00:00",
          "2020-08-23T00:00:00",
          "2020-08-24T00:00:00",
          "2020-08-25T00:00:00",
          "2020-08-26T00:00:00",
          "2020-08-27T00:00:00",
          "2020-08-28T00:00:00",
          "2020-08-29T00:00:00",
          "2020-08-30T00:00:00",
          "2020-08-31T00:00:00",
          "2020-09-01T00:00:00",
          "2020-09-02T00:00:00",
          "2020-09-03T00:00:00",
          "2020-09-04T00:00:00",
          "2020-09-05T00:00:00",
          "2020-09-06T00:00:00",
          "2020-09-07T00:00:00",
          "2020-09-08T00:00:00",
          "2020-09-09T00:00:00",
          "2020-09-10T00:00:00",
          "2020-09-11T00:00:00",
          "2020-09-12T00:00:00",
          "2020-09-13T00:00:00",
          "2020-09-14T00:00:00",
          "2020-09-15T00:00:00",
          "2020-09-16T00:00:00",
          "2020-09-17T00:00:00",
          "2020-09-18T00:00:00",
          "2020-09-19T00:00:00",
          "2020-09-20T00:00:00",
          "2020-09-21T00:00:00",
          "2020-09-22T00:00:00",
          "2020-09-23T00:00:00",
          "2020-09-24T00:00:00",
          "2020-09-25T00:00:00",
          "2020-09-26T00:00:00",
          "2020-09-27T00:00:00",
          "2020-09-28T00:00:00",
          "2020-09-29T00:00:00",
          "2020-09-30T00:00:00",
          "2020-10-01T00:00:00",
          "2020-10-02T00:00:00",
          "2020-10-03T00:00:00",
          "2020-10-04T00:00:00",
          "2020-10-05T00:00:00",
          "2020-10-06T00:00:00",
          "2020-10-07T00:00:00",
          "2020-10-08T00:00:00",
          "2020-10-09T00:00:00",
          "2020-10-10T00:00:00",
          "2020-10-17T00:00:00",
          "2020-10-18T00:00:00",
          "2020-10-19T00:00:00",
          "2020-10-20T00:00:00",
          "2020-10-21T00:00:00",
          "2020-10-22T00:00:00",
          "2020-10-23T00:00:00",
          "2020-10-24T00:00:00",
          "2020-10-25T00:00:00",
          "2020-10-26T00:00:00",
          "2020-10-27T00:00:00",
          "2020-10-28T00:00:00",
          "2020-10-29T00:00:00",
          "2020-10-30T00:00:00",
          "2020-10-31T00:00:00",
          "2020-11-01T00:00:00",
          "2020-11-02T00:00:00",
          "2020-11-03T00:00:00",
          "2020-11-04T00:00:00",
          "2020-11-05T00:00:00",
          "2020-11-06T00:00:00",
          "2020-11-07T00:00:00",
          "2020-11-08T00:00:00",
          "2020-11-09T00:00:00",
          "2020-11-10T00:00:00",
          "2020-11-11T00:00:00",
          "2020-11-12T00:00:00",
          "2020-11-13T00:00:00",
          "2020-11-14T00:00:00",
          "2020-11-15T00:00:00",
          "2020-11-16T00:00:00",
          "2020-11-17T00:00:00",
          "2020-11-18T00:00:00",
          "2020-11-19T00:00:00",
          "2020-11-20T00:00:00",
          "2020-11-21T00:00:00",
          "2020-11-22T00:00:00",
          "2020-11-23T00:00:00",
          "2020-11-24T00:00:00",
          "2020-11-25T00:00:00",
          "2020-11-26T00:00:00",
          "2020-11-27T00:00:00",
          "2020-11-28T00:00:00",
          "2020-11-29T00:00:00",
          "2020-11-30T00:00:00",
          "2020-12-01T00:00:00",
          "2020-12-02T00:00:00",
          "2020-12-03T00:00:00",
          "2020-12-04T00:00:00",
          "2020-12-05T00:00:00",
          "2020-12-06T00:00:00",
          "2020-12-07T00:00:00",
          "2020-12-08T00:00:00",
          "2020-12-09T00:00:00",
          "2020-12-10T00:00:00",
          "2020-12-11T00:00:00",
          "2020-12-12T00:00:00",
          "2020-12-13T00:00:00",
          "2020-12-14T00:00:00",
          "2020-12-15T00:00:00",
          "2020-12-16T00:00:00",
          "2020-12-17T00:00:00",
          "2020-12-18T00:00:00",
          "2020-12-19T00:00:00",
          "2020-12-20T00:00:00",
          "2020-12-21T00:00:00",
          "2020-12-22T00:00:00",
          "2020-12-23T00:00:00",
          "2020-12-24T00:00:00",
          "2020-12-25T00:00:00",
          "2020-12-26T00:00:00",
          "2020-12-27T00:00:00",
          "2020-12-28T00:00:00",
          "2020-12-29T00:00:00",
          "2020-12-30T00:00:00",
          "2020-12-31T00:00:00",
          "2021-01-01T00:00:00",
          "2021-01-02T00:00:00",
          "2021-01-03T00:00:00",
          "2021-01-04T00:00:00",
          "2021-01-05T00:00:00",
          "2021-01-06T00:00:00",
          "2021-01-07T00:00:00",
          "2021-01-08T00:00:00",
          "2021-01-09T00:00:00",
          "2021-01-10T00:00:00",
          "2021-01-11T00:00:00",
          "2021-01-12T00:00:00",
          "2021-01-13T00:00:00",
          "2021-01-14T00:00:00",
          "2021-01-15T00:00:00",
          "2021-01-16T00:00:00",
          "2021-01-17T00:00:00",
          "2021-01-18T00:00:00",
          "2021-01-19T00:00:00",
          "2021-01-20T00:00:00",
          "2021-01-21T00:00:00",
          "2021-01-22T00:00:00",
          "2021-01-23T00:00:00",
          "2021-01-24T00:00:00",
          "2021-01-25T00:00:00",
          "2021-01-26T00:00:00",
          "2021-01-27T00:00:00",
          "2021-01-28T00:00:00",
          "2021-01-29T00:00:00",
          "2021-01-30T00:00:00",
          "2021-01-31T00:00:00",
          "2021-02-01T00:00:00",
          "2021-02-02T00:00:00",
          "2021-02-03T00:00:00",
          "2021-02-04T00:00:00",
          "2021-02-05T00:00:00",
          "2021-02-06T00:00:00",
          "2021-02-07T00:00:00",
          "2021-02-08T00:00:00",
          "2021-02-09T00:00:00",
          "2021-02-10T00:00:00",
          "2021-02-11T00:00:00",
          "2021-02-12T00:00:00",
          "2021-02-13T00:00:00",
          "2021-02-14T00:00:00",
          "2021-02-15T00:00:00",
          "2021-02-16T00:00:00",
          "2021-02-17T00:00:00",
          "2021-02-18T00:00:00",
          "2021-02-19T00:00:00",
          "2021-02-20T00:00:00",
          "2021-02-21T00:00:00",
          "2021-02-22T00:00:00",
          "2021-02-23T00:00:00",
          "2021-02-24T00:00:00",
          "2021-02-25T00:00:00",
          "2021-02-26T00:00:00",
          "2021-02-27T00:00:00",
          "2021-02-28T00:00:00",
          "2021-03-01T00:00:00",
          "2021-03-02T00:00:00",
          "2021-03-03T00:00:00",
          "2021-03-04T00:00:00",
          "2021-03-05T00:00:00",
          "2021-03-06T00:00:00",
          "2021-03-07T00:00:00",
          "2021-03-08T00:00:00",
          "2021-03-09T00:00:00",
          "2021-03-10T00:00:00",
          "2021-03-11T00:00:00",
          "2021-03-12T00:00:00",
          "2021-03-13T00:00:00",
          "2021-03-14T00:00:00",
          "2021-03-15T00:00:00",
          "2021-03-16T00:00:00",
          "2021-03-17T00:00:00",
          "2021-03-18T00:00:00",
          "2021-03-19T00:00:00",
          "2021-03-20T00:00:00",
          "2021-03-21T00:00:00",
          "2021-03-22T00:00:00",
          "2021-03-23T00:00:00",
          "2021-03-24T00:00:00",
          "2021-03-25T00:00:00",
          "2021-03-26T00:00:00",
          "2021-03-27T00:00:00",
          "2021-03-28T00:00:00",
          "2021-03-29T00:00:00",
          "2021-03-30T00:00:00",
          "2021-03-31T00:00:00",
          "2021-04-01T00:00:00",
          "2021-04-02T00:00:00",
          "2021-04-03T00:00:00",
          "2021-04-04T00:00:00",
          "2021-04-05T00:00:00",
          "2021-04-06T00:00:00",
          "2021-04-07T00:00:00",
          "2021-04-08T00:00:00",
          "2021-04-09T00:00:00",
          "2021-04-10T00:00:00",
          "2021-04-11T00:00:00",
          "2021-04-12T00:00:00",
          "2021-04-13T00:00:00",
          "2021-04-14T00:00:00",
          "2021-04-15T00:00:00",
          "2021-04-16T00:00:00",
          "2021-04-17T00:00:00",
          "2021-04-18T00:00:00",
          "2021-04-19T00:00:00",
          "2021-04-20T00:00:00",
          "2021-04-21T00:00:00",
          "2021-04-22T00:00:00",
          "2021-04-23T00:00:00",
          "2021-04-24T00:00:00",
          "2021-04-25T00:00:00",
          "2021-04-26T00:00:00",
          "2021-04-27T00:00:00",
          "2021-04-28T00:00:00",
          "2021-04-29T00:00:00",
          "2021-04-30T00:00:00",
          "2021-05-01T00:00:00",
          "2021-05-02T00:00:00",
          "2021-05-03T00:00:00",
          "2021-05-04T00:00:00",
          "2021-05-05T00:00:00",
          "2021-05-06T00:00:00",
          "2021-05-07T00:00:00",
          "2021-05-08T00:00:00",
          "2021-05-09T00:00:00",
          "2021-05-10T00:00:00",
          "2021-05-11T00:00:00",
          "2021-05-12T00:00:00",
          "2021-05-13T00:00:00",
          "2021-05-14T00:00:00",
          "2021-05-15T00:00:00",
          "2021-05-16T00:00:00",
          "2021-05-17T00:00:00",
          "2021-05-18T00:00:00",
          "2021-05-19T00:00:00",
          "2021-05-20T00:00:00",
          "2021-05-21T00:00:00",
          "2021-05-22T00:00:00",
          "2021-05-23T00:00:00",
          "2021-05-24T00:00:00",
          "2021-05-25T00:00:00",
          "2021-05-26T00:00:00",
          "2021-05-27T00:00:00",
          "2021-05-28T00:00:00",
          "2021-05-29T00:00:00",
          "2021-05-30T00:00:00",
          "2021-05-31T00:00:00",
          "2021-06-01T00:00:00",
          "2021-06-02T00:00:00",
          "2021-06-03T00:00:00",
          "2021-06-04T00:00:00",
          "2021-06-05T00:00:00",
          "2021-06-06T00:00:00",
          "2021-06-07T00:00:00",
          "2021-06-08T00:00:00",
          "2021-06-09T00:00:00",
          "2021-06-10T00:00:00",
          "2021-06-11T00:00:00",
          "2021-06-12T00:00:00",
          "2021-06-13T00:00:00",
          "2021-06-14T00:00:00",
          "2021-06-15T00:00:00",
          "2021-06-16T00:00:00",
          "2021-06-17T00:00:00",
          "2021-06-18T00:00:00",
          "2021-06-19T00:00:00",
          "2021-06-20T00:00:00",
          "2021-06-21T00:00:00",
          "2021-06-22T00:00:00",
          "2021-06-23T00:00:00",
          "2021-06-24T00:00:00",
          "2021-06-25T00:00:00",
          "2021-06-26T00:00:00",
          "2021-06-27T00:00:00",
          "2021-06-28T00:00:00",
          "2021-06-29T00:00:00",
          "2021-06-30T00:00:00",
          "2021-07-01T00:00:00",
          "2021-07-02T00:00:00",
          "2021-07-03T00:00:00",
          "2021-07-04T00:00:00",
          "2021-07-05T00:00:00",
          "2021-07-06T00:00:00",
          "2021-07-07T00:00:00",
          "2021-07-08T00:00:00",
          "2021-07-09T00:00:00",
          "2021-07-10T00:00:00",
          "2021-07-11T00:00:00",
          "2021-07-12T00:00:00",
          "2021-07-13T00:00:00",
          "2021-07-14T00:00:00",
          "2021-07-15T00:00:00",
          "2021-07-16T00:00:00",
          "2021-07-17T00:00:00",
          "2021-07-18T00:00:00",
          "2021-07-19T00:00:00",
          "2021-07-20T00:00:00",
          "2021-07-21T00:00:00",
          "2021-07-22T00:00:00",
          "2021-07-23T00:00:00",
          "2021-07-24T00:00:00",
          "2021-07-25T00:00:00",
          "2021-07-26T00:00:00",
          "2021-07-27T00:00:00",
          "2021-07-28T00:00:00",
          "2021-07-29T00:00:00",
          "2021-07-30T00:00:00",
          "2021-07-31T00:00:00",
          "2021-08-01T00:00:00",
          "2021-08-02T00:00:00",
          "2021-08-03T00:00:00",
          "2021-08-04T00:00:00",
          "2021-08-05T00:00:00",
          "2021-08-06T00:00:00",
          "2021-08-07T00:00:00",
          "2021-08-08T00:00:00",
          "2021-08-09T00:00:00",
          "2021-08-10T00:00:00",
          "2021-08-11T00:00:00",
          "2021-08-12T00:00:00",
          "2021-08-13T00:00:00",
          "2021-08-14T00:00:00",
          "2021-08-15T00:00:00",
          "2021-08-16T00:00:00",
          "2021-08-17T00:00:00",
          "2021-08-18T00:00:00",
          "2021-08-19T00:00:00",
          "2021-08-20T00:00:00",
          "2021-08-21T00:00:00",
          "2021-08-22T00:00:00",
          "2021-08-23T00:00:00",
          "2021-08-24T00:00:00",
          "2021-08-25T00:00:00",
          "2021-08-26T00:00:00",
          "2021-08-27T00:00:00",
          "2021-08-28T00:00:00",
          "2021-08-29T00:00:00",
          "2021-08-30T00:00:00",
          "2021-08-31T00:00:00",
          "2021-09-01T00:00:00",
          "2021-09-02T00:00:00",
          "2021-09-03T00:00:00",
          "2021-09-04T00:00:00",
          "2021-09-05T00:00:00",
          "2021-09-06T00:00:00",
          "2021-09-07T00:00:00",
          "2021-09-08T00:00:00",
          "2021-09-09T00:00:00",
          "2021-09-10T00:00:00",
          "2021-09-11T00:00:00",
          "2021-09-12T00:00:00",
          "2021-09-13T00:00:00",
          "2021-09-14T00:00:00",
          "2021-09-15T00:00:00",
          "2021-09-16T00:00:00",
          "2021-09-17T00:00:00",
          "2021-09-18T00:00:00",
          "2021-09-19T00:00:00",
          "2021-09-20T00:00:00",
          "2021-09-21T00:00:00",
          "2021-09-22T00:00:00",
          "2021-09-23T00:00:00",
          "2021-09-24T00:00:00",
          "2021-09-25T00:00:00",
          "2021-09-26T00:00:00",
          "2021-09-27T00:00:00",
          "2021-09-28T00:00:00",
          "2021-09-29T00:00:00",
          "2021-09-30T00:00:00",
          "2021-10-01T00:00:00",
          "2021-10-02T00:00:00",
          "2021-10-03T00:00:00",
          "2021-10-04T00:00:00",
          "2021-10-05T00:00:00",
          "2021-10-06T00:00:00",
          "2021-10-07T00:00:00",
          "2021-10-08T00:00:00",
          "2021-10-09T00:00:00",
          "2021-10-10T00:00:00",
          "2021-10-11T00:00:00",
          "2021-10-12T00:00:00",
          "2021-10-13T00:00:00",
          "2021-10-14T00:00:00",
          "2021-10-15T00:00:00",
          "2021-10-16T00:00:00",
          "2021-10-17T00:00:00",
          "2021-10-18T00:00:00",
          "2021-10-19T00:00:00",
          "2021-10-20T00:00:00",
          "2021-10-21T00:00:00",
          "2021-10-22T00:00:00",
          "2021-10-23T00:00:00",
          "2021-10-24T00:00:00",
          "2021-10-25T00:00:00",
          "2021-10-26T00:00:00",
          "2021-10-27T00:00:00",
          "2021-10-28T00:00:00",
          "2021-10-29T00:00:00",
          "2021-10-30T00:00:00",
          "2021-10-31T00:00:00",
          "2021-11-01T00:00:00",
          "2021-11-02T00:00:00",
          "2021-11-03T00:00:00",
          "2021-11-04T00:00:00",
          "2021-11-05T00:00:00",
          "2021-11-06T00:00:00",
          "2021-11-07T00:00:00",
          "2021-11-08T00:00:00",
          "2021-11-09T00:00:00",
          "2021-11-10T00:00:00",
          "2021-11-11T00:00:00",
          "2021-11-12T00:00:00",
          "2021-11-13T00:00:00",
          "2021-11-14T00:00:00",
          "2021-11-15T00:00:00",
          "2021-11-16T00:00:00",
          "2021-11-17T00:00:00",
          "2021-11-18T00:00:00",
          "2021-11-19T00:00:00",
          "2021-11-20T00:00:00",
          "2021-11-21T00:00:00",
          "2021-11-22T00:00:00",
          "2021-11-23T00:00:00",
          "2021-11-24T00:00:00",
          "2021-11-25T00:00:00",
          "2021-11-26T00:00:00",
          "2021-11-27T00:00:00",
          "2021-11-28T00:00:00",
          "2021-11-29T00:00:00",
          "2021-11-30T00:00:00",
          "2021-12-01T00:00:00",
          "2021-12-02T00:00:00",
          "2021-12-03T00:00:00",
          "2021-12-04T00:00:00",
          "2021-12-05T00:00:00",
          "2021-12-06T00:00:00",
          "2021-12-07T00:00:00",
          "2021-12-08T00:00:00",
          "2021-12-09T00:00:00",
          "2021-12-10T00:00:00",
          "2021-12-11T00:00:00",
          "2021-12-12T00:00:00",
          "2021-12-13T00:00:00",
          "2021-12-14T00:00:00",
          "2021-12-15T00:00:00",
          "2021-12-16T00:00:00",
          "2021-12-17T00:00:00",
          "2021-12-18T00:00:00",
          "2021-12-19T00:00:00",
          "2021-12-20T00:00:00",
          "2021-12-21T00:00:00",
          "2021-12-22T00:00:00",
          "2021-12-23T00:00:00",
          "2021-12-24T00:00:00",
          "2021-12-25T00:00:00",
          "2021-12-26T00:00:00",
          "2021-12-27T00:00:00",
          "2021-12-28T00:00:00",
          "2021-12-29T00:00:00",
          "2021-12-30T00:00:00",
          "2021-12-31T00:00:00"
         ],
         "xaxis": "x",
         "y": [
          140856.828125,
          114901.6640625,
          105428.8359375,
          102513.3359375,
          117971.5,
          109291.6640625,
          146196,
          111347.3359375,
          67276.3359375,
          66823,
          43185.33203125,
          34994,
          63032,
          86674,
          77069.3359375,
          76970.6640625,
          57671,
          36741.66796875,
          72054,
          115101.6640625,
          106572,
          110201.6640625,
          125879.5,
          110451.6640625,
          155989.328125,
          138658.671875,
          111585.1640625,
          108417.3359375,
          121010.3359375,
          105629.3359375,
          167259,
          152353.671875,
          125943.3359375,
          127639,
          131276.171875,
          117393.8359375,
          211478,
          167746.671875,
          147062,
          136562.828125,
          139248.328125,
          113283.3359375,
          140560,
          159497.328125,
          159432,
          119415.3359375,
          107690,
          124411.3359375,
          111821.3359375,
          125790,
          136354,
          94431,
          83942.6640625,
          98274.6640625,
          117807.3359375,
          115255,
          125628.3359375,
          78732.3359375,
          73595.6640625,
          79246.3359375,
          98000.6640625,
          174039.5,
          196636.171875,
          140918.328125,
          122994,
          121609.8359375,
          156729.328125,
          190750.328125,
          210639.171875,
          148460.328125,
          132651.328125,
          127503.3359375,
          162801,
          147152.328125,
          160565.671875,
          128528.3359375,
          102235.8359375,
          51773,
          97368,
          80518.5,
          87109,
          87337,
          56296,
          46247,
          82146,
          113052.5,
          102688,
          112958,
          84795,
          115794.203125,
          98720,
          161102.5,
          108398,
          125321.5,
          84572,
          58239,
          133528,
          161102.5,
          125025,
          124766,
          84501,
          58261,
          194921,
          222603,
          191123,
          191675,
          173489.40625,
          193455.203125,
          260469,
          219045.59375,
          187306.40625,
          177107,
          177189.796875,
          213666.125,
          211105.796875,
          251213.59375,
          260805,
          191556,
          178112.59375,
          180806,
          185113.203125,
          223296.40625,
          250219.203125,
          175582,
          163555.203125,
          165715.203125,
          183688.40625,
          147868.5,
          161604,
          98851,
          91627.5,
          99900,
          125912.5,
          162025,
          176625,
          120139,
          133480,
          144195,
          204745,
          233488.5,
          250824,
          166250,
          166437.5,
          256174.359375,
          215137.5,
          92106,
          115644,
          115605,
          76911,
          70611.5,
          127875,
          112484,
          115578.5,
          115367,
          77088,
          63565,
          109079,
          147591,
          130835,
          141575,
          108345,
          62837,
          125130,
          197940,
          134374,
          154440,
          92475,
          66652,
          143432,
          169537.5,
          133240,
          133660,
          92655,
          66560,
          204687.5,
          288172.5,
          256956,
          255868,
          204687.5,
          163680,
          346418,
          338723.5,
          294337,
          272450,
          215343,
          249919,
          294862.5,
          338055,
          308085,
          240324.5,
          221360,
          221127.5,
          164104,
          214992,
          231177,
          161752.5,
          143752,
          173996,
          207109.203125,
          114931.6015625,
          139200.40625,
          97936.796875,
          94460.796875,
          92821.203125,
          109184.6015625,
          118249.3984375,
          146018.40625,
          107990,
          110662.203125,
          120301,
          158462.796875,
          178130,
          203921.796875,
          141210,
          140609.203125,
          134791.203125,
          166626.59375,
          153573.59375,
          153797,
          114308,
          109696.3984375,
          134152,
          145803.796875,
          160309.796875,
          146867.40625,
          114375,
          114277.6015625,
          141482,
          158242.59375,
          178006,
          159021,
          122781.203125,
          114170.3984375,
          137346.796875,
          176650,
          132453.671875,
          148872,
          154216.328125,
          97944,
          110065.6640625,
          170714.328125,
          129383.6640625,
          145644.671875,
          154143,
          91210.6640625,
          102469.6640625,
          156960,
          134144,
          133131,
          176459.203125,
          145221.203125,
          162912.40625,
          230896.59375,
          228886.40625,
          185861,
          171693.796875,
          150700.59375,
          160835.59375,
          226499.40625,
          374745,
          276930,
          232996.5,
          179501,
          212100,
          285284,
          296276,
          218365,
          173362.5,
          167535,
          204625,
          253632.5,
          307560,
          211302.5,
          186020.5,
          179095,
          215386.5,
          274703.5,
          299332,
          205488,
          191402,
          198699,
          249990,
          304316,
          80911.5,
          44822.5,
          32006,
          90999.203125,
          98822.3984375,
          104263.203125,
          106968.796875,
          72066.3984375,
          108842.6015625,
          94190.796875,
          104133.203125,
          105853.796875,
          109727.6015625,
          71433.6015625,
          115083.203125,
          66925.3984375,
          88716.6015625,
          95642.203125,
          98577,
          74419.796875,
          87611.796875,
          71063.3984375,
          81410.3984375,
          90778.3984375,
          106005.6015625,
          71673.203125,
          83341.6015625,
          93306,
          96281.796875,
          109798.6015625,
          97957,
          35931,
          31400.5,
          26970,
          38602.5,
          91521.5,
          141420,
          69075,
          46134,
          35969,
          51421,
          105771,
          134469.5,
          69370.5,
          46258,
          31400.5,
          34632,
          83274,
          103679.5,
          51350.5,
          19242,
          15997,
          22419,
          41014,
          86384,
          35986,
          17900,
          13461,
          17264.5,
          51470,
          89593,
          40988,
          29684,
          30855,
          35259,
          69299.5,
          129466.796875,
          93928.796875,
          109019.796875,
          125902.796875,
          112195.6015625,
          133106.40625,
          112846.796875,
          115379.6015625,
          161687,
          143310.796875,
          130980.3984375,
          146122.796875,
          60590.53125,
          114414.796875,
          78391.390625,
          92631.796875,
          81195.1796875,
          151520.59375,
          91915,
          54862.56640625,
          95423.703125,
          91976.375,
          81138.515625,
          87220.2890625,
          144837.203125,
          52991,
          63379,
          90157.46875,
          83999.8671875,
          100010.0625,
          74958.8671875,
          87409.46875,
          49482.2890625,
          55510.55078125,
          137162.59375,
          79978.3515625,
          139045.203125,
          147416.59375,
          164965.796875,
          135543.59375,
          137383.203125,
          154234,
          139696,
          63596.41015625,
          89129.2890625,
          67579.046875,
          66607.46875,
          129302,
          47415.28515625,
          75893.0625,
          89133.2265625,
          78790.15625,
          77471.0234375,
          66656.5234375,
          58630.1015625,
          60295.2578125,
          158830,
          65759.203125,
          66017.0625,
          65747.3984375,
          127270,
          36109.078125,
          61279.95703125,
          47552.25,
          46200.9140625,
          123132,
          62706.1015625,
          133008,
          87275.5,
          87320.5,
          61153.26953125,
          45215.3515625,
          155893,
          82385.078125,
          40801.140625,
          109949.5,
          84537.9609375,
          72214.21875,
          60521.90625,
          59699.46875,
          52004.94140625,
          48425.85546875,
          75788.3359375,
          83659.78125,
          57903.140625,
          58726.4453125,
          78499.3359375,
          30252.546875,
          56671.80078125,
          64246.5546875,
          58475.25,
          55481.09375,
          49874.66796875,
          64076.14453125,
          38355.66796875,
          52012.66796875,
          46950,
          58808.33203125,
          35038.33203125,
          35045.33203125,
          31484,
          50380.66796875,
          59923.51953125,
          37172.953125,
          46937.14453125,
          80744.8671875,
          38067.8046875,
          106810.1640625,
          86930.1328125,
          75470.4296875,
          57366.7578125,
          64373.0546875,
          60672.52734375,
          54371.4453125,
          114283.8359375,
          98687.6640625,
          63733.91796875,
          59885.52734375,
          114695.5,
          44576.73828125,
          64929.5,
          73901.5,
          77450,
          67253.734375,
          115805,
          92571.8359375,
          124657.3359375,
          105816.6640625,
          126067.3359375,
          118190.1640625,
          113863.3359375,
          150774.828125,
          69017.4140625,
          72366,
          121430.109375,
          61424.25,
          72980.4453125,
          157299.78125,
          116052.21875,
          86596.8515625,
          99985.703125,
          65433.58203125,
          71951.75,
          94357.4609375,
          139643.78125,
          84806.25,
          94940.6640625,
          88345.0390625,
          63442.03515625,
          98219.5703125,
          84931,
          70452.8359375,
          65332.390625,
          73929.875,
          72650.2890625,
          120034.3984375,
          91881.1328125,
          82626.796875,
          87565.6015625,
          101685.6015625,
          56403.80078125,
          40329.6015625,
          54759.6015625,
          42712.765625,
          140696.0625,
          62794.08984375,
          55210.25,
          193092.5625,
          64402.70703125,
          45808.375,
          150964.796875,
          88471,
          91708.8046875,
          86667.2734375,
          81709.3125,
          73116.203125,
          28272,
          159998.484375,
          84274.03125,
          84025.1328125,
          56458,
          63238.67578125,
          79532.8515625,
          78824.3671875,
          160717.296875,
          69881.75,
          106632.7734375,
          43585.25,
          39489.25,
          57325,
          84191,
          73667,
          153226.78125,
          70020.3203125,
          42929.5,
          164103.828125,
          94345.4453125,
          69129.75,
          137928.171875,
          171358.96875,
          89177.2109375,
          71276.75,
          105901.8203125,
          81507.8203125,
          59058.5,
          152889.875,
          175158.546875,
          92635.296875,
          66651,
          88942.703125,
          95952.2109375,
          72515.75,
          82110.40625,
          192228.34375,
          78184,
          107664.7265625,
          76901.25,
          41579.75,
          39797,
          56961,
          80728.75,
          67250,
          59677.25,
          74530.5,
          138624.078125,
          69004.8203125,
          89068,
          148998.71875,
          60405,
          113678.1328125,
          123209.7578125,
          149297.578125,
          83712.90625,
          73947,
          104196.171875,
          77295.2578125,
          49575.83203125,
          125407.0546875,
          132180.984375,
          83237.390625,
          51847.83203125,
          81826.8828125,
          81014.96875,
          70901.78125,
          85210.2109375,
          138424.125,
          38425.83203125,
          104731.1640625,
          36132.83203125,
          58305.16796875,
          59551.16796875,
          95834.5,
          81934.8359375,
          87882.3359375,
          125968.78125,
          57101.33203125,
          48075.890625,
          142533.25,
          51803.77734375,
          62240.5546875,
          149093,
          111600.1640625,
          82987.25,
          104714.3359375,
          51302.47265625,
          63355.1875,
          96242.1640625,
          122850.71875,
          72785.5,
          86853.265625,
          71655.4453125,
          51473.796875,
          80535.5,
          126114,
          97298.6640625,
          83790.390625,
          88080.8359375,
          57751.5,
          79545.3359375,
          98306.4609375,
          85288.5,
          97906.3359375,
          98264.8359375,
          68933.6640625,
          88596.3359375,
          61007.16796875,
          95280.640625,
          66267.8359375,
          73310.609375,
          170050.9375,
          55363.75,
          72510.3359375,
          109032.140625,
          71532.5,
          88308.8515625,
          71648.9609375,
          45725.5546875,
          63400.890625,
          119611.3984375,
          85363.5390625,
          62719.3125,
          67998.4609375,
          78760,
          41480.7578125,
          65787.4375,
          59448.82421875,
          64334.390625,
          20632,
          70440.3515625,
          24805.80078125,
          55096.19921875,
          28199.599609375,
          49735.6015625,
          16522.19921875,
          23666.80078125,
          26681,
          115638.828125,
          60480.17578125,
          94888.390625,
          124409.4453125,
          56934.2578125,
          29906,
          111443.828125,
          117857.4375,
          81770.4140625,
          55718.1171875,
          77103.6015625,
          75970.96875,
          79077.6015625,
          118026.4140625,
          102799.875,
          73230.4921875,
          37805.3984375,
          56515.9765625,
          90057.65625,
          67835,
          66429.5234375,
          99222.5390625,
          34088,
          104595.3828125,
          114091.6640625,
          63135,
          43285,
          33559.33203125,
          45680,
          169596.375,
          87581.953125,
          124222.140625,
          176066.515625,
          74562.3359375,
          39680,
          140034.1875,
          186100.4375,
          94881.859375,
          73906.6640625,
          111644.6640625,
          93862.03125,
          47382.33203125,
          164555.9375,
          157552.484375,
          93487.203125,
          17584,
          98969.359375,
          95920.90625,
          101969.296875,
          77901.5625,
          143260.125,
          38177,
          107288.8671875,
          79200.796875,
          120470.6015625,
          60202,
          42221.80078125,
          33580.6015625,
          39731.80078125
         ],
         "yaxis": "y"
        }
       ],
       "layout": {
        "legend": {
         "tracegroupgap": 0
        },
        "margin": {
         "t": 60
        },
        "template": {
         "data": {
          "bar": [
           {
            "error_x": {
             "color": "#2a3f5f"
            },
            "error_y": {
             "color": "#2a3f5f"
            },
            "marker": {
             "line": {
              "color": "#E5ECF6",
              "width": 0.5
             },
             "pattern": {
              "fillmode": "overlay",
              "size": 10,
              "solidity": 0.2
             }
            },
            "type": "bar"
           }
          ],
          "barpolar": [
           {
            "marker": {
             "line": {
              "color": "#E5ECF6",
              "width": 0.5
             },
             "pattern": {
              "fillmode": "overlay",
              "size": 10,
              "solidity": 0.2
             }
            },
            "type": "barpolar"
           }
          ],
          "carpet": [
           {
            "aaxis": {
             "endlinecolor": "#2a3f5f",
             "gridcolor": "white",
             "linecolor": "white",
             "minorgridcolor": "white",
             "startlinecolor": "#2a3f5f"
            },
            "baxis": {
             "endlinecolor": "#2a3f5f",
             "gridcolor": "white",
             "linecolor": "white",
             "minorgridcolor": "white",
             "startlinecolor": "#2a3f5f"
            },
            "type": "carpet"
           }
          ],
          "choropleth": [
           {
            "colorbar": {
             "outlinewidth": 0,
             "ticks": ""
            },
            "type": "choropleth"
           }
          ],
          "contour": [
           {
            "colorbar": {
             "outlinewidth": 0,
             "ticks": ""
            },
            "colorscale": [
             [
              0,
              "#0d0887"
             ],
             [
              0.1111111111111111,
              "#46039f"
             ],
             [
              0.2222222222222222,
              "#7201a8"
             ],
             [
              0.3333333333333333,
              "#9c179e"
             ],
             [
              0.4444444444444444,
              "#bd3786"
             ],
             [
              0.5555555555555556,
              "#d8576b"
             ],
             [
              0.6666666666666666,
              "#ed7953"
             ],
             [
              0.7777777777777778,
              "#fb9f3a"
             ],
             [
              0.8888888888888888,
              "#fdca26"
             ],
             [
              1,
              "#f0f921"
             ]
            ],
            "type": "contour"
           }
          ],
          "contourcarpet": [
           {
            "colorbar": {
             "outlinewidth": 0,
             "ticks": ""
            },
            "type": "contourcarpet"
           }
          ],
          "heatmap": [
           {
            "colorbar": {
             "outlinewidth": 0,
             "ticks": ""
            },
            "colorscale": [
             [
              0,
              "#0d0887"
             ],
             [
              0.1111111111111111,
              "#46039f"
             ],
             [
              0.2222222222222222,
              "#7201a8"
             ],
             [
              0.3333333333333333,
              "#9c179e"
             ],
             [
              0.4444444444444444,
              "#bd3786"
             ],
             [
              0.5555555555555556,
              "#d8576b"
             ],
             [
              0.6666666666666666,
              "#ed7953"
             ],
             [
              0.7777777777777778,
              "#fb9f3a"
             ],
             [
              0.8888888888888888,
              "#fdca26"
             ],
             [
              1,
              "#f0f921"
             ]
            ],
            "type": "heatmap"
           }
          ],
          "heatmapgl": [
           {
            "colorbar": {
             "outlinewidth": 0,
             "ticks": ""
            },
            "colorscale": [
             [
              0,
              "#0d0887"
             ],
             [
              0.1111111111111111,
              "#46039f"
             ],
             [
              0.2222222222222222,
              "#7201a8"
             ],
             [
              0.3333333333333333,
              "#9c179e"
             ],
             [
              0.4444444444444444,
              "#bd3786"
             ],
             [
              0.5555555555555556,
              "#d8576b"
             ],
             [
              0.6666666666666666,
              "#ed7953"
             ],
             [
              0.7777777777777778,
              "#fb9f3a"
             ],
             [
              0.8888888888888888,
              "#fdca26"
             ],
             [
              1,
              "#f0f921"
             ]
            ],
            "type": "heatmapgl"
           }
          ],
          "histogram": [
           {
            "marker": {
             "pattern": {
              "fillmode": "overlay",
              "size": 10,
              "solidity": 0.2
             }
            },
            "type": "histogram"
           }
          ],
          "histogram2d": [
           {
            "colorbar": {
             "outlinewidth": 0,
             "ticks": ""
            },
            "colorscale": [
             [
              0,
              "#0d0887"
             ],
             [
              0.1111111111111111,
              "#46039f"
             ],
             [
              0.2222222222222222,
              "#7201a8"
             ],
             [
              0.3333333333333333,
              "#9c179e"
             ],
             [
              0.4444444444444444,
              "#bd3786"
             ],
             [
              0.5555555555555556,
              "#d8576b"
             ],
             [
              0.6666666666666666,
              "#ed7953"
             ],
             [
              0.7777777777777778,
              "#fb9f3a"
             ],
             [
              0.8888888888888888,
              "#fdca26"
             ],
             [
              1,
              "#f0f921"
             ]
            ],
            "type": "histogram2d"
           }
          ],
          "histogram2dcontour": [
           {
            "colorbar": {
             "outlinewidth": 0,
             "ticks": ""
            },
            "colorscale": [
             [
              0,
              "#0d0887"
             ],
             [
              0.1111111111111111,
              "#46039f"
             ],
             [
              0.2222222222222222,
              "#7201a8"
             ],
             [
              0.3333333333333333,
              "#9c179e"
             ],
             [
              0.4444444444444444,
              "#bd3786"
             ],
             [
              0.5555555555555556,
              "#d8576b"
             ],
             [
              0.6666666666666666,
              "#ed7953"
             ],
             [
              0.7777777777777778,
              "#fb9f3a"
             ],
             [
              0.8888888888888888,
              "#fdca26"
             ],
             [
              1,
              "#f0f921"
             ]
            ],
            "type": "histogram2dcontour"
           }
          ],
          "mesh3d": [
           {
            "colorbar": {
             "outlinewidth": 0,
             "ticks": ""
            },
            "type": "mesh3d"
           }
          ],
          "parcoords": [
           {
            "line": {
             "colorbar": {
              "outlinewidth": 0,
              "ticks": ""
             }
            },
            "type": "parcoords"
           }
          ],
          "pie": [
           {
            "automargin": true,
            "type": "pie"
           }
          ],
          "scatter": [
           {
            "fillpattern": {
             "fillmode": "overlay",
             "size": 10,
             "solidity": 0.2
            },
            "type": "scatter"
           }
          ],
          "scatter3d": [
           {
            "line": {
             "colorbar": {
              "outlinewidth": 0,
              "ticks": ""
             }
            },
            "marker": {
             "colorbar": {
              "outlinewidth": 0,
              "ticks": ""
             }
            },
            "type": "scatter3d"
           }
          ],
          "scattercarpet": [
           {
            "marker": {
             "colorbar": {
              "outlinewidth": 0,
              "ticks": ""
             }
            },
            "type": "scattercarpet"
           }
          ],
          "scattergeo": [
           {
            "marker": {
             "colorbar": {
              "outlinewidth": 0,
              "ticks": ""
             }
            },
            "type": "scattergeo"
           }
          ],
          "scattergl": [
           {
            "marker": {
             "colorbar": {
              "outlinewidth": 0,
              "ticks": ""
             }
            },
            "type": "scattergl"
           }
          ],
          "scattermapbox": [
           {
            "marker": {
             "colorbar": {
              "outlinewidth": 0,
              "ticks": ""
             }
            },
            "type": "scattermapbox"
           }
          ],
          "scatterpolar": [
           {
            "marker": {
             "colorbar": {
              "outlinewidth": 0,
              "ticks": ""
             }
            },
            "type": "scatterpolar"
           }
          ],
          "scatterpolargl": [
           {
            "marker": {
             "colorbar": {
              "outlinewidth": 0,
              "ticks": ""
             }
            },
            "type": "scatterpolargl"
           }
          ],
          "scatterternary": [
           {
            "marker": {
             "colorbar": {
              "outlinewidth": 0,
              "ticks": ""
             }
            },
            "type": "scatterternary"
           }
          ],
          "surface": [
           {
            "colorbar": {
             "outlinewidth": 0,
             "ticks": ""
            },
            "colorscale": [
             [
              0,
              "#0d0887"
             ],
             [
              0.1111111111111111,
              "#46039f"
             ],
             [
              0.2222222222222222,
              "#7201a8"
             ],
             [
              0.3333333333333333,
              "#9c179e"
             ],
             [
              0.4444444444444444,
              "#bd3786"
             ],
             [
              0.5555555555555556,
              "#d8576b"
             ],
             [
              0.6666666666666666,
              "#ed7953"
             ],
             [
              0.7777777777777778,
              "#fb9f3a"
             ],
             [
              0.8888888888888888,
              "#fdca26"
             ],
             [
              1,
              "#f0f921"
             ]
            ],
            "type": "surface"
           }
          ],
          "table": [
           {
            "cells": {
             "fill": {
              "color": "#EBF0F8"
             },
             "line": {
              "color": "white"
             }
            },
            "header": {
             "fill": {
              "color": "#C8D4E3"
             },
             "line": {
              "color": "white"
             }
            },
            "type": "table"
           }
          ]
         },
         "layout": {
          "annotationdefaults": {
           "arrowcolor": "#2a3f5f",
           "arrowhead": 0,
           "arrowwidth": 1
          },
          "autotypenumbers": "strict",
          "coloraxis": {
           "colorbar": {
            "outlinewidth": 0,
            "ticks": ""
           }
          },
          "colorscale": {
           "diverging": [
            [
             0,
             "#8e0152"
            ],
            [
             0.1,
             "#c51b7d"
            ],
            [
             0.2,
             "#de77ae"
            ],
            [
             0.3,
             "#f1b6da"
            ],
            [
             0.4,
             "#fde0ef"
            ],
            [
             0.5,
             "#f7f7f7"
            ],
            [
             0.6,
             "#e6f5d0"
            ],
            [
             0.7,
             "#b8e186"
            ],
            [
             0.8,
             "#7fbc41"
            ],
            [
             0.9,
             "#4d9221"
            ],
            [
             1,
             "#276419"
            ]
           ],
           "sequential": [
            [
             0,
             "#0d0887"
            ],
            [
             0.1111111111111111,
             "#46039f"
            ],
            [
             0.2222222222222222,
             "#7201a8"
            ],
            [
             0.3333333333333333,
             "#9c179e"
            ],
            [
             0.4444444444444444,
             "#bd3786"
            ],
            [
             0.5555555555555556,
             "#d8576b"
            ],
            [
             0.6666666666666666,
             "#ed7953"
            ],
            [
             0.7777777777777778,
             "#fb9f3a"
            ],
            [
             0.8888888888888888,
             "#fdca26"
            ],
            [
             1,
             "#f0f921"
            ]
           ],
           "sequentialminus": [
            [
             0,
             "#0d0887"
            ],
            [
             0.1111111111111111,
             "#46039f"
            ],
            [
             0.2222222222222222,
             "#7201a8"
            ],
            [
             0.3333333333333333,
             "#9c179e"
            ],
            [
             0.4444444444444444,
             "#bd3786"
            ],
            [
             0.5555555555555556,
             "#d8576b"
            ],
            [
             0.6666666666666666,
             "#ed7953"
            ],
            [
             0.7777777777777778,
             "#fb9f3a"
            ],
            [
             0.8888888888888888,
             "#fdca26"
            ],
            [
             1,
             "#f0f921"
            ]
           ]
          },
          "colorway": [
           "#636efa",
           "#EF553B",
           "#00cc96",
           "#ab63fa",
           "#FFA15A",
           "#19d3f3",
           "#FF6692",
           "#B6E880",
           "#FF97FF",
           "#FECB52"
          ],
          "font": {
           "color": "#2a3f5f"
          },
          "geo": {
           "bgcolor": "white",
           "lakecolor": "white",
           "landcolor": "#E5ECF6",
           "showlakes": true,
           "showland": true,
           "subunitcolor": "white"
          },
          "hoverlabel": {
           "align": "left"
          },
          "hovermode": "closest",
          "mapbox": {
           "style": "light"
          },
          "paper_bgcolor": "white",
          "plot_bgcolor": "#E5ECF6",
          "polar": {
           "angularaxis": {
            "gridcolor": "white",
            "linecolor": "white",
            "ticks": ""
           },
           "bgcolor": "#E5ECF6",
           "radialaxis": {
            "gridcolor": "white",
            "linecolor": "white",
            "ticks": ""
           }
          },
          "scene": {
           "xaxis": {
            "backgroundcolor": "#E5ECF6",
            "gridcolor": "white",
            "gridwidth": 2,
            "linecolor": "white",
            "showbackground": true,
            "ticks": "",
            "zerolinecolor": "white"
           },
           "yaxis": {
            "backgroundcolor": "#E5ECF6",
            "gridcolor": "white",
            "gridwidth": 2,
            "linecolor": "white",
            "showbackground": true,
            "ticks": "",
            "zerolinecolor": "white"
           },
           "zaxis": {
            "backgroundcolor": "#E5ECF6",
            "gridcolor": "white",
            "gridwidth": 2,
            "linecolor": "white",
            "showbackground": true,
            "ticks": "",
            "zerolinecolor": "white"
           }
          },
          "shapedefaults": {
           "line": {
            "color": "#2a3f5f"
           }
          },
          "ternary": {
           "aaxis": {
            "gridcolor": "white",
            "linecolor": "white",
            "ticks": ""
           },
           "baxis": {
            "gridcolor": "white",
            "linecolor": "white",
            "ticks": ""
           },
           "bgcolor": "#E5ECF6",
           "caxis": {
            "gridcolor": "white",
            "linecolor": "white",
            "ticks": ""
           }
          },
          "title": {
           "x": 0.05
          },
          "xaxis": {
           "automargin": true,
           "gridcolor": "white",
           "linecolor": "white",
           "ticks": "",
           "title": {
            "standoff": 15
           },
           "zerolinecolor": "white",
           "zerolinewidth": 2
          },
          "yaxis": {
           "automargin": true,
           "gridcolor": "white",
           "linecolor": "white",
           "ticks": "",
           "title": {
            "standoff": 15
           },
           "zerolinecolor": "white",
           "zerolinewidth": 2
          }
         }
        },
        "xaxis": {
         "anchor": "y",
         "domain": [
          0,
          1
         ],
         "title": {
          "text": "Invoice Date"
         }
        },
        "yaxis": {
         "anchor": "x",
         "domain": [
          0,
          1
         ],
         "title": {
          "text": "Mean of Total Sales"
         }
        }
       }
      }
     },
     "metadata": {},
     "output_type": "display_data"
    }
   ],
   "source": [
    "px.line(df_date, x = \"Invoice Date\", y = \"Mean of Total Sales\")"
   ]
  },
  {
   "cell_type": "code",
   "execution_count": 44,
   "id": "1da3705e",
   "metadata": {},
   "outputs": [
    {
     "data": {
      "text/html": [
       "<div>\n",
       "<style scoped>\n",
       "    .dataframe tbody tr th:only-of-type {\n",
       "        vertical-align: middle;\n",
       "    }\n",
       "\n",
       "    .dataframe tbody tr th {\n",
       "        vertical-align: top;\n",
       "    }\n",
       "\n",
       "    .dataframe thead th {\n",
       "        text-align: right;\n",
       "    }\n",
       "</style>\n",
       "<table border=\"1\" class=\"dataframe\">\n",
       "  <thead>\n",
       "    <tr style=\"text-align: right;\">\n",
       "      <th></th>\n",
       "      <th>Invoice Date</th>\n",
       "      <th>Retailer</th>\n",
       "      <th>Total Sales</th>\n",
       "    </tr>\n",
       "  </thead>\n",
       "  <tbody>\n",
       "    <tr>\n",
       "      <th>0</th>\n",
       "      <td>2020-01-01</td>\n",
       "      <td>Foot Locker</td>\n",
       "      <td>140856.828125</td>\n",
       "    </tr>\n",
       "    <tr>\n",
       "      <th>1</th>\n",
       "      <td>2020-01-02</td>\n",
       "      <td>Foot Locker</td>\n",
       "      <td>174580.000000</td>\n",
       "    </tr>\n",
       "    <tr>\n",
       "      <th>2</th>\n",
       "      <td>2020-01-02</td>\n",
       "      <td>West Gear</td>\n",
       "      <td>55223.332031</td>\n",
       "    </tr>\n",
       "    <tr>\n",
       "      <th>3</th>\n",
       "      <td>2020-01-03</td>\n",
       "      <td>Foot Locker</td>\n",
       "      <td>140066.671875</td>\n",
       "    </tr>\n",
       "    <tr>\n",
       "      <th>4</th>\n",
       "      <td>2020-01-03</td>\n",
       "      <td>West Gear</td>\n",
       "      <td>70791.000000</td>\n",
       "    </tr>\n",
       "    <tr>\n",
       "      <th>...</th>\n",
       "      <td>...</td>\n",
       "      <td>...</td>\n",
       "      <td>...</td>\n",
       "    </tr>\n",
       "    <tr>\n",
       "      <th>1362</th>\n",
       "      <td>2021-12-29</td>\n",
       "      <td>Foot Locker</td>\n",
       "      <td>47350.332031</td>\n",
       "    </tr>\n",
       "    <tr>\n",
       "      <th>1363</th>\n",
       "      <td>2021-12-30</td>\n",
       "      <td>Amazon</td>\n",
       "      <td>28881.000000</td>\n",
       "    </tr>\n",
       "    <tr>\n",
       "      <th>1364</th>\n",
       "      <td>2021-12-30</td>\n",
       "      <td>Foot Locker</td>\n",
       "      <td>36713.667969</td>\n",
       "    </tr>\n",
       "    <tr>\n",
       "      <th>1365</th>\n",
       "      <td>2021-12-31</td>\n",
       "      <td>Amazon</td>\n",
       "      <td>35311.000000</td>\n",
       "    </tr>\n",
       "    <tr>\n",
       "      <th>1366</th>\n",
       "      <td>2021-12-31</td>\n",
       "      <td>Foot Locker</td>\n",
       "      <td>42679.000000</td>\n",
       "    </tr>\n",
       "  </tbody>\n",
       "</table>\n",
       "<p>1367 rows × 3 columns</p>\n",
       "</div>"
      ],
      "text/plain": [
       "     Invoice Date     Retailer    Total Sales\n",
       "0      2020-01-01  Foot Locker  140856.828125\n",
       "1      2020-01-02  Foot Locker  174580.000000\n",
       "2      2020-01-02    West Gear   55223.332031\n",
       "3      2020-01-03  Foot Locker  140066.671875\n",
       "4      2020-01-03    West Gear   70791.000000\n",
       "...           ...          ...            ...\n",
       "1362   2021-12-29  Foot Locker   47350.332031\n",
       "1363   2021-12-30       Amazon   28881.000000\n",
       "1364   2021-12-30  Foot Locker   36713.667969\n",
       "1365   2021-12-31       Amazon   35311.000000\n",
       "1366   2021-12-31  Foot Locker   42679.000000\n",
       "\n",
       "[1367 rows x 3 columns]"
      ]
     },
     "execution_count": 44,
     "metadata": {},
     "output_type": "execute_result"
    }
   ],
   "source": [
    "df_2= df.groupby([\"Invoice Date\",\"Retailer\"])[[\"Total Sales\"]].mean().reset_index()\n",
    "df_2"
   ]
  },
  {
   "cell_type": "code",
   "execution_count": 45,
   "id": "a1e07a0e",
   "metadata": {},
   "outputs": [
    {
     "data": {
      "application/vnd.plotly.v1+json": {
       "config": {
        "plotlyServerURL": "https://plot.ly"
       },
       "data": [
        {
         "hovertemplate": "Retailer=Foot Locker<br>Invoice Date=%{x}<br>Total Sales=%{y}<extra></extra>",
         "legendgroup": "Foot Locker",
         "line": {
          "color": "#636efa",
          "dash": "solid"
         },
         "marker": {
          "symbol": "circle"
         },
         "mode": "lines",
         "name": "Foot Locker",
         "showlegend": true,
         "type": "scattergl",
         "x": [
          "2020-01-01T00:00:00",
          "2020-01-02T00:00:00",
          "2020-01-03T00:00:00",
          "2020-01-04T00:00:00",
          "2020-01-05T00:00:00",
          "2020-01-06T00:00:00",
          "2020-01-07T00:00:00",
          "2020-01-08T00:00:00",
          "2020-01-21T00:00:00",
          "2020-01-22T00:00:00",
          "2020-01-23T00:00:00",
          "2020-01-24T00:00:00",
          "2020-01-25T00:00:00",
          "2020-01-26T00:00:00",
          "2020-01-27T00:00:00",
          "2020-01-28T00:00:00",
          "2020-01-29T00:00:00",
          "2020-01-30T00:00:00",
          "2020-01-31T00:00:00",
          "2020-02-01T00:00:00",
          "2020-02-02T00:00:00",
          "2020-02-03T00:00:00",
          "2020-02-04T00:00:00",
          "2020-02-05T00:00:00",
          "2020-02-06T00:00:00",
          "2020-02-07T00:00:00",
          "2020-02-08T00:00:00",
          "2020-02-09T00:00:00",
          "2020-02-10T00:00:00",
          "2020-03-03T00:00:00",
          "2020-03-04T00:00:00",
          "2020-03-05T00:00:00",
          "2020-03-06T00:00:00",
          "2020-03-07T00:00:00",
          "2020-03-08T00:00:00",
          "2020-03-09T00:00:00",
          "2020-03-10T00:00:00",
          "2020-03-11T00:00:00",
          "2020-03-12T00:00:00",
          "2020-03-13T00:00:00",
          "2020-03-14T00:00:00",
          "2020-03-15T00:00:00",
          "2020-03-16T00:00:00",
          "2020-03-17T00:00:00",
          "2020-03-18T00:00:00",
          "2020-03-31T00:00:00",
          "2020-04-24T00:00:00",
          "2020-05-24T00:00:00",
          "2020-08-06T00:00:00",
          "2020-08-07T00:00:00",
          "2020-08-08T00:00:00",
          "2020-08-09T00:00:00",
          "2020-08-10T00:00:00",
          "2020-08-11T00:00:00",
          "2020-08-12T00:00:00",
          "2020-08-13T00:00:00",
          "2020-08-14T00:00:00",
          "2020-08-16T00:00:00",
          "2020-08-17T00:00:00",
          "2020-08-18T00:00:00",
          "2020-08-19T00:00:00",
          "2020-08-20T00:00:00",
          "2020-08-21T00:00:00",
          "2020-08-22T00:00:00",
          "2020-08-23T00:00:00",
          "2020-09-20T00:00:00",
          "2020-09-21T00:00:00",
          "2020-09-22T00:00:00",
          "2020-09-23T00:00:00",
          "2020-09-24T00:00:00",
          "2020-10-17T00:00:00",
          "2020-10-18T00:00:00",
          "2020-10-19T00:00:00",
          "2020-10-20T00:00:00",
          "2020-10-21T00:00:00",
          "2020-10-22T00:00:00",
          "2020-10-23T00:00:00",
          "2020-10-24T00:00:00",
          "2020-10-25T00:00:00",
          "2020-10-26T00:00:00",
          "2020-10-27T00:00:00",
          "2020-10-28T00:00:00",
          "2020-10-29T00:00:00",
          "2020-10-30T00:00:00",
          "2020-10-31T00:00:00",
          "2020-11-01T00:00:00",
          "2020-11-02T00:00:00",
          "2020-11-03T00:00:00",
          "2020-11-04T00:00:00",
          "2020-11-05T00:00:00",
          "2020-11-06T00:00:00",
          "2020-11-07T00:00:00",
          "2020-11-08T00:00:00",
          "2020-11-09T00:00:00",
          "2020-11-10T00:00:00",
          "2020-11-11T00:00:00",
          "2020-11-12T00:00:00",
          "2020-11-13T00:00:00",
          "2020-11-14T00:00:00",
          "2020-11-15T00:00:00",
          "2020-11-16T00:00:00",
          "2020-11-17T00:00:00",
          "2020-11-18T00:00:00",
          "2020-11-19T00:00:00",
          "2020-11-20T00:00:00",
          "2020-11-21T00:00:00",
          "2020-11-22T00:00:00",
          "2020-11-23T00:00:00",
          "2020-11-24T00:00:00",
          "2020-11-25T00:00:00",
          "2020-11-26T00:00:00",
          "2020-11-27T00:00:00",
          "2020-11-28T00:00:00",
          "2020-11-29T00:00:00",
          "2020-11-30T00:00:00",
          "2020-12-01T00:00:00",
          "2020-12-02T00:00:00",
          "2020-12-03T00:00:00",
          "2020-12-04T00:00:00",
          "2020-12-05T00:00:00",
          "2020-12-06T00:00:00",
          "2020-12-07T00:00:00",
          "2020-12-08T00:00:00",
          "2020-12-09T00:00:00",
          "2020-12-10T00:00:00",
          "2020-12-11T00:00:00",
          "2020-12-12T00:00:00",
          "2020-12-13T00:00:00",
          "2020-12-14T00:00:00",
          "2020-12-15T00:00:00",
          "2020-12-16T00:00:00",
          "2020-12-17T00:00:00",
          "2020-12-18T00:00:00",
          "2020-12-19T00:00:00",
          "2020-12-20T00:00:00",
          "2020-12-21T00:00:00",
          "2020-12-22T00:00:00",
          "2020-12-23T00:00:00",
          "2020-12-24T00:00:00",
          "2020-12-25T00:00:00",
          "2020-12-26T00:00:00",
          "2020-12-27T00:00:00",
          "2021-01-05T00:00:00",
          "2021-01-06T00:00:00",
          "2021-01-09T00:00:00",
          "2021-01-10T00:00:00",
          "2021-01-12T00:00:00",
          "2021-01-17T00:00:00",
          "2021-01-18T00:00:00",
          "2021-01-20T00:00:00",
          "2021-01-23T00:00:00",
          "2021-01-24T00:00:00",
          "2021-02-04T00:00:00",
          "2021-02-06T00:00:00",
          "2021-02-07T00:00:00",
          "2021-02-08T00:00:00",
          "2021-02-10T00:00:00",
          "2021-02-12T00:00:00",
          "2021-02-15T00:00:00",
          "2021-02-18T00:00:00",
          "2021-02-22T00:00:00",
          "2021-02-23T00:00:00",
          "2021-02-24T00:00:00",
          "2021-03-05T00:00:00",
          "2021-03-06T00:00:00",
          "2021-03-09T00:00:00",
          "2021-03-11T00:00:00",
          "2021-03-13T00:00:00",
          "2021-03-16T00:00:00",
          "2021-03-17T00:00:00",
          "2021-03-22T00:00:00",
          "2021-03-23T00:00:00",
          "2021-04-06T00:00:00",
          "2021-04-07T00:00:00",
          "2021-04-10T00:00:00",
          "2021-04-12T00:00:00",
          "2021-04-14T00:00:00",
          "2021-04-17T00:00:00",
          "2021-04-18T00:00:00",
          "2021-04-23T00:00:00",
          "2021-04-24T00:00:00",
          "2021-05-05T00:00:00",
          "2021-05-06T00:00:00",
          "2021-05-07T00:00:00",
          "2021-05-11T00:00:00",
          "2021-05-13T00:00:00",
          "2021-05-16T00:00:00",
          "2021-05-19T00:00:00",
          "2021-05-21T00:00:00",
          "2021-05-22T00:00:00",
          "2021-05-23T00:00:00",
          "2021-05-24T00:00:00",
          "2021-05-25T00:00:00",
          "2021-05-26T00:00:00",
          "2021-05-27T00:00:00",
          "2021-05-28T00:00:00",
          "2021-05-29T00:00:00",
          "2021-05-30T00:00:00",
          "2021-05-31T00:00:00",
          "2021-06-01T00:00:00",
          "2021-06-02T00:00:00",
          "2021-06-03T00:00:00",
          "2021-06-04T00:00:00",
          "2021-06-05T00:00:00",
          "2021-06-06T00:00:00",
          "2021-06-07T00:00:00",
          "2021-06-08T00:00:00",
          "2021-06-09T00:00:00",
          "2021-06-10T00:00:00",
          "2021-06-11T00:00:00",
          "2021-06-12T00:00:00",
          "2021-06-13T00:00:00",
          "2021-06-14T00:00:00",
          "2021-06-15T00:00:00",
          "2021-06-16T00:00:00",
          "2021-06-17T00:00:00",
          "2021-06-18T00:00:00",
          "2021-06-19T00:00:00",
          "2021-06-20T00:00:00",
          "2021-06-21T00:00:00",
          "2021-06-22T00:00:00",
          "2021-06-23T00:00:00",
          "2021-06-24T00:00:00",
          "2021-06-25T00:00:00",
          "2021-06-26T00:00:00",
          "2021-06-27T00:00:00",
          "2021-06-28T00:00:00",
          "2021-06-29T00:00:00",
          "2021-06-30T00:00:00",
          "2021-07-01T00:00:00",
          "2021-07-02T00:00:00",
          "2021-07-03T00:00:00",
          "2021-07-04T00:00:00",
          "2021-07-05T00:00:00",
          "2021-07-06T00:00:00",
          "2021-07-07T00:00:00",
          "2021-07-08T00:00:00",
          "2021-07-09T00:00:00",
          "2021-07-10T00:00:00",
          "2021-07-11T00:00:00",
          "2021-07-12T00:00:00",
          "2021-07-13T00:00:00",
          "2021-07-14T00:00:00",
          "2021-07-15T00:00:00",
          "2021-07-16T00:00:00",
          "2021-07-17T00:00:00",
          "2021-07-18T00:00:00",
          "2021-07-19T00:00:00",
          "2021-07-20T00:00:00",
          "2021-07-21T00:00:00",
          "2021-07-22T00:00:00",
          "2021-07-23T00:00:00",
          "2021-07-24T00:00:00",
          "2021-07-25T00:00:00",
          "2021-07-26T00:00:00",
          "2021-07-27T00:00:00",
          "2021-07-28T00:00:00",
          "2021-07-29T00:00:00",
          "2021-07-30T00:00:00",
          "2021-07-31T00:00:00",
          "2021-08-01T00:00:00",
          "2021-08-02T00:00:00",
          "2021-08-03T00:00:00",
          "2021-08-04T00:00:00",
          "2021-08-05T00:00:00",
          "2021-08-06T00:00:00",
          "2021-08-07T00:00:00",
          "2021-08-08T00:00:00",
          "2021-08-09T00:00:00",
          "2021-08-10T00:00:00",
          "2021-08-12T00:00:00",
          "2021-08-14T00:00:00",
          "2021-08-18T00:00:00",
          "2021-08-23T00:00:00",
          "2021-08-24T00:00:00",
          "2021-09-05T00:00:00",
          "2021-09-06T00:00:00",
          "2021-09-07T00:00:00",
          "2021-09-13T00:00:00",
          "2021-09-19T00:00:00",
          "2021-09-24T00:00:00",
          "2021-09-25T00:00:00",
          "2021-10-05T00:00:00",
          "2021-10-06T00:00:00",
          "2021-10-07T00:00:00",
          "2021-10-08T00:00:00",
          "2021-10-09T00:00:00",
          "2021-10-12T00:00:00",
          "2021-10-14T00:00:00",
          "2021-10-15T00:00:00",
          "2021-10-17T00:00:00",
          "2021-10-18T00:00:00",
          "2021-10-19T00:00:00",
          "2021-10-22T00:00:00",
          "2021-10-23T00:00:00",
          "2021-10-24T00:00:00",
          "2021-10-25T00:00:00",
          "2021-10-26T00:00:00",
          "2021-10-27T00:00:00",
          "2021-10-28T00:00:00",
          "2021-10-29T00:00:00",
          "2021-10-30T00:00:00",
          "2021-10-31T00:00:00",
          "2021-11-01T00:00:00",
          "2021-11-02T00:00:00",
          "2021-11-03T00:00:00",
          "2021-11-04T00:00:00",
          "2021-11-05T00:00:00",
          "2021-11-06T00:00:00",
          "2021-11-07T00:00:00",
          "2021-11-08T00:00:00",
          "2021-11-09T00:00:00",
          "2021-11-10T00:00:00",
          "2021-11-11T00:00:00",
          "2021-11-12T00:00:00",
          "2021-11-13T00:00:00",
          "2021-11-14T00:00:00",
          "2021-11-15T00:00:00",
          "2021-11-16T00:00:00",
          "2021-11-17T00:00:00",
          "2021-11-18T00:00:00",
          "2021-11-19T00:00:00",
          "2021-11-20T00:00:00",
          "2021-11-21T00:00:00",
          "2021-11-22T00:00:00",
          "2021-11-23T00:00:00",
          "2021-11-24T00:00:00",
          "2021-11-25T00:00:00",
          "2021-11-26T00:00:00",
          "2021-11-27T00:00:00",
          "2021-11-28T00:00:00",
          "2021-11-29T00:00:00",
          "2021-11-30T00:00:00",
          "2021-12-01T00:00:00",
          "2021-12-02T00:00:00",
          "2021-12-03T00:00:00",
          "2021-12-04T00:00:00",
          "2021-12-05T00:00:00",
          "2021-12-06T00:00:00",
          "2021-12-07T00:00:00",
          "2021-12-08T00:00:00",
          "2021-12-09T00:00:00",
          "2021-12-10T00:00:00",
          "2021-12-11T00:00:00",
          "2021-12-12T00:00:00",
          "2021-12-13T00:00:00",
          "2021-12-14T00:00:00",
          "2021-12-15T00:00:00",
          "2021-12-16T00:00:00",
          "2021-12-17T00:00:00",
          "2021-12-18T00:00:00",
          "2021-12-19T00:00:00",
          "2021-12-20T00:00:00",
          "2021-12-21T00:00:00",
          "2021-12-22T00:00:00",
          "2021-12-23T00:00:00",
          "2021-12-24T00:00:00",
          "2021-12-25T00:00:00",
          "2021-12-26T00:00:00",
          "2021-12-27T00:00:00",
          "2021-12-28T00:00:00",
          "2021-12-29T00:00:00",
          "2021-12-30T00:00:00",
          "2021-12-31T00:00:00"
         ],
         "xaxis": "x",
         "y": [
          140856.828125,
          174580,
          140066.671875,
          134247.671875,
          188676,
          174833.328125,
          217400.671875,
          158097,
          133424,
          129416.6640625,
          189084,
          175506.671875,
          213961.328125,
          161985.671875,
          132703.671875,
          125576,
          178665.671875,
          165779.328125,
          208592,
          157341,
          126216,
          130002.6640625,
          173134.671875,
          166549.671875,
          255074,
          177550.671875,
          157458,
          148372.328125,
          184205,
          227063.328125,
          262005,
          192840,
          162080,
          157851,
          188940,
          239327.328125,
          267639,
          196979.671875,
          165562.328125,
          156876,
          193728.671875,
          249663.328125,
          261408.328125,
          197785.671875,
          166061,
          162262.328125,
          201715.5,
          285596.5,
          242256,
          195780.5,
          152660,
          143325,
          211125,
          196313.5,
          254358.5,
          172942.5,
          143840,
          212027,
          195780.5,
          246244,
          173475,
          139097,
          128150,
          190448,
          179100,
          179501,
          212100,
          285284,
          296276,
          218365,
          80911.5,
          44822.5,
          32006,
          15377,
          34588.5,
          44790,
          89660,
          26896,
          25700,
          11520,
          34652,
          40480,
          91262,
          25665,
          27018.5,
          4487,
          19196.5,
          35893,
          82160,
          20532,
          15377,
          4487,
          12829,
          35954,
          114034,
          34718,
          25703,
          10234,
          21125,
          53979,
          97957,
          35931,
          31400.5,
          26970,
          38602.5,
          91521.5,
          141420,
          69075,
          46134,
          35969,
          51421,
          105771,
          134469.5,
          69370.5,
          46258,
          31400.5,
          34632,
          83274,
          103679.5,
          51350.5,
          19242,
          15997,
          22419,
          41014,
          86384,
          35986,
          17900,
          13461,
          17264.5,
          51470,
          89593,
          40988,
          29684,
          30855,
          35259,
          69299.5,
          133725,
          63492,
          51857,
          40453,
          49313,
          84579,
          54273.66796875,
          35891.08203125,
          111725.890625,
          44507.765625,
          53349.58203125,
          63267.5,
          62133.58203125,
          77080.6640625,
          49457.5546875,
          51316.35546875,
          52760.27734375,
          30050.416015625,
          124907.734375,
          23541,
          71586.75,
          48436.08203125,
          59622.33203125,
          57654.4453125,
          69363.546875,
          43204.16796875,
          46968.265625,
          74846.75,
          36643.80078125,
          89494.0859375,
          44744,
          54845.41796875,
          36056.109375,
          60335.16796875,
          52151.83203125,
          51029,
          81753,
          19285.611328125,
          98955.25,
          41351.58203125,
          52509.5,
          37925.77734375,
          49868,
          60910.22265625,
          57023.83203125,
          204426.671875,
          41187.109375,
          61607.25,
          115586.4140625,
          78153.9609375,
          69189.609375,
          69081.25,
          52112.66796875,
          27384,
          19738.666015625,
          61738.28515625,
          64007.75,
          40463,
          85029,
          22502,
          22415.5,
          7703,
          56403.80078125,
          40329.6015625,
          54759.6015625,
          18675.80078125,
          36218,
          31644.75,
          55210.25,
          193092.5625,
          52336.58984375,
          17019.5,
          181284.625,
          31765.25,
          62367,
          39146.5,
          71677,
          87060.75,
          28272,
          31080.75,
          84274.03125,
          40425.75,
          56458,
          22142.5,
          41260.91796875,
          78824.3671875,
          154586.453125,
          69881.75,
          86062.75,
          43585.25,
          39489.25,
          57325,
          84191,
          73667,
          78262.75,
          49724,
          42929.5,
          164103.828125,
          75000.28125,
          69129.75,
          66649,
          209498.5,
          33895.5,
          71276.75,
          76352.5,
          99686.875,
          59058.5,
          34630,
          93465.2890625,
          84964.375,
          66651,
          51904,
          79031.1640625,
          29443.25,
          82110.40625,
          178887.8125,
          78184,
          60437.25,
          76901.25,
          41579.75,
          39797,
          56961,
          80728.75,
          67250,
          49926,
          44969,
          46148,
          83232.5,
          154275,
          159486.5,
          48860.5,
          118794.5,
          61711,
          222088.40625,
          72380.4140625,
          102928.25,
          84398.6640625,
          97826.6640625,
          150330.0625,
          199807.75,
          32836.5546875,
          40406.41796875,
          66279.1640625,
          50417.58203125,
          79849.0546875,
          55022.66796875,
          67162,
          43119.19921875,
          197733,
          30634.732421875,
          70684.5,
          53909.69921875,
          46260,
          78968.3984375,
          76974,
          51995.33203125,
          66542.5546875,
          46472.77734375,
          60237.71484375,
          60208.09375,
          10455.3330078125,
          24138.666015625,
          35371,
          74686.6640625,
          19732.666015625,
          21388,
          6994.33349609375,
          24048.666015625,
          35487.33203125,
          78154.6640625,
          61837.4765625,
          24506,
          185370.859375,
          15714.6669921875,
          30628.666015625,
          63649.33203125,
          26304,
          20940.333984375,
          11818,
          58541.66796875,
          35029.33203125,
          98829.3359375,
          36674,
          76359.265625,
          73861.03125,
          28356,
          61003.33203125,
          69205.3984375,
          64997.33203125,
          66429.5234375,
          94163.046875,
          34088,
          73575,
          114091.6640625,
          63135,
          43285,
          33559.33203125,
          45680,
          91524,
          87581.953125,
          124222.140625,
          205668.28125,
          38580,
          39680,
          84859.6640625,
          108356,
          116659.453125,
          31323.333984375,
          106275.4453125,
          24008.666015625,
          47382.33203125,
          146474.359375,
          142323.3125,
          98837.796875,
          17584,
          20934,
          70270.6015625,
          95825.203125,
          83370.21875,
          136397.671875,
          36681.33203125,
          36712,
          65363.33203125,
          116129,
          57596.66796875,
          47350.33203125,
          36713.66796875,
          42679
         ],
         "yaxis": "y"
        },
        {
         "hovertemplate": "Retailer=West Gear<br>Invoice Date=%{x}<br>Total Sales=%{y}<extra></extra>",
         "legendgroup": "West Gear",
         "line": {
          "color": "#EF553B",
          "dash": "solid"
         },
         "marker": {
          "symbol": "circle"
         },
         "mode": "lines",
         "name": "West Gear",
         "showlegend": true,
         "type": "scattergl",
         "x": [
          "2020-01-02T00:00:00",
          "2020-01-03T00:00:00",
          "2020-01-04T00:00:00",
          "2020-01-05T00:00:00",
          "2020-01-06T00:00:00",
          "2020-01-07T00:00:00",
          "2020-01-08T00:00:00",
          "2020-01-09T00:00:00",
          "2020-01-10T00:00:00",
          "2020-01-11T00:00:00",
          "2020-01-12T00:00:00",
          "2020-01-13T00:00:00",
          "2020-01-14T00:00:00",
          "2020-01-15T00:00:00",
          "2020-01-16T00:00:00",
          "2020-01-17T00:00:00",
          "2020-01-18T00:00:00",
          "2020-01-19T00:00:00",
          "2020-01-20T00:00:00",
          "2020-01-21T00:00:00",
          "2020-01-22T00:00:00",
          "2020-01-23T00:00:00",
          "2020-01-24T00:00:00",
          "2020-01-25T00:00:00",
          "2020-01-26T00:00:00",
          "2020-01-27T00:00:00",
          "2020-01-28T00:00:00",
          "2020-01-29T00:00:00",
          "2020-01-30T00:00:00",
          "2020-01-31T00:00:00",
          "2020-02-01T00:00:00",
          "2020-02-02T00:00:00",
          "2020-02-03T00:00:00",
          "2020-02-04T00:00:00",
          "2020-02-05T00:00:00",
          "2020-02-06T00:00:00",
          "2020-02-07T00:00:00",
          "2020-02-08T00:00:00",
          "2020-02-09T00:00:00",
          "2020-02-10T00:00:00",
          "2020-02-11T00:00:00",
          "2020-02-12T00:00:00",
          "2020-02-13T00:00:00",
          "2020-02-14T00:00:00",
          "2020-02-15T00:00:00",
          "2020-02-16T00:00:00",
          "2020-02-17T00:00:00",
          "2020-02-18T00:00:00",
          "2020-02-19T00:00:00",
          "2020-02-20T00:00:00",
          "2020-02-21T00:00:00",
          "2020-02-22T00:00:00",
          "2020-02-23T00:00:00",
          "2020-02-24T00:00:00",
          "2020-02-25T00:00:00",
          "2020-02-26T00:00:00",
          "2020-02-27T00:00:00",
          "2020-02-28T00:00:00",
          "2020-03-01T00:00:00",
          "2020-03-02T00:00:00",
          "2020-03-03T00:00:00",
          "2020-03-04T00:00:00",
          "2020-03-05T00:00:00",
          "2020-03-06T00:00:00",
          "2020-03-07T00:00:00",
          "2020-03-08T00:00:00",
          "2020-03-09T00:00:00",
          "2020-03-10T00:00:00",
          "2020-03-11T00:00:00",
          "2020-03-12T00:00:00",
          "2020-03-13T00:00:00",
          "2020-03-14T00:00:00",
          "2020-03-15T00:00:00",
          "2020-03-16T00:00:00",
          "2020-03-17T00:00:00",
          "2020-03-18T00:00:00",
          "2020-03-19T00:00:00",
          "2020-03-20T00:00:00",
          "2020-03-21T00:00:00",
          "2020-03-22T00:00:00",
          "2020-03-23T00:00:00",
          "2020-03-24T00:00:00",
          "2020-03-25T00:00:00",
          "2020-03-26T00:00:00",
          "2020-03-27T00:00:00",
          "2020-03-28T00:00:00",
          "2020-03-29T00:00:00",
          "2020-03-30T00:00:00",
          "2020-03-31T00:00:00",
          "2020-04-01T00:00:00",
          "2020-04-02T00:00:00",
          "2020-04-03T00:00:00",
          "2020-04-04T00:00:00",
          "2020-04-05T00:00:00",
          "2020-04-06T00:00:00",
          "2020-04-07T00:00:00",
          "2020-04-08T00:00:00",
          "2020-04-09T00:00:00",
          "2020-04-10T00:00:00",
          "2020-04-11T00:00:00",
          "2020-04-12T00:00:00",
          "2020-04-13T00:00:00",
          "2020-04-14T00:00:00",
          "2020-04-15T00:00:00",
          "2020-04-16T00:00:00",
          "2020-04-17T00:00:00",
          "2020-04-18T00:00:00",
          "2020-04-19T00:00:00",
          "2020-04-20T00:00:00",
          "2020-04-21T00:00:00",
          "2020-04-22T00:00:00",
          "2020-04-23T00:00:00",
          "2020-04-24T00:00:00",
          "2020-04-25T00:00:00",
          "2020-04-26T00:00:00",
          "2020-04-27T00:00:00",
          "2020-04-28T00:00:00",
          "2020-04-29T00:00:00",
          "2020-04-30T00:00:00",
          "2020-05-01T00:00:00",
          "2020-05-02T00:00:00",
          "2020-05-03T00:00:00",
          "2020-05-04T00:00:00",
          "2020-05-05T00:00:00",
          "2020-05-06T00:00:00",
          "2020-05-07T00:00:00",
          "2020-05-08T00:00:00",
          "2020-05-09T00:00:00",
          "2020-05-10T00:00:00",
          "2020-05-11T00:00:00",
          "2020-05-12T00:00:00",
          "2020-05-13T00:00:00",
          "2020-05-14T00:00:00",
          "2020-05-15T00:00:00",
          "2020-05-16T00:00:00",
          "2020-05-17T00:00:00",
          "2020-05-18T00:00:00",
          "2020-05-19T00:00:00",
          "2020-05-20T00:00:00",
          "2020-05-21T00:00:00",
          "2020-05-22T00:00:00",
          "2020-05-23T00:00:00",
          "2020-05-24T00:00:00",
          "2020-05-25T00:00:00",
          "2020-05-26T00:00:00",
          "2020-05-27T00:00:00",
          "2020-05-28T00:00:00",
          "2020-05-29T00:00:00",
          "2020-05-30T00:00:00",
          "2020-05-31T00:00:00",
          "2020-06-01T00:00:00",
          "2020-06-02T00:00:00",
          "2020-06-03T00:00:00",
          "2020-06-04T00:00:00",
          "2020-06-05T00:00:00",
          "2020-06-06T00:00:00",
          "2020-06-07T00:00:00",
          "2020-06-08T00:00:00",
          "2020-06-09T00:00:00",
          "2020-06-10T00:00:00",
          "2020-06-11T00:00:00",
          "2020-06-12T00:00:00",
          "2020-06-13T00:00:00",
          "2020-06-14T00:00:00",
          "2020-06-15T00:00:00",
          "2020-06-16T00:00:00",
          "2020-06-17T00:00:00",
          "2020-06-18T00:00:00",
          "2020-06-19T00:00:00",
          "2020-06-20T00:00:00",
          "2020-06-21T00:00:00",
          "2020-06-22T00:00:00",
          "2020-06-23T00:00:00",
          "2020-06-24T00:00:00",
          "2020-06-25T00:00:00",
          "2020-06-26T00:00:00",
          "2020-06-27T00:00:00",
          "2020-06-28T00:00:00",
          "2020-06-29T00:00:00",
          "2020-06-30T00:00:00",
          "2020-07-01T00:00:00",
          "2020-07-02T00:00:00",
          "2020-07-03T00:00:00",
          "2020-07-04T00:00:00",
          "2020-07-05T00:00:00",
          "2020-07-06T00:00:00",
          "2020-07-07T00:00:00",
          "2020-07-08T00:00:00",
          "2020-07-09T00:00:00",
          "2020-07-10T00:00:00",
          "2020-07-11T00:00:00",
          "2020-07-12T00:00:00",
          "2020-07-13T00:00:00",
          "2020-07-14T00:00:00",
          "2020-07-15T00:00:00",
          "2020-07-16T00:00:00",
          "2020-07-17T00:00:00",
          "2020-07-18T00:00:00",
          "2020-07-19T00:00:00",
          "2020-07-20T00:00:00",
          "2020-07-21T00:00:00",
          "2020-07-22T00:00:00",
          "2020-07-23T00:00:00",
          "2020-07-24T00:00:00",
          "2020-07-25T00:00:00",
          "2020-07-26T00:00:00",
          "2020-07-27T00:00:00",
          "2020-07-28T00:00:00",
          "2020-07-29T00:00:00",
          "2020-07-30T00:00:00",
          "2020-07-31T00:00:00",
          "2020-08-01T00:00:00",
          "2020-08-02T00:00:00",
          "2020-08-03T00:00:00",
          "2020-08-04T00:00:00",
          "2020-08-05T00:00:00",
          "2020-08-15T00:00:00",
          "2020-09-07T00:00:00",
          "2020-09-08T00:00:00",
          "2020-09-09T00:00:00",
          "2020-09-10T00:00:00",
          "2020-09-11T00:00:00",
          "2020-09-12T00:00:00",
          "2020-09-13T00:00:00",
          "2020-09-14T00:00:00",
          "2020-09-15T00:00:00",
          "2020-09-16T00:00:00",
          "2020-09-17T00:00:00",
          "2020-09-18T00:00:00",
          "2020-09-19T00:00:00",
          "2020-11-01T00:00:00",
          "2020-11-02T00:00:00",
          "2020-11-03T00:00:00",
          "2020-11-04T00:00:00",
          "2020-11-05T00:00:00",
          "2020-11-06T00:00:00",
          "2020-11-07T00:00:00",
          "2020-11-08T00:00:00",
          "2020-11-09T00:00:00",
          "2020-11-10T00:00:00",
          "2020-11-11T00:00:00",
          "2020-11-12T00:00:00",
          "2020-11-13T00:00:00",
          "2020-11-14T00:00:00",
          "2020-11-15T00:00:00",
          "2020-12-22T00:00:00",
          "2020-12-23T00:00:00",
          "2020-12-24T00:00:00",
          "2020-12-25T00:00:00",
          "2020-12-26T00:00:00",
          "2020-12-27T00:00:00",
          "2020-12-28T00:00:00",
          "2020-12-29T00:00:00",
          "2020-12-30T00:00:00",
          "2020-12-31T00:00:00",
          "2021-01-01T00:00:00",
          "2021-01-02T00:00:00",
          "2021-01-03T00:00:00",
          "2021-01-04T00:00:00",
          "2021-01-05T00:00:00",
          "2021-01-06T00:00:00",
          "2021-01-07T00:00:00",
          "2021-01-08T00:00:00",
          "2021-01-09T00:00:00",
          "2021-01-10T00:00:00",
          "2021-01-11T00:00:00",
          "2021-01-12T00:00:00",
          "2021-01-13T00:00:00",
          "2021-01-14T00:00:00",
          "2021-01-15T00:00:00",
          "2021-01-16T00:00:00",
          "2021-01-17T00:00:00",
          "2021-01-18T00:00:00",
          "2021-01-19T00:00:00",
          "2021-01-20T00:00:00",
          "2021-01-21T00:00:00",
          "2021-01-22T00:00:00",
          "2021-01-23T00:00:00",
          "2021-01-24T00:00:00",
          "2021-01-25T00:00:00",
          "2021-01-26T00:00:00",
          "2021-01-27T00:00:00",
          "2021-01-28T00:00:00",
          "2021-01-29T00:00:00",
          "2021-01-30T00:00:00",
          "2021-01-31T00:00:00",
          "2021-02-01T00:00:00",
          "2021-02-02T00:00:00",
          "2021-02-03T00:00:00",
          "2021-02-04T00:00:00",
          "2021-02-05T00:00:00",
          "2021-02-06T00:00:00",
          "2021-02-07T00:00:00",
          "2021-02-08T00:00:00",
          "2021-02-09T00:00:00",
          "2021-02-10T00:00:00",
          "2021-02-11T00:00:00",
          "2021-02-12T00:00:00",
          "2021-02-13T00:00:00",
          "2021-02-14T00:00:00",
          "2021-02-15T00:00:00",
          "2021-02-16T00:00:00",
          "2021-02-17T00:00:00",
          "2021-02-21T00:00:00",
          "2021-02-22T00:00:00",
          "2021-02-24T00:00:00",
          "2021-03-02T00:00:00",
          "2021-03-06T00:00:00",
          "2021-03-08T00:00:00",
          "2021-03-09T00:00:00",
          "2021-03-10T00:00:00",
          "2021-03-16T00:00:00",
          "2021-03-19T00:00:00",
          "2021-03-20T00:00:00",
          "2021-03-23T00:00:00",
          "2021-04-03T00:00:00",
          "2021-04-05T00:00:00",
          "2021-04-09T00:00:00",
          "2021-04-10T00:00:00",
          "2021-04-11T00:00:00",
          "2021-04-17T00:00:00",
          "2021-04-20T00:00:00",
          "2021-04-21T00:00:00",
          "2021-04-24T00:00:00",
          "2021-05-04T00:00:00",
          "2021-05-05T00:00:00",
          "2021-05-08T00:00:00",
          "2021-05-11T00:00:00",
          "2021-05-12T00:00:00",
          "2021-05-18T00:00:00",
          "2021-05-19T00:00:00",
          "2021-05-20T00:00:00",
          "2021-05-25T00:00:00",
          "2021-06-03T00:00:00",
          "2021-06-04T00:00:00",
          "2021-06-10T00:00:00",
          "2021-06-11T00:00:00",
          "2021-06-17T00:00:00",
          "2021-06-21T00:00:00",
          "2021-06-22T00:00:00",
          "2021-06-24T00:00:00",
          "2021-07-02T00:00:00",
          "2021-07-06T00:00:00",
          "2021-07-08T00:00:00",
          "2021-07-09T00:00:00",
          "2021-07-10T00:00:00",
          "2021-07-16T00:00:00",
          "2021-07-19T00:00:00",
          "2021-07-23T00:00:00",
          "2021-08-03T00:00:00",
          "2021-08-09T00:00:00",
          "2021-08-10T00:00:00",
          "2021-08-11T00:00:00",
          "2021-08-17T00:00:00",
          "2021-08-20T00:00:00",
          "2021-08-24T00:00:00",
          "2021-09-04T00:00:00",
          "2021-09-08T00:00:00",
          "2021-09-11T00:00:00",
          "2021-09-12T00:00:00",
          "2021-09-18T00:00:00",
          "2021-09-19T00:00:00",
          "2021-09-25T00:00:00",
          "2021-10-03T00:00:00",
          "2021-10-06T00:00:00",
          "2021-10-10T00:00:00",
          "2021-10-11T00:00:00",
          "2021-10-12T00:00:00",
          "2021-10-17T00:00:00",
          "2021-10-21T00:00:00",
          "2021-10-24T00:00:00",
          "2021-11-03T00:00:00",
          "2021-11-06T00:00:00",
          "2021-11-09T00:00:00",
          "2021-11-10T00:00:00",
          "2021-11-11T00:00:00",
          "2021-11-17T00:00:00",
          "2021-11-20T00:00:00",
          "2021-11-24T00:00:00",
          "2021-12-02T00:00:00",
          "2021-12-05T00:00:00",
          "2021-12-08T00:00:00",
          "2021-12-09T00:00:00",
          "2021-12-10T00:00:00",
          "2021-12-16T00:00:00",
          "2021-12-17T00:00:00",
          "2021-12-19T00:00:00",
          "2021-12-23T00:00:00"
         ],
         "xaxis": "x",
         "y": [
          55223.33203125,
          70791,
          70779,
          47267,
          43750,
          74991.3359375,
          64597.66796875,
          67276.3359375,
          66823,
          43185.33203125,
          34994,
          63032,
          86674,
          77069.3359375,
          76970.6640625,
          57671,
          36741.66796875,
          72054,
          115101.6640625,
          79720,
          90986.6640625,
          62675,
          45396.66796875,
          98017.3359375,
          115331.6640625,
          90466.6640625,
          91258.6640625,
          63355,
          45479.33203125,
          125926,
          147366.328125,
          125670.6640625,
          125275.3359375,
          89417.6640625,
          68238,
          167882,
          157942.671875,
          136666,
          124753.3359375,
          94291.6640625,
          113283.3359375,
          140560,
          159497.328125,
          159432,
          119415.3359375,
          107690,
          124411.3359375,
          111821.3359375,
          125790,
          136354,
          94431,
          83942.6640625,
          98274.6640625,
          117807.3359375,
          115255,
          125628.3359375,
          78732.3359375,
          73595.6640625,
          79246.3359375,
          98000.6640625,
          121015.6640625,
          131267.328125,
          88996.6640625,
          83908,
          85368.6640625,
          124518.6640625,
          142173.328125,
          153639.328125,
          99941,
          99740.3359375,
          98130.6640625,
          131873.328125,
          44641.33203125,
          59723,
          59271,
          38410.66796875,
          51773,
          97368,
          80518.5,
          87109,
          87337,
          56296,
          46247,
          82146,
          113052.5,
          102688,
          112958,
          84795,
          46092,
          98720,
          161102.5,
          108398,
          125321.5,
          84572,
          58239,
          133528,
          161102.5,
          125025,
          124766,
          84501,
          58261,
          194921,
          222603,
          191123,
          191675,
          150435,
          116753,
          273136.5,
          258339,
          225048,
          206643.5,
          158736.5,
          213917.3125,
          228468,
          259924,
          260023.5,
          197290.5,
          179252.5,
          192680,
          163700,
          199779,
          215796,
          149640,
          132950,
          154440,
          152195,
          147868.5,
          161604,
          98851,
          91627.5,
          99900,
          125912.5,
          162025,
          176625,
          120139,
          133480,
          144195,
          204745,
          233488.5,
          250824,
          166250,
          166437.5,
          163285,
          215137.5,
          92106,
          115644,
          115605,
          76911,
          70611.5,
          127875,
          112484,
          115578.5,
          115367,
          77088,
          63565,
          109079,
          147591,
          130835,
          141575,
          108345,
          62837,
          125130,
          197940,
          134374,
          154440,
          92475,
          66652,
          143432,
          169537.5,
          133240,
          133660,
          92655,
          66560,
          204687.5,
          288172.5,
          256956,
          255868,
          204687.5,
          163680,
          346418,
          338723.5,
          294337,
          272450,
          215343,
          249919,
          294862.5,
          338055,
          308085,
          240324.5,
          221360,
          221127.5,
          164104,
          214992,
          231177,
          161752.5,
          143752,
          173996,
          149753,
          169321,
          183166,
          115664,
          107842,
          116993,
          144210.5,
          184374,
          208765,
          145848,
          161536.5,
          196137.5,
          267322,
          307332,
          326257.5,
          225037,
          225244,
          219203,
          279575,
          138211,
          205096,
          198849.5,
          259098,
          331908.5,
          382720,
          276412.5,
          232250,
          219299.5,
          266344,
          349424,
          374745,
          276930,
          232996.5,
          108551,
          135063.328125,
          135475,
          109521.6640625,
          110345,
          135768.328125,
          115447.6640625,
          127131.3359375,
          127328,
          100653.3359375,
          96310,
          121767.3359375,
          148687.328125,
          146386.328125,
          147011.671875,
          126628,
          114220,
          147128.328125,
          182869.328125,
          154117.328125,
          165458,
          131392,
          119214.6640625,
          196602,
          188664,
          171261,
          170310,
          56061.1328125,
          125219.3359375,
          130191.8359375,
          204756.328125,
          188224.671875,
          187078.671875,
          147191.328125,
          68996.9140625,
          95038.46875,
          115653.5234375,
          198697.328125,
          187923.328125,
          152784,
          176407.328125,
          67274.609375,
          221422,
          225886.671875,
          181549.328125,
          170617.328125,
          196996.328125,
          55425.5703125,
          60057.5234375,
          194020.671875,
          149207.328125,
          139714,
          164886.328125,
          190023,
          167896.671875,
          182947,
          134306.671875,
          130323,
          53649.53515625,
          170884,
          168394.328125,
          184254.671875,
          139710,
          134633.328125,
          148132.328125,
          93548.3671875,
          68423.109375,
          205368.671875,
          149876.671875,
          148994.671875,
          158620,
          195578.671875,
          53389.06640625,
          27196.0546875,
          24370.099609375,
          39706.4453125,
          20974.666015625,
          42086.5,
          130979.25,
          32679.75,
          40096.83203125,
          57024.5,
          20197.72265625,
          30322,
          50979.109375,
          27237,
          47744.66796875,
          128499.6640625,
          39721.5,
          32877.83203125,
          58023.06640625,
          24483.77734375,
          28324,
          57168.66796875,
          61551.41796875,
          70734.71875,
          174514.671875,
          71521,
          46866.27734375,
          76092.703125,
          46815.390625,
          52418.66796875,
          68066.5,
          52728.16796875,
          118114.3359375,
          130751.5859375,
          48375.83203125,
          151792.640625,
          61897.4453125,
          92862.5,
          168210.5625,
          74846.0859375,
          127724.203125,
          224611.5,
          82677.75,
          61823.4453125,
          189949.90625,
          86007.609375,
          208533.4375,
          72502.1640625,
          201981.328125,
          72497.3359375,
          55211.72265625,
          135384.703125,
          80525.9453125,
          150481.9375,
          37104.75,
          165607.921875,
          40415,
          31550.888671875,
          55783.93359375,
          39867.390625,
          55204.5,
          44164.41796875,
          64288.5,
          110584.9609375,
          34431.33203125,
          78537,
          61075.35546875,
          28655.388671875,
          65577.0546875,
          65292.08203125,
          60369.25,
          182707.421875,
          74718.0859375,
          55741.40625,
          108959.28125,
          62881.22265625,
          105125.28125,
          98939.5,
          91794,
          240768.5,
          150436.90625,
          62364.0546875,
          180590.90625,
          82681.25,
          114174.21875,
          156750.671875
         ],
         "yaxis": "y"
        },
        {
         "hovertemplate": "Retailer=Walmart<br>Invoice Date=%{x}<br>Total Sales=%{y}<extra></extra>",
         "legendgroup": "Walmart",
         "line": {
          "color": "#00cc96",
          "dash": "solid"
         },
         "marker": {
          "symbol": "circle"
         },
         "mode": "lines",
         "name": "Walmart",
         "showlegend": true,
         "type": "scattergl",
         "x": [
          "2020-04-17T00:00:00",
          "2020-04-18T00:00:00",
          "2020-04-19T00:00:00",
          "2020-04-20T00:00:00",
          "2020-04-21T00:00:00",
          "2020-04-22T00:00:00",
          "2020-04-23T00:00:00",
          "2020-04-24T00:00:00",
          "2020-04-25T00:00:00",
          "2020-04-26T00:00:00",
          "2020-04-27T00:00:00",
          "2020-04-28T00:00:00",
          "2020-04-29T00:00:00",
          "2020-04-30T00:00:00",
          "2020-05-01T00:00:00",
          "2020-05-02T00:00:00",
          "2020-05-03T00:00:00",
          "2020-05-04T00:00:00",
          "2020-05-05T00:00:00",
          "2020-05-06T00:00:00",
          "2020-05-07T00:00:00",
          "2020-07-18T00:00:00",
          "2020-08-10T00:00:00",
          "2020-08-11T00:00:00",
          "2020-08-12T00:00:00",
          "2020-08-13T00:00:00",
          "2020-08-14T00:00:00",
          "2020-08-15T00:00:00",
          "2020-08-16T00:00:00",
          "2020-08-17T00:00:00",
          "2020-08-18T00:00:00",
          "2020-08-19T00:00:00",
          "2020-08-20T00:00:00",
          "2020-08-21T00:00:00",
          "2020-08-22T00:00:00",
          "2020-08-23T00:00:00",
          "2020-08-24T00:00:00",
          "2020-08-25T00:00:00",
          "2020-08-26T00:00:00",
          "2020-08-27T00:00:00",
          "2020-08-28T00:00:00",
          "2020-08-29T00:00:00",
          "2020-08-30T00:00:00",
          "2020-08-31T00:00:00",
          "2020-09-01T00:00:00",
          "2020-09-02T00:00:00",
          "2020-09-03T00:00:00",
          "2020-09-04T00:00:00",
          "2020-09-05T00:00:00",
          "2020-09-06T00:00:00",
          "2020-09-07T00:00:00",
          "2020-09-08T00:00:00",
          "2020-09-09T00:00:00",
          "2020-09-10T00:00:00",
          "2020-09-11T00:00:00",
          "2020-09-12T00:00:00",
          "2020-09-13T00:00:00",
          "2020-09-14T00:00:00",
          "2020-09-15T00:00:00",
          "2020-09-16T00:00:00",
          "2020-10-20T00:00:00",
          "2020-10-21T00:00:00",
          "2020-10-22T00:00:00",
          "2020-10-23T00:00:00",
          "2020-10-24T00:00:00",
          "2020-10-25T00:00:00",
          "2020-10-26T00:00:00",
          "2020-10-27T00:00:00",
          "2020-10-28T00:00:00",
          "2020-10-29T00:00:00",
          "2020-10-30T00:00:00",
          "2020-10-31T00:00:00",
          "2021-02-21T00:00:00",
          "2021-03-19T00:00:00",
          "2021-04-17T00:00:00",
          "2021-04-20T00:00:00",
          "2021-05-18T00:00:00",
          "2021-05-19T00:00:00",
          "2021-06-17T00:00:00",
          "2021-06-21T00:00:00",
          "2021-07-16T00:00:00",
          "2021-07-19T00:00:00",
          "2021-08-10T00:00:00",
          "2021-08-17T00:00:00",
          "2021-08-20T00:00:00",
          "2021-09-11T00:00:00",
          "2021-09-16T00:00:00",
          "2021-09-18T00:00:00",
          "2021-09-19T00:00:00",
          "2021-10-10T00:00:00",
          "2021-10-17T00:00:00",
          "2021-10-18T00:00:00",
          "2021-10-21T00:00:00",
          "2021-11-10T00:00:00",
          "2021-11-17T00:00:00",
          "2021-12-09T00:00:00",
          "2021-12-16T00:00:00"
         ],
         "xaxis": "x",
         "y": [
          188859,
          244590,
          252024,
          192850,
          162145.328125,
          157416,
          189492,
          227423.328125,
          199531,
          245406.671875,
          261326,
          187733,
          177352.671875,
          172890,
          199388.671875,
          238974.671875,
          273168,
          192876.671875,
          183958.671875,
          173232,
          204684,
          245346.671875,
          82836.6640625,
          112130.6640625,
          97610.6640625,
          129484,
          94731.6640625,
          98322,
          94452,
          133217.328125,
          132514,
          149385,
          111904,
          104850.6640625,
          101946,
          175016.671875,
          132453.671875,
          148872,
          154216.328125,
          97944,
          110065.6640625,
          170714.328125,
          129383.6640625,
          145644.671875,
          154143,
          91210.6640625,
          102469.6640625,
          156960,
          134144,
          133131,
          157368,
          109469,
          98788.6640625,
          163555.328125,
          126330.6640625,
          125493.3359375,
          131323,
          104968,
          90496.6640625,
          144549.671875,
          141414,
          141645,
          143912,
          118508,
          102180,
          164271,
          149304.671875,
          150454,
          149436.328125,
          122038,
          101946,
          173793,
          29063.333984375,
          25925.111328125,
          84452.390625,
          31243.5,
          94393.390625,
          57302.16796875,
          196300.0625,
          73712.390625,
          179040.734375,
          100108.609375,
          161619.75,
          143698.8125,
          94099.1640625,
          144070.828125,
          61758.16796875,
          76378.9453125,
          47536.16796875,
          108904,
          88998.1640625,
          46482.265625,
          32279.19921875,
          163497.078125,
          135327.171875,
          286716.5,
          223712
         ],
         "yaxis": "y"
        },
        {
         "hovertemplate": "Retailer=Sports Direct<br>Invoice Date=%{x}<br>Total Sales=%{y}<extra></extra>",
         "legendgroup": "Sports Direct",
         "line": {
          "color": "#ab63fa",
          "dash": "solid"
         },
         "marker": {
          "symbol": "circle"
         },
         "mode": "lines",
         "name": "Sports Direct",
         "showlegend": true,
         "type": "scattergl",
         "x": [
          "2020-05-24T00:00:00",
          "2020-07-19T00:00:00",
          "2020-07-20T00:00:00",
          "2020-07-21T00:00:00",
          "2020-07-22T00:00:00",
          "2020-07-23T00:00:00",
          "2020-07-24T00:00:00",
          "2020-07-25T00:00:00",
          "2020-07-26T00:00:00",
          "2020-07-27T00:00:00",
          "2020-07-28T00:00:00",
          "2020-07-29T00:00:00",
          "2020-07-30T00:00:00",
          "2020-07-31T00:00:00",
          "2020-08-01T00:00:00",
          "2020-08-02T00:00:00",
          "2020-08-03T00:00:00",
          "2020-08-04T00:00:00",
          "2020-08-05T00:00:00",
          "2020-08-06T00:00:00",
          "2020-08-07T00:00:00",
          "2020-08-08T00:00:00",
          "2020-08-09T00:00:00",
          "2020-09-25T00:00:00",
          "2020-09-26T00:00:00",
          "2020-09-27T00:00:00",
          "2020-09-28T00:00:00",
          "2020-09-29T00:00:00",
          "2020-09-30T00:00:00",
          "2020-10-01T00:00:00",
          "2020-10-02T00:00:00",
          "2020-10-03T00:00:00",
          "2020-10-04T00:00:00",
          "2020-10-05T00:00:00",
          "2020-10-06T00:00:00",
          "2020-10-07T00:00:00",
          "2020-10-08T00:00:00",
          "2020-10-09T00:00:00",
          "2020-10-10T00:00:00",
          "2021-01-06T00:00:00",
          "2021-01-07T00:00:00",
          "2021-01-09T00:00:00",
          "2021-01-13T00:00:00",
          "2021-01-17T00:00:00",
          "2021-01-19T00:00:00",
          "2021-01-23T00:00:00",
          "2021-02-04T00:00:00",
          "2021-02-05T00:00:00",
          "2021-02-09T00:00:00",
          "2021-02-13T00:00:00",
          "2021-02-15T00:00:00",
          "2021-02-17T00:00:00",
          "2021-02-21T00:00:00",
          "2021-03-02T00:00:00",
          "2021-03-03T00:00:00",
          "2021-03-08T00:00:00",
          "2021-03-10T00:00:00",
          "2021-03-11T00:00:00",
          "2021-03-12T00:00:00",
          "2021-03-13T00:00:00",
          "2021-03-14T00:00:00",
          "2021-03-15T00:00:00",
          "2021-03-16T00:00:00",
          "2021-03-17T00:00:00",
          "2021-03-18T00:00:00",
          "2021-03-19T00:00:00",
          "2021-03-20T00:00:00",
          "2021-03-21T00:00:00",
          "2021-03-22T00:00:00",
          "2021-03-23T00:00:00",
          "2021-03-24T00:00:00",
          "2021-03-25T00:00:00",
          "2021-03-26T00:00:00",
          "2021-03-27T00:00:00",
          "2021-03-28T00:00:00",
          "2021-03-29T00:00:00",
          "2021-03-30T00:00:00",
          "2021-03-31T00:00:00",
          "2021-04-01T00:00:00",
          "2021-04-02T00:00:00",
          "2021-04-03T00:00:00",
          "2021-04-04T00:00:00",
          "2021-04-05T00:00:00",
          "2021-04-06T00:00:00",
          "2021-04-07T00:00:00",
          "2021-04-08T00:00:00",
          "2021-04-09T00:00:00",
          "2021-04-10T00:00:00",
          "2021-04-11T00:00:00",
          "2021-04-12T00:00:00",
          "2021-04-13T00:00:00",
          "2021-04-14T00:00:00",
          "2021-04-15T00:00:00",
          "2021-04-16T00:00:00",
          "2021-04-17T00:00:00",
          "2021-04-18T00:00:00",
          "2021-04-19T00:00:00",
          "2021-04-20T00:00:00",
          "2021-04-21T00:00:00",
          "2021-04-22T00:00:00",
          "2021-04-23T00:00:00",
          "2021-04-24T00:00:00",
          "2021-04-25T00:00:00",
          "2021-04-26T00:00:00",
          "2021-04-27T00:00:00",
          "2021-04-28T00:00:00",
          "2021-04-29T00:00:00",
          "2021-04-30T00:00:00",
          "2021-05-01T00:00:00",
          "2021-05-02T00:00:00",
          "2021-05-03T00:00:00",
          "2021-05-04T00:00:00",
          "2021-05-05T00:00:00",
          "2021-05-06T00:00:00",
          "2021-05-07T00:00:00",
          "2021-05-08T00:00:00",
          "2021-05-09T00:00:00",
          "2021-05-10T00:00:00",
          "2021-05-11T00:00:00",
          "2021-05-12T00:00:00",
          "2021-05-13T00:00:00",
          "2021-05-14T00:00:00",
          "2021-05-15T00:00:00",
          "2021-05-16T00:00:00",
          "2021-05-17T00:00:00",
          "2021-05-18T00:00:00",
          "2021-05-19T00:00:00",
          "2021-05-20T00:00:00",
          "2021-06-04T00:00:00",
          "2021-06-05T00:00:00",
          "2021-06-09T00:00:00",
          "2021-06-13T00:00:00",
          "2021-06-15T00:00:00",
          "2021-06-17T00:00:00",
          "2021-07-02T00:00:00",
          "2021-07-03T00:00:00",
          "2021-07-08T00:00:00",
          "2021-07-12T00:00:00",
          "2021-07-13T00:00:00",
          "2021-07-15T00:00:00",
          "2021-07-20T00:00:00",
          "2021-08-01T00:00:00",
          "2021-08-02T00:00:00",
          "2021-08-03T00:00:00",
          "2021-08-04T00:00:00",
          "2021-08-05T00:00:00",
          "2021-08-06T00:00:00",
          "2021-08-07T00:00:00",
          "2021-08-08T00:00:00",
          "2021-08-09T00:00:00",
          "2021-08-10T00:00:00",
          "2021-08-11T00:00:00",
          "2021-08-12T00:00:00",
          "2021-08-13T00:00:00",
          "2021-08-14T00:00:00",
          "2021-08-15T00:00:00",
          "2021-08-16T00:00:00",
          "2021-08-17T00:00:00",
          "2021-08-18T00:00:00",
          "2021-08-19T00:00:00",
          "2021-08-20T00:00:00",
          "2021-08-21T00:00:00",
          "2021-08-22T00:00:00",
          "2021-08-23T00:00:00",
          "2021-08-24T00:00:00",
          "2021-08-25T00:00:00",
          "2021-08-26T00:00:00",
          "2021-08-27T00:00:00",
          "2021-08-28T00:00:00",
          "2021-08-29T00:00:00",
          "2021-08-30T00:00:00",
          "2021-08-31T00:00:00",
          "2021-09-01T00:00:00",
          "2021-09-02T00:00:00",
          "2021-09-03T00:00:00",
          "2021-09-04T00:00:00",
          "2021-09-05T00:00:00",
          "2021-09-06T00:00:00",
          "2021-09-07T00:00:00",
          "2021-09-08T00:00:00",
          "2021-09-09T00:00:00",
          "2021-09-10T00:00:00",
          "2021-09-11T00:00:00",
          "2021-09-12T00:00:00",
          "2021-09-13T00:00:00",
          "2021-09-14T00:00:00",
          "2021-09-15T00:00:00",
          "2021-09-16T00:00:00",
          "2021-09-17T00:00:00",
          "2021-09-18T00:00:00",
          "2021-09-19T00:00:00",
          "2021-09-20T00:00:00",
          "2021-09-21T00:00:00",
          "2021-09-22T00:00:00",
          "2021-09-23T00:00:00",
          "2021-09-24T00:00:00",
          "2021-09-25T00:00:00",
          "2021-09-26T00:00:00",
          "2021-09-27T00:00:00",
          "2021-09-28T00:00:00",
          "2021-09-29T00:00:00",
          "2021-09-30T00:00:00",
          "2021-10-01T00:00:00",
          "2021-10-02T00:00:00",
          "2021-10-03T00:00:00",
          "2021-10-04T00:00:00",
          "2021-10-05T00:00:00",
          "2021-10-06T00:00:00",
          "2021-10-07T00:00:00",
          "2021-10-08T00:00:00",
          "2021-10-09T00:00:00",
          "2021-10-10T00:00:00",
          "2021-10-11T00:00:00",
          "2021-10-12T00:00:00",
          "2021-10-13T00:00:00",
          "2021-10-14T00:00:00",
          "2021-10-15T00:00:00",
          "2021-10-16T00:00:00",
          "2021-10-17T00:00:00",
          "2021-10-18T00:00:00",
          "2021-10-19T00:00:00",
          "2021-10-20T00:00:00",
          "2021-10-21T00:00:00",
          "2021-10-22T00:00:00",
          "2021-11-03T00:00:00",
          "2021-11-05T00:00:00",
          "2021-11-07T00:00:00",
          "2021-11-12T00:00:00",
          "2021-11-13T00:00:00",
          "2021-11-16T00:00:00",
          "2021-11-17T00:00:00",
          "2021-12-02T00:00:00",
          "2021-12-05T00:00:00",
          "2021-12-06T00:00:00",
          "2021-12-09T00:00:00",
          "2021-12-11T00:00:00",
          "2021-12-12T00:00:00",
          "2021-12-15T00:00:00",
          "2021-12-16T00:00:00",
          "2021-12-23T00:00:00",
          "2021-12-25T00:00:00"
         ],
         "xaxis": "x",
         "y": [
          264685.625,
          78672,
          109890,
          86118.6640625,
          85540,
          76706.6640625,
          85834,
          74166.3359375,
          104187.3359375,
          82751.3359375,
          76746,
          69743.3359375,
          85890,
          91995.3359375,
          122364.6640625,
          85325.3359375,
          84186,
          78516.6640625,
          91327.6640625,
          94452,
          125808,
          88740,
          87277.3359375,
          173362.5,
          167535,
          204625,
          253632.5,
          307560,
          211302.5,
          186020.5,
          179095,
          215386.5,
          274703.5,
          299332,
          205488,
          191402,
          198699,
          249990,
          304316,
          125233,
          58359.33203125,
          46466.58203125,
          52901.390625,
          57187.69921875,
          64548.5,
          37174.890625,
          116949.6640625,
          44155.33203125,
          40990.25,
          46511,
          33973.22265625,
          74353.3359375,
          37578.4453125,
          93856.3359375,
          33992.16796875,
          33323,
          71890,
          107639,
          58471.8984375,
          37994.5,
          49131.66796875,
          79155.3984375,
          74319.6640625,
          76586.6640625,
          54874.66796875,
          49049.33203125,
          38599,
          58170,
          68174.3359375,
          90692,
          49874.66796875,
          45894.33203125,
          38355.66796875,
          52012.66796875,
          46950,
          58808.33203125,
          35038.33203125,
          35045.33203125,
          31484,
          50380.66796875,
          86072.734375,
          37172.953125,
          42092,
          54971.33203125,
          66650.6640625,
          108692.3359375,
          49133.66796875,
          121638,
          90445.3359375,
          84002,
          67505.5703125,
          46990.5234375,
          115209.3359375,
          101079.6640625,
          136376,
          80743,
          86867,
          158560.671875,
          121686.6640625,
          150252,
          166785.328125,
          74840,
          83007.3359375,
          139207.671875,
          118259.3359375,
          109157.3359375,
          129732.6640625,
          76913.3359375,
          70106.6640625,
          148290.140625,
          60741.23828125,
          70166.6640625,
          73231,
          52551.33203125,
          42789.33203125,
          82358,
          71018.6640625,
          61808.1328125,
          115416,
          91377.3359375,
          55133.19140625,
          85780.7109375,
          144873.328125,
          154002.671875,
          146860,
          115263.3359375,
          96026.6640625,
          170750,
          209394.671875,
          69716.1640625,
          55404.66796875,
          97227.4453125,
          60721.0546875,
          169033.328125,
          256595.5,
          74530.609375,
          75004.5859375,
          103493.5546875,
          65348.66796875,
          192309.828125,
          55846.80078125,
          69428.5,
          104092,
          208510.859375,
          67582.046875,
          45596.66796875,
          58104.66796875,
          54430,
          105719.3359375,
          68392.3359375,
          45699.33203125,
          50765.80078125,
          77706.796875,
          100418.609375,
          63921.5234375,
          49575.83203125,
          125407.0546875,
          47055.5,
          64052.83203125,
          51847.83203125,
          48912.83203125,
          53390.890625,
          43714,
          47360.83203125,
          66532.8359375,
          38425.83203125,
          49905.16796875,
          36132.83203125,
          58305.16796875,
          59551.16796875,
          95834.5,
          81934.8359375,
          87882.3359375,
          125968.78125,
          57101.33203125,
          70018.1640625,
          113896,
          92083.3359375,
          105908.8359375,
          116063.1640625,
          108671,
          67258.5,
          154600,
          103589.1640625,
          60431.20703125,
          96242.1640625,
          122850.71875,
          105867.5,
          142575.171875,
          136842.5,
          100218.3359375,
          70990.5546875,
          126114,
          97298.6640625,
          117087,
          112776.1640625,
          73579,
          79545.3359375,
          101263,
          85288.5,
          97906.3359375,
          98264.8359375,
          68933.6640625,
          88596.3359375,
          94692.6640625,
          95280.640625,
          66140.09375,
          126637,
          114686.8359375,
          86124.453125,
          72738.5625,
          103077.1640625,
          142559.328125,
          119813.203125,
          76861.1875,
          100060,
          59770.77734375,
          173694.328125,
          132001.40625,
          111446.3359375,
          130772.3359375,
          110686.6640625,
          190489.671875,
          61022.5,
          191426.421875,
          101620.9453125,
          62161.03515625,
          64213.16796875,
          96003.609375,
          141388.921875,
          80358.5,
          293556.5,
          276573.75,
          78160.5703125,
          215651.875,
          84552.5,
          135806.171875,
          214280.25,
          131052.6640625,
          143378,
          112872.5859375
         ],
         "yaxis": "y"
        },
        {
         "hovertemplate": "Retailer=Kohl's<br>Invoice Date=%{x}<br>Total Sales=%{y}<extra></extra>",
         "legendgroup": "Kohl's",
         "line": {
          "color": "#FFA15A",
          "dash": "solid"
         },
         "marker": {
          "symbol": "circle"
         },
         "mode": "lines",
         "name": "Kohl's",
         "showlegend": true,
         "type": "scattergl",
         "x": [
          "2020-12-28T00:00:00",
          "2020-12-29T00:00:00",
          "2020-12-30T00:00:00",
          "2020-12-31T00:00:00",
          "2021-01-01T00:00:00",
          "2021-01-02T00:00:00",
          "2021-01-03T00:00:00",
          "2021-01-04T00:00:00",
          "2021-01-05T00:00:00",
          "2021-01-06T00:00:00",
          "2021-01-07T00:00:00",
          "2021-01-08T00:00:00",
          "2021-01-09T00:00:00",
          "2021-01-10T00:00:00",
          "2021-01-11T00:00:00",
          "2021-01-12T00:00:00",
          "2021-01-13T00:00:00",
          "2021-01-14T00:00:00",
          "2021-01-15T00:00:00",
          "2021-01-16T00:00:00",
          "2021-01-17T00:00:00",
          "2021-01-18T00:00:00",
          "2021-01-19T00:00:00",
          "2021-01-20T00:00:00",
          "2021-01-21T00:00:00",
          "2021-01-22T00:00:00",
          "2021-01-23T00:00:00",
          "2021-01-24T00:00:00",
          "2021-01-25T00:00:00",
          "2021-01-26T00:00:00",
          "2021-01-27T00:00:00",
          "2021-01-28T00:00:00",
          "2021-01-29T00:00:00",
          "2021-01-30T00:00:00",
          "2021-01-31T00:00:00",
          "2021-02-01T00:00:00",
          "2021-02-02T00:00:00",
          "2021-02-03T00:00:00",
          "2021-02-04T00:00:00",
          "2021-02-05T00:00:00",
          "2021-02-06T00:00:00",
          "2021-02-07T00:00:00",
          "2021-02-08T00:00:00",
          "2021-02-09T00:00:00",
          "2021-02-10T00:00:00",
          "2021-02-11T00:00:00",
          "2021-02-12T00:00:00",
          "2021-02-13T00:00:00",
          "2021-02-14T00:00:00",
          "2021-02-15T00:00:00",
          "2021-02-16T00:00:00",
          "2021-02-17T00:00:00",
          "2021-02-18T00:00:00",
          "2021-02-19T00:00:00",
          "2021-02-20T00:00:00",
          "2021-02-21T00:00:00",
          "2021-02-22T00:00:00",
          "2021-02-23T00:00:00",
          "2021-02-24T00:00:00",
          "2021-02-25T00:00:00",
          "2021-02-26T00:00:00",
          "2021-02-27T00:00:00",
          "2021-02-28T00:00:00",
          "2021-03-01T00:00:00",
          "2021-03-02T00:00:00",
          "2021-03-03T00:00:00",
          "2021-03-04T00:00:00",
          "2021-03-05T00:00:00",
          "2021-03-06T00:00:00",
          "2021-03-07T00:00:00",
          "2021-03-08T00:00:00",
          "2021-03-09T00:00:00",
          "2021-03-10T00:00:00",
          "2021-03-11T00:00:00",
          "2021-03-12T00:00:00",
          "2021-03-13T00:00:00",
          "2021-03-14T00:00:00",
          "2021-03-15T00:00:00",
          "2021-03-16T00:00:00",
          "2021-03-17T00:00:00",
          "2021-03-18T00:00:00",
          "2021-03-19T00:00:00",
          "2021-03-20T00:00:00",
          "2021-03-21T00:00:00",
          "2021-03-22T00:00:00",
          "2021-03-23T00:00:00",
          "2021-03-25T00:00:00",
          "2021-04-06T00:00:00",
          "2021-04-07T00:00:00",
          "2021-04-08T00:00:00",
          "2021-04-09T00:00:00",
          "2021-04-10T00:00:00",
          "2021-04-11T00:00:00",
          "2021-04-12T00:00:00",
          "2021-04-13T00:00:00",
          "2021-04-14T00:00:00",
          "2021-04-15T00:00:00",
          "2021-04-16T00:00:00",
          "2021-04-17T00:00:00",
          "2021-04-18T00:00:00",
          "2021-04-19T00:00:00",
          "2021-04-20T00:00:00",
          "2021-04-21T00:00:00",
          "2021-04-22T00:00:00",
          "2021-04-23T00:00:00",
          "2021-04-24T00:00:00",
          "2021-04-25T00:00:00",
          "2021-04-26T00:00:00",
          "2021-04-27T00:00:00",
          "2021-04-28T00:00:00",
          "2021-04-29T00:00:00",
          "2021-04-30T00:00:00",
          "2021-05-01T00:00:00",
          "2021-05-02T00:00:00",
          "2021-05-03T00:00:00",
          "2021-05-04T00:00:00",
          "2021-05-05T00:00:00",
          "2021-05-06T00:00:00",
          "2021-05-07T00:00:00",
          "2021-05-08T00:00:00",
          "2021-05-09T00:00:00",
          "2021-05-10T00:00:00",
          "2021-05-11T00:00:00",
          "2021-05-12T00:00:00",
          "2021-05-13T00:00:00",
          "2021-05-14T00:00:00",
          "2021-05-15T00:00:00",
          "2021-05-16T00:00:00",
          "2021-05-17T00:00:00",
          "2021-05-18T00:00:00",
          "2021-05-19T00:00:00",
          "2021-05-20T00:00:00",
          "2021-05-21T00:00:00",
          "2021-05-22T00:00:00",
          "2021-05-23T00:00:00",
          "2021-05-24T00:00:00",
          "2021-05-25T00:00:00",
          "2021-05-26T00:00:00",
          "2021-05-27T00:00:00",
          "2021-05-28T00:00:00",
          "2021-05-29T00:00:00",
          "2021-05-30T00:00:00",
          "2021-06-08T00:00:00",
          "2021-06-12T00:00:00",
          "2021-06-14T00:00:00",
          "2021-06-26T00:00:00",
          "2021-07-06T00:00:00",
          "2021-07-10T00:00:00",
          "2021-07-12T00:00:00",
          "2021-07-25T00:00:00",
          "2021-08-07T00:00:00",
          "2021-08-11T00:00:00",
          "2021-08-13T00:00:00",
          "2021-08-26T00:00:00",
          "2021-09-06T00:00:00",
          "2021-09-10T00:00:00",
          "2021-09-12T00:00:00",
          "2021-09-27T00:00:00",
          "2021-10-08T00:00:00",
          "2021-10-12T00:00:00",
          "2021-10-14T00:00:00",
          "2021-10-15T00:00:00",
          "2021-10-21T00:00:00",
          "2021-10-26T00:00:00",
          "2021-11-11T00:00:00",
          "2021-11-14T00:00:00",
          "2021-11-20T00:00:00",
          "2021-11-26T00:00:00",
          "2021-12-08T00:00:00",
          "2021-12-10T00:00:00",
          "2021-12-13T00:00:00",
          "2021-12-19T00:00:00",
          "2021-12-22T00:00:00",
          "2021-12-25T00:00:00"
         ],
         "xaxis": "x",
         "y": [
          85029,
          109627,
          109314.5,
          75281,
          70559.5,
          109842,
          94561,
          98208,
          103873,
          69282,
          57666,
          98183.5,
          103393,
          53830.71484375,
          98313,
          75127,
          51440,
          114933.640625,
          132917,
          34478.55078125,
          92640,
          61404,
          46232,
          115277.5,
          117925,
          97798,
          98067,
          66672,
          51875.5,
          69594,
          138042,
          121212,
          127380,
          87014,
          69037.5,
          184125,
          153755.5,
          138198,
          126896,
          92034,
          109479,
          146647,
          59421.21484375,
          176951,
          128185,
          97798,
          115620.9296875,
          123136,
          42683.41015625,
          153744,
          103707,
          88415.203125,
          111175.203125,
          138599,
          127270,
          141420,
          92378,
          86685,
          98896,
          123132,
          62706.1015625,
          133008,
          87275.5,
          87320.5,
          106006.5,
          146224,
          155893,
          172845,
          49158.85546875,
          109949.5,
          113180,
          127542.203125,
          105467.1328125,
          87561.6640625,
          43382.33203125,
          92290,
          102445,
          106181.6640625,
          82856,
          78599.3359375,
          102124,
          97749.3359375,
          102901,
          102297,
          86716.6640625,
          73994.6640625,
          67106.4453125,
          98453.3359375,
          54889.8671875,
          104928,
          109634.3359375,
          82716.3359375,
          100476.53125,
          136830,
          51106.265625,
          113485.6640625,
          113358.3359375,
          86727.6640625,
          78738.3359375,
          142230.671875,
          142524,
          131150,
          130966.3359375,
          98386,
          87353.3359375,
          181557.328125,
          148602.671875,
          85909.5703125,
          131055.3359375,
          102476,
          122402,
          159467,
          157620,
          163198.328125,
          126950.6640625,
          117823.6640625,
          141815.328125,
          87483.3984375,
          148664.328125,
          163382,
          122332,
          131774.265625,
          136011.328125,
          82525.6015625,
          140064,
          154394.671875,
          113496,
          109309.6640625,
          126468,
          147660,
          144899.671875,
          158816,
          117749.3359375,
          113521.6640625,
          126318,
          159271,
          157770,
          173082,
          92533.7109375,
          122710,
          130999,
          164340.671875,
          86523.9140625,
          146331.75,
          85053.4140625,
          111203.890625,
          92924.4140625,
          152704.171875,
          119364,
          118159.71875,
          81139.5859375,
          150357.171875,
          111436.5,
          123006.5,
          60114.83203125,
          141830.671875,
          54786.5,
          97320.9453125,
          58620.5,
          149941.421875,
          35168.69921875,
          107457,
          34120.33203125,
          82572.6640625,
          148584.828125,
          107121.0859375,
          51202.27734375,
          109765.4453125,
          193119.25,
          182260,
          128613,
          96770.390625,
          73916.1640625,
          153053.828125
         ],
         "yaxis": "y"
        },
        {
         "hovertemplate": "Retailer=Amazon<br>Invoice Date=%{x}<br>Total Sales=%{y}<extra></extra>",
         "legendgroup": "Amazon",
         "line": {
          "color": "#19d3f3",
          "dash": "solid"
         },
         "marker": {
          "symbol": "circle"
         },
         "mode": "lines",
         "name": "Amazon",
         "showlegend": true,
         "type": "scattergl",
         "x": [
          "2021-01-13T00:00:00",
          "2021-01-14T00:00:00",
          "2021-01-21T00:00:00",
          "2021-01-22T00:00:00",
          "2021-01-24T00:00:00",
          "2021-02-11T00:00:00",
          "2021-02-12T00:00:00",
          "2021-02-19T00:00:00",
          "2021-02-22T00:00:00",
          "2021-03-09T00:00:00",
          "2021-03-10T00:00:00",
          "2021-03-17T00:00:00",
          "2021-03-20T00:00:00",
          "2021-03-21T00:00:00",
          "2021-04-10T00:00:00",
          "2021-04-11T00:00:00",
          "2021-04-18T00:00:00",
          "2021-04-21T00:00:00",
          "2021-04-22T00:00:00",
          "2021-05-09T00:00:00",
          "2021-05-10T00:00:00",
          "2021-05-17T00:00:00",
          "2021-05-20T00:00:00",
          "2021-05-23T00:00:00",
          "2021-06-11T00:00:00",
          "2021-06-12T00:00:00",
          "2021-06-19T00:00:00",
          "2021-06-22T00:00:00",
          "2021-07-09T00:00:00",
          "2021-07-10T00:00:00",
          "2021-07-17T00:00:00",
          "2021-07-20T00:00:00",
          "2021-07-21T00:00:00",
          "2021-08-10T00:00:00",
          "2021-08-11T00:00:00",
          "2021-08-18T00:00:00",
          "2021-08-21T00:00:00",
          "2021-08-22T00:00:00",
          "2021-09-09T00:00:00",
          "2021-09-10T00:00:00",
          "2021-09-17T00:00:00",
          "2021-09-20T00:00:00",
          "2021-09-23T00:00:00",
          "2021-10-11T00:00:00",
          "2021-10-12T00:00:00",
          "2021-10-13T00:00:00",
          "2021-10-14T00:00:00",
          "2021-10-15T00:00:00",
          "2021-10-16T00:00:00",
          "2021-10-17T00:00:00",
          "2021-10-18T00:00:00",
          "2021-10-19T00:00:00",
          "2021-10-20T00:00:00",
          "2021-10-21T00:00:00",
          "2021-10-22T00:00:00",
          "2021-10-23T00:00:00",
          "2021-10-24T00:00:00",
          "2021-10-25T00:00:00",
          "2021-10-26T00:00:00",
          "2021-10-27T00:00:00",
          "2021-10-28T00:00:00",
          "2021-10-29T00:00:00",
          "2021-10-30T00:00:00",
          "2021-10-31T00:00:00",
          "2021-11-01T00:00:00",
          "2021-11-02T00:00:00",
          "2021-11-03T00:00:00",
          "2021-11-04T00:00:00",
          "2021-11-05T00:00:00",
          "2021-11-06T00:00:00",
          "2021-11-07T00:00:00",
          "2021-11-08T00:00:00",
          "2021-11-09T00:00:00",
          "2021-11-10T00:00:00",
          "2021-11-11T00:00:00",
          "2021-11-12T00:00:00",
          "2021-11-13T00:00:00",
          "2021-11-14T00:00:00",
          "2021-11-15T00:00:00",
          "2021-11-16T00:00:00",
          "2021-11-17T00:00:00",
          "2021-11-18T00:00:00",
          "2021-11-19T00:00:00",
          "2021-11-20T00:00:00",
          "2021-11-21T00:00:00",
          "2021-11-22T00:00:00",
          "2021-12-02T00:00:00",
          "2021-12-09T00:00:00",
          "2021-12-10T00:00:00",
          "2021-12-13T00:00:00",
          "2021-12-17T00:00:00",
          "2021-12-20T00:00:00",
          "2021-12-21T00:00:00",
          "2021-12-22T00:00:00",
          "2021-12-23T00:00:00",
          "2021-12-24T00:00:00",
          "2021-12-25T00:00:00",
          "2021-12-26T00:00:00",
          "2021-12-27T00:00:00",
          "2021-12-28T00:00:00",
          "2021-12-29T00:00:00",
          "2021-12-30T00:00:00",
          "2021-12-31T00:00:00"
         ],
         "xaxis": "x",
         "y": [
          99054.25,
          48881.609375,
          54241.77734375,
          58281.33203125,
          84684,
          91172.75,
          45839.22265625,
          57652.77734375,
          70362.5859375,
          71415.5,
          42229.5,
          51365.109375,
          75982.5,
          56253.08203125,
          74381.1640625,
          40417.77734375,
          49363.4453125,
          70836.5,
          48692.75,
          125740.6640625,
          69606.28125,
          81032.890625,
          110738.75,
          61484.41796875,
          167515.671875,
          81375.109375,
          93713.890625,
          96447.2109375,
          209187.5,
          86464.5,
          99453.890625,
          137833.921875,
          86873.25,
          187231,
          76936.5546875,
          88858.0546875,
          122451.0859375,
          84495.6640625,
          113064.75,
          59487.0546875,
          70136.703125,
          94852.9140625,
          67142.0859375,
          91670.8359375,
          59208.5546875,
          35163.33203125,
          26224.333984375,
          33660,
          38487,
          51292,
          102660,
          56418.78515625,
          30870,
          13448,
          73572.8828125,
          51165.5,
          96476.5,
          35897,
          30702,
          8958,
          25710.5,
          40900,
          92257,
          30814,
          23094,
          13471.5,
          19220,
          46228.5,
          139869,
          51440,
          40362,
          28822,
          42321,
          135332.921875,
          89361.3671875,
          70598,
          46218,
          63422.1484375,
          49450,
          99880,
          154896.5,
          71744.2109375,
          51979.5,
          40321,
          112399.359375,
          72091.5,
          242878.75,
          263007.5,
          94673.78125,
          82336.9453125,
          89544.0859375,
          160046.671875,
          148050,
          77205,
          52019,
          40420.5,
          42357,
          99957,
          126983,
          64110,
          34529,
          28881,
          35311
         ],
         "yaxis": "y"
        }
       ],
       "layout": {
        "legend": {
         "title": {
          "text": "Retailer"
         },
         "tracegroupgap": 0
        },
        "margin": {
         "t": 60
        },
        "template": {
         "data": {
          "bar": [
           {
            "error_x": {
             "color": "#2a3f5f"
            },
            "error_y": {
             "color": "#2a3f5f"
            },
            "marker": {
             "line": {
              "color": "#E5ECF6",
              "width": 0.5
             },
             "pattern": {
              "fillmode": "overlay",
              "size": 10,
              "solidity": 0.2
             }
            },
            "type": "bar"
           }
          ],
          "barpolar": [
           {
            "marker": {
             "line": {
              "color": "#E5ECF6",
              "width": 0.5
             },
             "pattern": {
              "fillmode": "overlay",
              "size": 10,
              "solidity": 0.2
             }
            },
            "type": "barpolar"
           }
          ],
          "carpet": [
           {
            "aaxis": {
             "endlinecolor": "#2a3f5f",
             "gridcolor": "white",
             "linecolor": "white",
             "minorgridcolor": "white",
             "startlinecolor": "#2a3f5f"
            },
            "baxis": {
             "endlinecolor": "#2a3f5f",
             "gridcolor": "white",
             "linecolor": "white",
             "minorgridcolor": "white",
             "startlinecolor": "#2a3f5f"
            },
            "type": "carpet"
           }
          ],
          "choropleth": [
           {
            "colorbar": {
             "outlinewidth": 0,
             "ticks": ""
            },
            "type": "choropleth"
           }
          ],
          "contour": [
           {
            "colorbar": {
             "outlinewidth": 0,
             "ticks": ""
            },
            "colorscale": [
             [
              0,
              "#0d0887"
             ],
             [
              0.1111111111111111,
              "#46039f"
             ],
             [
              0.2222222222222222,
              "#7201a8"
             ],
             [
              0.3333333333333333,
              "#9c179e"
             ],
             [
              0.4444444444444444,
              "#bd3786"
             ],
             [
              0.5555555555555556,
              "#d8576b"
             ],
             [
              0.6666666666666666,
              "#ed7953"
             ],
             [
              0.7777777777777778,
              "#fb9f3a"
             ],
             [
              0.8888888888888888,
              "#fdca26"
             ],
             [
              1,
              "#f0f921"
             ]
            ],
            "type": "contour"
           }
          ],
          "contourcarpet": [
           {
            "colorbar": {
             "outlinewidth": 0,
             "ticks": ""
            },
            "type": "contourcarpet"
           }
          ],
          "heatmap": [
           {
            "colorbar": {
             "outlinewidth": 0,
             "ticks": ""
            },
            "colorscale": [
             [
              0,
              "#0d0887"
             ],
             [
              0.1111111111111111,
              "#46039f"
             ],
             [
              0.2222222222222222,
              "#7201a8"
             ],
             [
              0.3333333333333333,
              "#9c179e"
             ],
             [
              0.4444444444444444,
              "#bd3786"
             ],
             [
              0.5555555555555556,
              "#d8576b"
             ],
             [
              0.6666666666666666,
              "#ed7953"
             ],
             [
              0.7777777777777778,
              "#fb9f3a"
             ],
             [
              0.8888888888888888,
              "#fdca26"
             ],
             [
              1,
              "#f0f921"
             ]
            ],
            "type": "heatmap"
           }
          ],
          "heatmapgl": [
           {
            "colorbar": {
             "outlinewidth": 0,
             "ticks": ""
            },
            "colorscale": [
             [
              0,
              "#0d0887"
             ],
             [
              0.1111111111111111,
              "#46039f"
             ],
             [
              0.2222222222222222,
              "#7201a8"
             ],
             [
              0.3333333333333333,
              "#9c179e"
             ],
             [
              0.4444444444444444,
              "#bd3786"
             ],
             [
              0.5555555555555556,
              "#d8576b"
             ],
             [
              0.6666666666666666,
              "#ed7953"
             ],
             [
              0.7777777777777778,
              "#fb9f3a"
             ],
             [
              0.8888888888888888,
              "#fdca26"
             ],
             [
              1,
              "#f0f921"
             ]
            ],
            "type": "heatmapgl"
           }
          ],
          "histogram": [
           {
            "marker": {
             "pattern": {
              "fillmode": "overlay",
              "size": 10,
              "solidity": 0.2
             }
            },
            "type": "histogram"
           }
          ],
          "histogram2d": [
           {
            "colorbar": {
             "outlinewidth": 0,
             "ticks": ""
            },
            "colorscale": [
             [
              0,
              "#0d0887"
             ],
             [
              0.1111111111111111,
              "#46039f"
             ],
             [
              0.2222222222222222,
              "#7201a8"
             ],
             [
              0.3333333333333333,
              "#9c179e"
             ],
             [
              0.4444444444444444,
              "#bd3786"
             ],
             [
              0.5555555555555556,
              "#d8576b"
             ],
             [
              0.6666666666666666,
              "#ed7953"
             ],
             [
              0.7777777777777778,
              "#fb9f3a"
             ],
             [
              0.8888888888888888,
              "#fdca26"
             ],
             [
              1,
              "#f0f921"
             ]
            ],
            "type": "histogram2d"
           }
          ],
          "histogram2dcontour": [
           {
            "colorbar": {
             "outlinewidth": 0,
             "ticks": ""
            },
            "colorscale": [
             [
              0,
              "#0d0887"
             ],
             [
              0.1111111111111111,
              "#46039f"
             ],
             [
              0.2222222222222222,
              "#7201a8"
             ],
             [
              0.3333333333333333,
              "#9c179e"
             ],
             [
              0.4444444444444444,
              "#bd3786"
             ],
             [
              0.5555555555555556,
              "#d8576b"
             ],
             [
              0.6666666666666666,
              "#ed7953"
             ],
             [
              0.7777777777777778,
              "#fb9f3a"
             ],
             [
              0.8888888888888888,
              "#fdca26"
             ],
             [
              1,
              "#f0f921"
             ]
            ],
            "type": "histogram2dcontour"
           }
          ],
          "mesh3d": [
           {
            "colorbar": {
             "outlinewidth": 0,
             "ticks": ""
            },
            "type": "mesh3d"
           }
          ],
          "parcoords": [
           {
            "line": {
             "colorbar": {
              "outlinewidth": 0,
              "ticks": ""
             }
            },
            "type": "parcoords"
           }
          ],
          "pie": [
           {
            "automargin": true,
            "type": "pie"
           }
          ],
          "scatter": [
           {
            "fillpattern": {
             "fillmode": "overlay",
             "size": 10,
             "solidity": 0.2
            },
            "type": "scatter"
           }
          ],
          "scatter3d": [
           {
            "line": {
             "colorbar": {
              "outlinewidth": 0,
              "ticks": ""
             }
            },
            "marker": {
             "colorbar": {
              "outlinewidth": 0,
              "ticks": ""
             }
            },
            "type": "scatter3d"
           }
          ],
          "scattercarpet": [
           {
            "marker": {
             "colorbar": {
              "outlinewidth": 0,
              "ticks": ""
             }
            },
            "type": "scattercarpet"
           }
          ],
          "scattergeo": [
           {
            "marker": {
             "colorbar": {
              "outlinewidth": 0,
              "ticks": ""
             }
            },
            "type": "scattergeo"
           }
          ],
          "scattergl": [
           {
            "marker": {
             "colorbar": {
              "outlinewidth": 0,
              "ticks": ""
             }
            },
            "type": "scattergl"
           }
          ],
          "scattermapbox": [
           {
            "marker": {
             "colorbar": {
              "outlinewidth": 0,
              "ticks": ""
             }
            },
            "type": "scattermapbox"
           }
          ],
          "scatterpolar": [
           {
            "marker": {
             "colorbar": {
              "outlinewidth": 0,
              "ticks": ""
             }
            },
            "type": "scatterpolar"
           }
          ],
          "scatterpolargl": [
           {
            "marker": {
             "colorbar": {
              "outlinewidth": 0,
              "ticks": ""
             }
            },
            "type": "scatterpolargl"
           }
          ],
          "scatterternary": [
           {
            "marker": {
             "colorbar": {
              "outlinewidth": 0,
              "ticks": ""
             }
            },
            "type": "scatterternary"
           }
          ],
          "surface": [
           {
            "colorbar": {
             "outlinewidth": 0,
             "ticks": ""
            },
            "colorscale": [
             [
              0,
              "#0d0887"
             ],
             [
              0.1111111111111111,
              "#46039f"
             ],
             [
              0.2222222222222222,
              "#7201a8"
             ],
             [
              0.3333333333333333,
              "#9c179e"
             ],
             [
              0.4444444444444444,
              "#bd3786"
             ],
             [
              0.5555555555555556,
              "#d8576b"
             ],
             [
              0.6666666666666666,
              "#ed7953"
             ],
             [
              0.7777777777777778,
              "#fb9f3a"
             ],
             [
              0.8888888888888888,
              "#fdca26"
             ],
             [
              1,
              "#f0f921"
             ]
            ],
            "type": "surface"
           }
          ],
          "table": [
           {
            "cells": {
             "fill": {
              "color": "#EBF0F8"
             },
             "line": {
              "color": "white"
             }
            },
            "header": {
             "fill": {
              "color": "#C8D4E3"
             },
             "line": {
              "color": "white"
             }
            },
            "type": "table"
           }
          ]
         },
         "layout": {
          "annotationdefaults": {
           "arrowcolor": "#2a3f5f",
           "arrowhead": 0,
           "arrowwidth": 1
          },
          "autotypenumbers": "strict",
          "coloraxis": {
           "colorbar": {
            "outlinewidth": 0,
            "ticks": ""
           }
          },
          "colorscale": {
           "diverging": [
            [
             0,
             "#8e0152"
            ],
            [
             0.1,
             "#c51b7d"
            ],
            [
             0.2,
             "#de77ae"
            ],
            [
             0.3,
             "#f1b6da"
            ],
            [
             0.4,
             "#fde0ef"
            ],
            [
             0.5,
             "#f7f7f7"
            ],
            [
             0.6,
             "#e6f5d0"
            ],
            [
             0.7,
             "#b8e186"
            ],
            [
             0.8,
             "#7fbc41"
            ],
            [
             0.9,
             "#4d9221"
            ],
            [
             1,
             "#276419"
            ]
           ],
           "sequential": [
            [
             0,
             "#0d0887"
            ],
            [
             0.1111111111111111,
             "#46039f"
            ],
            [
             0.2222222222222222,
             "#7201a8"
            ],
            [
             0.3333333333333333,
             "#9c179e"
            ],
            [
             0.4444444444444444,
             "#bd3786"
            ],
            [
             0.5555555555555556,
             "#d8576b"
            ],
            [
             0.6666666666666666,
             "#ed7953"
            ],
            [
             0.7777777777777778,
             "#fb9f3a"
            ],
            [
             0.8888888888888888,
             "#fdca26"
            ],
            [
             1,
             "#f0f921"
            ]
           ],
           "sequentialminus": [
            [
             0,
             "#0d0887"
            ],
            [
             0.1111111111111111,
             "#46039f"
            ],
            [
             0.2222222222222222,
             "#7201a8"
            ],
            [
             0.3333333333333333,
             "#9c179e"
            ],
            [
             0.4444444444444444,
             "#bd3786"
            ],
            [
             0.5555555555555556,
             "#d8576b"
            ],
            [
             0.6666666666666666,
             "#ed7953"
            ],
            [
             0.7777777777777778,
             "#fb9f3a"
            ],
            [
             0.8888888888888888,
             "#fdca26"
            ],
            [
             1,
             "#f0f921"
            ]
           ]
          },
          "colorway": [
           "#636efa",
           "#EF553B",
           "#00cc96",
           "#ab63fa",
           "#FFA15A",
           "#19d3f3",
           "#FF6692",
           "#B6E880",
           "#FF97FF",
           "#FECB52"
          ],
          "font": {
           "color": "#2a3f5f"
          },
          "geo": {
           "bgcolor": "white",
           "lakecolor": "white",
           "landcolor": "#E5ECF6",
           "showlakes": true,
           "showland": true,
           "subunitcolor": "white"
          },
          "hoverlabel": {
           "align": "left"
          },
          "hovermode": "closest",
          "mapbox": {
           "style": "light"
          },
          "paper_bgcolor": "white",
          "plot_bgcolor": "#E5ECF6",
          "polar": {
           "angularaxis": {
            "gridcolor": "white",
            "linecolor": "white",
            "ticks": ""
           },
           "bgcolor": "#E5ECF6",
           "radialaxis": {
            "gridcolor": "white",
            "linecolor": "white",
            "ticks": ""
           }
          },
          "scene": {
           "xaxis": {
            "backgroundcolor": "#E5ECF6",
            "gridcolor": "white",
            "gridwidth": 2,
            "linecolor": "white",
            "showbackground": true,
            "ticks": "",
            "zerolinecolor": "white"
           },
           "yaxis": {
            "backgroundcolor": "#E5ECF6",
            "gridcolor": "white",
            "gridwidth": 2,
            "linecolor": "white",
            "showbackground": true,
            "ticks": "",
            "zerolinecolor": "white"
           },
           "zaxis": {
            "backgroundcolor": "#E5ECF6",
            "gridcolor": "white",
            "gridwidth": 2,
            "linecolor": "white",
            "showbackground": true,
            "ticks": "",
            "zerolinecolor": "white"
           }
          },
          "shapedefaults": {
           "line": {
            "color": "#2a3f5f"
           }
          },
          "ternary": {
           "aaxis": {
            "gridcolor": "white",
            "linecolor": "white",
            "ticks": ""
           },
           "baxis": {
            "gridcolor": "white",
            "linecolor": "white",
            "ticks": ""
           },
           "bgcolor": "#E5ECF6",
           "caxis": {
            "gridcolor": "white",
            "linecolor": "white",
            "ticks": ""
           }
          },
          "title": {
           "x": 0.05
          },
          "xaxis": {
           "automargin": true,
           "gridcolor": "white",
           "linecolor": "white",
           "ticks": "",
           "title": {
            "standoff": 15
           },
           "zerolinecolor": "white",
           "zerolinewidth": 2
          },
          "yaxis": {
           "automargin": true,
           "gridcolor": "white",
           "linecolor": "white",
           "ticks": "",
           "title": {
            "standoff": 15
           },
           "zerolinecolor": "white",
           "zerolinewidth": 2
          }
         }
        },
        "xaxis": {
         "anchor": "y",
         "domain": [
          0,
          1
         ],
         "title": {
          "text": "Invoice Date"
         }
        },
        "yaxis": {
         "anchor": "x",
         "domain": [
          0,
          1
         ],
         "title": {
          "text": "Total Sales"
         }
        }
       }
      }
     },
     "metadata": {},
     "output_type": "display_data"
    }
   ],
   "source": [
    "px.line(df_2, x = \"Invoice Date\", y = \"Total Sales\", color = \"Retailer\")"
   ]
  },
  {
   "cell_type": "code",
   "execution_count": 46,
   "id": "1c8d8136",
   "metadata": {},
   "outputs": [
    {
     "data": {
      "text/html": [
       "<div>\n",
       "<style scoped>\n",
       "    .dataframe tbody tr th:only-of-type {\n",
       "        vertical-align: middle;\n",
       "    }\n",
       "\n",
       "    .dataframe tbody tr th {\n",
       "        vertical-align: top;\n",
       "    }\n",
       "\n",
       "    .dataframe thead th {\n",
       "        text-align: right;\n",
       "    }\n",
       "</style>\n",
       "<table border=\"1\" class=\"dataframe\">\n",
       "  <thead>\n",
       "    <tr style=\"text-align: right;\">\n",
       "      <th></th>\n",
       "      <th>Invoice Date</th>\n",
       "      <th>Retailer</th>\n",
       "      <th>Total Sales</th>\n",
       "    </tr>\n",
       "  </thead>\n",
       "  <tbody>\n",
       "    <tr>\n",
       "      <th>2</th>\n",
       "      <td>2020-01-02</td>\n",
       "      <td>West Gear</td>\n",
       "      <td>55223.332031</td>\n",
       "    </tr>\n",
       "    <tr>\n",
       "      <th>4</th>\n",
       "      <td>2020-01-03</td>\n",
       "      <td>West Gear</td>\n",
       "      <td>70791.000000</td>\n",
       "    </tr>\n",
       "    <tr>\n",
       "      <th>6</th>\n",
       "      <td>2020-01-04</td>\n",
       "      <td>West Gear</td>\n",
       "      <td>70779.000000</td>\n",
       "    </tr>\n",
       "    <tr>\n",
       "      <th>8</th>\n",
       "      <td>2020-01-05</td>\n",
       "      <td>West Gear</td>\n",
       "      <td>47267.000000</td>\n",
       "    </tr>\n",
       "    <tr>\n",
       "      <th>10</th>\n",
       "      <td>2020-01-06</td>\n",
       "      <td>West Gear</td>\n",
       "      <td>43750.000000</td>\n",
       "    </tr>\n",
       "    <tr>\n",
       "      <th>...</th>\n",
       "      <td>...</td>\n",
       "      <td>...</td>\n",
       "      <td>...</td>\n",
       "    </tr>\n",
       "    <tr>\n",
       "      <th>1316</th>\n",
       "      <td>2021-12-10</td>\n",
       "      <td>West Gear</td>\n",
       "      <td>62364.054688</td>\n",
       "    </tr>\n",
       "    <tr>\n",
       "      <th>1330</th>\n",
       "      <td>2021-12-16</td>\n",
       "      <td>West Gear</td>\n",
       "      <td>180590.906250</td>\n",
       "    </tr>\n",
       "    <tr>\n",
       "      <th>1333</th>\n",
       "      <td>2021-12-17</td>\n",
       "      <td>West Gear</td>\n",
       "      <td>82681.250000</td>\n",
       "    </tr>\n",
       "    <tr>\n",
       "      <th>1337</th>\n",
       "      <td>2021-12-19</td>\n",
       "      <td>West Gear</td>\n",
       "      <td>114174.218750</td>\n",
       "    </tr>\n",
       "    <tr>\n",
       "      <th>1348</th>\n",
       "      <td>2021-12-23</td>\n",
       "      <td>West Gear</td>\n",
       "      <td>156750.671875</td>\n",
       "    </tr>\n",
       "  </tbody>\n",
       "</table>\n",
       "<p>388 rows × 3 columns</p>\n",
       "</div>"
      ],
      "text/plain": [
       "     Invoice Date   Retailer    Total Sales\n",
       "2      2020-01-02  West Gear   55223.332031\n",
       "4      2020-01-03  West Gear   70791.000000\n",
       "6      2020-01-04  West Gear   70779.000000\n",
       "8      2020-01-05  West Gear   47267.000000\n",
       "10     2020-01-06  West Gear   43750.000000\n",
       "...           ...        ...            ...\n",
       "1316   2021-12-10  West Gear   62364.054688\n",
       "1330   2021-12-16  West Gear  180590.906250\n",
       "1333   2021-12-17  West Gear   82681.250000\n",
       "1337   2021-12-19  West Gear  114174.218750\n",
       "1348   2021-12-23  West Gear  156750.671875\n",
       "\n",
       "[388 rows x 3 columns]"
      ]
     },
     "execution_count": 46,
     "metadata": {},
     "output_type": "execute_result"
    }
   ],
   "source": [
    "west = df_2[df_2[\"Retailer\"] == \"West Gear\"]\n",
    "locker = df_2[df_2[\"Retailer\"] == \"Foot Locker\"]\n",
    "west"
   ]
  },
  {
   "cell_type": "code",
   "execution_count": 47,
   "id": "ccb556a9",
   "metadata": {},
   "outputs": [],
   "source": [
    "from plotly.subplots import make_subplots\n",
    "import plotly.graph_objects as go"
   ]
  },
  {
   "cell_type": "code",
   "execution_count": 48,
   "id": "f56fb929",
   "metadata": {},
   "outputs": [
    {
     "name": "stderr",
     "output_type": "stream",
     "text": [
      "c:\\ProgramData\\Anaconda3\\lib\\site-packages\\plotly\\graph_objs\\_deprecations.py:378: DeprecationWarning:\n",
      "\n",
      "plotly.graph_objs.Line is deprecated.\n",
      "Please replace it with one of the following more specific types\n",
      "  - plotly.graph_objs.scatter.Line\n",
      "  - plotly.graph_objs.layout.shape.Line\n",
      "  - etc.\n",
      "\n",
      "\n"
     ]
    },
    {
     "data": {
      "application/vnd.plotly.v1+json": {
       "config": {
        "plotlyServerURL": "https://plot.ly"
       },
       "data": [
        {
         "type": "scatter",
         "x": [
          "2020-01-02T00:00:00",
          "2020-01-03T00:00:00",
          "2020-01-04T00:00:00",
          "2020-01-05T00:00:00",
          "2020-01-06T00:00:00",
          "2020-01-07T00:00:00",
          "2020-01-08T00:00:00",
          "2020-01-09T00:00:00",
          "2020-01-10T00:00:00",
          "2020-01-11T00:00:00",
          "2020-01-12T00:00:00",
          "2020-01-13T00:00:00",
          "2020-01-14T00:00:00",
          "2020-01-15T00:00:00",
          "2020-01-16T00:00:00",
          "2020-01-17T00:00:00",
          "2020-01-18T00:00:00",
          "2020-01-19T00:00:00",
          "2020-01-20T00:00:00",
          "2020-01-21T00:00:00",
          "2020-01-22T00:00:00",
          "2020-01-23T00:00:00",
          "2020-01-24T00:00:00",
          "2020-01-25T00:00:00",
          "2020-01-26T00:00:00",
          "2020-01-27T00:00:00",
          "2020-01-28T00:00:00",
          "2020-01-29T00:00:00",
          "2020-01-30T00:00:00",
          "2020-01-31T00:00:00",
          "2020-02-01T00:00:00",
          "2020-02-02T00:00:00",
          "2020-02-03T00:00:00",
          "2020-02-04T00:00:00",
          "2020-02-05T00:00:00",
          "2020-02-06T00:00:00",
          "2020-02-07T00:00:00",
          "2020-02-08T00:00:00",
          "2020-02-09T00:00:00",
          "2020-02-10T00:00:00",
          "2020-02-11T00:00:00",
          "2020-02-12T00:00:00",
          "2020-02-13T00:00:00",
          "2020-02-14T00:00:00",
          "2020-02-15T00:00:00",
          "2020-02-16T00:00:00",
          "2020-02-17T00:00:00",
          "2020-02-18T00:00:00",
          "2020-02-19T00:00:00",
          "2020-02-20T00:00:00",
          "2020-02-21T00:00:00",
          "2020-02-22T00:00:00",
          "2020-02-23T00:00:00",
          "2020-02-24T00:00:00",
          "2020-02-25T00:00:00",
          "2020-02-26T00:00:00",
          "2020-02-27T00:00:00",
          "2020-02-28T00:00:00",
          "2020-03-01T00:00:00",
          "2020-03-02T00:00:00",
          "2020-03-03T00:00:00",
          "2020-03-04T00:00:00",
          "2020-03-05T00:00:00",
          "2020-03-06T00:00:00",
          "2020-03-07T00:00:00",
          "2020-03-08T00:00:00",
          "2020-03-09T00:00:00",
          "2020-03-10T00:00:00",
          "2020-03-11T00:00:00",
          "2020-03-12T00:00:00",
          "2020-03-13T00:00:00",
          "2020-03-14T00:00:00",
          "2020-03-15T00:00:00",
          "2020-03-16T00:00:00",
          "2020-03-17T00:00:00",
          "2020-03-18T00:00:00",
          "2020-03-19T00:00:00",
          "2020-03-20T00:00:00",
          "2020-03-21T00:00:00",
          "2020-03-22T00:00:00",
          "2020-03-23T00:00:00",
          "2020-03-24T00:00:00",
          "2020-03-25T00:00:00",
          "2020-03-26T00:00:00",
          "2020-03-27T00:00:00",
          "2020-03-28T00:00:00",
          "2020-03-29T00:00:00",
          "2020-03-30T00:00:00",
          "2020-03-31T00:00:00",
          "2020-04-01T00:00:00",
          "2020-04-02T00:00:00",
          "2020-04-03T00:00:00",
          "2020-04-04T00:00:00",
          "2020-04-05T00:00:00",
          "2020-04-06T00:00:00",
          "2020-04-07T00:00:00",
          "2020-04-08T00:00:00",
          "2020-04-09T00:00:00",
          "2020-04-10T00:00:00",
          "2020-04-11T00:00:00",
          "2020-04-12T00:00:00",
          "2020-04-13T00:00:00",
          "2020-04-14T00:00:00",
          "2020-04-15T00:00:00",
          "2020-04-16T00:00:00",
          "2020-04-17T00:00:00",
          "2020-04-18T00:00:00",
          "2020-04-19T00:00:00",
          "2020-04-20T00:00:00",
          "2020-04-21T00:00:00",
          "2020-04-22T00:00:00",
          "2020-04-23T00:00:00",
          "2020-04-24T00:00:00",
          "2020-04-25T00:00:00",
          "2020-04-26T00:00:00",
          "2020-04-27T00:00:00",
          "2020-04-28T00:00:00",
          "2020-04-29T00:00:00",
          "2020-04-30T00:00:00",
          "2020-05-01T00:00:00",
          "2020-05-02T00:00:00",
          "2020-05-03T00:00:00",
          "2020-05-04T00:00:00",
          "2020-05-05T00:00:00",
          "2020-05-06T00:00:00",
          "2020-05-07T00:00:00",
          "2020-05-08T00:00:00",
          "2020-05-09T00:00:00",
          "2020-05-10T00:00:00",
          "2020-05-11T00:00:00",
          "2020-05-12T00:00:00",
          "2020-05-13T00:00:00",
          "2020-05-14T00:00:00",
          "2020-05-15T00:00:00",
          "2020-05-16T00:00:00",
          "2020-05-17T00:00:00",
          "2020-05-18T00:00:00",
          "2020-05-19T00:00:00",
          "2020-05-20T00:00:00",
          "2020-05-21T00:00:00",
          "2020-05-22T00:00:00",
          "2020-05-23T00:00:00",
          "2020-05-24T00:00:00",
          "2020-05-25T00:00:00",
          "2020-05-26T00:00:00",
          "2020-05-27T00:00:00",
          "2020-05-28T00:00:00",
          "2020-05-29T00:00:00",
          "2020-05-30T00:00:00",
          "2020-05-31T00:00:00",
          "2020-06-01T00:00:00",
          "2020-06-02T00:00:00",
          "2020-06-03T00:00:00",
          "2020-06-04T00:00:00",
          "2020-06-05T00:00:00",
          "2020-06-06T00:00:00",
          "2020-06-07T00:00:00",
          "2020-06-08T00:00:00",
          "2020-06-09T00:00:00",
          "2020-06-10T00:00:00",
          "2020-06-11T00:00:00",
          "2020-06-12T00:00:00",
          "2020-06-13T00:00:00",
          "2020-06-14T00:00:00",
          "2020-06-15T00:00:00",
          "2020-06-16T00:00:00",
          "2020-06-17T00:00:00",
          "2020-06-18T00:00:00",
          "2020-06-19T00:00:00",
          "2020-06-20T00:00:00",
          "2020-06-21T00:00:00",
          "2020-06-22T00:00:00",
          "2020-06-23T00:00:00",
          "2020-06-24T00:00:00",
          "2020-06-25T00:00:00",
          "2020-06-26T00:00:00",
          "2020-06-27T00:00:00",
          "2020-06-28T00:00:00",
          "2020-06-29T00:00:00",
          "2020-06-30T00:00:00",
          "2020-07-01T00:00:00",
          "2020-07-02T00:00:00",
          "2020-07-03T00:00:00",
          "2020-07-04T00:00:00",
          "2020-07-05T00:00:00",
          "2020-07-06T00:00:00",
          "2020-07-07T00:00:00",
          "2020-07-08T00:00:00",
          "2020-07-09T00:00:00",
          "2020-07-10T00:00:00",
          "2020-07-11T00:00:00",
          "2020-07-12T00:00:00",
          "2020-07-13T00:00:00",
          "2020-07-14T00:00:00",
          "2020-07-15T00:00:00",
          "2020-07-16T00:00:00",
          "2020-07-17T00:00:00",
          "2020-07-18T00:00:00",
          "2020-07-19T00:00:00",
          "2020-07-20T00:00:00",
          "2020-07-21T00:00:00",
          "2020-07-22T00:00:00",
          "2020-07-23T00:00:00",
          "2020-07-24T00:00:00",
          "2020-07-25T00:00:00",
          "2020-07-26T00:00:00",
          "2020-07-27T00:00:00",
          "2020-07-28T00:00:00",
          "2020-07-29T00:00:00",
          "2020-07-30T00:00:00",
          "2020-07-31T00:00:00",
          "2020-08-01T00:00:00",
          "2020-08-02T00:00:00",
          "2020-08-03T00:00:00",
          "2020-08-04T00:00:00",
          "2020-08-05T00:00:00",
          "2020-08-15T00:00:00",
          "2020-09-07T00:00:00",
          "2020-09-08T00:00:00",
          "2020-09-09T00:00:00",
          "2020-09-10T00:00:00",
          "2020-09-11T00:00:00",
          "2020-09-12T00:00:00",
          "2020-09-13T00:00:00",
          "2020-09-14T00:00:00",
          "2020-09-15T00:00:00",
          "2020-09-16T00:00:00",
          "2020-09-17T00:00:00",
          "2020-09-18T00:00:00",
          "2020-09-19T00:00:00",
          "2020-11-01T00:00:00",
          "2020-11-02T00:00:00",
          "2020-11-03T00:00:00",
          "2020-11-04T00:00:00",
          "2020-11-05T00:00:00",
          "2020-11-06T00:00:00",
          "2020-11-07T00:00:00",
          "2020-11-08T00:00:00",
          "2020-11-09T00:00:00",
          "2020-11-10T00:00:00",
          "2020-11-11T00:00:00",
          "2020-11-12T00:00:00",
          "2020-11-13T00:00:00",
          "2020-11-14T00:00:00",
          "2020-11-15T00:00:00",
          "2020-12-22T00:00:00",
          "2020-12-23T00:00:00",
          "2020-12-24T00:00:00",
          "2020-12-25T00:00:00",
          "2020-12-26T00:00:00",
          "2020-12-27T00:00:00",
          "2020-12-28T00:00:00",
          "2020-12-29T00:00:00",
          "2020-12-30T00:00:00",
          "2020-12-31T00:00:00",
          "2021-01-01T00:00:00",
          "2021-01-02T00:00:00",
          "2021-01-03T00:00:00",
          "2021-01-04T00:00:00",
          "2021-01-05T00:00:00",
          "2021-01-06T00:00:00",
          "2021-01-07T00:00:00",
          "2021-01-08T00:00:00",
          "2021-01-09T00:00:00",
          "2021-01-10T00:00:00",
          "2021-01-11T00:00:00",
          "2021-01-12T00:00:00",
          "2021-01-13T00:00:00",
          "2021-01-14T00:00:00",
          "2021-01-15T00:00:00",
          "2021-01-16T00:00:00",
          "2021-01-17T00:00:00",
          "2021-01-18T00:00:00",
          "2021-01-19T00:00:00",
          "2021-01-20T00:00:00",
          "2021-01-21T00:00:00",
          "2021-01-22T00:00:00",
          "2021-01-23T00:00:00",
          "2021-01-24T00:00:00",
          "2021-01-25T00:00:00",
          "2021-01-26T00:00:00",
          "2021-01-27T00:00:00",
          "2021-01-28T00:00:00",
          "2021-01-29T00:00:00",
          "2021-01-30T00:00:00",
          "2021-01-31T00:00:00",
          "2021-02-01T00:00:00",
          "2021-02-02T00:00:00",
          "2021-02-03T00:00:00",
          "2021-02-04T00:00:00",
          "2021-02-05T00:00:00",
          "2021-02-06T00:00:00",
          "2021-02-07T00:00:00",
          "2021-02-08T00:00:00",
          "2021-02-09T00:00:00",
          "2021-02-10T00:00:00",
          "2021-02-11T00:00:00",
          "2021-02-12T00:00:00",
          "2021-02-13T00:00:00",
          "2021-02-14T00:00:00",
          "2021-02-15T00:00:00",
          "2021-02-16T00:00:00",
          "2021-02-17T00:00:00",
          "2021-02-21T00:00:00",
          "2021-02-22T00:00:00",
          "2021-02-24T00:00:00",
          "2021-03-02T00:00:00",
          "2021-03-06T00:00:00",
          "2021-03-08T00:00:00",
          "2021-03-09T00:00:00",
          "2021-03-10T00:00:00",
          "2021-03-16T00:00:00",
          "2021-03-19T00:00:00",
          "2021-03-20T00:00:00",
          "2021-03-23T00:00:00",
          "2021-04-03T00:00:00",
          "2021-04-05T00:00:00",
          "2021-04-09T00:00:00",
          "2021-04-10T00:00:00",
          "2021-04-11T00:00:00",
          "2021-04-17T00:00:00",
          "2021-04-20T00:00:00",
          "2021-04-21T00:00:00",
          "2021-04-24T00:00:00",
          "2021-05-04T00:00:00",
          "2021-05-05T00:00:00",
          "2021-05-08T00:00:00",
          "2021-05-11T00:00:00",
          "2021-05-12T00:00:00",
          "2021-05-18T00:00:00",
          "2021-05-19T00:00:00",
          "2021-05-20T00:00:00",
          "2021-05-25T00:00:00",
          "2021-06-03T00:00:00",
          "2021-06-04T00:00:00",
          "2021-06-10T00:00:00",
          "2021-06-11T00:00:00",
          "2021-06-17T00:00:00",
          "2021-06-21T00:00:00",
          "2021-06-22T00:00:00",
          "2021-06-24T00:00:00",
          "2021-07-02T00:00:00",
          "2021-07-06T00:00:00",
          "2021-07-08T00:00:00",
          "2021-07-09T00:00:00",
          "2021-07-10T00:00:00",
          "2021-07-16T00:00:00",
          "2021-07-19T00:00:00",
          "2021-07-23T00:00:00",
          "2021-08-03T00:00:00",
          "2021-08-09T00:00:00",
          "2021-08-10T00:00:00",
          "2021-08-11T00:00:00",
          "2021-08-17T00:00:00",
          "2021-08-20T00:00:00",
          "2021-08-24T00:00:00",
          "2021-09-04T00:00:00",
          "2021-09-08T00:00:00",
          "2021-09-11T00:00:00",
          "2021-09-12T00:00:00",
          "2021-09-18T00:00:00",
          "2021-09-19T00:00:00",
          "2021-09-25T00:00:00",
          "2021-10-03T00:00:00",
          "2021-10-06T00:00:00",
          "2021-10-10T00:00:00",
          "2021-10-11T00:00:00",
          "2021-10-12T00:00:00",
          "2021-10-17T00:00:00",
          "2021-10-21T00:00:00",
          "2021-10-24T00:00:00",
          "2021-11-03T00:00:00",
          "2021-11-06T00:00:00",
          "2021-11-09T00:00:00",
          "2021-11-10T00:00:00",
          "2021-11-11T00:00:00",
          "2021-11-17T00:00:00",
          "2021-11-20T00:00:00",
          "2021-11-24T00:00:00",
          "2021-12-02T00:00:00",
          "2021-12-05T00:00:00",
          "2021-12-08T00:00:00",
          "2021-12-09T00:00:00",
          "2021-12-10T00:00:00",
          "2021-12-16T00:00:00",
          "2021-12-17T00:00:00",
          "2021-12-19T00:00:00",
          "2021-12-23T00:00:00"
         ],
         "xaxis": "x",
         "y": [
          55223.33203125,
          70791,
          70779,
          47267,
          43750,
          74991.3359375,
          64597.66796875,
          67276.3359375,
          66823,
          43185.33203125,
          34994,
          63032,
          86674,
          77069.3359375,
          76970.6640625,
          57671,
          36741.66796875,
          72054,
          115101.6640625,
          79720,
          90986.6640625,
          62675,
          45396.66796875,
          98017.3359375,
          115331.6640625,
          90466.6640625,
          91258.6640625,
          63355,
          45479.33203125,
          125926,
          147366.328125,
          125670.6640625,
          125275.3359375,
          89417.6640625,
          68238,
          167882,
          157942.671875,
          136666,
          124753.3359375,
          94291.6640625,
          113283.3359375,
          140560,
          159497.328125,
          159432,
          119415.3359375,
          107690,
          124411.3359375,
          111821.3359375,
          125790,
          136354,
          94431,
          83942.6640625,
          98274.6640625,
          117807.3359375,
          115255,
          125628.3359375,
          78732.3359375,
          73595.6640625,
          79246.3359375,
          98000.6640625,
          121015.6640625,
          131267.328125,
          88996.6640625,
          83908,
          85368.6640625,
          124518.6640625,
          142173.328125,
          153639.328125,
          99941,
          99740.3359375,
          98130.6640625,
          131873.328125,
          44641.33203125,
          59723,
          59271,
          38410.66796875,
          51773,
          97368,
          80518.5,
          87109,
          87337,
          56296,
          46247,
          82146,
          113052.5,
          102688,
          112958,
          84795,
          46092,
          98720,
          161102.5,
          108398,
          125321.5,
          84572,
          58239,
          133528,
          161102.5,
          125025,
          124766,
          84501,
          58261,
          194921,
          222603,
          191123,
          191675,
          150435,
          116753,
          273136.5,
          258339,
          225048,
          206643.5,
          158736.5,
          213917.3125,
          228468,
          259924,
          260023.5,
          197290.5,
          179252.5,
          192680,
          163700,
          199779,
          215796,
          149640,
          132950,
          154440,
          152195,
          147868.5,
          161604,
          98851,
          91627.5,
          99900,
          125912.5,
          162025,
          176625,
          120139,
          133480,
          144195,
          204745,
          233488.5,
          250824,
          166250,
          166437.5,
          163285,
          215137.5,
          92106,
          115644,
          115605,
          76911,
          70611.5,
          127875,
          112484,
          115578.5,
          115367,
          77088,
          63565,
          109079,
          147591,
          130835,
          141575,
          108345,
          62837,
          125130,
          197940,
          134374,
          154440,
          92475,
          66652,
          143432,
          169537.5,
          133240,
          133660,
          92655,
          66560,
          204687.5,
          288172.5,
          256956,
          255868,
          204687.5,
          163680,
          346418,
          338723.5,
          294337,
          272450,
          215343,
          249919,
          294862.5,
          338055,
          308085,
          240324.5,
          221360,
          221127.5,
          164104,
          214992,
          231177,
          161752.5,
          143752,
          173996,
          149753,
          169321,
          183166,
          115664,
          107842,
          116993,
          144210.5,
          184374,
          208765,
          145848,
          161536.5,
          196137.5,
          267322,
          307332,
          326257.5,
          225037,
          225244,
          219203,
          279575,
          138211,
          205096,
          198849.5,
          259098,
          331908.5,
          382720,
          276412.5,
          232250,
          219299.5,
          266344,
          349424,
          374745,
          276930,
          232996.5,
          108551,
          135063.328125,
          135475,
          109521.6640625,
          110345,
          135768.328125,
          115447.6640625,
          127131.3359375,
          127328,
          100653.3359375,
          96310,
          121767.3359375,
          148687.328125,
          146386.328125,
          147011.671875,
          126628,
          114220,
          147128.328125,
          182869.328125,
          154117.328125,
          165458,
          131392,
          119214.6640625,
          196602,
          188664,
          171261,
          170310,
          56061.1328125,
          125219.3359375,
          130191.8359375,
          204756.328125,
          188224.671875,
          187078.671875,
          147191.328125,
          68996.9140625,
          95038.46875,
          115653.5234375,
          198697.328125,
          187923.328125,
          152784,
          176407.328125,
          67274.609375,
          221422,
          225886.671875,
          181549.328125,
          170617.328125,
          196996.328125,
          55425.5703125,
          60057.5234375,
          194020.671875,
          149207.328125,
          139714,
          164886.328125,
          190023,
          167896.671875,
          182947,
          134306.671875,
          130323,
          53649.53515625,
          170884,
          168394.328125,
          184254.671875,
          139710,
          134633.328125,
          148132.328125,
          93548.3671875,
          68423.109375,
          205368.671875,
          149876.671875,
          148994.671875,
          158620,
          195578.671875,
          53389.06640625,
          27196.0546875,
          24370.099609375,
          39706.4453125,
          20974.666015625,
          42086.5,
          130979.25,
          32679.75,
          40096.83203125,
          57024.5,
          20197.72265625,
          30322,
          50979.109375,
          27237,
          47744.66796875,
          128499.6640625,
          39721.5,
          32877.83203125,
          58023.06640625,
          24483.77734375,
          28324,
          57168.66796875,
          61551.41796875,
          70734.71875,
          174514.671875,
          71521,
          46866.27734375,
          76092.703125,
          46815.390625,
          52418.66796875,
          68066.5,
          52728.16796875,
          118114.3359375,
          130751.5859375,
          48375.83203125,
          151792.640625,
          61897.4453125,
          92862.5,
          168210.5625,
          74846.0859375,
          127724.203125,
          224611.5,
          82677.75,
          61823.4453125,
          189949.90625,
          86007.609375,
          208533.4375,
          72502.1640625,
          201981.328125,
          72497.3359375,
          55211.72265625,
          135384.703125,
          80525.9453125,
          150481.9375,
          37104.75,
          165607.921875,
          40415,
          31550.888671875,
          55783.93359375,
          39867.390625,
          55204.5,
          44164.41796875,
          64288.5,
          110584.9609375,
          34431.33203125,
          78537,
          61075.35546875,
          28655.388671875,
          65577.0546875,
          65292.08203125,
          60369.25,
          182707.421875,
          74718.0859375,
          55741.40625,
          108959.28125,
          62881.22265625,
          105125.28125,
          98939.5,
          91794,
          240768.5,
          150436.90625,
          62364.0546875,
          180590.90625,
          82681.25,
          114174.21875,
          156750.671875
         ],
         "yaxis": "y"
        },
        {
         "type": "scatter",
         "x": [
          "2020-01-01T00:00:00",
          "2020-01-02T00:00:00",
          "2020-01-03T00:00:00",
          "2020-01-04T00:00:00",
          "2020-01-05T00:00:00",
          "2020-01-06T00:00:00",
          "2020-01-07T00:00:00",
          "2020-01-08T00:00:00",
          "2020-01-21T00:00:00",
          "2020-01-22T00:00:00",
          "2020-01-23T00:00:00",
          "2020-01-24T00:00:00",
          "2020-01-25T00:00:00",
          "2020-01-26T00:00:00",
          "2020-01-27T00:00:00",
          "2020-01-28T00:00:00",
          "2020-01-29T00:00:00",
          "2020-01-30T00:00:00",
          "2020-01-31T00:00:00",
          "2020-02-01T00:00:00",
          "2020-02-02T00:00:00",
          "2020-02-03T00:00:00",
          "2020-02-04T00:00:00",
          "2020-02-05T00:00:00",
          "2020-02-06T00:00:00",
          "2020-02-07T00:00:00",
          "2020-02-08T00:00:00",
          "2020-02-09T00:00:00",
          "2020-02-10T00:00:00",
          "2020-03-03T00:00:00",
          "2020-03-04T00:00:00",
          "2020-03-05T00:00:00",
          "2020-03-06T00:00:00",
          "2020-03-07T00:00:00",
          "2020-03-08T00:00:00",
          "2020-03-09T00:00:00",
          "2020-03-10T00:00:00",
          "2020-03-11T00:00:00",
          "2020-03-12T00:00:00",
          "2020-03-13T00:00:00",
          "2020-03-14T00:00:00",
          "2020-03-15T00:00:00",
          "2020-03-16T00:00:00",
          "2020-03-17T00:00:00",
          "2020-03-18T00:00:00",
          "2020-03-31T00:00:00",
          "2020-04-24T00:00:00",
          "2020-05-24T00:00:00",
          "2020-08-06T00:00:00",
          "2020-08-07T00:00:00",
          "2020-08-08T00:00:00",
          "2020-08-09T00:00:00",
          "2020-08-10T00:00:00",
          "2020-08-11T00:00:00",
          "2020-08-12T00:00:00",
          "2020-08-13T00:00:00",
          "2020-08-14T00:00:00",
          "2020-08-16T00:00:00",
          "2020-08-17T00:00:00",
          "2020-08-18T00:00:00",
          "2020-08-19T00:00:00",
          "2020-08-20T00:00:00",
          "2020-08-21T00:00:00",
          "2020-08-22T00:00:00",
          "2020-08-23T00:00:00",
          "2020-09-20T00:00:00",
          "2020-09-21T00:00:00",
          "2020-09-22T00:00:00",
          "2020-09-23T00:00:00",
          "2020-09-24T00:00:00",
          "2020-10-17T00:00:00",
          "2020-10-18T00:00:00",
          "2020-10-19T00:00:00",
          "2020-10-20T00:00:00",
          "2020-10-21T00:00:00",
          "2020-10-22T00:00:00",
          "2020-10-23T00:00:00",
          "2020-10-24T00:00:00",
          "2020-10-25T00:00:00",
          "2020-10-26T00:00:00",
          "2020-10-27T00:00:00",
          "2020-10-28T00:00:00",
          "2020-10-29T00:00:00",
          "2020-10-30T00:00:00",
          "2020-10-31T00:00:00",
          "2020-11-01T00:00:00",
          "2020-11-02T00:00:00",
          "2020-11-03T00:00:00",
          "2020-11-04T00:00:00",
          "2020-11-05T00:00:00",
          "2020-11-06T00:00:00",
          "2020-11-07T00:00:00",
          "2020-11-08T00:00:00",
          "2020-11-09T00:00:00",
          "2020-11-10T00:00:00",
          "2020-11-11T00:00:00",
          "2020-11-12T00:00:00",
          "2020-11-13T00:00:00",
          "2020-11-14T00:00:00",
          "2020-11-15T00:00:00",
          "2020-11-16T00:00:00",
          "2020-11-17T00:00:00",
          "2020-11-18T00:00:00",
          "2020-11-19T00:00:00",
          "2020-11-20T00:00:00",
          "2020-11-21T00:00:00",
          "2020-11-22T00:00:00",
          "2020-11-23T00:00:00",
          "2020-11-24T00:00:00",
          "2020-11-25T00:00:00",
          "2020-11-26T00:00:00",
          "2020-11-27T00:00:00",
          "2020-11-28T00:00:00",
          "2020-11-29T00:00:00",
          "2020-11-30T00:00:00",
          "2020-12-01T00:00:00",
          "2020-12-02T00:00:00",
          "2020-12-03T00:00:00",
          "2020-12-04T00:00:00",
          "2020-12-05T00:00:00",
          "2020-12-06T00:00:00",
          "2020-12-07T00:00:00",
          "2020-12-08T00:00:00",
          "2020-12-09T00:00:00",
          "2020-12-10T00:00:00",
          "2020-12-11T00:00:00",
          "2020-12-12T00:00:00",
          "2020-12-13T00:00:00",
          "2020-12-14T00:00:00",
          "2020-12-15T00:00:00",
          "2020-12-16T00:00:00",
          "2020-12-17T00:00:00",
          "2020-12-18T00:00:00",
          "2020-12-19T00:00:00",
          "2020-12-20T00:00:00",
          "2020-12-21T00:00:00",
          "2020-12-22T00:00:00",
          "2020-12-23T00:00:00",
          "2020-12-24T00:00:00",
          "2020-12-25T00:00:00",
          "2020-12-26T00:00:00",
          "2020-12-27T00:00:00",
          "2021-01-05T00:00:00",
          "2021-01-06T00:00:00",
          "2021-01-09T00:00:00",
          "2021-01-10T00:00:00",
          "2021-01-12T00:00:00",
          "2021-01-17T00:00:00",
          "2021-01-18T00:00:00",
          "2021-01-20T00:00:00",
          "2021-01-23T00:00:00",
          "2021-01-24T00:00:00",
          "2021-02-04T00:00:00",
          "2021-02-06T00:00:00",
          "2021-02-07T00:00:00",
          "2021-02-08T00:00:00",
          "2021-02-10T00:00:00",
          "2021-02-12T00:00:00",
          "2021-02-15T00:00:00",
          "2021-02-18T00:00:00",
          "2021-02-22T00:00:00",
          "2021-02-23T00:00:00",
          "2021-02-24T00:00:00",
          "2021-03-05T00:00:00",
          "2021-03-06T00:00:00",
          "2021-03-09T00:00:00",
          "2021-03-11T00:00:00",
          "2021-03-13T00:00:00",
          "2021-03-16T00:00:00",
          "2021-03-17T00:00:00",
          "2021-03-22T00:00:00",
          "2021-03-23T00:00:00",
          "2021-04-06T00:00:00",
          "2021-04-07T00:00:00",
          "2021-04-10T00:00:00",
          "2021-04-12T00:00:00",
          "2021-04-14T00:00:00",
          "2021-04-17T00:00:00",
          "2021-04-18T00:00:00",
          "2021-04-23T00:00:00",
          "2021-04-24T00:00:00",
          "2021-05-05T00:00:00",
          "2021-05-06T00:00:00",
          "2021-05-07T00:00:00",
          "2021-05-11T00:00:00",
          "2021-05-13T00:00:00",
          "2021-05-16T00:00:00",
          "2021-05-19T00:00:00",
          "2021-05-21T00:00:00",
          "2021-05-22T00:00:00",
          "2021-05-23T00:00:00",
          "2021-05-24T00:00:00",
          "2021-05-25T00:00:00",
          "2021-05-26T00:00:00",
          "2021-05-27T00:00:00",
          "2021-05-28T00:00:00",
          "2021-05-29T00:00:00",
          "2021-05-30T00:00:00",
          "2021-05-31T00:00:00",
          "2021-06-01T00:00:00",
          "2021-06-02T00:00:00",
          "2021-06-03T00:00:00",
          "2021-06-04T00:00:00",
          "2021-06-05T00:00:00",
          "2021-06-06T00:00:00",
          "2021-06-07T00:00:00",
          "2021-06-08T00:00:00",
          "2021-06-09T00:00:00",
          "2021-06-10T00:00:00",
          "2021-06-11T00:00:00",
          "2021-06-12T00:00:00",
          "2021-06-13T00:00:00",
          "2021-06-14T00:00:00",
          "2021-06-15T00:00:00",
          "2021-06-16T00:00:00",
          "2021-06-17T00:00:00",
          "2021-06-18T00:00:00",
          "2021-06-19T00:00:00",
          "2021-06-20T00:00:00",
          "2021-06-21T00:00:00",
          "2021-06-22T00:00:00",
          "2021-06-23T00:00:00",
          "2021-06-24T00:00:00",
          "2021-06-25T00:00:00",
          "2021-06-26T00:00:00",
          "2021-06-27T00:00:00",
          "2021-06-28T00:00:00",
          "2021-06-29T00:00:00",
          "2021-06-30T00:00:00",
          "2021-07-01T00:00:00",
          "2021-07-02T00:00:00",
          "2021-07-03T00:00:00",
          "2021-07-04T00:00:00",
          "2021-07-05T00:00:00",
          "2021-07-06T00:00:00",
          "2021-07-07T00:00:00",
          "2021-07-08T00:00:00",
          "2021-07-09T00:00:00",
          "2021-07-10T00:00:00",
          "2021-07-11T00:00:00",
          "2021-07-12T00:00:00",
          "2021-07-13T00:00:00",
          "2021-07-14T00:00:00",
          "2021-07-15T00:00:00",
          "2021-07-16T00:00:00",
          "2021-07-17T00:00:00",
          "2021-07-18T00:00:00",
          "2021-07-19T00:00:00",
          "2021-07-20T00:00:00",
          "2021-07-21T00:00:00",
          "2021-07-22T00:00:00",
          "2021-07-23T00:00:00",
          "2021-07-24T00:00:00",
          "2021-07-25T00:00:00",
          "2021-07-26T00:00:00",
          "2021-07-27T00:00:00",
          "2021-07-28T00:00:00",
          "2021-07-29T00:00:00",
          "2021-07-30T00:00:00",
          "2021-07-31T00:00:00",
          "2021-08-01T00:00:00",
          "2021-08-02T00:00:00",
          "2021-08-03T00:00:00",
          "2021-08-04T00:00:00",
          "2021-08-05T00:00:00",
          "2021-08-06T00:00:00",
          "2021-08-07T00:00:00",
          "2021-08-08T00:00:00",
          "2021-08-09T00:00:00",
          "2021-08-10T00:00:00",
          "2021-08-12T00:00:00",
          "2021-08-14T00:00:00",
          "2021-08-18T00:00:00",
          "2021-08-23T00:00:00",
          "2021-08-24T00:00:00",
          "2021-09-05T00:00:00",
          "2021-09-06T00:00:00",
          "2021-09-07T00:00:00",
          "2021-09-13T00:00:00",
          "2021-09-19T00:00:00",
          "2021-09-24T00:00:00",
          "2021-09-25T00:00:00",
          "2021-10-05T00:00:00",
          "2021-10-06T00:00:00",
          "2021-10-07T00:00:00",
          "2021-10-08T00:00:00",
          "2021-10-09T00:00:00",
          "2021-10-12T00:00:00",
          "2021-10-14T00:00:00",
          "2021-10-15T00:00:00",
          "2021-10-17T00:00:00",
          "2021-10-18T00:00:00",
          "2021-10-19T00:00:00",
          "2021-10-22T00:00:00",
          "2021-10-23T00:00:00",
          "2021-10-24T00:00:00",
          "2021-10-25T00:00:00",
          "2021-10-26T00:00:00",
          "2021-10-27T00:00:00",
          "2021-10-28T00:00:00",
          "2021-10-29T00:00:00",
          "2021-10-30T00:00:00",
          "2021-10-31T00:00:00",
          "2021-11-01T00:00:00",
          "2021-11-02T00:00:00",
          "2021-11-03T00:00:00",
          "2021-11-04T00:00:00",
          "2021-11-05T00:00:00",
          "2021-11-06T00:00:00",
          "2021-11-07T00:00:00",
          "2021-11-08T00:00:00",
          "2021-11-09T00:00:00",
          "2021-11-10T00:00:00",
          "2021-11-11T00:00:00",
          "2021-11-12T00:00:00",
          "2021-11-13T00:00:00",
          "2021-11-14T00:00:00",
          "2021-11-15T00:00:00",
          "2021-11-16T00:00:00",
          "2021-11-17T00:00:00",
          "2021-11-18T00:00:00",
          "2021-11-19T00:00:00",
          "2021-11-20T00:00:00",
          "2021-11-21T00:00:00",
          "2021-11-22T00:00:00",
          "2021-11-23T00:00:00",
          "2021-11-24T00:00:00",
          "2021-11-25T00:00:00",
          "2021-11-26T00:00:00",
          "2021-11-27T00:00:00",
          "2021-11-28T00:00:00",
          "2021-11-29T00:00:00",
          "2021-11-30T00:00:00",
          "2021-12-01T00:00:00",
          "2021-12-02T00:00:00",
          "2021-12-03T00:00:00",
          "2021-12-04T00:00:00",
          "2021-12-05T00:00:00",
          "2021-12-06T00:00:00",
          "2021-12-07T00:00:00",
          "2021-12-08T00:00:00",
          "2021-12-09T00:00:00",
          "2021-12-10T00:00:00",
          "2021-12-11T00:00:00",
          "2021-12-12T00:00:00",
          "2021-12-13T00:00:00",
          "2021-12-14T00:00:00",
          "2021-12-15T00:00:00",
          "2021-12-16T00:00:00",
          "2021-12-17T00:00:00",
          "2021-12-18T00:00:00",
          "2021-12-19T00:00:00",
          "2021-12-20T00:00:00",
          "2021-12-21T00:00:00",
          "2021-12-22T00:00:00",
          "2021-12-23T00:00:00",
          "2021-12-24T00:00:00",
          "2021-12-25T00:00:00",
          "2021-12-26T00:00:00",
          "2021-12-27T00:00:00",
          "2021-12-28T00:00:00",
          "2021-12-29T00:00:00",
          "2021-12-30T00:00:00",
          "2021-12-31T00:00:00"
         ],
         "xaxis": "x2",
         "y": [
          140856.828125,
          174580,
          140066.671875,
          134247.671875,
          188676,
          174833.328125,
          217400.671875,
          158097,
          133424,
          129416.6640625,
          189084,
          175506.671875,
          213961.328125,
          161985.671875,
          132703.671875,
          125576,
          178665.671875,
          165779.328125,
          208592,
          157341,
          126216,
          130002.6640625,
          173134.671875,
          166549.671875,
          255074,
          177550.671875,
          157458,
          148372.328125,
          184205,
          227063.328125,
          262005,
          192840,
          162080,
          157851,
          188940,
          239327.328125,
          267639,
          196979.671875,
          165562.328125,
          156876,
          193728.671875,
          249663.328125,
          261408.328125,
          197785.671875,
          166061,
          162262.328125,
          201715.5,
          285596.5,
          242256,
          195780.5,
          152660,
          143325,
          211125,
          196313.5,
          254358.5,
          172942.5,
          143840,
          212027,
          195780.5,
          246244,
          173475,
          139097,
          128150,
          190448,
          179100,
          179501,
          212100,
          285284,
          296276,
          218365,
          80911.5,
          44822.5,
          32006,
          15377,
          34588.5,
          44790,
          89660,
          26896,
          25700,
          11520,
          34652,
          40480,
          91262,
          25665,
          27018.5,
          4487,
          19196.5,
          35893,
          82160,
          20532,
          15377,
          4487,
          12829,
          35954,
          114034,
          34718,
          25703,
          10234,
          21125,
          53979,
          97957,
          35931,
          31400.5,
          26970,
          38602.5,
          91521.5,
          141420,
          69075,
          46134,
          35969,
          51421,
          105771,
          134469.5,
          69370.5,
          46258,
          31400.5,
          34632,
          83274,
          103679.5,
          51350.5,
          19242,
          15997,
          22419,
          41014,
          86384,
          35986,
          17900,
          13461,
          17264.5,
          51470,
          89593,
          40988,
          29684,
          30855,
          35259,
          69299.5,
          133725,
          63492,
          51857,
          40453,
          49313,
          84579,
          54273.66796875,
          35891.08203125,
          111725.890625,
          44507.765625,
          53349.58203125,
          63267.5,
          62133.58203125,
          77080.6640625,
          49457.5546875,
          51316.35546875,
          52760.27734375,
          30050.416015625,
          124907.734375,
          23541,
          71586.75,
          48436.08203125,
          59622.33203125,
          57654.4453125,
          69363.546875,
          43204.16796875,
          46968.265625,
          74846.75,
          36643.80078125,
          89494.0859375,
          44744,
          54845.41796875,
          36056.109375,
          60335.16796875,
          52151.83203125,
          51029,
          81753,
          19285.611328125,
          98955.25,
          41351.58203125,
          52509.5,
          37925.77734375,
          49868,
          60910.22265625,
          57023.83203125,
          204426.671875,
          41187.109375,
          61607.25,
          115586.4140625,
          78153.9609375,
          69189.609375,
          69081.25,
          52112.66796875,
          27384,
          19738.666015625,
          61738.28515625,
          64007.75,
          40463,
          85029,
          22502,
          22415.5,
          7703,
          56403.80078125,
          40329.6015625,
          54759.6015625,
          18675.80078125,
          36218,
          31644.75,
          55210.25,
          193092.5625,
          52336.58984375,
          17019.5,
          181284.625,
          31765.25,
          62367,
          39146.5,
          71677,
          87060.75,
          28272,
          31080.75,
          84274.03125,
          40425.75,
          56458,
          22142.5,
          41260.91796875,
          78824.3671875,
          154586.453125,
          69881.75,
          86062.75,
          43585.25,
          39489.25,
          57325,
          84191,
          73667,
          78262.75,
          49724,
          42929.5,
          164103.828125,
          75000.28125,
          69129.75,
          66649,
          209498.5,
          33895.5,
          71276.75,
          76352.5,
          99686.875,
          59058.5,
          34630,
          93465.2890625,
          84964.375,
          66651,
          51904,
          79031.1640625,
          29443.25,
          82110.40625,
          178887.8125,
          78184,
          60437.25,
          76901.25,
          41579.75,
          39797,
          56961,
          80728.75,
          67250,
          49926,
          44969,
          46148,
          83232.5,
          154275,
          159486.5,
          48860.5,
          118794.5,
          61711,
          222088.40625,
          72380.4140625,
          102928.25,
          84398.6640625,
          97826.6640625,
          150330.0625,
          199807.75,
          32836.5546875,
          40406.41796875,
          66279.1640625,
          50417.58203125,
          79849.0546875,
          55022.66796875,
          67162,
          43119.19921875,
          197733,
          30634.732421875,
          70684.5,
          53909.69921875,
          46260,
          78968.3984375,
          76974,
          51995.33203125,
          66542.5546875,
          46472.77734375,
          60237.71484375,
          60208.09375,
          10455.3330078125,
          24138.666015625,
          35371,
          74686.6640625,
          19732.666015625,
          21388,
          6994.33349609375,
          24048.666015625,
          35487.33203125,
          78154.6640625,
          61837.4765625,
          24506,
          185370.859375,
          15714.6669921875,
          30628.666015625,
          63649.33203125,
          26304,
          20940.333984375,
          11818,
          58541.66796875,
          35029.33203125,
          98829.3359375,
          36674,
          76359.265625,
          73861.03125,
          28356,
          61003.33203125,
          69205.3984375,
          64997.33203125,
          66429.5234375,
          94163.046875,
          34088,
          73575,
          114091.6640625,
          63135,
          43285,
          33559.33203125,
          45680,
          91524,
          87581.953125,
          124222.140625,
          205668.28125,
          38580,
          39680,
          84859.6640625,
          108356,
          116659.453125,
          31323.333984375,
          106275.4453125,
          24008.666015625,
          47382.33203125,
          146474.359375,
          142323.3125,
          98837.796875,
          17584,
          20934,
          70270.6015625,
          95825.203125,
          83370.21875,
          136397.671875,
          36681.33203125,
          36712,
          65363.33203125,
          116129,
          57596.66796875,
          47350.33203125,
          36713.66796875,
          42679
         ],
         "yaxis": "y2"
        }
       ],
       "layout": {
        "template": {
         "data": {
          "bar": [
           {
            "error_x": {
             "color": "#2a3f5f"
            },
            "error_y": {
             "color": "#2a3f5f"
            },
            "marker": {
             "line": {
              "color": "#E5ECF6",
              "width": 0.5
             },
             "pattern": {
              "fillmode": "overlay",
              "size": 10,
              "solidity": 0.2
             }
            },
            "type": "bar"
           }
          ],
          "barpolar": [
           {
            "marker": {
             "line": {
              "color": "#E5ECF6",
              "width": 0.5
             },
             "pattern": {
              "fillmode": "overlay",
              "size": 10,
              "solidity": 0.2
             }
            },
            "type": "barpolar"
           }
          ],
          "carpet": [
           {
            "aaxis": {
             "endlinecolor": "#2a3f5f",
             "gridcolor": "white",
             "linecolor": "white",
             "minorgridcolor": "white",
             "startlinecolor": "#2a3f5f"
            },
            "baxis": {
             "endlinecolor": "#2a3f5f",
             "gridcolor": "white",
             "linecolor": "white",
             "minorgridcolor": "white",
             "startlinecolor": "#2a3f5f"
            },
            "type": "carpet"
           }
          ],
          "choropleth": [
           {
            "colorbar": {
             "outlinewidth": 0,
             "ticks": ""
            },
            "type": "choropleth"
           }
          ],
          "contour": [
           {
            "colorbar": {
             "outlinewidth": 0,
             "ticks": ""
            },
            "colorscale": [
             [
              0,
              "#0d0887"
             ],
             [
              0.1111111111111111,
              "#46039f"
             ],
             [
              0.2222222222222222,
              "#7201a8"
             ],
             [
              0.3333333333333333,
              "#9c179e"
             ],
             [
              0.4444444444444444,
              "#bd3786"
             ],
             [
              0.5555555555555556,
              "#d8576b"
             ],
             [
              0.6666666666666666,
              "#ed7953"
             ],
             [
              0.7777777777777778,
              "#fb9f3a"
             ],
             [
              0.8888888888888888,
              "#fdca26"
             ],
             [
              1,
              "#f0f921"
             ]
            ],
            "type": "contour"
           }
          ],
          "contourcarpet": [
           {
            "colorbar": {
             "outlinewidth": 0,
             "ticks": ""
            },
            "type": "contourcarpet"
           }
          ],
          "heatmap": [
           {
            "colorbar": {
             "outlinewidth": 0,
             "ticks": ""
            },
            "colorscale": [
             [
              0,
              "#0d0887"
             ],
             [
              0.1111111111111111,
              "#46039f"
             ],
             [
              0.2222222222222222,
              "#7201a8"
             ],
             [
              0.3333333333333333,
              "#9c179e"
             ],
             [
              0.4444444444444444,
              "#bd3786"
             ],
             [
              0.5555555555555556,
              "#d8576b"
             ],
             [
              0.6666666666666666,
              "#ed7953"
             ],
             [
              0.7777777777777778,
              "#fb9f3a"
             ],
             [
              0.8888888888888888,
              "#fdca26"
             ],
             [
              1,
              "#f0f921"
             ]
            ],
            "type": "heatmap"
           }
          ],
          "heatmapgl": [
           {
            "colorbar": {
             "outlinewidth": 0,
             "ticks": ""
            },
            "colorscale": [
             [
              0,
              "#0d0887"
             ],
             [
              0.1111111111111111,
              "#46039f"
             ],
             [
              0.2222222222222222,
              "#7201a8"
             ],
             [
              0.3333333333333333,
              "#9c179e"
             ],
             [
              0.4444444444444444,
              "#bd3786"
             ],
             [
              0.5555555555555556,
              "#d8576b"
             ],
             [
              0.6666666666666666,
              "#ed7953"
             ],
             [
              0.7777777777777778,
              "#fb9f3a"
             ],
             [
              0.8888888888888888,
              "#fdca26"
             ],
             [
              1,
              "#f0f921"
             ]
            ],
            "type": "heatmapgl"
           }
          ],
          "histogram": [
           {
            "marker": {
             "pattern": {
              "fillmode": "overlay",
              "size": 10,
              "solidity": 0.2
             }
            },
            "type": "histogram"
           }
          ],
          "histogram2d": [
           {
            "colorbar": {
             "outlinewidth": 0,
             "ticks": ""
            },
            "colorscale": [
             [
              0,
              "#0d0887"
             ],
             [
              0.1111111111111111,
              "#46039f"
             ],
             [
              0.2222222222222222,
              "#7201a8"
             ],
             [
              0.3333333333333333,
              "#9c179e"
             ],
             [
              0.4444444444444444,
              "#bd3786"
             ],
             [
              0.5555555555555556,
              "#d8576b"
             ],
             [
              0.6666666666666666,
              "#ed7953"
             ],
             [
              0.7777777777777778,
              "#fb9f3a"
             ],
             [
              0.8888888888888888,
              "#fdca26"
             ],
             [
              1,
              "#f0f921"
             ]
            ],
            "type": "histogram2d"
           }
          ],
          "histogram2dcontour": [
           {
            "colorbar": {
             "outlinewidth": 0,
             "ticks": ""
            },
            "colorscale": [
             [
              0,
              "#0d0887"
             ],
             [
              0.1111111111111111,
              "#46039f"
             ],
             [
              0.2222222222222222,
              "#7201a8"
             ],
             [
              0.3333333333333333,
              "#9c179e"
             ],
             [
              0.4444444444444444,
              "#bd3786"
             ],
             [
              0.5555555555555556,
              "#d8576b"
             ],
             [
              0.6666666666666666,
              "#ed7953"
             ],
             [
              0.7777777777777778,
              "#fb9f3a"
             ],
             [
              0.8888888888888888,
              "#fdca26"
             ],
             [
              1,
              "#f0f921"
             ]
            ],
            "type": "histogram2dcontour"
           }
          ],
          "mesh3d": [
           {
            "colorbar": {
             "outlinewidth": 0,
             "ticks": ""
            },
            "type": "mesh3d"
           }
          ],
          "parcoords": [
           {
            "line": {
             "colorbar": {
              "outlinewidth": 0,
              "ticks": ""
             }
            },
            "type": "parcoords"
           }
          ],
          "pie": [
           {
            "automargin": true,
            "type": "pie"
           }
          ],
          "scatter": [
           {
            "fillpattern": {
             "fillmode": "overlay",
             "size": 10,
             "solidity": 0.2
            },
            "type": "scatter"
           }
          ],
          "scatter3d": [
           {
            "line": {
             "colorbar": {
              "outlinewidth": 0,
              "ticks": ""
             }
            },
            "marker": {
             "colorbar": {
              "outlinewidth": 0,
              "ticks": ""
             }
            },
            "type": "scatter3d"
           }
          ],
          "scattercarpet": [
           {
            "marker": {
             "colorbar": {
              "outlinewidth": 0,
              "ticks": ""
             }
            },
            "type": "scattercarpet"
           }
          ],
          "scattergeo": [
           {
            "marker": {
             "colorbar": {
              "outlinewidth": 0,
              "ticks": ""
             }
            },
            "type": "scattergeo"
           }
          ],
          "scattergl": [
           {
            "marker": {
             "colorbar": {
              "outlinewidth": 0,
              "ticks": ""
             }
            },
            "type": "scattergl"
           }
          ],
          "scattermapbox": [
           {
            "marker": {
             "colorbar": {
              "outlinewidth": 0,
              "ticks": ""
             }
            },
            "type": "scattermapbox"
           }
          ],
          "scatterpolar": [
           {
            "marker": {
             "colorbar": {
              "outlinewidth": 0,
              "ticks": ""
             }
            },
            "type": "scatterpolar"
           }
          ],
          "scatterpolargl": [
           {
            "marker": {
             "colorbar": {
              "outlinewidth": 0,
              "ticks": ""
             }
            },
            "type": "scatterpolargl"
           }
          ],
          "scatterternary": [
           {
            "marker": {
             "colorbar": {
              "outlinewidth": 0,
              "ticks": ""
             }
            },
            "type": "scatterternary"
           }
          ],
          "surface": [
           {
            "colorbar": {
             "outlinewidth": 0,
             "ticks": ""
            },
            "colorscale": [
             [
              0,
              "#0d0887"
             ],
             [
              0.1111111111111111,
              "#46039f"
             ],
             [
              0.2222222222222222,
              "#7201a8"
             ],
             [
              0.3333333333333333,
              "#9c179e"
             ],
             [
              0.4444444444444444,
              "#bd3786"
             ],
             [
              0.5555555555555556,
              "#d8576b"
             ],
             [
              0.6666666666666666,
              "#ed7953"
             ],
             [
              0.7777777777777778,
              "#fb9f3a"
             ],
             [
              0.8888888888888888,
              "#fdca26"
             ],
             [
              1,
              "#f0f921"
             ]
            ],
            "type": "surface"
           }
          ],
          "table": [
           {
            "cells": {
             "fill": {
              "color": "#EBF0F8"
             },
             "line": {
              "color": "white"
             }
            },
            "header": {
             "fill": {
              "color": "#C8D4E3"
             },
             "line": {
              "color": "white"
             }
            },
            "type": "table"
           }
          ]
         },
         "layout": {
          "annotationdefaults": {
           "arrowcolor": "#2a3f5f",
           "arrowhead": 0,
           "arrowwidth": 1
          },
          "autotypenumbers": "strict",
          "coloraxis": {
           "colorbar": {
            "outlinewidth": 0,
            "ticks": ""
           }
          },
          "colorscale": {
           "diverging": [
            [
             0,
             "#8e0152"
            ],
            [
             0.1,
             "#c51b7d"
            ],
            [
             0.2,
             "#de77ae"
            ],
            [
             0.3,
             "#f1b6da"
            ],
            [
             0.4,
             "#fde0ef"
            ],
            [
             0.5,
             "#f7f7f7"
            ],
            [
             0.6,
             "#e6f5d0"
            ],
            [
             0.7,
             "#b8e186"
            ],
            [
             0.8,
             "#7fbc41"
            ],
            [
             0.9,
             "#4d9221"
            ],
            [
             1,
             "#276419"
            ]
           ],
           "sequential": [
            [
             0,
             "#0d0887"
            ],
            [
             0.1111111111111111,
             "#46039f"
            ],
            [
             0.2222222222222222,
             "#7201a8"
            ],
            [
             0.3333333333333333,
             "#9c179e"
            ],
            [
             0.4444444444444444,
             "#bd3786"
            ],
            [
             0.5555555555555556,
             "#d8576b"
            ],
            [
             0.6666666666666666,
             "#ed7953"
            ],
            [
             0.7777777777777778,
             "#fb9f3a"
            ],
            [
             0.8888888888888888,
             "#fdca26"
            ],
            [
             1,
             "#f0f921"
            ]
           ],
           "sequentialminus": [
            [
             0,
             "#0d0887"
            ],
            [
             0.1111111111111111,
             "#46039f"
            ],
            [
             0.2222222222222222,
             "#7201a8"
            ],
            [
             0.3333333333333333,
             "#9c179e"
            ],
            [
             0.4444444444444444,
             "#bd3786"
            ],
            [
             0.5555555555555556,
             "#d8576b"
            ],
            [
             0.6666666666666666,
             "#ed7953"
            ],
            [
             0.7777777777777778,
             "#fb9f3a"
            ],
            [
             0.8888888888888888,
             "#fdca26"
            ],
            [
             1,
             "#f0f921"
            ]
           ]
          },
          "colorway": [
           "#636efa",
           "#EF553B",
           "#00cc96",
           "#ab63fa",
           "#FFA15A",
           "#19d3f3",
           "#FF6692",
           "#B6E880",
           "#FF97FF",
           "#FECB52"
          ],
          "font": {
           "color": "#2a3f5f"
          },
          "geo": {
           "bgcolor": "white",
           "lakecolor": "white",
           "landcolor": "#E5ECF6",
           "showlakes": true,
           "showland": true,
           "subunitcolor": "white"
          },
          "hoverlabel": {
           "align": "left"
          },
          "hovermode": "closest",
          "mapbox": {
           "style": "light"
          },
          "paper_bgcolor": "white",
          "plot_bgcolor": "#E5ECF6",
          "polar": {
           "angularaxis": {
            "gridcolor": "white",
            "linecolor": "white",
            "ticks": ""
           },
           "bgcolor": "#E5ECF6",
           "radialaxis": {
            "gridcolor": "white",
            "linecolor": "white",
            "ticks": ""
           }
          },
          "scene": {
           "xaxis": {
            "backgroundcolor": "#E5ECF6",
            "gridcolor": "white",
            "gridwidth": 2,
            "linecolor": "white",
            "showbackground": true,
            "ticks": "",
            "zerolinecolor": "white"
           },
           "yaxis": {
            "backgroundcolor": "#E5ECF6",
            "gridcolor": "white",
            "gridwidth": 2,
            "linecolor": "white",
            "showbackground": true,
            "ticks": "",
            "zerolinecolor": "white"
           },
           "zaxis": {
            "backgroundcolor": "#E5ECF6",
            "gridcolor": "white",
            "gridwidth": 2,
            "linecolor": "white",
            "showbackground": true,
            "ticks": "",
            "zerolinecolor": "white"
           }
          },
          "shapedefaults": {
           "line": {
            "color": "#2a3f5f"
           }
          },
          "ternary": {
           "aaxis": {
            "gridcolor": "white",
            "linecolor": "white",
            "ticks": ""
           },
           "baxis": {
            "gridcolor": "white",
            "linecolor": "white",
            "ticks": ""
           },
           "bgcolor": "#E5ECF6",
           "caxis": {
            "gridcolor": "white",
            "linecolor": "white",
            "ticks": ""
           }
          },
          "title": {
           "x": 0.05
          },
          "xaxis": {
           "automargin": true,
           "gridcolor": "white",
           "linecolor": "white",
           "ticks": "",
           "title": {
            "standoff": 15
           },
           "zerolinecolor": "white",
           "zerolinewidth": 2
          },
          "yaxis": {
           "automargin": true,
           "gridcolor": "white",
           "linecolor": "white",
           "ticks": "",
           "title": {
            "standoff": 15
           },
           "zerolinecolor": "white",
           "zerolinewidth": 2
          }
         }
        },
        "xaxis": {
         "anchor": "y",
         "domain": [
          0,
          1
         ]
        },
        "xaxis2": {
         "anchor": "y2",
         "domain": [
          0,
          1
         ]
        },
        "yaxis": {
         "anchor": "x",
         "domain": [
          0.575,
          1
         ]
        },
        "yaxis2": {
         "anchor": "x2",
         "domain": [
          0,
          0.425
         ]
        }
       }
      }
     },
     "metadata": {},
     "output_type": "display_data"
    }
   ],
   "source": [
    "fig = make_subplots(rows = 2, cols= 1)\n",
    "\n",
    "fig.append_trace(go.Line(x = west[\"Invoice Date\"], y = west[\"Total Sales\"]), row = 1, col = 1)\n",
    "\n",
    "fig.append_trace(go.Line(x = locker[\"Invoice Date\"], y = locker[\"Total Sales\"]), row = 2, col = 1)\n",
    "\n",
    "fig.show()"
   ]
  },
  {
   "cell_type": "code",
   "execution_count": 49,
   "id": "bf245407",
   "metadata": {},
   "outputs": [
    {
     "data": {
      "text/html": [
       "<div>\n",
       "<style scoped>\n",
       "    .dataframe tbody tr th:only-of-type {\n",
       "        vertical-align: middle;\n",
       "    }\n",
       "\n",
       "    .dataframe tbody tr th {\n",
       "        vertical-align: top;\n",
       "    }\n",
       "\n",
       "    .dataframe thead th {\n",
       "        text-align: right;\n",
       "    }\n",
       "</style>\n",
       "<table border=\"1\" class=\"dataframe\">\n",
       "  <thead>\n",
       "    <tr style=\"text-align: right;\">\n",
       "      <th></th>\n",
       "      <th>Retailer</th>\n",
       "      <th>Product</th>\n",
       "      <th>Total Sales</th>\n",
       "    </tr>\n",
       "  </thead>\n",
       "  <tbody>\n",
       "    <tr>\n",
       "      <th>0</th>\n",
       "      <td>Amazon</td>\n",
       "      <td>Men's Apparel</td>\n",
       "      <td>66718.281250</td>\n",
       "    </tr>\n",
       "    <tr>\n",
       "      <th>1</th>\n",
       "      <td>Amazon</td>\n",
       "      <td>Men's Athletic Footwear</td>\n",
       "      <td>75546.914062</td>\n",
       "    </tr>\n",
       "    <tr>\n",
       "      <th>2</th>\n",
       "      <td>Amazon</td>\n",
       "      <td>Men's Street Footwear</td>\n",
       "      <td>139381.453125</td>\n",
       "    </tr>\n",
       "    <tr>\n",
       "      <th>3</th>\n",
       "      <td>Amazon</td>\n",
       "      <td>Women's Apparel</td>\n",
       "      <td>98809.046875</td>\n",
       "    </tr>\n",
       "    <tr>\n",
       "      <th>4</th>\n",
       "      <td>Amazon</td>\n",
       "      <td>Women's Athletic Footwear</td>\n",
       "      <td>50223.132812</td>\n",
       "    </tr>\n",
       "    <tr>\n",
       "      <th>5</th>\n",
       "      <td>Amazon</td>\n",
       "      <td>Women's Street Footwear</td>\n",
       "      <td>59902.148438</td>\n",
       "    </tr>\n",
       "    <tr>\n",
       "      <th>6</th>\n",
       "      <td>Foot Locker</td>\n",
       "      <td>Men's Apparel</td>\n",
       "      <td>68150.101562</td>\n",
       "    </tr>\n",
       "    <tr>\n",
       "      <th>7</th>\n",
       "      <td>Foot Locker</td>\n",
       "      <td>Men's Athletic Footwear</td>\n",
       "      <td>82534.875000</td>\n",
       "    </tr>\n",
       "    <tr>\n",
       "      <th>8</th>\n",
       "      <td>Foot Locker</td>\n",
       "      <td>Men's Street Footwear</td>\n",
       "      <td>128021.328125</td>\n",
       "    </tr>\n",
       "    <tr>\n",
       "      <th>9</th>\n",
       "      <td>Foot Locker</td>\n",
       "      <td>Women's Apparel</td>\n",
       "      <td>99991.023438</td>\n",
       "    </tr>\n",
       "    <tr>\n",
       "      <th>10</th>\n",
       "      <td>Foot Locker</td>\n",
       "      <td>Women's Athletic Footwear</td>\n",
       "      <td>54840.777344</td>\n",
       "    </tr>\n",
       "    <tr>\n",
       "      <th>11</th>\n",
       "      <td>Foot Locker</td>\n",
       "      <td>Women's Street Footwear</td>\n",
       "      <td>66410.953125</td>\n",
       "    </tr>\n",
       "    <tr>\n",
       "      <th>12</th>\n",
       "      <td>Kohl's</td>\n",
       "      <td>Men's Apparel</td>\n",
       "      <td>82836.054688</td>\n",
       "    </tr>\n",
       "    <tr>\n",
       "      <th>13</th>\n",
       "      <td>Kohl's</td>\n",
       "      <td>Men's Athletic Footwear</td>\n",
       "      <td>103984.398438</td>\n",
       "    </tr>\n",
       "    <tr>\n",
       "      <th>14</th>\n",
       "      <td>Kohl's</td>\n",
       "      <td>Men's Street Footwear</td>\n",
       "      <td>130355.078125</td>\n",
       "    </tr>\n",
       "    <tr>\n",
       "      <th>15</th>\n",
       "      <td>Kohl's</td>\n",
       "      <td>Women's Apparel</td>\n",
       "      <td>118111.851562</td>\n",
       "    </tr>\n",
       "    <tr>\n",
       "      <th>16</th>\n",
       "      <td>Kohl's</td>\n",
       "      <td>Women's Athletic Footwear</td>\n",
       "      <td>73063.562500</td>\n",
       "    </tr>\n",
       "    <tr>\n",
       "      <th>17</th>\n",
       "      <td>Kohl's</td>\n",
       "      <td>Women's Street Footwear</td>\n",
       "      <td>86245.875000</td>\n",
       "    </tr>\n",
       "    <tr>\n",
       "      <th>18</th>\n",
       "      <td>Sports Direct</td>\n",
       "      <td>Men's Apparel</td>\n",
       "      <td>73230.929688</td>\n",
       "    </tr>\n",
       "    <tr>\n",
       "      <th>19</th>\n",
       "      <td>Sports Direct</td>\n",
       "      <td>Men's Athletic Footwear</td>\n",
       "      <td>91660.929688</td>\n",
       "    </tr>\n",
       "    <tr>\n",
       "      <th>20</th>\n",
       "      <td>Sports Direct</td>\n",
       "      <td>Men's Street Footwear</td>\n",
       "      <td>115439.609375</td>\n",
       "    </tr>\n",
       "    <tr>\n",
       "      <th>21</th>\n",
       "      <td>Sports Direct</td>\n",
       "      <td>Women's Apparel</td>\n",
       "      <td>108836.531250</td>\n",
       "    </tr>\n",
       "    <tr>\n",
       "      <th>22</th>\n",
       "      <td>Sports Direct</td>\n",
       "      <td>Women's Athletic Footwear</td>\n",
       "      <td>68477.179688</td>\n",
       "    </tr>\n",
       "    <tr>\n",
       "      <th>23</th>\n",
       "      <td>Sports Direct</td>\n",
       "      <td>Women's Street Footwear</td>\n",
       "      <td>81360.125000</td>\n",
       "    </tr>\n",
       "    <tr>\n",
       "      <th>24</th>\n",
       "      <td>Walmart</td>\n",
       "      <td>Men's Apparel</td>\n",
       "      <td>101687.437500</td>\n",
       "    </tr>\n",
       "    <tr>\n",
       "      <th>25</th>\n",
       "      <td>Walmart</td>\n",
       "      <td>Men's Athletic Footwear</td>\n",
       "      <td>130773.117188</td>\n",
       "    </tr>\n",
       "    <tr>\n",
       "      <th>26</th>\n",
       "      <td>Walmart</td>\n",
       "      <td>Men's Street Footwear</td>\n",
       "      <td>147764.906250</td>\n",
       "    </tr>\n",
       "    <tr>\n",
       "      <th>27</th>\n",
       "      <td>Walmart</td>\n",
       "      <td>Women's Apparel</td>\n",
       "      <td>143141.109375</td>\n",
       "    </tr>\n",
       "    <tr>\n",
       "      <th>28</th>\n",
       "      <td>Walmart</td>\n",
       "      <td>Women's Athletic Footwear</td>\n",
       "      <td>85909.726562</td>\n",
       "    </tr>\n",
       "    <tr>\n",
       "      <th>29</th>\n",
       "      <td>Walmart</td>\n",
       "      <td>Women's Street Footwear</td>\n",
       "      <td>105698.789062</td>\n",
       "    </tr>\n",
       "    <tr>\n",
       "      <th>30</th>\n",
       "      <td>West Gear</td>\n",
       "      <td>Men's Apparel</td>\n",
       "      <td>84641.054688</td>\n",
       "    </tr>\n",
       "    <tr>\n",
       "      <th>31</th>\n",
       "      <td>West Gear</td>\n",
       "      <td>Men's Athletic Footwear</td>\n",
       "      <td>108095.585938</td>\n",
       "    </tr>\n",
       "    <tr>\n",
       "      <th>32</th>\n",
       "      <td>West Gear</td>\n",
       "      <td>Men's Street Footwear</td>\n",
       "      <td>134937.609375</td>\n",
       "    </tr>\n",
       "    <tr>\n",
       "      <th>33</th>\n",
       "      <td>West Gear</td>\n",
       "      <td>Women's Apparel</td>\n",
       "      <td>119412.906250</td>\n",
       "    </tr>\n",
       "    <tr>\n",
       "      <th>34</th>\n",
       "      <td>West Gear</td>\n",
       "      <td>Women's Athletic Footwear</td>\n",
       "      <td>76088.781250</td>\n",
       "    </tr>\n",
       "    <tr>\n",
       "      <th>35</th>\n",
       "      <td>West Gear</td>\n",
       "      <td>Women's Street Footwear</td>\n",
       "      <td>90966.367188</td>\n",
       "    </tr>\n",
       "  </tbody>\n",
       "</table>\n",
       "</div>"
      ],
      "text/plain": [
       "         Retailer                    Product    Total Sales\n",
       "0          Amazon              Men's Apparel   66718.281250\n",
       "1          Amazon    Men's Athletic Footwear   75546.914062\n",
       "2          Amazon      Men's Street Footwear  139381.453125\n",
       "3          Amazon            Women's Apparel   98809.046875\n",
       "4          Amazon  Women's Athletic Footwear   50223.132812\n",
       "5          Amazon    Women's Street Footwear   59902.148438\n",
       "6     Foot Locker              Men's Apparel   68150.101562\n",
       "7     Foot Locker    Men's Athletic Footwear   82534.875000\n",
       "8     Foot Locker      Men's Street Footwear  128021.328125\n",
       "9     Foot Locker            Women's Apparel   99991.023438\n",
       "10    Foot Locker  Women's Athletic Footwear   54840.777344\n",
       "11    Foot Locker    Women's Street Footwear   66410.953125\n",
       "12         Kohl's              Men's Apparel   82836.054688\n",
       "13         Kohl's    Men's Athletic Footwear  103984.398438\n",
       "14         Kohl's      Men's Street Footwear  130355.078125\n",
       "15         Kohl's            Women's Apparel  118111.851562\n",
       "16         Kohl's  Women's Athletic Footwear   73063.562500\n",
       "17         Kohl's    Women's Street Footwear   86245.875000\n",
       "18  Sports Direct              Men's Apparel   73230.929688\n",
       "19  Sports Direct    Men's Athletic Footwear   91660.929688\n",
       "20  Sports Direct      Men's Street Footwear  115439.609375\n",
       "21  Sports Direct            Women's Apparel  108836.531250\n",
       "22  Sports Direct  Women's Athletic Footwear   68477.179688\n",
       "23  Sports Direct    Women's Street Footwear   81360.125000\n",
       "24        Walmart              Men's Apparel  101687.437500\n",
       "25        Walmart    Men's Athletic Footwear  130773.117188\n",
       "26        Walmart      Men's Street Footwear  147764.906250\n",
       "27        Walmart            Women's Apparel  143141.109375\n",
       "28        Walmart  Women's Athletic Footwear   85909.726562\n",
       "29        Walmart    Women's Street Footwear  105698.789062\n",
       "30      West Gear              Men's Apparel   84641.054688\n",
       "31      West Gear    Men's Athletic Footwear  108095.585938\n",
       "32      West Gear      Men's Street Footwear  134937.609375\n",
       "33      West Gear            Women's Apparel  119412.906250\n",
       "34      West Gear  Women's Athletic Footwear   76088.781250\n",
       "35      West Gear    Women's Street Footwear   90966.367188"
      ]
     },
     "execution_count": 49,
     "metadata": {},
     "output_type": "execute_result"
    }
   ],
   "source": [
    "df_store_product = df.groupby([\"Retailer\",\"Product\"])[[\"Total Sales\"]].mean().reset_index()\n",
    "df_store_product"
   ]
  },
  {
   "cell_type": "code",
   "execution_count": 50,
   "id": "8eac346f",
   "metadata": {},
   "outputs": [
    {
     "data": {
      "application/vnd.plotly.v1+json": {
       "config": {
        "plotlyServerURL": "https://plot.ly"
       },
       "data": [
        {
         "type": "bar",
         "x": [
          "Men's Apparel",
          "Men's Athletic Footwear",
          "Men's Street Footwear",
          "Women's Apparel",
          "Women's Athletic Footwear",
          "Women's Street Footwear"
         ],
         "xaxis": "x",
         "y": [
          66718.28125,
          75546.9140625,
          139381.453125,
          98809.046875,
          50223.1328125,
          59902.1484375
         ],
         "yaxis": "y"
        },
        {
         "type": "bar",
         "x": [
          "Men's Apparel",
          "Men's Athletic Footwear",
          "Men's Street Footwear",
          "Women's Apparel",
          "Women's Athletic Footwear",
          "Women's Street Footwear"
         ],
         "xaxis": "x2",
         "y": [
          68150.1015625,
          82534.875,
          128021.328125,
          99991.0234375,
          54840.77734375,
          66410.953125
         ],
         "yaxis": "y2"
        },
        {
         "type": "bar",
         "x": [
          "Men's Apparel",
          "Men's Athletic Footwear",
          "Men's Street Footwear",
          "Women's Apparel",
          "Women's Athletic Footwear",
          "Women's Street Footwear"
         ],
         "xaxis": "x3",
         "y": [
          66718.28125,
          75546.9140625,
          139381.453125,
          98809.046875,
          50223.1328125,
          59902.1484375,
          68150.1015625,
          82534.875,
          128021.328125,
          99991.0234375,
          54840.77734375,
          66410.953125,
          82836.0546875,
          103984.3984375,
          130355.078125,
          118111.8515625,
          73063.5625,
          86245.875,
          73230.9296875,
          91660.9296875,
          115439.609375,
          108836.53125,
          68477.1796875,
          81360.125,
          101687.4375,
          130773.1171875,
          147764.90625,
          143141.109375,
          85909.7265625,
          105698.7890625,
          84641.0546875,
          108095.5859375,
          134937.609375,
          119412.90625,
          76088.78125,
          90966.3671875
         ],
         "yaxis": "y3"
        },
        {
         "type": "bar",
         "x": [
          "Men's Apparel",
          "Men's Athletic Footwear",
          "Men's Street Footwear",
          "Women's Apparel",
          "Women's Athletic Footwear",
          "Women's Street Footwear"
         ],
         "xaxis": "x4",
         "y": [
          73230.9296875,
          91660.9296875,
          115439.609375,
          108836.53125,
          68477.1796875,
          81360.125
         ],
         "yaxis": "y4"
        },
        {
         "type": "bar",
         "x": [
          "Men's Apparel",
          "Men's Athletic Footwear",
          "Men's Street Footwear",
          "Women's Apparel",
          "Women's Athletic Footwear",
          "Women's Street Footwear"
         ],
         "xaxis": "x5",
         "y": [
          101687.4375,
          130773.1171875,
          147764.90625,
          143141.109375,
          85909.7265625,
          105698.7890625
         ],
         "yaxis": "y5"
        },
        {
         "type": "bar",
         "x": [
          "Men's Apparel",
          "Men's Athletic Footwear",
          "Men's Street Footwear",
          "Women's Apparel",
          "Women's Athletic Footwear",
          "Women's Street Footwear"
         ],
         "xaxis": "x6",
         "y": [
          84641.0546875,
          108095.5859375,
          134937.609375,
          119412.90625,
          76088.78125,
          90966.3671875
         ],
         "yaxis": "y6"
        }
       ],
       "layout": {
        "height": 1000,
        "template": {
         "data": {
          "bar": [
           {
            "error_x": {
             "color": "#2a3f5f"
            },
            "error_y": {
             "color": "#2a3f5f"
            },
            "marker": {
             "line": {
              "color": "#E5ECF6",
              "width": 0.5
             },
             "pattern": {
              "fillmode": "overlay",
              "size": 10,
              "solidity": 0.2
             }
            },
            "type": "bar"
           }
          ],
          "barpolar": [
           {
            "marker": {
             "line": {
              "color": "#E5ECF6",
              "width": 0.5
             },
             "pattern": {
              "fillmode": "overlay",
              "size": 10,
              "solidity": 0.2
             }
            },
            "type": "barpolar"
           }
          ],
          "carpet": [
           {
            "aaxis": {
             "endlinecolor": "#2a3f5f",
             "gridcolor": "white",
             "linecolor": "white",
             "minorgridcolor": "white",
             "startlinecolor": "#2a3f5f"
            },
            "baxis": {
             "endlinecolor": "#2a3f5f",
             "gridcolor": "white",
             "linecolor": "white",
             "minorgridcolor": "white",
             "startlinecolor": "#2a3f5f"
            },
            "type": "carpet"
           }
          ],
          "choropleth": [
           {
            "colorbar": {
             "outlinewidth": 0,
             "ticks": ""
            },
            "type": "choropleth"
           }
          ],
          "contour": [
           {
            "colorbar": {
             "outlinewidth": 0,
             "ticks": ""
            },
            "colorscale": [
             [
              0,
              "#0d0887"
             ],
             [
              0.1111111111111111,
              "#46039f"
             ],
             [
              0.2222222222222222,
              "#7201a8"
             ],
             [
              0.3333333333333333,
              "#9c179e"
             ],
             [
              0.4444444444444444,
              "#bd3786"
             ],
             [
              0.5555555555555556,
              "#d8576b"
             ],
             [
              0.6666666666666666,
              "#ed7953"
             ],
             [
              0.7777777777777778,
              "#fb9f3a"
             ],
             [
              0.8888888888888888,
              "#fdca26"
             ],
             [
              1,
              "#f0f921"
             ]
            ],
            "type": "contour"
           }
          ],
          "contourcarpet": [
           {
            "colorbar": {
             "outlinewidth": 0,
             "ticks": ""
            },
            "type": "contourcarpet"
           }
          ],
          "heatmap": [
           {
            "colorbar": {
             "outlinewidth": 0,
             "ticks": ""
            },
            "colorscale": [
             [
              0,
              "#0d0887"
             ],
             [
              0.1111111111111111,
              "#46039f"
             ],
             [
              0.2222222222222222,
              "#7201a8"
             ],
             [
              0.3333333333333333,
              "#9c179e"
             ],
             [
              0.4444444444444444,
              "#bd3786"
             ],
             [
              0.5555555555555556,
              "#d8576b"
             ],
             [
              0.6666666666666666,
              "#ed7953"
             ],
             [
              0.7777777777777778,
              "#fb9f3a"
             ],
             [
              0.8888888888888888,
              "#fdca26"
             ],
             [
              1,
              "#f0f921"
             ]
            ],
            "type": "heatmap"
           }
          ],
          "heatmapgl": [
           {
            "colorbar": {
             "outlinewidth": 0,
             "ticks": ""
            },
            "colorscale": [
             [
              0,
              "#0d0887"
             ],
             [
              0.1111111111111111,
              "#46039f"
             ],
             [
              0.2222222222222222,
              "#7201a8"
             ],
             [
              0.3333333333333333,
              "#9c179e"
             ],
             [
              0.4444444444444444,
              "#bd3786"
             ],
             [
              0.5555555555555556,
              "#d8576b"
             ],
             [
              0.6666666666666666,
              "#ed7953"
             ],
             [
              0.7777777777777778,
              "#fb9f3a"
             ],
             [
              0.8888888888888888,
              "#fdca26"
             ],
             [
              1,
              "#f0f921"
             ]
            ],
            "type": "heatmapgl"
           }
          ],
          "histogram": [
           {
            "marker": {
             "pattern": {
              "fillmode": "overlay",
              "size": 10,
              "solidity": 0.2
             }
            },
            "type": "histogram"
           }
          ],
          "histogram2d": [
           {
            "colorbar": {
             "outlinewidth": 0,
             "ticks": ""
            },
            "colorscale": [
             [
              0,
              "#0d0887"
             ],
             [
              0.1111111111111111,
              "#46039f"
             ],
             [
              0.2222222222222222,
              "#7201a8"
             ],
             [
              0.3333333333333333,
              "#9c179e"
             ],
             [
              0.4444444444444444,
              "#bd3786"
             ],
             [
              0.5555555555555556,
              "#d8576b"
             ],
             [
              0.6666666666666666,
              "#ed7953"
             ],
             [
              0.7777777777777778,
              "#fb9f3a"
             ],
             [
              0.8888888888888888,
              "#fdca26"
             ],
             [
              1,
              "#f0f921"
             ]
            ],
            "type": "histogram2d"
           }
          ],
          "histogram2dcontour": [
           {
            "colorbar": {
             "outlinewidth": 0,
             "ticks": ""
            },
            "colorscale": [
             [
              0,
              "#0d0887"
             ],
             [
              0.1111111111111111,
              "#46039f"
             ],
             [
              0.2222222222222222,
              "#7201a8"
             ],
             [
              0.3333333333333333,
              "#9c179e"
             ],
             [
              0.4444444444444444,
              "#bd3786"
             ],
             [
              0.5555555555555556,
              "#d8576b"
             ],
             [
              0.6666666666666666,
              "#ed7953"
             ],
             [
              0.7777777777777778,
              "#fb9f3a"
             ],
             [
              0.8888888888888888,
              "#fdca26"
             ],
             [
              1,
              "#f0f921"
             ]
            ],
            "type": "histogram2dcontour"
           }
          ],
          "mesh3d": [
           {
            "colorbar": {
             "outlinewidth": 0,
             "ticks": ""
            },
            "type": "mesh3d"
           }
          ],
          "parcoords": [
           {
            "line": {
             "colorbar": {
              "outlinewidth": 0,
              "ticks": ""
             }
            },
            "type": "parcoords"
           }
          ],
          "pie": [
           {
            "automargin": true,
            "type": "pie"
           }
          ],
          "scatter": [
           {
            "fillpattern": {
             "fillmode": "overlay",
             "size": 10,
             "solidity": 0.2
            },
            "type": "scatter"
           }
          ],
          "scatter3d": [
           {
            "line": {
             "colorbar": {
              "outlinewidth": 0,
              "ticks": ""
             }
            },
            "marker": {
             "colorbar": {
              "outlinewidth": 0,
              "ticks": ""
             }
            },
            "type": "scatter3d"
           }
          ],
          "scattercarpet": [
           {
            "marker": {
             "colorbar": {
              "outlinewidth": 0,
              "ticks": ""
             }
            },
            "type": "scattercarpet"
           }
          ],
          "scattergeo": [
           {
            "marker": {
             "colorbar": {
              "outlinewidth": 0,
              "ticks": ""
             }
            },
            "type": "scattergeo"
           }
          ],
          "scattergl": [
           {
            "marker": {
             "colorbar": {
              "outlinewidth": 0,
              "ticks": ""
             }
            },
            "type": "scattergl"
           }
          ],
          "scattermapbox": [
           {
            "marker": {
             "colorbar": {
              "outlinewidth": 0,
              "ticks": ""
             }
            },
            "type": "scattermapbox"
           }
          ],
          "scatterpolar": [
           {
            "marker": {
             "colorbar": {
              "outlinewidth": 0,
              "ticks": ""
             }
            },
            "type": "scatterpolar"
           }
          ],
          "scatterpolargl": [
           {
            "marker": {
             "colorbar": {
              "outlinewidth": 0,
              "ticks": ""
             }
            },
            "type": "scatterpolargl"
           }
          ],
          "scatterternary": [
           {
            "marker": {
             "colorbar": {
              "outlinewidth": 0,
              "ticks": ""
             }
            },
            "type": "scatterternary"
           }
          ],
          "surface": [
           {
            "colorbar": {
             "outlinewidth": 0,
             "ticks": ""
            },
            "colorscale": [
             [
              0,
              "#0d0887"
             ],
             [
              0.1111111111111111,
              "#46039f"
             ],
             [
              0.2222222222222222,
              "#7201a8"
             ],
             [
              0.3333333333333333,
              "#9c179e"
             ],
             [
              0.4444444444444444,
              "#bd3786"
             ],
             [
              0.5555555555555556,
              "#d8576b"
             ],
             [
              0.6666666666666666,
              "#ed7953"
             ],
             [
              0.7777777777777778,
              "#fb9f3a"
             ],
             [
              0.8888888888888888,
              "#fdca26"
             ],
             [
              1,
              "#f0f921"
             ]
            ],
            "type": "surface"
           }
          ],
          "table": [
           {
            "cells": {
             "fill": {
              "color": "#EBF0F8"
             },
             "line": {
              "color": "white"
             }
            },
            "header": {
             "fill": {
              "color": "#C8D4E3"
             },
             "line": {
              "color": "white"
             }
            },
            "type": "table"
           }
          ]
         },
         "layout": {
          "annotationdefaults": {
           "arrowcolor": "#2a3f5f",
           "arrowhead": 0,
           "arrowwidth": 1
          },
          "autotypenumbers": "strict",
          "coloraxis": {
           "colorbar": {
            "outlinewidth": 0,
            "ticks": ""
           }
          },
          "colorscale": {
           "diverging": [
            [
             0,
             "#8e0152"
            ],
            [
             0.1,
             "#c51b7d"
            ],
            [
             0.2,
             "#de77ae"
            ],
            [
             0.3,
             "#f1b6da"
            ],
            [
             0.4,
             "#fde0ef"
            ],
            [
             0.5,
             "#f7f7f7"
            ],
            [
             0.6,
             "#e6f5d0"
            ],
            [
             0.7,
             "#b8e186"
            ],
            [
             0.8,
             "#7fbc41"
            ],
            [
             0.9,
             "#4d9221"
            ],
            [
             1,
             "#276419"
            ]
           ],
           "sequential": [
            [
             0,
             "#0d0887"
            ],
            [
             0.1111111111111111,
             "#46039f"
            ],
            [
             0.2222222222222222,
             "#7201a8"
            ],
            [
             0.3333333333333333,
             "#9c179e"
            ],
            [
             0.4444444444444444,
             "#bd3786"
            ],
            [
             0.5555555555555556,
             "#d8576b"
            ],
            [
             0.6666666666666666,
             "#ed7953"
            ],
            [
             0.7777777777777778,
             "#fb9f3a"
            ],
            [
             0.8888888888888888,
             "#fdca26"
            ],
            [
             1,
             "#f0f921"
            ]
           ],
           "sequentialminus": [
            [
             0,
             "#0d0887"
            ],
            [
             0.1111111111111111,
             "#46039f"
            ],
            [
             0.2222222222222222,
             "#7201a8"
            ],
            [
             0.3333333333333333,
             "#9c179e"
            ],
            [
             0.4444444444444444,
             "#bd3786"
            ],
            [
             0.5555555555555556,
             "#d8576b"
            ],
            [
             0.6666666666666666,
             "#ed7953"
            ],
            [
             0.7777777777777778,
             "#fb9f3a"
            ],
            [
             0.8888888888888888,
             "#fdca26"
            ],
            [
             1,
             "#f0f921"
            ]
           ]
          },
          "colorway": [
           "#636efa",
           "#EF553B",
           "#00cc96",
           "#ab63fa",
           "#FFA15A",
           "#19d3f3",
           "#FF6692",
           "#B6E880",
           "#FF97FF",
           "#FECB52"
          ],
          "font": {
           "color": "#2a3f5f"
          },
          "geo": {
           "bgcolor": "white",
           "lakecolor": "white",
           "landcolor": "#E5ECF6",
           "showlakes": true,
           "showland": true,
           "subunitcolor": "white"
          },
          "hoverlabel": {
           "align": "left"
          },
          "hovermode": "closest",
          "mapbox": {
           "style": "light"
          },
          "paper_bgcolor": "white",
          "plot_bgcolor": "#E5ECF6",
          "polar": {
           "angularaxis": {
            "gridcolor": "white",
            "linecolor": "white",
            "ticks": ""
           },
           "bgcolor": "#E5ECF6",
           "radialaxis": {
            "gridcolor": "white",
            "linecolor": "white",
            "ticks": ""
           }
          },
          "scene": {
           "xaxis": {
            "backgroundcolor": "#E5ECF6",
            "gridcolor": "white",
            "gridwidth": 2,
            "linecolor": "white",
            "showbackground": true,
            "ticks": "",
            "zerolinecolor": "white"
           },
           "yaxis": {
            "backgroundcolor": "#E5ECF6",
            "gridcolor": "white",
            "gridwidth": 2,
            "linecolor": "white",
            "showbackground": true,
            "ticks": "",
            "zerolinecolor": "white"
           },
           "zaxis": {
            "backgroundcolor": "#E5ECF6",
            "gridcolor": "white",
            "gridwidth": 2,
            "linecolor": "white",
            "showbackground": true,
            "ticks": "",
            "zerolinecolor": "white"
           }
          },
          "shapedefaults": {
           "line": {
            "color": "#2a3f5f"
           }
          },
          "ternary": {
           "aaxis": {
            "gridcolor": "white",
            "linecolor": "white",
            "ticks": ""
           },
           "baxis": {
            "gridcolor": "white",
            "linecolor": "white",
            "ticks": ""
           },
           "bgcolor": "#E5ECF6",
           "caxis": {
            "gridcolor": "white",
            "linecolor": "white",
            "ticks": ""
           }
          },
          "title": {
           "x": 0.05
          },
          "xaxis": {
           "automargin": true,
           "gridcolor": "white",
           "linecolor": "white",
           "ticks": "",
           "title": {
            "standoff": 15
           },
           "zerolinecolor": "white",
           "zerolinewidth": 2
          },
          "yaxis": {
           "automargin": true,
           "gridcolor": "white",
           "linecolor": "white",
           "ticks": "",
           "title": {
            "standoff": 15
           },
           "zerolinecolor": "white",
           "zerolinewidth": 2
          }
         }
        },
        "xaxis": {
         "anchor": "y",
         "domain": [
          0,
          0.45
         ]
        },
        "xaxis2": {
         "anchor": "y2",
         "domain": [
          0.55,
          1
         ]
        },
        "xaxis3": {
         "anchor": "y3",
         "domain": [
          0,
          0.45
         ]
        },
        "xaxis4": {
         "anchor": "y4",
         "domain": [
          0.55,
          1
         ]
        },
        "xaxis5": {
         "anchor": "y5",
         "domain": [
          0,
          0.45
         ]
        },
        "xaxis6": {
         "anchor": "y6",
         "domain": [
          0.55,
          1
         ]
        },
        "yaxis": {
         "anchor": "x",
         "domain": [
          0.7333333333333333,
          1
         ]
        },
        "yaxis2": {
         "anchor": "x2",
         "domain": [
          0.7333333333333333,
          1
         ]
        },
        "yaxis3": {
         "anchor": "x3",
         "domain": [
          0.36666666666666664,
          0.6333333333333333
         ]
        },
        "yaxis4": {
         "anchor": "x4",
         "domain": [
          0.36666666666666664,
          0.6333333333333333
         ]
        },
        "yaxis5": {
         "anchor": "x5",
         "domain": [
          0,
          0.26666666666666666
         ]
        },
        "yaxis6": {
         "anchor": "x6",
         "domain": [
          0,
          0.26666666666666666
         ]
        }
       }
      }
     },
     "metadata": {},
     "output_type": "display_data"
    }
   ],
   "source": [
    "fig = make_subplots(rows=3,cols=2)\n",
    "\n",
    "fig.append_trace(go.Bar(x = df_store_product.loc[:5,\"Product\"], y = df_store_product.loc[:5,\"Total Sales\"]), row=1, col=1)\n",
    "fig.append_trace(go.Bar(x = df_store_product.loc[6:11,\"Product\"], y = df_store_product.loc[6:11,\"Total Sales\"]), row=1, col=2)\n",
    "fig.append_trace(go.Bar(x = df_store_product.loc[12:17,\"Product\"], y = df_store_product.loc[:1217,\"Total Sales\"]), row=2, col=1)\n",
    "fig.append_trace(go.Bar(x = df_store_product.loc[18:23,\"Product\"], y = df_store_product.loc[18:23,\"Total Sales\"]), row=2, col=2)\n",
    "fig.append_trace(go.Bar(x = df_store_product.loc[24:29,\"Product\"], y = df_store_product.loc[24:29,\"Total Sales\"]), row=3, col=1)\n",
    "fig.append_trace(go.Bar(x = df_store_product.loc[30::,\"Product\"], y = df_store_product.loc[30::,\"Total Sales\"]), row=3, col=2)\n",
    "fig.update_layout(height = 1000)\n",
    "fig.show()"
   ]
  },
  {
   "cell_type": "code",
   "execution_count": 51,
   "id": "a9cfad48",
   "metadata": {},
   "outputs": [
    {
     "data": {
      "text/plain": [
       "'January'"
      ]
     },
     "execution_count": 51,
     "metadata": {},
     "output_type": "execute_result"
    }
   ],
   "source": [
    "x = df.iloc[4,2]\n",
    "x.strftime(\"%B\")"
   ]
  },
  {
   "cell_type": "code",
   "execution_count": 52,
   "id": "6ab1e226",
   "metadata": {},
   "outputs": [
    {
     "data": {
      "text/html": [
       "<div>\n",
       "<style scoped>\n",
       "    .dataframe tbody tr th:only-of-type {\n",
       "        vertical-align: middle;\n",
       "    }\n",
       "\n",
       "    .dataframe tbody tr th {\n",
       "        vertical-align: top;\n",
       "    }\n",
       "\n",
       "    .dataframe thead th {\n",
       "        text-align: right;\n",
       "    }\n",
       "</style>\n",
       "<table border=\"1\" class=\"dataframe\">\n",
       "  <thead>\n",
       "    <tr style=\"text-align: right;\">\n",
       "      <th></th>\n",
       "      <th>Retailer</th>\n",
       "      <th>Retailer ID</th>\n",
       "      <th>Invoice Date</th>\n",
       "      <th>Region</th>\n",
       "      <th>State</th>\n",
       "      <th>City</th>\n",
       "      <th>Product</th>\n",
       "      <th>Price per Unit</th>\n",
       "      <th>Units Sold</th>\n",
       "      <th>Total Sales</th>\n",
       "      <th>Operating Profit</th>\n",
       "      <th>Operating Margin</th>\n",
       "      <th>Sales Method</th>\n",
       "    </tr>\n",
       "  </thead>\n",
       "  <tbody>\n",
       "    <tr>\n",
       "      <th>0</th>\n",
       "      <td>Foot Locker</td>\n",
       "      <td>1185732</td>\n",
       "      <td>2020-01-01 00:00:00</td>\n",
       "      <td>Northeast</td>\n",
       "      <td>New York</td>\n",
       "      <td>New York</td>\n",
       "      <td>Men's Street Footwear</td>\n",
       "      <td>50</td>\n",
       "      <td>1200</td>\n",
       "      <td>600000.0</td>\n",
       "      <td>300000.0</td>\n",
       "      <td>0.50</td>\n",
       "      <td>In-store</td>\n",
       "    </tr>\n",
       "    <tr>\n",
       "      <th>1</th>\n",
       "      <td>Foot Locker</td>\n",
       "      <td>1185732</td>\n",
       "      <td>2020-01-02 00:00:00</td>\n",
       "      <td>Northeast</td>\n",
       "      <td>New York</td>\n",
       "      <td>New York</td>\n",
       "      <td>Men's Athletic Footwear</td>\n",
       "      <td>50</td>\n",
       "      <td>1000</td>\n",
       "      <td>500000.0</td>\n",
       "      <td>150000.0</td>\n",
       "      <td>0.30</td>\n",
       "      <td>In-store</td>\n",
       "    </tr>\n",
       "    <tr>\n",
       "      <th>2</th>\n",
       "      <td>Foot Locker</td>\n",
       "      <td>1185732</td>\n",
       "      <td>2020-01-03 00:00:00</td>\n",
       "      <td>Northeast</td>\n",
       "      <td>New York</td>\n",
       "      <td>New York</td>\n",
       "      <td>Women's Street Footwear</td>\n",
       "      <td>40</td>\n",
       "      <td>1000</td>\n",
       "      <td>400000.0</td>\n",
       "      <td>140000.0</td>\n",
       "      <td>0.35</td>\n",
       "      <td>In-store</td>\n",
       "    </tr>\n",
       "    <tr>\n",
       "      <th>3</th>\n",
       "      <td>Foot Locker</td>\n",
       "      <td>1185732</td>\n",
       "      <td>2020-01-04 00:00:00</td>\n",
       "      <td>Northeast</td>\n",
       "      <td>New York</td>\n",
       "      <td>New York</td>\n",
       "      <td>Women's Athletic Footwear</td>\n",
       "      <td>45</td>\n",
       "      <td>850</td>\n",
       "      <td>382500.0</td>\n",
       "      <td>133875.0</td>\n",
       "      <td>0.35</td>\n",
       "      <td>In-store</td>\n",
       "    </tr>\n",
       "    <tr>\n",
       "      <th>4</th>\n",
       "      <td>Foot Locker</td>\n",
       "      <td>1185732</td>\n",
       "      <td>2020-01-05 00:00:00</td>\n",
       "      <td>Northeast</td>\n",
       "      <td>New York</td>\n",
       "      <td>New York</td>\n",
       "      <td>Men's Apparel</td>\n",
       "      <td>60</td>\n",
       "      <td>900</td>\n",
       "      <td>540000.0</td>\n",
       "      <td>162000.0</td>\n",
       "      <td>0.30</td>\n",
       "      <td>In-store</td>\n",
       "    </tr>\n",
       "    <tr>\n",
       "      <th>5</th>\n",
       "      <td>Foot Locker</td>\n",
       "      <td>1185732</td>\n",
       "      <td>2020-01-06 00:00:00</td>\n",
       "      <td>Northeast</td>\n",
       "      <td>New York</td>\n",
       "      <td>New York</td>\n",
       "      <td>Women's Apparel</td>\n",
       "      <td>50</td>\n",
       "      <td>1000</td>\n",
       "      <td>500000.0</td>\n",
       "      <td>125000.0</td>\n",
       "      <td>0.25</td>\n",
       "      <td>In-store</td>\n",
       "    </tr>\n",
       "    <tr>\n",
       "      <th>6</th>\n",
       "      <td>Foot Locker</td>\n",
       "      <td>1185732</td>\n",
       "      <td>2020-01-07 00:00:00</td>\n",
       "      <td>Northeast</td>\n",
       "      <td>New York</td>\n",
       "      <td>New York</td>\n",
       "      <td>Men's Street Footwear</td>\n",
       "      <td>50</td>\n",
       "      <td>1250</td>\n",
       "      <td>625000.0</td>\n",
       "      <td>312500.0</td>\n",
       "      <td>0.50</td>\n",
       "      <td>In-store</td>\n",
       "    </tr>\n",
       "    <tr>\n",
       "      <th>7</th>\n",
       "      <td>Foot Locker</td>\n",
       "      <td>1185732</td>\n",
       "      <td>2020-01-08 00:00:00</td>\n",
       "      <td>Northeast</td>\n",
       "      <td>New York</td>\n",
       "      <td>New York</td>\n",
       "      <td>Men's Athletic Footwear</td>\n",
       "      <td>50</td>\n",
       "      <td>900</td>\n",
       "      <td>450000.0</td>\n",
       "      <td>135000.0</td>\n",
       "      <td>0.30</td>\n",
       "      <td>Outlet</td>\n",
       "    </tr>\n",
       "    <tr>\n",
       "      <th>8</th>\n",
       "      <td>Foot Locker</td>\n",
       "      <td>1185732</td>\n",
       "      <td>2020-01-21 00:00:00</td>\n",
       "      <td>Northeast</td>\n",
       "      <td>New York</td>\n",
       "      <td>New York</td>\n",
       "      <td>Women's Street Footwear</td>\n",
       "      <td>40</td>\n",
       "      <td>950</td>\n",
       "      <td>380000.0</td>\n",
       "      <td>133000.0</td>\n",
       "      <td>0.35</td>\n",
       "      <td>Outlet</td>\n",
       "    </tr>\n",
       "    <tr>\n",
       "      <th>9</th>\n",
       "      <td>Foot Locker</td>\n",
       "      <td>1185732</td>\n",
       "      <td>2020-01-22 00:00:00</td>\n",
       "      <td>Northeast</td>\n",
       "      <td>New York</td>\n",
       "      <td>New York</td>\n",
       "      <td>Women's Athletic Footwear</td>\n",
       "      <td>45</td>\n",
       "      <td>825</td>\n",
       "      <td>371250.0</td>\n",
       "      <td>129937.5</td>\n",
       "      <td>0.35</td>\n",
       "      <td>Outlet</td>\n",
       "    </tr>\n",
       "  </tbody>\n",
       "</table>\n",
       "</div>"
      ],
      "text/plain": [
       "      Retailer Retailer ID         Invoice Date     Region     State  \\\n",
       "0  Foot Locker     1185732  2020-01-01 00:00:00  Northeast  New York   \n",
       "1  Foot Locker     1185732  2020-01-02 00:00:00  Northeast  New York   \n",
       "2  Foot Locker     1185732  2020-01-03 00:00:00  Northeast  New York   \n",
       "3  Foot Locker     1185732  2020-01-04 00:00:00  Northeast  New York   \n",
       "4  Foot Locker     1185732  2020-01-05 00:00:00  Northeast  New York   \n",
       "5  Foot Locker     1185732  2020-01-06 00:00:00  Northeast  New York   \n",
       "6  Foot Locker     1185732  2020-01-07 00:00:00  Northeast  New York   \n",
       "7  Foot Locker     1185732  2020-01-08 00:00:00  Northeast  New York   \n",
       "8  Foot Locker     1185732  2020-01-21 00:00:00  Northeast  New York   \n",
       "9  Foot Locker     1185732  2020-01-22 00:00:00  Northeast  New York   \n",
       "\n",
       "       City                    Product  Price per Unit  Units Sold  \\\n",
       "0  New York      Men's Street Footwear              50        1200   \n",
       "1  New York    Men's Athletic Footwear              50        1000   \n",
       "2  New York    Women's Street Footwear              40        1000   \n",
       "3  New York  Women's Athletic Footwear              45         850   \n",
       "4  New York              Men's Apparel              60         900   \n",
       "5  New York            Women's Apparel              50        1000   \n",
       "6  New York      Men's Street Footwear              50        1250   \n",
       "7  New York    Men's Athletic Footwear              50         900   \n",
       "8  New York    Women's Street Footwear              40         950   \n",
       "9  New York  Women's Athletic Footwear              45         825   \n",
       "\n",
       "   Total Sales  Operating Profit  Operating Margin Sales Method  \n",
       "0     600000.0          300000.0              0.50     In-store  \n",
       "1     500000.0          150000.0              0.30     In-store  \n",
       "2     400000.0          140000.0              0.35     In-store  \n",
       "3     382500.0          133875.0              0.35     In-store  \n",
       "4     540000.0          162000.0              0.30     In-store  \n",
       "5     500000.0          125000.0              0.25     In-store  \n",
       "6     625000.0          312500.0              0.50     In-store  \n",
       "7     450000.0          135000.0              0.30       Outlet  \n",
       "8     380000.0          133000.0              0.35       Outlet  \n",
       "9     371250.0          129937.5              0.35       Outlet  "
      ]
     },
     "execution_count": 52,
     "metadata": {},
     "output_type": "execute_result"
    }
   ],
   "source": [
    "data = df.iloc[0:10].copy()\n",
    "data"
   ]
  },
  {
   "cell_type": "code",
   "execution_count": 53,
   "id": "084f762e",
   "metadata": {},
   "outputs": [
    {
     "data": {
      "text/html": [
       "<div>\n",
       "<style scoped>\n",
       "    .dataframe tbody tr th:only-of-type {\n",
       "        vertical-align: middle;\n",
       "    }\n",
       "\n",
       "    .dataframe tbody tr th {\n",
       "        vertical-align: top;\n",
       "    }\n",
       "\n",
       "    .dataframe thead th {\n",
       "        text-align: right;\n",
       "    }\n",
       "</style>\n",
       "<table border=\"1\" class=\"dataframe\">\n",
       "  <thead>\n",
       "    <tr style=\"text-align: right;\">\n",
       "      <th></th>\n",
       "      <th>Retailer</th>\n",
       "      <th>Retailer ID</th>\n",
       "      <th>Invoice Date</th>\n",
       "      <th>Region</th>\n",
       "      <th>State</th>\n",
       "      <th>City</th>\n",
       "      <th>Product</th>\n",
       "      <th>Price per Unit</th>\n",
       "      <th>Units Sold</th>\n",
       "      <th>Total Sales</th>\n",
       "      <th>Operating Profit</th>\n",
       "      <th>Operating Margin</th>\n",
       "      <th>Sales Method</th>\n",
       "      <th>Month</th>\n",
       "    </tr>\n",
       "  </thead>\n",
       "  <tbody>\n",
       "    <tr>\n",
       "      <th>0</th>\n",
       "      <td>Foot Locker</td>\n",
       "      <td>1185732</td>\n",
       "      <td>2020-01-01 00:00:00</td>\n",
       "      <td>Northeast</td>\n",
       "      <td>New York</td>\n",
       "      <td>New York</td>\n",
       "      <td>Men's Street Footwear</td>\n",
       "      <td>50</td>\n",
       "      <td>1200</td>\n",
       "      <td>600000.0</td>\n",
       "      <td>300000.0</td>\n",
       "      <td>0.50</td>\n",
       "      <td>In-store</td>\n",
       "      <td>January</td>\n",
       "    </tr>\n",
       "    <tr>\n",
       "      <th>1</th>\n",
       "      <td>Foot Locker</td>\n",
       "      <td>1185732</td>\n",
       "      <td>2020-01-02 00:00:00</td>\n",
       "      <td>Northeast</td>\n",
       "      <td>New York</td>\n",
       "      <td>New York</td>\n",
       "      <td>Men's Athletic Footwear</td>\n",
       "      <td>50</td>\n",
       "      <td>1000</td>\n",
       "      <td>500000.0</td>\n",
       "      <td>150000.0</td>\n",
       "      <td>0.30</td>\n",
       "      <td>In-store</td>\n",
       "      <td>January</td>\n",
       "    </tr>\n",
       "    <tr>\n",
       "      <th>2</th>\n",
       "      <td>Foot Locker</td>\n",
       "      <td>1185732</td>\n",
       "      <td>2020-01-03 00:00:00</td>\n",
       "      <td>Northeast</td>\n",
       "      <td>New York</td>\n",
       "      <td>New York</td>\n",
       "      <td>Women's Street Footwear</td>\n",
       "      <td>40</td>\n",
       "      <td>1000</td>\n",
       "      <td>400000.0</td>\n",
       "      <td>140000.0</td>\n",
       "      <td>0.35</td>\n",
       "      <td>In-store</td>\n",
       "      <td>January</td>\n",
       "    </tr>\n",
       "    <tr>\n",
       "      <th>3</th>\n",
       "      <td>Foot Locker</td>\n",
       "      <td>1185732</td>\n",
       "      <td>2020-01-04 00:00:00</td>\n",
       "      <td>Northeast</td>\n",
       "      <td>New York</td>\n",
       "      <td>New York</td>\n",
       "      <td>Women's Athletic Footwear</td>\n",
       "      <td>45</td>\n",
       "      <td>850</td>\n",
       "      <td>382500.0</td>\n",
       "      <td>133875.0</td>\n",
       "      <td>0.35</td>\n",
       "      <td>In-store</td>\n",
       "      <td>January</td>\n",
       "    </tr>\n",
       "    <tr>\n",
       "      <th>4</th>\n",
       "      <td>Foot Locker</td>\n",
       "      <td>1185732</td>\n",
       "      <td>2020-01-05 00:00:00</td>\n",
       "      <td>Northeast</td>\n",
       "      <td>New York</td>\n",
       "      <td>New York</td>\n",
       "      <td>Men's Apparel</td>\n",
       "      <td>60</td>\n",
       "      <td>900</td>\n",
       "      <td>540000.0</td>\n",
       "      <td>162000.0</td>\n",
       "      <td>0.30</td>\n",
       "      <td>In-store</td>\n",
       "      <td>January</td>\n",
       "    </tr>\n",
       "  </tbody>\n",
       "</table>\n",
       "</div>"
      ],
      "text/plain": [
       "      Retailer Retailer ID         Invoice Date     Region     State  \\\n",
       "0  Foot Locker     1185732  2020-01-01 00:00:00  Northeast  New York   \n",
       "1  Foot Locker     1185732  2020-01-02 00:00:00  Northeast  New York   \n",
       "2  Foot Locker     1185732  2020-01-03 00:00:00  Northeast  New York   \n",
       "3  Foot Locker     1185732  2020-01-04 00:00:00  Northeast  New York   \n",
       "4  Foot Locker     1185732  2020-01-05 00:00:00  Northeast  New York   \n",
       "\n",
       "       City                    Product  Price per Unit  Units Sold  \\\n",
       "0  New York      Men's Street Footwear              50        1200   \n",
       "1  New York    Men's Athletic Footwear              50        1000   \n",
       "2  New York    Women's Street Footwear              40        1000   \n",
       "3  New York  Women's Athletic Footwear              45         850   \n",
       "4  New York              Men's Apparel              60         900   \n",
       "\n",
       "   Total Sales  Operating Profit  Operating Margin Sales Method    Month  \n",
       "0     600000.0          300000.0              0.50     In-store  January  \n",
       "1     500000.0          150000.0              0.30     In-store  January  \n",
       "2     400000.0          140000.0              0.35     In-store  January  \n",
       "3     382500.0          133875.0              0.35     In-store  January  \n",
       "4     540000.0          162000.0              0.30     In-store  January  "
      ]
     },
     "execution_count": 53,
     "metadata": {},
     "output_type": "execute_result"
    }
   ],
   "source": [
    "month = []\n",
    "for date in data[\"Invoice Date\"]:\n",
    "    m = date.strftime(\"%B\")\n",
    "    month.append(m)\n",
    "\n",
    "data[\"Month\"] = month\n",
    "data.head()"
   ]
  },
  {
   "cell_type": "code",
   "execution_count": 54,
   "id": "059cb713",
   "metadata": {},
   "outputs": [
    {
     "data": {
      "text/html": [
       "<div>\n",
       "<style scoped>\n",
       "    .dataframe tbody tr th:only-of-type {\n",
       "        vertical-align: middle;\n",
       "    }\n",
       "\n",
       "    .dataframe tbody tr th {\n",
       "        vertical-align: top;\n",
       "    }\n",
       "\n",
       "    .dataframe thead th {\n",
       "        text-align: right;\n",
       "    }\n",
       "</style>\n",
       "<table border=\"1\" class=\"dataframe\">\n",
       "  <thead>\n",
       "    <tr style=\"text-align: right;\">\n",
       "      <th></th>\n",
       "      <th>Retailer</th>\n",
       "      <th>Retailer ID</th>\n",
       "      <th>Invoice Date</th>\n",
       "      <th>Region</th>\n",
       "      <th>State</th>\n",
       "      <th>City</th>\n",
       "      <th>Product</th>\n",
       "      <th>Price per Unit</th>\n",
       "      <th>Units Sold</th>\n",
       "      <th>Total Sales</th>\n",
       "      <th>Operating Profit</th>\n",
       "      <th>Operating Margin</th>\n",
       "      <th>Sales Method</th>\n",
       "      <th>Month</th>\n",
       "    </tr>\n",
       "  </thead>\n",
       "  <tbody>\n",
       "    <tr>\n",
       "      <th>0</th>\n",
       "      <td>Foot Locker</td>\n",
       "      <td>1185732</td>\n",
       "      <td>2020-01-01 00:00:00</td>\n",
       "      <td>Northeast</td>\n",
       "      <td>New York</td>\n",
       "      <td>New York</td>\n",
       "      <td>Men's Street Footwear</td>\n",
       "      <td>50</td>\n",
       "      <td>1200</td>\n",
       "      <td>600000.0</td>\n",
       "      <td>300000.0</td>\n",
       "      <td>0.50</td>\n",
       "      <td>In-store</td>\n",
       "      <td>January</td>\n",
       "    </tr>\n",
       "    <tr>\n",
       "      <th>1</th>\n",
       "      <td>Foot Locker</td>\n",
       "      <td>1185732</td>\n",
       "      <td>2020-01-02 00:00:00</td>\n",
       "      <td>Northeast</td>\n",
       "      <td>New York</td>\n",
       "      <td>New York</td>\n",
       "      <td>Men's Athletic Footwear</td>\n",
       "      <td>50</td>\n",
       "      <td>1000</td>\n",
       "      <td>500000.0</td>\n",
       "      <td>150000.0</td>\n",
       "      <td>0.30</td>\n",
       "      <td>In-store</td>\n",
       "      <td>January</td>\n",
       "    </tr>\n",
       "    <tr>\n",
       "      <th>2</th>\n",
       "      <td>Foot Locker</td>\n",
       "      <td>1185732</td>\n",
       "      <td>2020-01-03 00:00:00</td>\n",
       "      <td>Northeast</td>\n",
       "      <td>New York</td>\n",
       "      <td>New York</td>\n",
       "      <td>Women's Street Footwear</td>\n",
       "      <td>40</td>\n",
       "      <td>1000</td>\n",
       "      <td>400000.0</td>\n",
       "      <td>140000.0</td>\n",
       "      <td>0.35</td>\n",
       "      <td>In-store</td>\n",
       "      <td>January</td>\n",
       "    </tr>\n",
       "    <tr>\n",
       "      <th>3</th>\n",
       "      <td>Foot Locker</td>\n",
       "      <td>1185732</td>\n",
       "      <td>2020-01-04 00:00:00</td>\n",
       "      <td>Northeast</td>\n",
       "      <td>New York</td>\n",
       "      <td>New York</td>\n",
       "      <td>Women's Athletic Footwear</td>\n",
       "      <td>45</td>\n",
       "      <td>850</td>\n",
       "      <td>382500.0</td>\n",
       "      <td>133875.0</td>\n",
       "      <td>0.35</td>\n",
       "      <td>In-store</td>\n",
       "      <td>January</td>\n",
       "    </tr>\n",
       "    <tr>\n",
       "      <th>4</th>\n",
       "      <td>Foot Locker</td>\n",
       "      <td>1185732</td>\n",
       "      <td>2020-01-05 00:00:00</td>\n",
       "      <td>Northeast</td>\n",
       "      <td>New York</td>\n",
       "      <td>New York</td>\n",
       "      <td>Men's Apparel</td>\n",
       "      <td>60</td>\n",
       "      <td>900</td>\n",
       "      <td>540000.0</td>\n",
       "      <td>162000.0</td>\n",
       "      <td>0.30</td>\n",
       "      <td>In-store</td>\n",
       "      <td>January</td>\n",
       "    </tr>\n",
       "  </tbody>\n",
       "</table>\n",
       "</div>"
      ],
      "text/plain": [
       "      Retailer Retailer ID         Invoice Date     Region     State  \\\n",
       "0  Foot Locker     1185732  2020-01-01 00:00:00  Northeast  New York   \n",
       "1  Foot Locker     1185732  2020-01-02 00:00:00  Northeast  New York   \n",
       "2  Foot Locker     1185732  2020-01-03 00:00:00  Northeast  New York   \n",
       "3  Foot Locker     1185732  2020-01-04 00:00:00  Northeast  New York   \n",
       "4  Foot Locker     1185732  2020-01-05 00:00:00  Northeast  New York   \n",
       "\n",
       "       City                    Product  Price per Unit  Units Sold  \\\n",
       "0  New York      Men's Street Footwear              50        1200   \n",
       "1  New York    Men's Athletic Footwear              50        1000   \n",
       "2  New York    Women's Street Footwear              40        1000   \n",
       "3  New York  Women's Athletic Footwear              45         850   \n",
       "4  New York              Men's Apparel              60         900   \n",
       "\n",
       "   Total Sales  Operating Profit  Operating Margin Sales Method    Month  \n",
       "0     600000.0          300000.0              0.50     In-store  January  \n",
       "1     500000.0          150000.0              0.30     In-store  January  \n",
       "2     400000.0          140000.0              0.35     In-store  January  \n",
       "3     382500.0          133875.0              0.35     In-store  January  \n",
       "4     540000.0          162000.0              0.30     In-store  January  "
      ]
     },
     "execution_count": 54,
     "metadata": {},
     "output_type": "execute_result"
    }
   ],
   "source": [
    "month_df = df.copy()\n",
    "month = []\n",
    "for date in month_df[\"Invoice Date\"]:\n",
    "    m = date.strftime(\"%B\")\n",
    "    month.append(m)\n",
    "\n",
    "month_df[\"Month\"] = month\n",
    "month_df.head()"
   ]
  },
  {
   "cell_type": "code",
   "execution_count": 55,
   "id": "21c32703",
   "metadata": {},
   "outputs": [
    {
     "data": {
      "text/html": [
       "<div>\n",
       "<style scoped>\n",
       "    .dataframe tbody tr th:only-of-type {\n",
       "        vertical-align: middle;\n",
       "    }\n",
       "\n",
       "    .dataframe tbody tr th {\n",
       "        vertical-align: top;\n",
       "    }\n",
       "\n",
       "    .dataframe thead th {\n",
       "        text-align: right;\n",
       "    }\n",
       "</style>\n",
       "<table border=\"1\" class=\"dataframe\">\n",
       "  <thead>\n",
       "    <tr style=\"text-align: right;\">\n",
       "      <th></th>\n",
       "      <th>Retailer</th>\n",
       "      <th>Retailer ID</th>\n",
       "      <th>Invoice Date</th>\n",
       "      <th>Region</th>\n",
       "      <th>State</th>\n",
       "      <th>City</th>\n",
       "      <th>Product</th>\n",
       "      <th>Price per Unit</th>\n",
       "      <th>Units Sold</th>\n",
       "      <th>Total Sales</th>\n",
       "      <th>Operating Profit</th>\n",
       "      <th>Operating Margin</th>\n",
       "      <th>Sales Method</th>\n",
       "      <th>Month</th>\n",
       "    </tr>\n",
       "  </thead>\n",
       "  <tbody>\n",
       "    <tr>\n",
       "      <th>0</th>\n",
       "      <td>Foot Locker</td>\n",
       "      <td>1185732</td>\n",
       "      <td>2020-01-01 00:00:00</td>\n",
       "      <td>Northeast</td>\n",
       "      <td>New York</td>\n",
       "      <td>New York</td>\n",
       "      <td>Men's Street Footwear</td>\n",
       "      <td>50</td>\n",
       "      <td>1200</td>\n",
       "      <td>600000.0</td>\n",
       "      <td>300000.000000</td>\n",
       "      <td>0.50</td>\n",
       "      <td>In-store</td>\n",
       "      <td>January</td>\n",
       "    </tr>\n",
       "    <tr>\n",
       "      <th>1</th>\n",
       "      <td>Foot Locker</td>\n",
       "      <td>1185732</td>\n",
       "      <td>2020-01-02 00:00:00</td>\n",
       "      <td>Northeast</td>\n",
       "      <td>New York</td>\n",
       "      <td>New York</td>\n",
       "      <td>Men's Athletic Footwear</td>\n",
       "      <td>50</td>\n",
       "      <td>1000</td>\n",
       "      <td>500000.0</td>\n",
       "      <td>150000.000000</td>\n",
       "      <td>0.30</td>\n",
       "      <td>In-store</td>\n",
       "      <td>January</td>\n",
       "    </tr>\n",
       "    <tr>\n",
       "      <th>2</th>\n",
       "      <td>Foot Locker</td>\n",
       "      <td>1185732</td>\n",
       "      <td>2020-01-03 00:00:00</td>\n",
       "      <td>Northeast</td>\n",
       "      <td>New York</td>\n",
       "      <td>New York</td>\n",
       "      <td>Women's Street Footwear</td>\n",
       "      <td>40</td>\n",
       "      <td>1000</td>\n",
       "      <td>400000.0</td>\n",
       "      <td>140000.000000</td>\n",
       "      <td>0.35</td>\n",
       "      <td>In-store</td>\n",
       "      <td>January</td>\n",
       "    </tr>\n",
       "    <tr>\n",
       "      <th>3</th>\n",
       "      <td>Foot Locker</td>\n",
       "      <td>1185732</td>\n",
       "      <td>2020-01-04 00:00:00</td>\n",
       "      <td>Northeast</td>\n",
       "      <td>New York</td>\n",
       "      <td>New York</td>\n",
       "      <td>Women's Athletic Footwear</td>\n",
       "      <td>45</td>\n",
       "      <td>850</td>\n",
       "      <td>382500.0</td>\n",
       "      <td>133875.000000</td>\n",
       "      <td>0.35</td>\n",
       "      <td>In-store</td>\n",
       "      <td>January</td>\n",
       "    </tr>\n",
       "    <tr>\n",
       "      <th>4</th>\n",
       "      <td>Foot Locker</td>\n",
       "      <td>1185732</td>\n",
       "      <td>2020-01-05 00:00:00</td>\n",
       "      <td>Northeast</td>\n",
       "      <td>New York</td>\n",
       "      <td>New York</td>\n",
       "      <td>Men's Apparel</td>\n",
       "      <td>60</td>\n",
       "      <td>900</td>\n",
       "      <td>540000.0</td>\n",
       "      <td>162000.000000</td>\n",
       "      <td>0.30</td>\n",
       "      <td>In-store</td>\n",
       "      <td>January</td>\n",
       "    </tr>\n",
       "    <tr>\n",
       "      <th>...</th>\n",
       "      <td>...</td>\n",
       "      <td>...</td>\n",
       "      <td>...</td>\n",
       "      <td>...</td>\n",
       "      <td>...</td>\n",
       "      <td>...</td>\n",
       "      <td>...</td>\n",
       "      <td>...</td>\n",
       "      <td>...</td>\n",
       "      <td>...</td>\n",
       "      <td>...</td>\n",
       "      <td>...</td>\n",
       "      <td>...</td>\n",
       "      <td>...</td>\n",
       "    </tr>\n",
       "    <tr>\n",
       "      <th>9643</th>\n",
       "      <td>Foot Locker</td>\n",
       "      <td>1185732</td>\n",
       "      <td>2021-01-24 00:00:00</td>\n",
       "      <td>Northeast</td>\n",
       "      <td>New Hampshire</td>\n",
       "      <td>Manchester</td>\n",
       "      <td>Men's Apparel</td>\n",
       "      <td>50</td>\n",
       "      <td>64</td>\n",
       "      <td>3200.0</td>\n",
       "      <td>896.000000</td>\n",
       "      <td>0.28</td>\n",
       "      <td>Outlet</td>\n",
       "      <td>January</td>\n",
       "    </tr>\n",
       "    <tr>\n",
       "      <th>9644</th>\n",
       "      <td>Foot Locker</td>\n",
       "      <td>1185732</td>\n",
       "      <td>2021-01-24 00:00:00</td>\n",
       "      <td>Northeast</td>\n",
       "      <td>New Hampshire</td>\n",
       "      <td>Manchester</td>\n",
       "      <td>Women's Apparel</td>\n",
       "      <td>41</td>\n",
       "      <td>105</td>\n",
       "      <td>4305.0</td>\n",
       "      <td>1377.599976</td>\n",
       "      <td>0.32</td>\n",
       "      <td>Outlet</td>\n",
       "      <td>January</td>\n",
       "    </tr>\n",
       "    <tr>\n",
       "      <th>9645</th>\n",
       "      <td>Foot Locker</td>\n",
       "      <td>1185732</td>\n",
       "      <td>2021-02-22 00:00:00</td>\n",
       "      <td>Northeast</td>\n",
       "      <td>New Hampshire</td>\n",
       "      <td>Manchester</td>\n",
       "      <td>Men's Street Footwear</td>\n",
       "      <td>41</td>\n",
       "      <td>184</td>\n",
       "      <td>7544.0</td>\n",
       "      <td>2791.280029</td>\n",
       "      <td>0.37</td>\n",
       "      <td>Outlet</td>\n",
       "      <td>February</td>\n",
       "    </tr>\n",
       "    <tr>\n",
       "      <th>9646</th>\n",
       "      <td>Foot Locker</td>\n",
       "      <td>1185732</td>\n",
       "      <td>2021-02-22 00:00:00</td>\n",
       "      <td>Northeast</td>\n",
       "      <td>New Hampshire</td>\n",
       "      <td>Manchester</td>\n",
       "      <td>Men's Athletic Footwear</td>\n",
       "      <td>42</td>\n",
       "      <td>70</td>\n",
       "      <td>2940.0</td>\n",
       "      <td>1234.800049</td>\n",
       "      <td>0.42</td>\n",
       "      <td>Outlet</td>\n",
       "      <td>February</td>\n",
       "    </tr>\n",
       "    <tr>\n",
       "      <th>9647</th>\n",
       "      <td>Foot Locker</td>\n",
       "      <td>1185732</td>\n",
       "      <td>2021-02-22 00:00:00</td>\n",
       "      <td>Northeast</td>\n",
       "      <td>New Hampshire</td>\n",
       "      <td>Manchester</td>\n",
       "      <td>Women's Street Footwear</td>\n",
       "      <td>29</td>\n",
       "      <td>83</td>\n",
       "      <td>2407.0</td>\n",
       "      <td>649.890015</td>\n",
       "      <td>0.27</td>\n",
       "      <td>Outlet</td>\n",
       "      <td>February</td>\n",
       "    </tr>\n",
       "  </tbody>\n",
       "</table>\n",
       "<p>9648 rows × 14 columns</p>\n",
       "</div>"
      ],
      "text/plain": [
       "         Retailer Retailer ID         Invoice Date     Region          State  \\\n",
       "0     Foot Locker     1185732  2020-01-01 00:00:00  Northeast       New York   \n",
       "1     Foot Locker     1185732  2020-01-02 00:00:00  Northeast       New York   \n",
       "2     Foot Locker     1185732  2020-01-03 00:00:00  Northeast       New York   \n",
       "3     Foot Locker     1185732  2020-01-04 00:00:00  Northeast       New York   \n",
       "4     Foot Locker     1185732  2020-01-05 00:00:00  Northeast       New York   \n",
       "...           ...         ...                  ...        ...            ...   \n",
       "9643  Foot Locker     1185732  2021-01-24 00:00:00  Northeast  New Hampshire   \n",
       "9644  Foot Locker     1185732  2021-01-24 00:00:00  Northeast  New Hampshire   \n",
       "9645  Foot Locker     1185732  2021-02-22 00:00:00  Northeast  New Hampshire   \n",
       "9646  Foot Locker     1185732  2021-02-22 00:00:00  Northeast  New Hampshire   \n",
       "9647  Foot Locker     1185732  2021-02-22 00:00:00  Northeast  New Hampshire   \n",
       "\n",
       "            City                    Product  Price per Unit  Units Sold  \\\n",
       "0       New York      Men's Street Footwear              50        1200   \n",
       "1       New York    Men's Athletic Footwear              50        1000   \n",
       "2       New York    Women's Street Footwear              40        1000   \n",
       "3       New York  Women's Athletic Footwear              45         850   \n",
       "4       New York              Men's Apparel              60         900   \n",
       "...          ...                        ...             ...         ...   \n",
       "9643  Manchester              Men's Apparel              50          64   \n",
       "9644  Manchester            Women's Apparel              41         105   \n",
       "9645  Manchester      Men's Street Footwear              41         184   \n",
       "9646  Manchester    Men's Athletic Footwear              42          70   \n",
       "9647  Manchester    Women's Street Footwear              29          83   \n",
       "\n",
       "      Total Sales  Operating Profit  Operating Margin Sales Method     Month  \n",
       "0        600000.0     300000.000000              0.50     In-store   January  \n",
       "1        500000.0     150000.000000              0.30     In-store   January  \n",
       "2        400000.0     140000.000000              0.35     In-store   January  \n",
       "3        382500.0     133875.000000              0.35     In-store   January  \n",
       "4        540000.0     162000.000000              0.30     In-store   January  \n",
       "...           ...               ...               ...          ...       ...  \n",
       "9643       3200.0        896.000000              0.28       Outlet   January  \n",
       "9644       4305.0       1377.599976              0.32       Outlet   January  \n",
       "9645       7544.0       2791.280029              0.37       Outlet  February  \n",
       "9646       2940.0       1234.800049              0.42       Outlet  February  \n",
       "9647       2407.0        649.890015              0.27       Outlet  February  \n",
       "\n",
       "[9648 rows x 14 columns]"
      ]
     },
     "execution_count": 55,
     "metadata": {},
     "output_type": "execute_result"
    }
   ],
   "source": [
    "month_df"
   ]
  },
  {
   "cell_type": "code",
   "execution_count": 56,
   "id": "56699d0d",
   "metadata": {},
   "outputs": [
    {
     "data": {
      "text/plain": [
       "array(['New York', 'Texas', 'California', 'Illinois', 'Pennsylvania',\n",
       "       'Nevada', 'Colorado', 'Washington', 'Florida', 'Minnesota',\n",
       "       'Montana', 'Tennessee', 'Nebraska', 'Alabama', 'Maine', 'Alaska',\n",
       "       'Hawaii', 'Wyoming', 'Virginia', 'Michigan', 'Missouri', 'Utah',\n",
       "       'Oregon', 'Louisiana', 'Idaho', 'Arizona', 'New Mexico', 'Georgia',\n",
       "       'South Carolina', 'North Carolina', 'Ohio', 'Kentucky',\n",
       "       'Mississippi', 'Arkansas', 'Oklahoma', 'Kansas', 'South Dakota',\n",
       "       'North Dakota', 'Iowa', 'Wisconsin', 'Indiana', 'West Virginia',\n",
       "       'Maryland', 'Delaware', 'New Jersey', 'Connecticut',\n",
       "       'Rhode Island', 'Massachusetts', 'Vermont', 'New Hampshire'],\n",
       "      dtype=object)"
      ]
     },
     "execution_count": 56,
     "metadata": {},
     "output_type": "execute_result"
    }
   ],
   "source": [
    "df[\"State\"].unique()"
   ]
  },
  {
   "cell_type": "code",
   "execution_count": 57,
   "id": "04ecb167",
   "metadata": {},
   "outputs": [
    {
     "data": {
      "text/html": [
       "<div>\n",
       "<style scoped>\n",
       "    .dataframe tbody tr th:only-of-type {\n",
       "        vertical-align: middle;\n",
       "    }\n",
       "\n",
       "    .dataframe tbody tr th {\n",
       "        vertical-align: top;\n",
       "    }\n",
       "\n",
       "    .dataframe thead th {\n",
       "        text-align: right;\n",
       "    }\n",
       "</style>\n",
       "<table border=\"1\" class=\"dataframe\">\n",
       "  <thead>\n",
       "    <tr style=\"text-align: right;\">\n",
       "      <th></th>\n",
       "      <th>State</th>\n",
       "      <th>Retailer</th>\n",
       "    </tr>\n",
       "  </thead>\n",
       "  <tbody>\n",
       "    <tr>\n",
       "      <th>42</th>\n",
       "      <td>Texas</td>\n",
       "      <td>432</td>\n",
       "    </tr>\n",
       "    <tr>\n",
       "      <th>4</th>\n",
       "      <td>California</td>\n",
       "      <td>432</td>\n",
       "    </tr>\n",
       "    <tr>\n",
       "      <th>31</th>\n",
       "      <td>New York</td>\n",
       "      <td>360</td>\n",
       "    </tr>\n",
       "    <tr>\n",
       "      <th>8</th>\n",
       "      <td>Florida</td>\n",
       "      <td>360</td>\n",
       "    </tr>\n",
       "    <tr>\n",
       "      <th>30</th>\n",
       "      <td>New Mexico</td>\n",
       "      <td>216</td>\n",
       "    </tr>\n",
       "  </tbody>\n",
       "</table>\n",
       "</div>"
      ],
      "text/plain": [
       "         State  Retailer\n",
       "42       Texas       432\n",
       "4   California       432\n",
       "31    New York       360\n",
       "8      Florida       360\n",
       "30  New Mexico       216"
      ]
     },
     "execution_count": 57,
     "metadata": {},
     "output_type": "execute_result"
    }
   ],
   "source": [
    "df_state =  df.groupby([\"State\"])[[\"Retailer\"]].count().reset_index().sort_values(by = \"Retailer\",ascending = False)\n",
    "df_state.head()"
   ]
  },
  {
   "cell_type": "code",
   "execution_count": 58,
   "id": "644f116a",
   "metadata": {},
   "outputs": [
    {
     "data": {
      "text/html": [
       "<div>\n",
       "<style scoped>\n",
       "    .dataframe tbody tr th:only-of-type {\n",
       "        vertical-align: middle;\n",
       "    }\n",
       "\n",
       "    .dataframe tbody tr th {\n",
       "        vertical-align: top;\n",
       "    }\n",
       "\n",
       "    .dataframe thead th {\n",
       "        text-align: right;\n",
       "    }\n",
       "</style>\n",
       "<table border=\"1\" class=\"dataframe\">\n",
       "  <thead>\n",
       "    <tr style=\"text-align: right;\">\n",
       "      <th></th>\n",
       "      <th>Retailer</th>\n",
       "      <th>Count</th>\n",
       "    </tr>\n",
       "  </thead>\n",
       "  <tbody>\n",
       "    <tr>\n",
       "      <th>0</th>\n",
       "      <td>Foot Locker</td>\n",
       "      <td>12</td>\n",
       "    </tr>\n",
       "    <tr>\n",
       "      <th>1</th>\n",
       "      <td>Sports Direct</td>\n",
       "      <td>258</td>\n",
       "    </tr>\n",
       "    <tr>\n",
       "      <th>2</th>\n",
       "      <td>Walmart</td>\n",
       "      <td>150</td>\n",
       "    </tr>\n",
       "    <tr>\n",
       "      <th>3</th>\n",
       "      <td>West Gear</td>\n",
       "      <td>12</td>\n",
       "    </tr>\n",
       "  </tbody>\n",
       "</table>\n",
       "</div>"
      ],
      "text/plain": [
       "        Retailer  Count\n",
       "0    Foot Locker     12\n",
       "1  Sports Direct    258\n",
       "2        Walmart    150\n",
       "3      West Gear     12"
      ]
     },
     "execution_count": 58,
     "metadata": {},
     "output_type": "execute_result"
    }
   ],
   "source": [
    "df_texas = df[df[\"State\"] == \"Texas\"]\n",
    "a = df_texas.groupby(\"Retailer\")[[\"State\"]].count().reset_index().rename(columns={\"State\":\"Count\"})\n",
    "a"
   ]
  },
  {
   "cell_type": "code",
   "execution_count": 59,
   "id": "7f7a49a0",
   "metadata": {},
   "outputs": [
    {
     "data": {
      "application/vnd.plotly.v1+json": {
       "config": {
        "plotlyServerURL": "https://plot.ly"
       },
       "data": [
        {
         "alignmentgroup": "True",
         "hovertemplate": "Retailer=%{x}<br>Count=%{y}<extra></extra>",
         "legendgroup": "",
         "marker": {
          "color": "#636efa",
          "pattern": {
           "shape": ""
          }
         },
         "name": "",
         "offsetgroup": "",
         "orientation": "v",
         "showlegend": false,
         "textposition": "auto",
         "type": "bar",
         "x": [
          "Foot Locker",
          "Sports Direct",
          "Walmart",
          "West Gear"
         ],
         "xaxis": "x",
         "y": [
          12,
          258,
          150,
          12
         ],
         "yaxis": "y"
        }
       ],
       "layout": {
        "barmode": "relative",
        "legend": {
         "tracegroupgap": 0
        },
        "margin": {
         "t": 60
        },
        "template": {
         "data": {
          "bar": [
           {
            "error_x": {
             "color": "#2a3f5f"
            },
            "error_y": {
             "color": "#2a3f5f"
            },
            "marker": {
             "line": {
              "color": "#E5ECF6",
              "width": 0.5
             },
             "pattern": {
              "fillmode": "overlay",
              "size": 10,
              "solidity": 0.2
             }
            },
            "type": "bar"
           }
          ],
          "barpolar": [
           {
            "marker": {
             "line": {
              "color": "#E5ECF6",
              "width": 0.5
             },
             "pattern": {
              "fillmode": "overlay",
              "size": 10,
              "solidity": 0.2
             }
            },
            "type": "barpolar"
           }
          ],
          "carpet": [
           {
            "aaxis": {
             "endlinecolor": "#2a3f5f",
             "gridcolor": "white",
             "linecolor": "white",
             "minorgridcolor": "white",
             "startlinecolor": "#2a3f5f"
            },
            "baxis": {
             "endlinecolor": "#2a3f5f",
             "gridcolor": "white",
             "linecolor": "white",
             "minorgridcolor": "white",
             "startlinecolor": "#2a3f5f"
            },
            "type": "carpet"
           }
          ],
          "choropleth": [
           {
            "colorbar": {
             "outlinewidth": 0,
             "ticks": ""
            },
            "type": "choropleth"
           }
          ],
          "contour": [
           {
            "colorbar": {
             "outlinewidth": 0,
             "ticks": ""
            },
            "colorscale": [
             [
              0,
              "#0d0887"
             ],
             [
              0.1111111111111111,
              "#46039f"
             ],
             [
              0.2222222222222222,
              "#7201a8"
             ],
             [
              0.3333333333333333,
              "#9c179e"
             ],
             [
              0.4444444444444444,
              "#bd3786"
             ],
             [
              0.5555555555555556,
              "#d8576b"
             ],
             [
              0.6666666666666666,
              "#ed7953"
             ],
             [
              0.7777777777777778,
              "#fb9f3a"
             ],
             [
              0.8888888888888888,
              "#fdca26"
             ],
             [
              1,
              "#f0f921"
             ]
            ],
            "type": "contour"
           }
          ],
          "contourcarpet": [
           {
            "colorbar": {
             "outlinewidth": 0,
             "ticks": ""
            },
            "type": "contourcarpet"
           }
          ],
          "heatmap": [
           {
            "colorbar": {
             "outlinewidth": 0,
             "ticks": ""
            },
            "colorscale": [
             [
              0,
              "#0d0887"
             ],
             [
              0.1111111111111111,
              "#46039f"
             ],
             [
              0.2222222222222222,
              "#7201a8"
             ],
             [
              0.3333333333333333,
              "#9c179e"
             ],
             [
              0.4444444444444444,
              "#bd3786"
             ],
             [
              0.5555555555555556,
              "#d8576b"
             ],
             [
              0.6666666666666666,
              "#ed7953"
             ],
             [
              0.7777777777777778,
              "#fb9f3a"
             ],
             [
              0.8888888888888888,
              "#fdca26"
             ],
             [
              1,
              "#f0f921"
             ]
            ],
            "type": "heatmap"
           }
          ],
          "heatmapgl": [
           {
            "colorbar": {
             "outlinewidth": 0,
             "ticks": ""
            },
            "colorscale": [
             [
              0,
              "#0d0887"
             ],
             [
              0.1111111111111111,
              "#46039f"
             ],
             [
              0.2222222222222222,
              "#7201a8"
             ],
             [
              0.3333333333333333,
              "#9c179e"
             ],
             [
              0.4444444444444444,
              "#bd3786"
             ],
             [
              0.5555555555555556,
              "#d8576b"
             ],
             [
              0.6666666666666666,
              "#ed7953"
             ],
             [
              0.7777777777777778,
              "#fb9f3a"
             ],
             [
              0.8888888888888888,
              "#fdca26"
             ],
             [
              1,
              "#f0f921"
             ]
            ],
            "type": "heatmapgl"
           }
          ],
          "histogram": [
           {
            "marker": {
             "pattern": {
              "fillmode": "overlay",
              "size": 10,
              "solidity": 0.2
             }
            },
            "type": "histogram"
           }
          ],
          "histogram2d": [
           {
            "colorbar": {
             "outlinewidth": 0,
             "ticks": ""
            },
            "colorscale": [
             [
              0,
              "#0d0887"
             ],
             [
              0.1111111111111111,
              "#46039f"
             ],
             [
              0.2222222222222222,
              "#7201a8"
             ],
             [
              0.3333333333333333,
              "#9c179e"
             ],
             [
              0.4444444444444444,
              "#bd3786"
             ],
             [
              0.5555555555555556,
              "#d8576b"
             ],
             [
              0.6666666666666666,
              "#ed7953"
             ],
             [
              0.7777777777777778,
              "#fb9f3a"
             ],
             [
              0.8888888888888888,
              "#fdca26"
             ],
             [
              1,
              "#f0f921"
             ]
            ],
            "type": "histogram2d"
           }
          ],
          "histogram2dcontour": [
           {
            "colorbar": {
             "outlinewidth": 0,
             "ticks": ""
            },
            "colorscale": [
             [
              0,
              "#0d0887"
             ],
             [
              0.1111111111111111,
              "#46039f"
             ],
             [
              0.2222222222222222,
              "#7201a8"
             ],
             [
              0.3333333333333333,
              "#9c179e"
             ],
             [
              0.4444444444444444,
              "#bd3786"
             ],
             [
              0.5555555555555556,
              "#d8576b"
             ],
             [
              0.6666666666666666,
              "#ed7953"
             ],
             [
              0.7777777777777778,
              "#fb9f3a"
             ],
             [
              0.8888888888888888,
              "#fdca26"
             ],
             [
              1,
              "#f0f921"
             ]
            ],
            "type": "histogram2dcontour"
           }
          ],
          "mesh3d": [
           {
            "colorbar": {
             "outlinewidth": 0,
             "ticks": ""
            },
            "type": "mesh3d"
           }
          ],
          "parcoords": [
           {
            "line": {
             "colorbar": {
              "outlinewidth": 0,
              "ticks": ""
             }
            },
            "type": "parcoords"
           }
          ],
          "pie": [
           {
            "automargin": true,
            "type": "pie"
           }
          ],
          "scatter": [
           {
            "fillpattern": {
             "fillmode": "overlay",
             "size": 10,
             "solidity": 0.2
            },
            "type": "scatter"
           }
          ],
          "scatter3d": [
           {
            "line": {
             "colorbar": {
              "outlinewidth": 0,
              "ticks": ""
             }
            },
            "marker": {
             "colorbar": {
              "outlinewidth": 0,
              "ticks": ""
             }
            },
            "type": "scatter3d"
           }
          ],
          "scattercarpet": [
           {
            "marker": {
             "colorbar": {
              "outlinewidth": 0,
              "ticks": ""
             }
            },
            "type": "scattercarpet"
           }
          ],
          "scattergeo": [
           {
            "marker": {
             "colorbar": {
              "outlinewidth": 0,
              "ticks": ""
             }
            },
            "type": "scattergeo"
           }
          ],
          "scattergl": [
           {
            "marker": {
             "colorbar": {
              "outlinewidth": 0,
              "ticks": ""
             }
            },
            "type": "scattergl"
           }
          ],
          "scattermapbox": [
           {
            "marker": {
             "colorbar": {
              "outlinewidth": 0,
              "ticks": ""
             }
            },
            "type": "scattermapbox"
           }
          ],
          "scatterpolar": [
           {
            "marker": {
             "colorbar": {
              "outlinewidth": 0,
              "ticks": ""
             }
            },
            "type": "scatterpolar"
           }
          ],
          "scatterpolargl": [
           {
            "marker": {
             "colorbar": {
              "outlinewidth": 0,
              "ticks": ""
             }
            },
            "type": "scatterpolargl"
           }
          ],
          "scatterternary": [
           {
            "marker": {
             "colorbar": {
              "outlinewidth": 0,
              "ticks": ""
             }
            },
            "type": "scatterternary"
           }
          ],
          "surface": [
           {
            "colorbar": {
             "outlinewidth": 0,
             "ticks": ""
            },
            "colorscale": [
             [
              0,
              "#0d0887"
             ],
             [
              0.1111111111111111,
              "#46039f"
             ],
             [
              0.2222222222222222,
              "#7201a8"
             ],
             [
              0.3333333333333333,
              "#9c179e"
             ],
             [
              0.4444444444444444,
              "#bd3786"
             ],
             [
              0.5555555555555556,
              "#d8576b"
             ],
             [
              0.6666666666666666,
              "#ed7953"
             ],
             [
              0.7777777777777778,
              "#fb9f3a"
             ],
             [
              0.8888888888888888,
              "#fdca26"
             ],
             [
              1,
              "#f0f921"
             ]
            ],
            "type": "surface"
           }
          ],
          "table": [
           {
            "cells": {
             "fill": {
              "color": "#EBF0F8"
             },
             "line": {
              "color": "white"
             }
            },
            "header": {
             "fill": {
              "color": "#C8D4E3"
             },
             "line": {
              "color": "white"
             }
            },
            "type": "table"
           }
          ]
         },
         "layout": {
          "annotationdefaults": {
           "arrowcolor": "#2a3f5f",
           "arrowhead": 0,
           "arrowwidth": 1
          },
          "autotypenumbers": "strict",
          "coloraxis": {
           "colorbar": {
            "outlinewidth": 0,
            "ticks": ""
           }
          },
          "colorscale": {
           "diverging": [
            [
             0,
             "#8e0152"
            ],
            [
             0.1,
             "#c51b7d"
            ],
            [
             0.2,
             "#de77ae"
            ],
            [
             0.3,
             "#f1b6da"
            ],
            [
             0.4,
             "#fde0ef"
            ],
            [
             0.5,
             "#f7f7f7"
            ],
            [
             0.6,
             "#e6f5d0"
            ],
            [
             0.7,
             "#b8e186"
            ],
            [
             0.8,
             "#7fbc41"
            ],
            [
             0.9,
             "#4d9221"
            ],
            [
             1,
             "#276419"
            ]
           ],
           "sequential": [
            [
             0,
             "#0d0887"
            ],
            [
             0.1111111111111111,
             "#46039f"
            ],
            [
             0.2222222222222222,
             "#7201a8"
            ],
            [
             0.3333333333333333,
             "#9c179e"
            ],
            [
             0.4444444444444444,
             "#bd3786"
            ],
            [
             0.5555555555555556,
             "#d8576b"
            ],
            [
             0.6666666666666666,
             "#ed7953"
            ],
            [
             0.7777777777777778,
             "#fb9f3a"
            ],
            [
             0.8888888888888888,
             "#fdca26"
            ],
            [
             1,
             "#f0f921"
            ]
           ],
           "sequentialminus": [
            [
             0,
             "#0d0887"
            ],
            [
             0.1111111111111111,
             "#46039f"
            ],
            [
             0.2222222222222222,
             "#7201a8"
            ],
            [
             0.3333333333333333,
             "#9c179e"
            ],
            [
             0.4444444444444444,
             "#bd3786"
            ],
            [
             0.5555555555555556,
             "#d8576b"
            ],
            [
             0.6666666666666666,
             "#ed7953"
            ],
            [
             0.7777777777777778,
             "#fb9f3a"
            ],
            [
             0.8888888888888888,
             "#fdca26"
            ],
            [
             1,
             "#f0f921"
            ]
           ]
          },
          "colorway": [
           "#636efa",
           "#EF553B",
           "#00cc96",
           "#ab63fa",
           "#FFA15A",
           "#19d3f3",
           "#FF6692",
           "#B6E880",
           "#FF97FF",
           "#FECB52"
          ],
          "font": {
           "color": "#2a3f5f"
          },
          "geo": {
           "bgcolor": "white",
           "lakecolor": "white",
           "landcolor": "#E5ECF6",
           "showlakes": true,
           "showland": true,
           "subunitcolor": "white"
          },
          "hoverlabel": {
           "align": "left"
          },
          "hovermode": "closest",
          "mapbox": {
           "style": "light"
          },
          "paper_bgcolor": "white",
          "plot_bgcolor": "#E5ECF6",
          "polar": {
           "angularaxis": {
            "gridcolor": "white",
            "linecolor": "white",
            "ticks": ""
           },
           "bgcolor": "#E5ECF6",
           "radialaxis": {
            "gridcolor": "white",
            "linecolor": "white",
            "ticks": ""
           }
          },
          "scene": {
           "xaxis": {
            "backgroundcolor": "#E5ECF6",
            "gridcolor": "white",
            "gridwidth": 2,
            "linecolor": "white",
            "showbackground": true,
            "ticks": "",
            "zerolinecolor": "white"
           },
           "yaxis": {
            "backgroundcolor": "#E5ECF6",
            "gridcolor": "white",
            "gridwidth": 2,
            "linecolor": "white",
            "showbackground": true,
            "ticks": "",
            "zerolinecolor": "white"
           },
           "zaxis": {
            "backgroundcolor": "#E5ECF6",
            "gridcolor": "white",
            "gridwidth": 2,
            "linecolor": "white",
            "showbackground": true,
            "ticks": "",
            "zerolinecolor": "white"
           }
          },
          "shapedefaults": {
           "line": {
            "color": "#2a3f5f"
           }
          },
          "ternary": {
           "aaxis": {
            "gridcolor": "white",
            "linecolor": "white",
            "ticks": ""
           },
           "baxis": {
            "gridcolor": "white",
            "linecolor": "white",
            "ticks": ""
           },
           "bgcolor": "#E5ECF6",
           "caxis": {
            "gridcolor": "white",
            "linecolor": "white",
            "ticks": ""
           }
          },
          "title": {
           "x": 0.05
          },
          "xaxis": {
           "automargin": true,
           "gridcolor": "white",
           "linecolor": "white",
           "ticks": "",
           "title": {
            "standoff": 15
           },
           "zerolinecolor": "white",
           "zerolinewidth": 2
          },
          "yaxis": {
           "automargin": true,
           "gridcolor": "white",
           "linecolor": "white",
           "ticks": "",
           "title": {
            "standoff": 15
           },
           "zerolinecolor": "white",
           "zerolinewidth": 2
          }
         }
        },
        "xaxis": {
         "anchor": "y",
         "domain": [
          0,
          1
         ],
         "title": {
          "text": "Retailer"
         }
        },
        "yaxis": {
         "anchor": "x",
         "domain": [
          0,
          1
         ],
         "title": {
          "text": "Count"
         }
        }
       }
      }
     },
     "metadata": {},
     "output_type": "display_data"
    }
   ],
   "source": [
    "px.bar(a,x = \"Retailer\",y=\"Count\")"
   ]
  },
  {
   "cell_type": "code",
   "execution_count": 60,
   "id": "2fe73acd",
   "metadata": {},
   "outputs": [],
   "source": [
    "def state_plot(state_name):\n",
    "    df_state = df[df[\"State\"]==state_name]\n",
    "    df_state_group = df_state.groupby(\"Retailer\")[[\"State\"]].count().reset_index().rename(columns={\"State\":\"Count\"})\n",
    "    fig = px.bar(df_state_group, x = \"Retailer\", y =\"Count\")  \n",
    "    fig.show()"
   ]
  },
  {
   "cell_type": "code",
   "execution_count": 61,
   "id": "8081ee3d",
   "metadata": {},
   "outputs": [
    {
     "data": {
      "application/vnd.plotly.v1+json": {
       "config": {
        "plotlyServerURL": "https://plot.ly"
       },
       "data": [
        {
         "alignmentgroup": "True",
         "hovertemplate": "Retailer=%{x}<br>Count=%{y}<extra></extra>",
         "legendgroup": "",
         "marker": {
          "color": "#636efa",
          "pattern": {
           "shape": ""
          }
         },
         "name": "",
         "offsetgroup": "",
         "orientation": "v",
         "showlegend": false,
         "textposition": "auto",
         "type": "bar",
         "x": [
          "Amazon",
          "West Gear"
         ],
         "xaxis": "x",
         "y": [
          204,
          12
         ],
         "yaxis": "y"
        }
       ],
       "layout": {
        "barmode": "relative",
        "legend": {
         "tracegroupgap": 0
        },
        "margin": {
         "t": 60
        },
        "template": {
         "data": {
          "bar": [
           {
            "error_x": {
             "color": "#2a3f5f"
            },
            "error_y": {
             "color": "#2a3f5f"
            },
            "marker": {
             "line": {
              "color": "#E5ECF6",
              "width": 0.5
             },
             "pattern": {
              "fillmode": "overlay",
              "size": 10,
              "solidity": 0.2
             }
            },
            "type": "bar"
           }
          ],
          "barpolar": [
           {
            "marker": {
             "line": {
              "color": "#E5ECF6",
              "width": 0.5
             },
             "pattern": {
              "fillmode": "overlay",
              "size": 10,
              "solidity": 0.2
             }
            },
            "type": "barpolar"
           }
          ],
          "carpet": [
           {
            "aaxis": {
             "endlinecolor": "#2a3f5f",
             "gridcolor": "white",
             "linecolor": "white",
             "minorgridcolor": "white",
             "startlinecolor": "#2a3f5f"
            },
            "baxis": {
             "endlinecolor": "#2a3f5f",
             "gridcolor": "white",
             "linecolor": "white",
             "minorgridcolor": "white",
             "startlinecolor": "#2a3f5f"
            },
            "type": "carpet"
           }
          ],
          "choropleth": [
           {
            "colorbar": {
             "outlinewidth": 0,
             "ticks": ""
            },
            "type": "choropleth"
           }
          ],
          "contour": [
           {
            "colorbar": {
             "outlinewidth": 0,
             "ticks": ""
            },
            "colorscale": [
             [
              0,
              "#0d0887"
             ],
             [
              0.1111111111111111,
              "#46039f"
             ],
             [
              0.2222222222222222,
              "#7201a8"
             ],
             [
              0.3333333333333333,
              "#9c179e"
             ],
             [
              0.4444444444444444,
              "#bd3786"
             ],
             [
              0.5555555555555556,
              "#d8576b"
             ],
             [
              0.6666666666666666,
              "#ed7953"
             ],
             [
              0.7777777777777778,
              "#fb9f3a"
             ],
             [
              0.8888888888888888,
              "#fdca26"
             ],
             [
              1,
              "#f0f921"
             ]
            ],
            "type": "contour"
           }
          ],
          "contourcarpet": [
           {
            "colorbar": {
             "outlinewidth": 0,
             "ticks": ""
            },
            "type": "contourcarpet"
           }
          ],
          "heatmap": [
           {
            "colorbar": {
             "outlinewidth": 0,
             "ticks": ""
            },
            "colorscale": [
             [
              0,
              "#0d0887"
             ],
             [
              0.1111111111111111,
              "#46039f"
             ],
             [
              0.2222222222222222,
              "#7201a8"
             ],
             [
              0.3333333333333333,
              "#9c179e"
             ],
             [
              0.4444444444444444,
              "#bd3786"
             ],
             [
              0.5555555555555556,
              "#d8576b"
             ],
             [
              0.6666666666666666,
              "#ed7953"
             ],
             [
              0.7777777777777778,
              "#fb9f3a"
             ],
             [
              0.8888888888888888,
              "#fdca26"
             ],
             [
              1,
              "#f0f921"
             ]
            ],
            "type": "heatmap"
           }
          ],
          "heatmapgl": [
           {
            "colorbar": {
             "outlinewidth": 0,
             "ticks": ""
            },
            "colorscale": [
             [
              0,
              "#0d0887"
             ],
             [
              0.1111111111111111,
              "#46039f"
             ],
             [
              0.2222222222222222,
              "#7201a8"
             ],
             [
              0.3333333333333333,
              "#9c179e"
             ],
             [
              0.4444444444444444,
              "#bd3786"
             ],
             [
              0.5555555555555556,
              "#d8576b"
             ],
             [
              0.6666666666666666,
              "#ed7953"
             ],
             [
              0.7777777777777778,
              "#fb9f3a"
             ],
             [
              0.8888888888888888,
              "#fdca26"
             ],
             [
              1,
              "#f0f921"
             ]
            ],
            "type": "heatmapgl"
           }
          ],
          "histogram": [
           {
            "marker": {
             "pattern": {
              "fillmode": "overlay",
              "size": 10,
              "solidity": 0.2
             }
            },
            "type": "histogram"
           }
          ],
          "histogram2d": [
           {
            "colorbar": {
             "outlinewidth": 0,
             "ticks": ""
            },
            "colorscale": [
             [
              0,
              "#0d0887"
             ],
             [
              0.1111111111111111,
              "#46039f"
             ],
             [
              0.2222222222222222,
              "#7201a8"
             ],
             [
              0.3333333333333333,
              "#9c179e"
             ],
             [
              0.4444444444444444,
              "#bd3786"
             ],
             [
              0.5555555555555556,
              "#d8576b"
             ],
             [
              0.6666666666666666,
              "#ed7953"
             ],
             [
              0.7777777777777778,
              "#fb9f3a"
             ],
             [
              0.8888888888888888,
              "#fdca26"
             ],
             [
              1,
              "#f0f921"
             ]
            ],
            "type": "histogram2d"
           }
          ],
          "histogram2dcontour": [
           {
            "colorbar": {
             "outlinewidth": 0,
             "ticks": ""
            },
            "colorscale": [
             [
              0,
              "#0d0887"
             ],
             [
              0.1111111111111111,
              "#46039f"
             ],
             [
              0.2222222222222222,
              "#7201a8"
             ],
             [
              0.3333333333333333,
              "#9c179e"
             ],
             [
              0.4444444444444444,
              "#bd3786"
             ],
             [
              0.5555555555555556,
              "#d8576b"
             ],
             [
              0.6666666666666666,
              "#ed7953"
             ],
             [
              0.7777777777777778,
              "#fb9f3a"
             ],
             [
              0.8888888888888888,
              "#fdca26"
             ],
             [
              1,
              "#f0f921"
             ]
            ],
            "type": "histogram2dcontour"
           }
          ],
          "mesh3d": [
           {
            "colorbar": {
             "outlinewidth": 0,
             "ticks": ""
            },
            "type": "mesh3d"
           }
          ],
          "parcoords": [
           {
            "line": {
             "colorbar": {
              "outlinewidth": 0,
              "ticks": ""
             }
            },
            "type": "parcoords"
           }
          ],
          "pie": [
           {
            "automargin": true,
            "type": "pie"
           }
          ],
          "scatter": [
           {
            "fillpattern": {
             "fillmode": "overlay",
             "size": 10,
             "solidity": 0.2
            },
            "type": "scatter"
           }
          ],
          "scatter3d": [
           {
            "line": {
             "colorbar": {
              "outlinewidth": 0,
              "ticks": ""
             }
            },
            "marker": {
             "colorbar": {
              "outlinewidth": 0,
              "ticks": ""
             }
            },
            "type": "scatter3d"
           }
          ],
          "scattercarpet": [
           {
            "marker": {
             "colorbar": {
              "outlinewidth": 0,
              "ticks": ""
             }
            },
            "type": "scattercarpet"
           }
          ],
          "scattergeo": [
           {
            "marker": {
             "colorbar": {
              "outlinewidth": 0,
              "ticks": ""
             }
            },
            "type": "scattergeo"
           }
          ],
          "scattergl": [
           {
            "marker": {
             "colorbar": {
              "outlinewidth": 0,
              "ticks": ""
             }
            },
            "type": "scattergl"
           }
          ],
          "scattermapbox": [
           {
            "marker": {
             "colorbar": {
              "outlinewidth": 0,
              "ticks": ""
             }
            },
            "type": "scattermapbox"
           }
          ],
          "scatterpolar": [
           {
            "marker": {
             "colorbar": {
              "outlinewidth": 0,
              "ticks": ""
             }
            },
            "type": "scatterpolar"
           }
          ],
          "scatterpolargl": [
           {
            "marker": {
             "colorbar": {
              "outlinewidth": 0,
              "ticks": ""
             }
            },
            "type": "scatterpolargl"
           }
          ],
          "scatterternary": [
           {
            "marker": {
             "colorbar": {
              "outlinewidth": 0,
              "ticks": ""
             }
            },
            "type": "scatterternary"
           }
          ],
          "surface": [
           {
            "colorbar": {
             "outlinewidth": 0,
             "ticks": ""
            },
            "colorscale": [
             [
              0,
              "#0d0887"
             ],
             [
              0.1111111111111111,
              "#46039f"
             ],
             [
              0.2222222222222222,
              "#7201a8"
             ],
             [
              0.3333333333333333,
              "#9c179e"
             ],
             [
              0.4444444444444444,
              "#bd3786"
             ],
             [
              0.5555555555555556,
              "#d8576b"
             ],
             [
              0.6666666666666666,
              "#ed7953"
             ],
             [
              0.7777777777777778,
              "#fb9f3a"
             ],
             [
              0.8888888888888888,
              "#fdca26"
             ],
             [
              1,
              "#f0f921"
             ]
            ],
            "type": "surface"
           }
          ],
          "table": [
           {
            "cells": {
             "fill": {
              "color": "#EBF0F8"
             },
             "line": {
              "color": "white"
             }
            },
            "header": {
             "fill": {
              "color": "#C8D4E3"
             },
             "line": {
              "color": "white"
             }
            },
            "type": "table"
           }
          ]
         },
         "layout": {
          "annotationdefaults": {
           "arrowcolor": "#2a3f5f",
           "arrowhead": 0,
           "arrowwidth": 1
          },
          "autotypenumbers": "strict",
          "coloraxis": {
           "colorbar": {
            "outlinewidth": 0,
            "ticks": ""
           }
          },
          "colorscale": {
           "diverging": [
            [
             0,
             "#8e0152"
            ],
            [
             0.1,
             "#c51b7d"
            ],
            [
             0.2,
             "#de77ae"
            ],
            [
             0.3,
             "#f1b6da"
            ],
            [
             0.4,
             "#fde0ef"
            ],
            [
             0.5,
             "#f7f7f7"
            ],
            [
             0.6,
             "#e6f5d0"
            ],
            [
             0.7,
             "#b8e186"
            ],
            [
             0.8,
             "#7fbc41"
            ],
            [
             0.9,
             "#4d9221"
            ],
            [
             1,
             "#276419"
            ]
           ],
           "sequential": [
            [
             0,
             "#0d0887"
            ],
            [
             0.1111111111111111,
             "#46039f"
            ],
            [
             0.2222222222222222,
             "#7201a8"
            ],
            [
             0.3333333333333333,
             "#9c179e"
            ],
            [
             0.4444444444444444,
             "#bd3786"
            ],
            [
             0.5555555555555556,
             "#d8576b"
            ],
            [
             0.6666666666666666,
             "#ed7953"
            ],
            [
             0.7777777777777778,
             "#fb9f3a"
            ],
            [
             0.8888888888888888,
             "#fdca26"
            ],
            [
             1,
             "#f0f921"
            ]
           ],
           "sequentialminus": [
            [
             0,
             "#0d0887"
            ],
            [
             0.1111111111111111,
             "#46039f"
            ],
            [
             0.2222222222222222,
             "#7201a8"
            ],
            [
             0.3333333333333333,
             "#9c179e"
            ],
            [
             0.4444444444444444,
             "#bd3786"
            ],
            [
             0.5555555555555556,
             "#d8576b"
            ],
            [
             0.6666666666666666,
             "#ed7953"
            ],
            [
             0.7777777777777778,
             "#fb9f3a"
            ],
            [
             0.8888888888888888,
             "#fdca26"
            ],
            [
             1,
             "#f0f921"
            ]
           ]
          },
          "colorway": [
           "#636efa",
           "#EF553B",
           "#00cc96",
           "#ab63fa",
           "#FFA15A",
           "#19d3f3",
           "#FF6692",
           "#B6E880",
           "#FF97FF",
           "#FECB52"
          ],
          "font": {
           "color": "#2a3f5f"
          },
          "geo": {
           "bgcolor": "white",
           "lakecolor": "white",
           "landcolor": "#E5ECF6",
           "showlakes": true,
           "showland": true,
           "subunitcolor": "white"
          },
          "hoverlabel": {
           "align": "left"
          },
          "hovermode": "closest",
          "mapbox": {
           "style": "light"
          },
          "paper_bgcolor": "white",
          "plot_bgcolor": "#E5ECF6",
          "polar": {
           "angularaxis": {
            "gridcolor": "white",
            "linecolor": "white",
            "ticks": ""
           },
           "bgcolor": "#E5ECF6",
           "radialaxis": {
            "gridcolor": "white",
            "linecolor": "white",
            "ticks": ""
           }
          },
          "scene": {
           "xaxis": {
            "backgroundcolor": "#E5ECF6",
            "gridcolor": "white",
            "gridwidth": 2,
            "linecolor": "white",
            "showbackground": true,
            "ticks": "",
            "zerolinecolor": "white"
           },
           "yaxis": {
            "backgroundcolor": "#E5ECF6",
            "gridcolor": "white",
            "gridwidth": 2,
            "linecolor": "white",
            "showbackground": true,
            "ticks": "",
            "zerolinecolor": "white"
           },
           "zaxis": {
            "backgroundcolor": "#E5ECF6",
            "gridcolor": "white",
            "gridwidth": 2,
            "linecolor": "white",
            "showbackground": true,
            "ticks": "",
            "zerolinecolor": "white"
           }
          },
          "shapedefaults": {
           "line": {
            "color": "#2a3f5f"
           }
          },
          "ternary": {
           "aaxis": {
            "gridcolor": "white",
            "linecolor": "white",
            "ticks": ""
           },
           "baxis": {
            "gridcolor": "white",
            "linecolor": "white",
            "ticks": ""
           },
           "bgcolor": "#E5ECF6",
           "caxis": {
            "gridcolor": "white",
            "linecolor": "white",
            "ticks": ""
           }
          },
          "title": {
           "x": 0.05
          },
          "xaxis": {
           "automargin": true,
           "gridcolor": "white",
           "linecolor": "white",
           "ticks": "",
           "title": {
            "standoff": 15
           },
           "zerolinecolor": "white",
           "zerolinewidth": 2
          },
          "yaxis": {
           "automargin": true,
           "gridcolor": "white",
           "linecolor": "white",
           "ticks": "",
           "title": {
            "standoff": 15
           },
           "zerolinecolor": "white",
           "zerolinewidth": 2
          }
         }
        },
        "xaxis": {
         "anchor": "y",
         "domain": [
          0,
          1
         ],
         "title": {
          "text": "Retailer"
         }
        },
        "yaxis": {
         "anchor": "x",
         "domain": [
          0,
          1
         ],
         "title": {
          "text": "Count"
         }
        }
       }
      }
     },
     "metadata": {},
     "output_type": "display_data"
    }
   ],
   "source": [
    "state_plot('Vermont')"
   ]
  },
  {
   "cell_type": "code",
   "execution_count": 62,
   "id": "cf87707f",
   "metadata": {},
   "outputs": [
    {
     "data": {
      "text/html": [
       "<div>\n",
       "<style scoped>\n",
       "    .dataframe tbody tr th:only-of-type {\n",
       "        vertical-align: middle;\n",
       "    }\n",
       "\n",
       "    .dataframe tbody tr th {\n",
       "        vertical-align: top;\n",
       "    }\n",
       "\n",
       "    .dataframe thead th {\n",
       "        text-align: right;\n",
       "    }\n",
       "</style>\n",
       "<table border=\"1\" class=\"dataframe\">\n",
       "  <thead>\n",
       "    <tr style=\"text-align: right;\">\n",
       "      <th></th>\n",
       "      <th>Retailer</th>\n",
       "      <th>Retailer ID</th>\n",
       "      <th>Invoice Date</th>\n",
       "      <th>Region</th>\n",
       "      <th>State</th>\n",
       "      <th>City</th>\n",
       "      <th>Product</th>\n",
       "      <th>Price per Unit</th>\n",
       "      <th>Units Sold</th>\n",
       "      <th>Total Sales</th>\n",
       "      <th>Operating Profit</th>\n",
       "      <th>Operating Margin</th>\n",
       "      <th>Sales Method</th>\n",
       "    </tr>\n",
       "  </thead>\n",
       "  <tbody>\n",
       "    <tr>\n",
       "      <th>0</th>\n",
       "      <td>Foot Locker</td>\n",
       "      <td>1185732</td>\n",
       "      <td>2020-01-01 00:00:00</td>\n",
       "      <td>Northeast</td>\n",
       "      <td>New York</td>\n",
       "      <td>New York</td>\n",
       "      <td>Men's Street Footwear</td>\n",
       "      <td>50</td>\n",
       "      <td>1200</td>\n",
       "      <td>600000.0</td>\n",
       "      <td>300000.000000</td>\n",
       "      <td>0.50</td>\n",
       "      <td>In-store</td>\n",
       "    </tr>\n",
       "    <tr>\n",
       "      <th>1</th>\n",
       "      <td>Foot Locker</td>\n",
       "      <td>1185732</td>\n",
       "      <td>2020-01-02 00:00:00</td>\n",
       "      <td>Northeast</td>\n",
       "      <td>New York</td>\n",
       "      <td>New York</td>\n",
       "      <td>Men's Athletic Footwear</td>\n",
       "      <td>50</td>\n",
       "      <td>1000</td>\n",
       "      <td>500000.0</td>\n",
       "      <td>150000.000000</td>\n",
       "      <td>0.30</td>\n",
       "      <td>In-store</td>\n",
       "    </tr>\n",
       "    <tr>\n",
       "      <th>2</th>\n",
       "      <td>Foot Locker</td>\n",
       "      <td>1185732</td>\n",
       "      <td>2020-01-03 00:00:00</td>\n",
       "      <td>Northeast</td>\n",
       "      <td>New York</td>\n",
       "      <td>New York</td>\n",
       "      <td>Women's Street Footwear</td>\n",
       "      <td>40</td>\n",
       "      <td>1000</td>\n",
       "      <td>400000.0</td>\n",
       "      <td>140000.000000</td>\n",
       "      <td>0.35</td>\n",
       "      <td>In-store</td>\n",
       "    </tr>\n",
       "    <tr>\n",
       "      <th>3</th>\n",
       "      <td>Foot Locker</td>\n",
       "      <td>1185732</td>\n",
       "      <td>2020-01-04 00:00:00</td>\n",
       "      <td>Northeast</td>\n",
       "      <td>New York</td>\n",
       "      <td>New York</td>\n",
       "      <td>Women's Athletic Footwear</td>\n",
       "      <td>45</td>\n",
       "      <td>850</td>\n",
       "      <td>382500.0</td>\n",
       "      <td>133875.000000</td>\n",
       "      <td>0.35</td>\n",
       "      <td>In-store</td>\n",
       "    </tr>\n",
       "    <tr>\n",
       "      <th>4</th>\n",
       "      <td>Foot Locker</td>\n",
       "      <td>1185732</td>\n",
       "      <td>2020-01-05 00:00:00</td>\n",
       "      <td>Northeast</td>\n",
       "      <td>New York</td>\n",
       "      <td>New York</td>\n",
       "      <td>Men's Apparel</td>\n",
       "      <td>60</td>\n",
       "      <td>900</td>\n",
       "      <td>540000.0</td>\n",
       "      <td>162000.000000</td>\n",
       "      <td>0.30</td>\n",
       "      <td>In-store</td>\n",
       "    </tr>\n",
       "    <tr>\n",
       "      <th>...</th>\n",
       "      <td>...</td>\n",
       "      <td>...</td>\n",
       "      <td>...</td>\n",
       "      <td>...</td>\n",
       "      <td>...</td>\n",
       "      <td>...</td>\n",
       "      <td>...</td>\n",
       "      <td>...</td>\n",
       "      <td>...</td>\n",
       "      <td>...</td>\n",
       "      <td>...</td>\n",
       "      <td>...</td>\n",
       "      <td>...</td>\n",
       "    </tr>\n",
       "    <tr>\n",
       "      <th>9643</th>\n",
       "      <td>Foot Locker</td>\n",
       "      <td>1185732</td>\n",
       "      <td>2021-01-24 00:00:00</td>\n",
       "      <td>Northeast</td>\n",
       "      <td>New Hampshire</td>\n",
       "      <td>Manchester</td>\n",
       "      <td>Men's Apparel</td>\n",
       "      <td>50</td>\n",
       "      <td>64</td>\n",
       "      <td>3200.0</td>\n",
       "      <td>896.000000</td>\n",
       "      <td>0.28</td>\n",
       "      <td>Outlet</td>\n",
       "    </tr>\n",
       "    <tr>\n",
       "      <th>9644</th>\n",
       "      <td>Foot Locker</td>\n",
       "      <td>1185732</td>\n",
       "      <td>2021-01-24 00:00:00</td>\n",
       "      <td>Northeast</td>\n",
       "      <td>New Hampshire</td>\n",
       "      <td>Manchester</td>\n",
       "      <td>Women's Apparel</td>\n",
       "      <td>41</td>\n",
       "      <td>105</td>\n",
       "      <td>4305.0</td>\n",
       "      <td>1377.599976</td>\n",
       "      <td>0.32</td>\n",
       "      <td>Outlet</td>\n",
       "    </tr>\n",
       "    <tr>\n",
       "      <th>9645</th>\n",
       "      <td>Foot Locker</td>\n",
       "      <td>1185732</td>\n",
       "      <td>2021-02-22 00:00:00</td>\n",
       "      <td>Northeast</td>\n",
       "      <td>New Hampshire</td>\n",
       "      <td>Manchester</td>\n",
       "      <td>Men's Street Footwear</td>\n",
       "      <td>41</td>\n",
       "      <td>184</td>\n",
       "      <td>7544.0</td>\n",
       "      <td>2791.280029</td>\n",
       "      <td>0.37</td>\n",
       "      <td>Outlet</td>\n",
       "    </tr>\n",
       "    <tr>\n",
       "      <th>9646</th>\n",
       "      <td>Foot Locker</td>\n",
       "      <td>1185732</td>\n",
       "      <td>2021-02-22 00:00:00</td>\n",
       "      <td>Northeast</td>\n",
       "      <td>New Hampshire</td>\n",
       "      <td>Manchester</td>\n",
       "      <td>Men's Athletic Footwear</td>\n",
       "      <td>42</td>\n",
       "      <td>70</td>\n",
       "      <td>2940.0</td>\n",
       "      <td>1234.800049</td>\n",
       "      <td>0.42</td>\n",
       "      <td>Outlet</td>\n",
       "    </tr>\n",
       "    <tr>\n",
       "      <th>9647</th>\n",
       "      <td>Foot Locker</td>\n",
       "      <td>1185732</td>\n",
       "      <td>2021-02-22 00:00:00</td>\n",
       "      <td>Northeast</td>\n",
       "      <td>New Hampshire</td>\n",
       "      <td>Manchester</td>\n",
       "      <td>Women's Street Footwear</td>\n",
       "      <td>29</td>\n",
       "      <td>83</td>\n",
       "      <td>2407.0</td>\n",
       "      <td>649.890015</td>\n",
       "      <td>0.27</td>\n",
       "      <td>Outlet</td>\n",
       "    </tr>\n",
       "  </tbody>\n",
       "</table>\n",
       "<p>9648 rows × 13 columns</p>\n",
       "</div>"
      ],
      "text/plain": [
       "         Retailer Retailer ID         Invoice Date     Region          State  \\\n",
       "0     Foot Locker     1185732  2020-01-01 00:00:00  Northeast       New York   \n",
       "1     Foot Locker     1185732  2020-01-02 00:00:00  Northeast       New York   \n",
       "2     Foot Locker     1185732  2020-01-03 00:00:00  Northeast       New York   \n",
       "3     Foot Locker     1185732  2020-01-04 00:00:00  Northeast       New York   \n",
       "4     Foot Locker     1185732  2020-01-05 00:00:00  Northeast       New York   \n",
       "...           ...         ...                  ...        ...            ...   \n",
       "9643  Foot Locker     1185732  2021-01-24 00:00:00  Northeast  New Hampshire   \n",
       "9644  Foot Locker     1185732  2021-01-24 00:00:00  Northeast  New Hampshire   \n",
       "9645  Foot Locker     1185732  2021-02-22 00:00:00  Northeast  New Hampshire   \n",
       "9646  Foot Locker     1185732  2021-02-22 00:00:00  Northeast  New Hampshire   \n",
       "9647  Foot Locker     1185732  2021-02-22 00:00:00  Northeast  New Hampshire   \n",
       "\n",
       "            City                    Product  Price per Unit  Units Sold  \\\n",
       "0       New York      Men's Street Footwear              50        1200   \n",
       "1       New York    Men's Athletic Footwear              50        1000   \n",
       "2       New York    Women's Street Footwear              40        1000   \n",
       "3       New York  Women's Athletic Footwear              45         850   \n",
       "4       New York              Men's Apparel              60         900   \n",
       "...          ...                        ...             ...         ...   \n",
       "9643  Manchester              Men's Apparel              50          64   \n",
       "9644  Manchester            Women's Apparel              41         105   \n",
       "9645  Manchester      Men's Street Footwear              41         184   \n",
       "9646  Manchester    Men's Athletic Footwear              42          70   \n",
       "9647  Manchester    Women's Street Footwear              29          83   \n",
       "\n",
       "      Total Sales  Operating Profit  Operating Margin Sales Method  \n",
       "0        600000.0     300000.000000              0.50     In-store  \n",
       "1        500000.0     150000.000000              0.30     In-store  \n",
       "2        400000.0     140000.000000              0.35     In-store  \n",
       "3        382500.0     133875.000000              0.35     In-store  \n",
       "4        540000.0     162000.000000              0.30     In-store  \n",
       "...           ...               ...               ...          ...  \n",
       "9643       3200.0        896.000000              0.28       Outlet  \n",
       "9644       4305.0       1377.599976              0.32       Outlet  \n",
       "9645       7544.0       2791.280029              0.37       Outlet  \n",
       "9646       2940.0       1234.800049              0.42       Outlet  \n",
       "9647       2407.0        649.890015              0.27       Outlet  \n",
       "\n",
       "[9648 rows x 13 columns]"
      ]
     },
     "execution_count": 62,
     "metadata": {},
     "output_type": "execute_result"
    }
   ],
   "source": [
    "df"
   ]
  },
  {
   "cell_type": "code",
   "execution_count": null,
   "id": "85d309ff",
   "metadata": {},
   "outputs": [],
   "source": []
  }
 ],
 "metadata": {
  "kernelspec": {
   "display_name": "Python 3 (ipykernel)",
   "language": "python",
   "name": "python3"
  },
  "language_info": {
   "codemirror_mode": {
    "name": "ipython",
    "version": 3
   },
   "file_extension": ".py",
   "mimetype": "text/x-python",
   "name": "python",
   "nbconvert_exporter": "python",
   "pygments_lexer": "ipython3",
   "version": "3.9.13"
  }
 },
 "nbformat": 4,
 "nbformat_minor": 5
}
